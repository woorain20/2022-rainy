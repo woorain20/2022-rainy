{
 "cells": [
  {
   "cell_type": "code",
   "execution_count": 1,
   "id": "bc2cf3de-d3a9-4717-bc2d-5c7948b2383c",
   "metadata": {},
   "outputs": [
    {
     "name": "stdout",
     "output_type": "stream",
     "text": [
      "1\n",
      "2\n",
      "3\n",
      "4\n",
      "5\n"
     ]
    }
   ],
   "source": [
    "count=1\n",
    "while count<=5:\n",
    "    print(count)\n",
    "    count+=1"
   ]
  },
  {
   "cell_type": "code",
   "execution_count": 3,
   "id": "d19a7424-5f7e-4911-8dd9-7b79b5276167",
   "metadata": {},
   "outputs": [
    {
     "name": "stdin",
     "output_type": "stream",
     "text": [
      "String to capitalize [type q to quit]: a\n"
     ]
    },
    {
     "name": "stdout",
     "output_type": "stream",
     "text": [
      "A\n"
     ]
    },
    {
     "name": "stdin",
     "output_type": "stream",
     "text": [
      "String to capitalize [type q to quit]: hey\n"
     ]
    },
    {
     "name": "stdout",
     "output_type": "stream",
     "text": [
      "Hey\n"
     ]
    },
    {
     "name": "stdin",
     "output_type": "stream",
     "text": [
      "String to capitalize [type q to quit]: q\n"
     ]
    }
   ],
   "source": [
    "while True:\n",
    "    stuff=input(\"String to capitalize [type q to quit]:\")\n",
    "    if stuff==\"q\":\n",
    "        break\n",
    "    print(stuff.capitalize())"
   ]
  },
  {
   "cell_type": "code",
   "execution_count": 7,
   "id": "5774809e-b021-4bd2-a69a-964ef69a2048",
   "metadata": {},
   "outputs": [
    {
     "name": "stdin",
     "output_type": "stream",
     "text": [
      "Integer, please [type q to quit]: 3\n"
     ]
    },
    {
     "name": "stdout",
     "output_type": "stream",
     "text": [
      "3 squared is  9\n"
     ]
    },
    {
     "name": "stdin",
     "output_type": "stream",
     "text": [
      "Integer, please [type q to quit]: 5\n"
     ]
    },
    {
     "name": "stdout",
     "output_type": "stream",
     "text": [
      "5 squared is  25\n"
     ]
    },
    {
     "name": "stdin",
     "output_type": "stream",
     "text": [
      "Integer, please [type q to quit]: 4\n",
      "Integer, please [type q to quit]: q\n"
     ]
    }
   ],
   "source": [
    "while True:\n",
    "    stuff=input(\"Integer, please [type q to quit]:\")\n",
    "    if stuff==\"q\":\n",
    "        break\n",
    "    number=int(stuff)\n",
    "    if number%2==0:\n",
    "        continue\n",
    "    print(number, \"squared is \", number*number)"
   ]
  },
  {
   "cell_type": "code",
   "execution_count": 12,
   "id": "5182fee8-315a-48c4-acab-67fbfa422819",
   "metadata": {},
   "outputs": [
    {
     "name": "stdout",
     "output_type": "stream",
     "text": [
      "No even number found\n"
     ]
    }
   ],
   "source": [
    "numbers=[1,3,5]\n",
    "position=0\n",
    "while position<len(numbers):\n",
    "    # print(numbers[position])\n",
    "    number=numbers[position]\n",
    "    if number%2==0:\n",
    "        print(\"Found even number\",number)\n",
    "        break\n",
    "    position+=1\n",
    "else:\n",
    "    print(\"No even number found\")"
   ]
  },
  {
   "cell_type": "code",
   "execution_count": 1,
   "id": "4ad6db78-d051-4f9d-ab86-84048e6d073a",
   "metadata": {},
   "outputs": [
    {
     "name": "stdout",
     "output_type": "stream",
     "text": [
      "t\n",
      "h\n",
      "u\n",
      "d\n"
     ]
    }
   ],
   "source": [
    "word=\"thud\"\n",
    "offset=0\n",
    "while offset<len(word):\n",
    "    print(word[offset])\n",
    "    offset+=1"
   ]
  },
  {
   "cell_type": "code",
   "execution_count": 2,
   "id": "2cf1861a-770a-4865-af4a-eb419ca1334a",
   "metadata": {},
   "outputs": [
    {
     "name": "stdout",
     "output_type": "stream",
     "text": [
      "t\n",
      "h\n",
      "u\n",
      "d\n"
     ]
    }
   ],
   "source": [
    "for letter in word:\n",
    "    print(letter)"
   ]
  },
  {
   "cell_type": "code",
   "execution_count": 3,
   "id": "c16ddb83-a13f-479c-b937-792d1bf71afe",
   "metadata": {},
   "outputs": [],
   "source": [
    "# for in - break, continue, else"
   ]
  },
  {
   "cell_type": "code",
   "execution_count": 4,
   "id": "2c9901d9-79b2-4061-b608-928053687ffe",
   "metadata": {},
   "outputs": [],
   "source": [
    "# 숫자 시퀀스 생성 - range()\n",
    "# range(start, stop, step)"
   ]
  },
  {
   "cell_type": "code",
   "execution_count": 7,
   "id": "58caa7a6-8999-4908-9b69-9ac7c502d3bb",
   "metadata": {},
   "outputs": [
    {
     "data": {
      "text/plain": [
       "range(0, 6)"
      ]
     },
     "execution_count": 7,
     "metadata": {},
     "output_type": "execute_result"
    }
   ],
   "source": [
    "numbers=[0,1,2,3,4,5]\n",
    "numbers2=range(0,6)\n",
    "numbers2"
   ]
  },
  {
   "cell_type": "code",
   "execution_count": 8,
   "id": "7026a1cd-b328-45ab-aa6d-c4ca3394523a",
   "metadata": {},
   "outputs": [
    {
     "name": "stdout",
     "output_type": "stream",
     "text": [
      "0\n",
      "1\n",
      "2\n",
      "3\n",
      "4\n",
      "5\n"
     ]
    }
   ],
   "source": [
    "for n in numbers2:\n",
    "    print(n)"
   ]
  },
  {
   "cell_type": "code",
   "execution_count": 9,
   "id": "124d8b88-bdbb-4db6-8da0-8bea1a10b552",
   "metadata": {},
   "outputs": [
    {
     "data": {
      "text/plain": [
       "[0, 2, 4, 6, 8, 10]"
      ]
     },
     "execution_count": 9,
     "metadata": {},
     "output_type": "execute_result"
    }
   ],
   "source": [
    "list(range(0,11,2))"
   ]
  },
  {
   "cell_type": "code",
   "execution_count": null,
   "id": "e66e7602-75d8-404f-bf0f-022f6580c950",
   "metadata": {},
   "outputs": [],
   "source": []
  }
 ],
 "metadata": {
  "kernelspec": {
   "display_name": "Python 3 (ipykernel)",
   "language": "python",
   "name": "python3"
  },
  "language_info": {
   "codemirror_mode": {
    "name": "ipython",
    "version": 3
   },
   "file_extension": ".py",
   "mimetype": "text/x-python",
   "name": "python",
   "nbconvert_exporter": "python",
   "pygments_lexer": "ipython3",
   "version": "3.9.12"
  }
 },
 "nbformat": 4,
 "nbformat_minor": 5
}
