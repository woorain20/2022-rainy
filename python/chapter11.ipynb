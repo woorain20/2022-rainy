{
 "cells": [
  {
   "cell_type": "markdown",
   "id": "1857d2c3-8084-4ebc-8464-fab8fd5aa013",
   "metadata": {},
   "source": [
    "# Chapter11"
   ]
  },
  {
   "cell_type": "code",
   "execution_count": 1,
   "id": "8c88600c-48a9-4478-b73d-d2c69a05e3cf",
   "metadata": {},
   "outputs": [],
   "source": [
    "from random import choice\n",
    "# import random - 전체 모듈에서 임포트\n",
    "places=[\"맥도날드\", \"버거킹\", \"KFC\", \"쉑쉑\", \"인앤아웃\", \"롯데리아\", \"도미노피자\", \"피자헛\", \"타코벨\"]\n",
    "def pick():\n",
    "    return choice(places)"
   ]
  },
  {
   "cell_type": "code",
   "execution_count": 2,
   "id": "736ea64d-ea7b-41ad-89b8-c608ae740849",
   "metadata": {},
   "outputs": [
    {
     "data": {
      "text/plain": [
       "'타코벨'"
      ]
     },
     "execution_count": 2,
     "metadata": {},
     "output_type": "execute_result"
    }
   ],
   "source": [
    "pick()"
   ]
  },
  {
   "cell_type": "code",
   "execution_count": 1,
   "id": "0a5a728f-3cf5-483e-9f00-42664ba0760a",
   "metadata": {},
   "outputs": [
    {
     "data": {
      "text/plain": [
       "'1.4.4'"
      ]
     },
     "execution_count": 1,
     "metadata": {},
     "output_type": "execute_result"
    }
   ],
   "source": [
    "# pandas는 pd로 줄이는게 암묵적 룰\n",
    "import pandas as pd\n",
    "pd.__version__"
   ]
  },
  {
   "cell_type": "code",
   "execution_count": null,
   "id": "6c713007-6a63-4562-a3c9-8ea9bf64ff09",
   "metadata": {},
   "outputs": [],
   "source": []
  }
 ],
 "metadata": {
  "kernelspec": {
   "display_name": "Python 3 (ipykernel)",
   "language": "python",
   "name": "python3"
  },
  "language_info": {
   "codemirror_mode": {
    "name": "ipython",
    "version": 3
   },
   "file_extension": ".py",
   "mimetype": "text/x-python",
   "name": "python",
   "nbconvert_exporter": "python",
   "pygments_lexer": "ipython3",
   "version": "3.9.12"
  }
 },
 "nbformat": 4,
 "nbformat_minor": 5
}
