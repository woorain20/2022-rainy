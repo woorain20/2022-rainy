{
 "cells": [
  {
   "cell_type": "code",
   "execution_count": 1,
   "id": "16c15501-9319-4612-9275-83bf03c5047a",
   "metadata": {},
   "outputs": [
    {
     "name": "stdout",
     "output_type": "stream",
     "text": [
      "chapter09\n"
     ]
    }
   ],
   "source": [
    "print(\"chapter09\")"
   ]
  },
  {
   "cell_type": "code",
   "execution_count": 2,
   "id": "ae35fbf2-c23d-4d94-bf63-a1fa2f037b92",
   "metadata": {},
   "outputs": [
    {
     "name": "stdout",
     "output_type": "stream",
     "text": [
      "quack\n"
     ]
    }
   ],
   "source": [
    "def make_a_sound():\n",
    "    print(\"quack\")\n",
    "make_a_sound()"
   ]
  },
  {
   "cell_type": "code",
   "execution_count": 3,
   "id": "488f7f1d-4328-4653-a682-e10c74d48679",
   "metadata": {},
   "outputs": [
    {
     "data": {
      "text/plain": [
       "True"
      ]
     },
     "execution_count": 3,
     "metadata": {},
     "output_type": "execute_result"
    }
   ],
   "source": [
    "def agree():\n",
    "    return True\n",
    "agree()"
   ]
  },
  {
   "cell_type": "code",
   "execution_count": 6,
   "id": "5d381117-e3c1-4953-894f-bc97f832c741",
   "metadata": {},
   "outputs": [
    {
     "name": "stdout",
     "output_type": "stream",
     "text": [
      "S\n"
     ]
    }
   ],
   "source": [
    "if agree():\n",
    "    print(\"S\")\n",
    "else:\n",
    "    print(\"T\")"
   ]
  },
  {
   "cell_type": "code",
   "execution_count": 5,
   "id": "e798d01d-d1fa-45e9-93af-08e837912025",
   "metadata": {},
   "outputs": [
    {
     "data": {
      "text/plain": [
       "False"
      ]
     },
     "execution_count": 5,
     "metadata": {},
     "output_type": "execute_result"
    }
   ],
   "source": [
    "bool(\"\")"
   ]
  },
  {
   "cell_type": "code",
   "execution_count": 7,
   "id": "0f9e0f33-25e8-4917-8b0c-43ea827b4696",
   "metadata": {},
   "outputs": [],
   "source": [
    "def echo(anything):\n",
    "    return anything+\" \"+anything"
   ]
  },
  {
   "cell_type": "code",
   "execution_count": 8,
   "id": "32b75999-7772-48f3-a010-74ca5a7a7950",
   "metadata": {},
   "outputs": [
    {
     "data": {
      "text/plain": [
       "'Rump Rump'"
      ]
     },
     "execution_count": 8,
     "metadata": {},
     "output_type": "execute_result"
    }
   ],
   "source": [
    "echo(\"Rump\")"
   ]
  },
  {
   "cell_type": "code",
   "execution_count": 9,
   "id": "95b84ffc-cdeb-4808-a2a9-2f6dba1b7282",
   "metadata": {},
   "outputs": [
    {
     "name": "stdout",
     "output_type": "stream",
     "text": [
      "None\n"
     ]
    }
   ],
   "source": [
    "def do_nothing():\n",
    "    pass\n",
    "print(do_nothing())"
   ]
  },
  {
   "cell_type": "code",
   "execution_count": 10,
   "id": "70994289-3973-4d81-b316-350b9eb0c8e4",
   "metadata": {},
   "outputs": [],
   "source": [
    "# None - 아무 것도 없다"
   ]
  },
  {
   "cell_type": "code",
   "execution_count": 11,
   "id": "5cc4d7ff-6ad2-4661-8dde-a5e0276430b3",
   "metadata": {},
   "outputs": [
    {
     "name": "stdout",
     "output_type": "stream",
     "text": [
      "no thing\n"
     ]
    }
   ],
   "source": [
    "thing=None\n",
    "if thing:\n",
    "    print(\"some thing\")\n",
    "else:\n",
    "    print(\"no thing\")"
   ]
  },
  {
   "cell_type": "code",
   "execution_count": 12,
   "id": "7fb6b044-5a33-4256-b9ae-06df97bcccf6",
   "metadata": {},
   "outputs": [
    {
     "name": "stdout",
     "output_type": "stream",
     "text": [
      "no thing\n"
     ]
    }
   ],
   "source": [
    "thing=None\n",
    "if thing is None:\n",
    "    print(\"no thing\")\n",
    "else:\n",
    "    print(\"some thing\")"
   ]
  },
  {
   "cell_type": "code",
   "execution_count": 13,
   "id": "ea977882-615a-4073-b4af-407d90b88b93",
   "metadata": {},
   "outputs": [],
   "source": [
    "def whatis(thing):\n",
    "    if thing is None:\n",
    "        print(thing, \"is None\")\n",
    "    elif thing:\n",
    "        print(thing, \"is True\")\n",
    "    else:\n",
    "        print(thing, \"is False\")"
   ]
  },
  {
   "cell_type": "code",
   "execution_count": 14,
   "id": "3e33919b-bd8d-420b-a5b3-6eed68e5f43a",
   "metadata": {},
   "outputs": [
    {
     "name": "stdout",
     "output_type": "stream",
     "text": [
      "None is None\n"
     ]
    }
   ],
   "source": [
    "whatis(do_nothing())"
   ]
  },
  {
   "cell_type": "code",
   "execution_count": 15,
   "id": "1bc056a5-7c1b-469b-90c5-9ada9d77fbed",
   "metadata": {},
   "outputs": [
    {
     "name": "stdout",
     "output_type": "stream",
     "text": [
      "None is None\n"
     ]
    }
   ],
   "source": [
    "whatis(None)"
   ]
  },
  {
   "cell_type": "code",
   "execution_count": 16,
   "id": "6f486352-9396-487c-953a-6d673a8ef4ba",
   "metadata": {},
   "outputs": [
    {
     "name": "stdout",
     "output_type": "stream",
     "text": [
      "None is None\n"
     ]
    }
   ],
   "source": [
    "nothing=None\n",
    "whatis(None)"
   ]
  },
  {
   "cell_type": "code",
   "execution_count": 17,
   "id": "f250e923-d64f-4d5f-96fb-dd680c2eb58c",
   "metadata": {},
   "outputs": [
    {
     "name": "stdout",
     "output_type": "stream",
     "text": [
      "[1] is True\n"
     ]
    }
   ],
   "source": [
    "whatis([1])"
   ]
  },
  {
   "cell_type": "code",
   "execution_count": 18,
   "id": "bc6e8007-71ca-4bd4-894a-a75696633d56",
   "metadata": {},
   "outputs": [
    {
     "name": "stdout",
     "output_type": "stream",
     "text": [
      "1 is True\n"
     ]
    }
   ],
   "source": [
    "whatis(1)"
   ]
  },
  {
   "cell_type": "code",
   "execution_count": 19,
   "id": "86aa46fd-73cc-46ca-8aa0-30837d304518",
   "metadata": {},
   "outputs": [
    {
     "name": "stdout",
     "output_type": "stream",
     "text": [
      "0 is False\n"
     ]
    }
   ],
   "source": [
    "whatis(0)"
   ]
  },
  {
   "cell_type": "code",
   "execution_count": 20,
   "id": "7486eb2e-d24d-4dd9-af44-815325746471",
   "metadata": {},
   "outputs": [
    {
     "name": "stdout",
     "output_type": "stream",
     "text": [
      " is False\n"
     ]
    }
   ],
   "source": [
    "whatis(\"\")"
   ]
  },
  {
   "cell_type": "code",
   "execution_count": 21,
   "id": "b84ee81a-2421-4faf-86bc-ebbf0ddbc3a9",
   "metadata": {},
   "outputs": [
    {
     "name": "stdout",
     "output_type": "stream",
     "text": [
      "[] is False\n"
     ]
    }
   ],
   "source": [
    "whatis([])"
   ]
  },
  {
   "cell_type": "code",
   "execution_count": 22,
   "id": "93eb9cbe-8205-4652-9254-2b65a68cb8be",
   "metadata": {},
   "outputs": [
    {
     "name": "stdout",
     "output_type": "stream",
     "text": [
      "A\n",
      "A B\n"
     ]
    }
   ],
   "source": [
    "print(\"A\")\n",
    "print(\"A\",\"B\")"
   ]
  },
  {
   "cell_type": "code",
   "execution_count": 23,
   "id": "e36750c5-3f09-4904-bd9b-2282602d8560",
   "metadata": {},
   "outputs": [],
   "source": [
    "def menu(wine,entree,dessert):\n",
    "    return{\"wine\":wine, \"entree\":entree, \"dessert\":dessert}"
   ]
  },
  {
   "cell_type": "code",
   "execution_count": 30,
   "id": "b3a7f38f-11ed-48c0-a109-a67e70ac27e4",
   "metadata": {},
   "outputs": [
    {
     "data": {
      "text/plain": [
       "{'wine': 'w', 'entree': 'e', 'dessert': 'd'}"
      ]
     },
     "execution_count": 30,
     "metadata": {},
     "output_type": "execute_result"
    }
   ],
   "source": [
    "# 위치 인수\n",
    "menu(\"w\", \"e\", \"d\")"
   ]
  },
  {
   "cell_type": "code",
   "execution_count": 28,
   "id": "8a01757d-04b8-4e36-8eda-e8c3a9559ee5",
   "metadata": {},
   "outputs": [
    {
     "data": {
      "text/plain": [
       "{'wine': 'w', 'entree': '', 'dessert': ''}"
      ]
     },
     "execution_count": 28,
     "metadata": {},
     "output_type": "execute_result"
    }
   ],
   "source": [
    "# 키워드 인수\n",
    "menu(\"w\", \"\", \"\")"
   ]
  },
  {
   "cell_type": "code",
   "execution_count": 26,
   "id": "deb11c97-f623-452c-ba0d-25828b47c6b8",
   "metadata": {},
   "outputs": [
    {
     "data": {
      "text/plain": [
       "{'wine': 'w', 'entree': 'e', 'dessert': 'd'}"
      ]
     },
     "execution_count": 26,
     "metadata": {},
     "output_type": "execute_result"
    }
   ],
   "source": [
    "menu(entree=\"e\", wine=\"w\", dessert=\"d\")"
   ]
  },
  {
   "cell_type": "code",
   "execution_count": 29,
   "id": "5a1eaf52-a72e-4b05-97aa-c3719948cbea",
   "metadata": {},
   "outputs": [],
   "source": [
    "# sort(reverse=True)"
   ]
  },
  {
   "cell_type": "code",
   "execution_count": 31,
   "id": "0f5cb3cd-6be6-4ac1-b3ad-91c618c374d3",
   "metadata": {},
   "outputs": [
    {
     "data": {
      "text/plain": [
       "{'wine': 'fron', 'entree': 'fish', 'dessert': 'flan'}"
      ]
     },
     "execution_count": 31,
     "metadata": {},
     "output_type": "execute_result"
    }
   ],
   "source": [
    "menu(\"fron\", dessert=\"flan\", entree=\"fish\")"
   ]
  },
  {
   "cell_type": "code",
   "execution_count": 32,
   "id": "69b8bfba-53f1-4c14-8f7a-38df47f6e2b0",
   "metadata": {},
   "outputs": [],
   "source": [
    "def menu(wine, entree, dessert=\"pudding\"):\n",
    "    return{\"wine\":wine, \"entree\":entree, \"dessert\":dessert}"
   ]
  },
  {
   "cell_type": "code",
   "execution_count": 33,
   "id": "26758ea6-e640-4ff7-a65e-647f8c73d094",
   "metadata": {},
   "outputs": [
    {
     "data": {
      "text/plain": [
       "{'wine': 'dunkel', 'entree': 'duck', 'dessert': 'doughnut'}"
      ]
     },
     "execution_count": 33,
     "metadata": {},
     "output_type": "execute_result"
    }
   ],
   "source": [
    "menu(\"dunkel\",\"duck\",\"doughnut\")"
   ]
  },
  {
   "cell_type": "code",
   "execution_count": 34,
   "id": "08ccee7b-e3b0-4d04-8f9b-67f518b43720",
   "metadata": {},
   "outputs": [
    {
     "data": {
      "text/plain": [
       "{'wine': 'dunkel', 'entree': 'duck', 'dessert': 'pudding'}"
      ]
     },
     "execution_count": 34,
     "metadata": {},
     "output_type": "execute_result"
    }
   ],
   "source": [
    "menu(\"dunkel\",\"duck\")"
   ]
  },
  {
   "cell_type": "code",
   "execution_count": 35,
   "id": "a7d91f16-3a1a-45f5-8ef6-2bf7249c932d",
   "metadata": {},
   "outputs": [],
   "source": [
    "def buggy(arg, result=[]):\n",
    "    result.append(arg)\n",
    "    print(result)"
   ]
  },
  {
   "cell_type": "code",
   "execution_count": 36,
   "id": "f8c0e616-4ecd-475b-b8a4-bfb7efdfc265",
   "metadata": {},
   "outputs": [
    {
     "name": "stdout",
     "output_type": "stream",
     "text": [
      "['a']\n"
     ]
    }
   ],
   "source": [
    "buggy(\"a\")"
   ]
  },
  {
   "cell_type": "code",
   "execution_count": 37,
   "id": "59e153bb-684e-4be8-94b5-ff57a5252780",
   "metadata": {},
   "outputs": [
    {
     "name": "stdout",
     "output_type": "stream",
     "text": [
      "['a', 'b']\n"
     ]
    }
   ],
   "source": [
    "buggy(\"b\")"
   ]
  },
  {
   "cell_type": "code",
   "execution_count": 38,
   "id": "0eb9dd62-e160-4167-b17e-13b4bfe45ed7",
   "metadata": {},
   "outputs": [],
   "source": [
    "def buggy(arg):\n",
    "    result=[]\n",
    "    result.append(arg)\n",
    "    print(result)"
   ]
  },
  {
   "cell_type": "code",
   "execution_count": 39,
   "id": "810eb518-6108-4117-97bf-a13b4634787b",
   "metadata": {},
   "outputs": [
    {
     "name": "stdout",
     "output_type": "stream",
     "text": [
      "['A']\n"
     ]
    }
   ],
   "source": [
    "buggy(\"A\")"
   ]
  },
  {
   "cell_type": "code",
   "execution_count": 40,
   "id": "fa6dae61-b46c-4177-88d6-cd49229951ef",
   "metadata": {},
   "outputs": [
    {
     "name": "stdout",
     "output_type": "stream",
     "text": [
      "['B']\n"
     ]
    }
   ],
   "source": [
    "buggy(\"B\")"
   ]
  },
  {
   "cell_type": "code",
   "execution_count": 41,
   "id": "af466b9d-7da3-4c21-9d52-63fa069b02fd",
   "metadata": {},
   "outputs": [],
   "source": [
    "# None -> 불변\n",
    "def nonbuggy(arg, result=None):\n",
    "    if result is None:\n",
    "        result=[]\n",
    "    result.append(arg)\n",
    "    print(result)"
   ]
  },
  {
   "cell_type": "code",
   "execution_count": 42,
   "id": "2060a9a5-e1c9-423f-83aa-6c8158056149",
   "metadata": {},
   "outputs": [
    {
     "name": "stdout",
     "output_type": "stream",
     "text": [
      "['a']\n"
     ]
    }
   ],
   "source": [
    "nonbuggy(\"a\")"
   ]
  },
  {
   "cell_type": "code",
   "execution_count": 43,
   "id": "1909f97b-1f3c-46fe-997c-e308c1d1565a",
   "metadata": {},
   "outputs": [
    {
     "name": "stdout",
     "output_type": "stream",
     "text": [
      "['b']\n"
     ]
    }
   ],
   "source": [
    "nonbuggy(\"b\")"
   ]
  },
  {
   "cell_type": "code",
   "execution_count": 3,
   "id": "cc4e8523-2688-467c-927a-96f5e14a2eb1",
   "metadata": {},
   "outputs": [],
   "source": [
    "# * - 애스터리스크\n",
    "# 튜플 - 상수형 배열(리스트)\n",
    "def print_args(*args):\n",
    "    print(\"Positional tuple:\",args)\n",
    "    print(args[0])\n",
    "    args_list=list(args)\n",
    "    print(args_list)"
   ]
  },
  {
   "cell_type": "markdown",
   "id": "c181e1e1-bb92-479d-a2e1-89aeec139015",
   "metadata": {},
   "source": [
    "print(\"Hello\")"
   ]
  },
  {
   "cell_type": "markdown",
   "id": "69fe59d9-a5d3-4643-ae50-54b6b1201212",
   "metadata": {
    "tags": []
   },
   "source": [
    "# Markdown에서 \"#\"을 붙이면 html h1과 같은 효과"
   ]
  },
  {
   "cell_type": "code",
   "execution_count": 4,
   "id": "b2cba108-2abb-45eb-b3f6-d78013172e6f",
   "metadata": {},
   "outputs": [
    {
     "name": "stdout",
     "output_type": "stream",
     "text": [
      "Positional tuple: (3, 2, 1, 'wait', 'uh...')\n",
      "3\n",
      "[3, 2, 1, 'wait', 'uh...']\n"
     ]
    }
   ],
   "source": [
    "print_args(3,2,1,\"wait\",\"uh...\")"
   ]
  },
  {
   "cell_type": "code",
   "execution_count": 5,
   "id": "65382f76-c138-4a20-9bf0-ae0cdde62e3b",
   "metadata": {},
   "outputs": [],
   "source": [
    "def print_more(required1, *args):\n",
    "    pass"
   ]
  },
  {
   "cell_type": "code",
   "execution_count": 7,
   "id": "6e460332-0bff-4b10-beeb-2ae23b32462e",
   "metadata": {},
   "outputs": [],
   "source": [
    "def print_kwargs(**kwargs):\n",
    "    print(\"keyword arguments:\",kwargs)"
   ]
  },
  {
   "cell_type": "code",
   "execution_count": 8,
   "id": "141684e1-cdbf-47bb-9b4e-ef53dba4ef46",
   "metadata": {},
   "outputs": [
    {
     "name": "stdout",
     "output_type": "stream",
     "text": [
      "keyword arguments: {'wine': 'merlot'}\n"
     ]
    }
   ],
   "source": [
    "print_kwargs(wine=\"merlot\")"
   ]
  },
  {
   "cell_type": "code",
   "execution_count": 9,
   "id": "262de498-3837-4004-9f17-ebc6d098dbd6",
   "metadata": {},
   "outputs": [
    {
     "name": "stdout",
     "output_type": "stream",
     "text": [
      "keyword arguments: {'wine': 'merlot', 'entree': 'mutton'}\n"
     ]
    }
   ],
   "source": [
    "print_kwargs(wine=\"merlot\", entree=\"mutton\")"
   ]
  },
  {
   "cell_type": "code",
   "execution_count": 10,
   "id": "22337caf-45a3-4572-acaa-92b6633f186a",
   "metadata": {},
   "outputs": [],
   "source": [
    "# 독스트링\n",
    "def echo(anything):\n",
    "    \"echo returns its input argument\"\n",
    "    return anything"
   ]
  },
  {
   "cell_type": "code",
   "execution_count": 11,
   "id": "264e70ed-9449-4587-afdd-39217e7eac2c",
   "metadata": {},
   "outputs": [],
   "source": [
    "def echo(anything):\n",
    "    \"\"\"Prints the first the opertion is:\n",
    "        1. Check whether\n",
    "        2. If is\"\"\"\n",
    "    return anything"
   ]
  },
  {
   "cell_type": "code",
   "execution_count": 12,
   "id": "cf3d4e7a-8ac6-4c97-966e-ffd1e97b3263",
   "metadata": {},
   "outputs": [
    {
     "name": "stdout",
     "output_type": "stream",
     "text": [
      "Help on function echo in module __main__:\n",
      "\n",
      "echo(anything)\n",
      "    Prints the first the opertion is:\n",
      "    1. Check whether\n",
      "    2. If is\n",
      "\n"
     ]
    }
   ],
   "source": [
    "help(echo)"
   ]
  },
  {
   "cell_type": "code",
   "execution_count": 14,
   "id": "4791888f-a30e-433a-b89f-97ae509eb9e9",
   "metadata": {},
   "outputs": [],
   "source": [
    "doc=\"\"\"echo(anything):\n",
    "    Prints the first the opertion is:\n",
    "        1. Check whether\n",
    "        2. If is\"\"\""
   ]
  },
  {
   "cell_type": "code",
   "execution_count": 15,
   "id": "826a0510-3f3f-4fa9-8b4e-58b7f77bfde6",
   "metadata": {},
   "outputs": [
    {
     "name": "stdout",
     "output_type": "stream",
     "text": [
      "Help on built-in function print in module builtins:\n",
      "\n",
      "print(...)\n",
      "    print(value, ..., sep=' ', end='\\n', file=sys.stdout, flush=False)\n",
      "    \n",
      "    Prints the values to a stream, or to sys.stdout by default.\n",
      "    Optional keyword arguments:\n",
      "    file:  a file-like object (stream); defaults to the current sys.stdout.\n",
      "    sep:   string inserted between values, default a space.\n",
      "    end:   string appended after the last value, default a newline.\n",
      "    flush: whether to forcibly flush the stream.\n",
      "\n"
     ]
    }
   ],
   "source": [
    "help(print)"
   ]
  },
  {
   "cell_type": "code",
   "execution_count": 16,
   "id": "26ce5289-c2f0-49f3-804d-0f4dac8f44f3",
   "metadata": {},
   "outputs": [
    {
     "name": "stdout",
     "output_type": "stream",
     "text": [
      "Prints the first the opertion is:\n",
      "        1. Check whether\n",
      "        2. If is\n"
     ]
    }
   ],
   "source": [
    "print(echo.__doc__)"
   ]
  },
  {
   "cell_type": "code",
   "execution_count": 17,
   "id": "fd935e04-70ee-4b4a-8033-b24770e331d2",
   "metadata": {},
   "outputs": [],
   "source": [
    "# 객체 - 일등시민 - 함수\n",
    "# 자바의 모든 객체는 기본적으로 Object 상속"
   ]
  },
  {
   "cell_type": "code",
   "execution_count": 18,
   "id": "3d698810-705a-4286-ac0e-6922369bb93b",
   "metadata": {},
   "outputs": [],
   "source": [
    "# callback 함수\n",
    "def run_something(func):\n",
    "    func()"
   ]
  },
  {
   "cell_type": "code",
   "execution_count": 19,
   "id": "f71fe4f0-5129-4cd3-ac8e-21b67d6b56f7",
   "metadata": {},
   "outputs": [],
   "source": [
    "# 클로저 - 함수가 변수 갖고 있도록 정의"
   ]
  },
  {
   "cell_type": "code",
   "execution_count": 20,
   "id": "3b4445a9-5e08-41f8-bde5-e353ebe23be1",
   "metadata": {},
   "outputs": [],
   "source": [
    "# 람다\n",
    "def print_some(anything):\n",
    "    print(anything)"
   ]
  },
  {
   "cell_type": "code",
   "execution_count": 21,
   "id": "073d20df-6aa4-44ef-a2f1-b246bc14a3a9",
   "metadata": {},
   "outputs": [
    {
     "name": "stdout",
     "output_type": "stream",
     "text": [
      "1\n"
     ]
    }
   ],
   "source": [
    "num=1\n",
    "print_some(num)"
   ]
  },
  {
   "cell_type": "code",
   "execution_count": 22,
   "id": "997f1138-c7d7-4af9-a1e1-ecc75c57dc4f",
   "metadata": {},
   "outputs": [
    {
     "name": "stdout",
     "output_type": "stream",
     "text": [
      "1\n"
     ]
    }
   ],
   "source": [
    "print_some(1)"
   ]
  },
  {
   "cell_type": "code",
   "execution_count": 23,
   "id": "3ec3e614-b188-412b-9d3a-3b86bcab3e51",
   "metadata": {},
   "outputs": [],
   "source": [
    "def callback_func(func):\n",
    "    func()"
   ]
  },
  {
   "cell_type": "code",
   "execution_count": 25,
   "id": "c5a183f6-5277-48d5-ad5b-9cf11300c013",
   "metadata": {},
   "outputs": [],
   "source": [
    "def func1():\n",
    "    print(\"func1\")"
   ]
  },
  {
   "cell_type": "code",
   "execution_count": 26,
   "id": "76f92d12-d51f-4a24-93b6-c2f6dd261299",
   "metadata": {},
   "outputs": [
    {
     "name": "stdout",
     "output_type": "stream",
     "text": [
      "func1\n"
     ]
    }
   ],
   "source": [
    "callback_func(func1)"
   ]
  },
  {
   "cell_type": "code",
   "execution_count": 27,
   "id": "6f8a1fc1-0770-4165-8be9-5a7a679adc32",
   "metadata": {},
   "outputs": [
    {
     "name": "stdout",
     "output_type": "stream",
     "text": [
      "func1\n"
     ]
    }
   ],
   "source": [
    "callback_func(lambda : print(\"func1\"))"
   ]
  },
  {
   "cell_type": "code",
   "execution_count": 28,
   "id": "22b2178c-4d25-41a6-9222-4123be15bcb2",
   "metadata": {},
   "outputs": [],
   "source": [
    "# 전역변수 \n",
    "animal=\"fruitbat\""
   ]
  },
  {
   "cell_type": "code",
   "execution_count": 29,
   "id": "303585a0-4c5d-4e05-aea2-4606e6dadb7e",
   "metadata": {},
   "outputs": [
    {
     "name": "stdout",
     "output_type": "stream",
     "text": [
      "inside print_global: fruitbat\n"
     ]
    }
   ],
   "source": [
    "def print_global():\n",
    "    print(\"inside print_global:\",animal)\n",
    "print_global()"
   ]
  },
  {
   "cell_type": "code",
   "execution_count": 35,
   "id": "ef4ce26d-b5ef-4bd2-9380-945ffacaedc7",
   "metadata": {},
   "outputs": [],
   "source": [
    "def change_and_print_global():\n",
    "    print(\"inside print_global:\",animal)\n",
    "    animal=\"wombat\"\n",
    "    print(\"after the change:\",animal)\n",
    "# 이 경우는 오류 발생"
   ]
  },
  {
   "cell_type": "code",
   "execution_count": 36,
   "id": "9559b550-21df-4c25-9edc-ea6c8bcc502c",
   "metadata": {},
   "outputs": [],
   "source": [
    "def change_and_print_global():\n",
    "    global animal\n",
    "    print(\"inside print_global:\",animal)\n",
    "    animal=\"wombat\"\n",
    "    print(\"after the change:\",animal)"
   ]
  },
  {
   "cell_type": "code",
   "execution_count": 37,
   "id": "8d84a2bc-b3ce-4842-885c-a2d95361cc45",
   "metadata": {},
   "outputs": [
    {
     "name": "stdout",
     "output_type": "stream",
     "text": [
      "inside print_global: wombat\n",
      "after the change: wombat\n"
     ]
    }
   ],
   "source": [
    "change_and_print_global()"
   ]
  },
  {
   "cell_type": "code",
   "execution_count": 39,
   "id": "9c4a6cbd-fdb4-423e-bdbb-3bf60f2c2c7d",
   "metadata": {},
   "outputs": [
    {
     "name": "stdout",
     "output_type": "stream",
     "text": [
      "error!\n"
     ]
    }
   ],
   "source": [
    "# 프로그램 웹서버 중단 - 예외처리 필요\n",
    "short_list=[1,2,3]\n",
    "position=5\n",
    "try:\n",
    "    short_list[position]\n",
    "except:\n",
    "    print(\"error!\")"
   ]
  },
  {
   "cell_type": "code",
   "execution_count": 42,
   "id": "87f57f78-b399-4537-ada1-61829861ba76",
   "metadata": {},
   "outputs": [
    {
     "name": "stdin",
     "output_type": "stream",
     "text": [
      "Position[q to quit]? 1\n"
     ]
    },
    {
     "name": "stdout",
     "output_type": "stream",
     "text": [
      "2\n"
     ]
    },
    {
     "name": "stdin",
     "output_type": "stream",
     "text": [
      "Position[q to quit]? 5\n"
     ]
    },
    {
     "name": "stdout",
     "output_type": "stream",
     "text": [
      "Bad index: 5\n"
     ]
    },
    {
     "name": "stdin",
     "output_type": "stream",
     "text": [
      "Position[q to quit]? a\n"
     ]
    },
    {
     "name": "stdout",
     "output_type": "stream",
     "text": [
      "Something wrong\n"
     ]
    },
    {
     "name": "stdin",
     "output_type": "stream",
     "text": [
      "Position[q to quit]? q\n"
     ]
    }
   ],
   "source": [
    "while True:\n",
    "    value=input(\"Position[q to quit]?\")\n",
    "    if value==\"q\":\n",
    "        break\n",
    "    try:\n",
    "        position=int(value)\n",
    "        print(short_list[position])\n",
    "    except IndexError:\n",
    "        print(\"Bad index:\",position)\n",
    "    except Exception:\n",
    "        print(\"Something wrong\")"
   ]
  },
  {
   "cell_type": "code",
   "execution_count": 43,
   "id": "c5790cde-0ebc-4109-b11a-1c971c022353",
   "metadata": {},
   "outputs": [],
   "source": [
    "# 나만의 예외 클래스 정의\n",
    "class UppercaseException(Exception):\n",
    "    pass"
   ]
  },
  {
   "cell_type": "code",
   "execution_count": 44,
   "id": "75a79d8c-6515-415f-870c-3e7c170ad3a7",
   "metadata": {},
   "outputs": [
    {
     "ename": "UppercaseException",
     "evalue": "",
     "output_type": "error",
     "traceback": [
      "\u001b[1;31m---------------------------------------------------------------------------\u001b[0m",
      "\u001b[1;31mUppercaseException\u001b[0m                        Traceback (most recent call last)",
      "Input \u001b[1;32mIn [44]\u001b[0m, in \u001b[0;36m<cell line: 2>\u001b[1;34m()\u001b[0m\n\u001b[0;32m      2\u001b[0m \u001b[38;5;28;01mfor\u001b[39;00m word \u001b[38;5;129;01min\u001b[39;00m words:\n\u001b[0;32m      3\u001b[0m     \u001b[38;5;28;01mif\u001b[39;00m word\u001b[38;5;241m.\u001b[39misupper():\n\u001b[1;32m----> 4\u001b[0m         \u001b[38;5;28;01mraise\u001b[39;00m UppercaseException\n",
      "\u001b[1;31mUppercaseException\u001b[0m: "
     ]
    }
   ],
   "source": [
    "words=[\"eenie\",\"meenie\",\"miny\",\"MO\"]\n",
    "for word in words:\n",
    "    if word.isupper():\n",
    "        raise UppercaseException"
   ]
  },
  {
   "cell_type": "code",
   "execution_count": 45,
   "id": "bbf15828-e716-4559-835f-f1728b7200a5",
   "metadata": {},
   "outputs": [
    {
     "name": "stdout",
     "output_type": "stream",
     "text": [
      "I really very seriously hate Upper\n"
     ]
    }
   ],
   "source": [
    "words=[\"eenie\",\"meenie\",\"miny\",\"MO\"]\n",
    "for word in words:\n",
    "    if word.isupper():\n",
    "        try:\n",
    "            raise UppercaseException\n",
    "        except:\n",
    "            print(\"I really very seriously hate Upper\")"
   ]
  },
  {
   "cell_type": "code",
   "execution_count": null,
   "id": "17a21d06-954d-46a9-9d41-e9d945c5569a",
   "metadata": {},
   "outputs": [],
   "source": []
  }
 ],
 "metadata": {
  "kernelspec": {
   "display_name": "Python 3 (ipykernel)",
   "language": "python",
   "name": "python3"
  },
  "language_info": {
   "codemirror_mode": {
    "name": "ipython",
    "version": 3
   },
   "file_extension": ".py",
   "mimetype": "text/x-python",
   "name": "python",
   "nbconvert_exporter": "python",
   "pygments_lexer": "ipython3",
   "version": "3.9.12"
  }
 },
 "nbformat": 4,
 "nbformat_minor": 5
}
