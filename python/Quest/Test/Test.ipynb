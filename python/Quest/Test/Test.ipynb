{
 "cells": [
  {
   "cell_type": "code",
   "execution_count": 2,
   "id": "b75cfe37-351f-4c06-bd3f-4b48a351897c",
   "metadata": {},
   "outputs": [],
   "source": [
    "import pandas as pd\n",
    "import glob\n",
    "import os"
   ]
  },
  {
   "cell_type": "markdown",
   "id": "390d1e58-6b0c-44f0-b827-b88042fce664",
   "metadata": {},
   "source": [
    "### CSV 파일 하나로 합치기"
   ]
  },
  {
   "cell_type": "code",
   "execution_count": 5,
   "id": "25d246d7-1c18-4030-8b74-77a57ac41821",
   "metadata": {},
   "outputs": [
    {
     "name": "stdout",
     "output_type": "stream",
     "text": [
      "File[0] Succeed..!\n",
      "File[1] Succeed..!\n",
      "File[2] Succeed..!\n",
      "File Mergin Succeed..!\n"
     ]
    }
   ],
   "source": [
    "input_path = r'C:\\Users\\KB\\study\\python\\Quest\\Data' # csv파일들이 있는 디렉토리 위치\n",
    "output_file = r'C:\\Users\\KB\\study\\python\\Quest\\Data\\Total.csv' # 저장 파일명\n",
    "\n",
    "file_list = glob.glob(os.path.join(input_path, '*.csv')) # 모든 scv파일 선택\n",
    "\n",
    "with open(output_file, 'w') as write_file:\n",
    "\tfor i, file_name in enumerate (file_list):\n",
    "\t\twith open(file_name, 'r') as original_file: # 파일 읽어오기\n",
    "\t\t\tn = 0\n",
    "\t\t\twhile True:\n",
    "\t\t\t\tline = original_file.readline()\n",
    "\t\t\t\tif n == 0: # 모든 csv 파일 릴레이션 삭제\n",
    "\t\t\t\t# if i != 0 and n == 0: # 첫 번쨰 파일이 아니고, 첫 번쨰 라인인 경우 (릴레이션)\n",
    "\t\t\t\t\tn += 1\n",
    "\t\t\t\t\tcontinue\n",
    "\t\t\t\tif not line:\n",
    "\t\t\t\t\tprint(f'File[{i}] Succeed..!')\n",
    "\t\t\t\t\tbreak\n",
    "\t\t\t\twrite_file.write(line)\n",
    "\t\t\tn += 1\n",
    "\n",
    "print('File Mergin Succeed..!')"
   ]
  },
  {
   "cell_type": "markdown",
   "id": "58653485-6ab7-4020-8788-2dbd0b0b8c5b",
   "metadata": {},
   "source": [
    "### CSV Row 추가\n",
    " - 각 파일에 있던 구분 Row는 합쳐지면서 사라짐\n",
    " - 구분 Row 생성 필요하다고 판단하여 생성"
   ]
  },
  {
   "cell_type": "code",
   "execution_count": 13,
   "id": "559b61e9-05cd-4d22-b7cb-92ea3b95d714",
   "metadata": {},
   "outputs": [],
   "source": [
    "from csv import writer"
   ]
  },
  {
   "cell_type": "code",
   "execution_count": 8,
   "id": "04680608-28ae-4900-9ec6-343c503c7463",
   "metadata": {},
   "outputs": [],
   "source": [
    "newrow = [\"구분\",  2004,  2005,  2006, 2007, 2008, 2009, 2010, 2011, 2012, 2013, 2014, 2015, 2016, 2017, 2018, 2019, 2020, 2021]"
   ]
  },
  {
   "cell_type": "code",
   "execution_count": 16,
   "id": "0b4585dd-3cc9-4184-b715-854ca40df2ce",
   "metadata": {},
   "outputs": [],
   "source": [
    "# appendNewRow(\"Data/Total.csv\", newrow)\n",
    "with open(\"Data/Total.csv\", 'a', newline='') as f_object:  \n",
    "    # Pass the CSV  file object to the writer() function\n",
    "    writer_object = writer(f_object)\n",
    "    # Result - a writer object\n",
    "    # Pass the data in the list as an argument into the writerow() function\n",
    "    writer_object.writerow(newrow)  \n",
    "    # Close the file object\n",
    "    f_object.close()"
   ]
  },
  {
   "cell_type": "markdown",
   "id": "09002a10-81fb-4e37-814a-d681a6e8df49",
   "metadata": {},
   "source": [
    "### CSV 파일 읽어오기"
   ]
  },
  {
   "cell_type": "code",
   "execution_count": 4,
   "id": "9dd4f9d5-6273-449e-b53c-7e034b0e2c71",
   "metadata": {},
   "outputs": [],
   "source": [
    "df=pd.read_csv(\"Data/Total.csv\", encoding=\"euc-kr\")"
   ]
  },
  {
   "cell_type": "markdown",
   "id": "57bfb339-d746-44bd-9615-04a48b286e3e",
   "metadata": {},
   "source": [
    "#### 유니코드 에러 발생\n",
    "- UnicodeDecodeError 에러 발생\n",
    "- encoding=\"euc-kr\" 추가로 해결"
   ]
  },
  {
   "cell_type": "code",
   "execution_count": 5,
   "id": "c6c7909d-7976-4d1b-bd55-3531c18bf5e7",
   "metadata": {},
   "outputs": [
    {
     "name": "stdout",
     "output_type": "stream",
     "text": [
      "<class 'pandas.core.frame.DataFrame'>\n",
      "RangeIndex: 27 entries, 0 to 26\n",
      "Data columns (total 19 columns):\n",
      " #   Column  Non-Null Count  Dtype \n",
      "---  ------  --------------  ----- \n",
      " 0   18세 미만  27 non-null     object\n",
      " 1   1       27 non-null     int64 \n",
      " 2   1.1     27 non-null     int64 \n",
      " 3   0       27 non-null     int64 \n",
      " 4   1.2     27 non-null     int64 \n",
      " 5   4       27 non-null     int64 \n",
      " 6   2       27 non-null     int64 \n",
      " 7   2.1     27 non-null     int64 \n",
      " 8   3       27 non-null     int64 \n",
      " 9   2.2     27 non-null     int64 \n",
      " 10  2.3     27 non-null     int64 \n",
      " 11  2.4     27 non-null     int64 \n",
      " 12  1.3     27 non-null     int64 \n",
      " 13  1.4     27 non-null     int64 \n",
      " 14  0.1     27 non-null     int64 \n",
      " 15  2.5     27 non-null     int64 \n",
      " 16  0.2     27 non-null     int64 \n",
      " 17  0.3     27 non-null     int64 \n",
      " 18  0.4     27 non-null     int64 \n",
      "dtypes: int64(18), object(1)\n",
      "memory usage: 4.1+ KB\n"
     ]
    }
   ],
   "source": [
    "df.info()"
   ]
  },
  {
   "cell_type": "code",
   "execution_count": 6,
   "id": "359fe89b-169a-4f24-8507-d1f7f65d656c",
   "metadata": {},
   "outputs": [
    {
     "data": {
      "text/html": [
       "<div>\n",
       "<style scoped>\n",
       "    .dataframe tbody tr th:only-of-type {\n",
       "        vertical-align: middle;\n",
       "    }\n",
       "\n",
       "    .dataframe tbody tr th {\n",
       "        vertical-align: top;\n",
       "    }\n",
       "\n",
       "    .dataframe thead th {\n",
       "        text-align: right;\n",
       "    }\n",
       "</style>\n",
       "<table border=\"1\" class=\"dataframe\">\n",
       "  <thead>\n",
       "    <tr style=\"text-align: right;\">\n",
       "      <th></th>\n",
       "      <th>18세 미만</th>\n",
       "      <th>1</th>\n",
       "      <th>1.1</th>\n",
       "      <th>0</th>\n",
       "      <th>1.2</th>\n",
       "      <th>4</th>\n",
       "      <th>2</th>\n",
       "      <th>2.1</th>\n",
       "      <th>3</th>\n",
       "      <th>2.2</th>\n",
       "      <th>2.3</th>\n",
       "      <th>2.4</th>\n",
       "      <th>1.3</th>\n",
       "      <th>1.4</th>\n",
       "      <th>0.1</th>\n",
       "      <th>2.5</th>\n",
       "      <th>0.2</th>\n",
       "      <th>0.3</th>\n",
       "      <th>0.4</th>\n",
       "    </tr>\n",
       "  </thead>\n",
       "  <tbody>\n",
       "    <tr>\n",
       "      <th>11</th>\n",
       "      <td>75세 ~ 79세</td>\n",
       "      <td>15</td>\n",
       "      <td>25</td>\n",
       "      <td>22</td>\n",
       "      <td>25</td>\n",
       "      <td>33</td>\n",
       "      <td>36</td>\n",
       "      <td>34</td>\n",
       "      <td>32</td>\n",
       "      <td>26</td>\n",
       "      <td>32</td>\n",
       "      <td>41</td>\n",
       "      <td>52</td>\n",
       "      <td>47</td>\n",
       "      <td>92</td>\n",
       "      <td>81</td>\n",
       "      <td>91</td>\n",
       "      <td>106</td>\n",
       "      <td>96</td>\n",
       "    </tr>\n",
       "  </tbody>\n",
       "</table>\n",
       "</div>"
      ],
      "text/plain": [
       "       18세 미만   1  1.1   0  1.2   4   2  2.1   3  2.2  2.3  2.4  1.3  1.4  \\\n",
       "11  75세 ~ 79세  15   25  22   25  33  36   34  32   26   32   41   52   47   \n",
       "\n",
       "    0.1  2.5  0.2  0.3  0.4  \n",
       "11   92   81   91  106   96  "
      ]
     },
     "execution_count": 6,
     "metadata": {},
     "output_type": "execute_result"
    }
   ],
   "source": [
    "df.sample()"
   ]
  },
  {
   "cell_type": "markdown",
   "id": "df064b76-12fd-44fe-9de7-50219e947bc4",
   "metadata": {},
   "source": [
    "#### 칼럼 열에 문제 생김"
   ]
  },
  {
   "cell_type": "code",
   "execution_count": null,
   "id": "c60731aa-44f9-46a9-941d-5d0bd994ddb0",
   "metadata": {},
   "outputs": [],
   "source": []
  }
 ],
 "metadata": {
  "kernelspec": {
   "display_name": "Python 3 (ipykernel)",
   "language": "python",
   "name": "python3"
  },
  "language_info": {
   "codemirror_mode": {
    "name": "ipython",
    "version": 3
   },
   "file_extension": ".py",
   "mimetype": "text/x-python",
   "name": "python",
   "nbconvert_exporter": "python",
   "pygments_lexer": "ipython3",
   "version": "3.9.12"
  }
 },
 "nbformat": 4,
 "nbformat_minor": 5
}
