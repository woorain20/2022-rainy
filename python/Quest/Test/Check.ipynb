{
 "cells": [
  {
   "cell_type": "code",
   "execution_count": 1,
   "id": "b55c2070-f0eb-4a42-91e0-8ece289419d7",
   "metadata": {},
   "outputs": [
    {
     "name": "stdout",
     "output_type": "stream",
     "text": [
      "1.4.4\n",
      "0.12.0\n",
      "1.23.2\n"
     ]
    }
   ],
   "source": [
    "import pandas as pd\n",
    "import seaborn as sns\n",
    "import matplotlib.pyplot as plt \n",
    "%matplotlib inline\n",
    "import numpy as np\n",
    "print(pd.__version__)\n",
    "print(sns.__version__)\n",
    "print(np.__version__)"
   ]
  },
  {
   "cell_type": "markdown",
   "id": "1a116b2b-531b-489c-89af-609da4216167",
   "metadata": {},
   "source": [
    "### 데이터 가져오기"
   ]
  },
  {
   "cell_type": "code",
   "execution_count": 2,
   "id": "3838b5ac-d75b-4a44-b3c3-5819d18bcc4a",
   "metadata": {},
   "outputs": [],
   "source": [
    "df=pd.read_csv(\"MetroData/22년 1월.csv\")\n",
    "df2=pd.read_csv(\"MetroData/22년 2월.csv\")\n",
    "df3=pd.read_csv(\"MetroData/22년 3월.csv\")\n",
    "df4=pd.read_csv(\"MetroData/22년 4월.csv\")\n",
    "df5=pd.read_csv(\"MetroData/22년 5월.csv\")\n",
    "df6=pd.read_csv(\"MetroData/22년 6월.csv\")\n",
    "df7=pd.read_csv(\"MetroData/22년 7월.csv\")\n",
    "df8=pd.read_csv(\"MetroData/22년 8월.csv\")"
   ]
  },
  {
   "cell_type": "markdown",
   "id": "0ccbd023-5cb5-415d-a0d3-6e8471bce3bd",
   "metadata": {},
   "source": [
    "### 데이터 확인"
   ]
  },
  {
   "cell_type": "code",
   "execution_count": 3,
   "id": "5a353692-7ef2-4644-8f20-2d01c06bfc0c",
   "metadata": {},
   "outputs": [
    {
     "data": {
      "text/html": [
       "<div>\n",
       "<style scoped>\n",
       "    .dataframe tbody tr th:only-of-type {\n",
       "        vertical-align: middle;\n",
       "    }\n",
       "\n",
       "    .dataframe tbody tr th {\n",
       "        vertical-align: top;\n",
       "    }\n",
       "\n",
       "    .dataframe thead th {\n",
       "        text-align: right;\n",
       "    }\n",
       "</style>\n",
       "<table border=\"1\" class=\"dataframe\">\n",
       "  <thead>\n",
       "    <tr style=\"text-align: right;\">\n",
       "      <th></th>\n",
       "      <th>사용일</th>\n",
       "      <th>노선명</th>\n",
       "      <th>역명</th>\n",
       "      <th>승차승객</th>\n",
       "      <th>하차승객</th>\n",
       "    </tr>\n",
       "  </thead>\n",
       "  <tbody>\n",
       "    <tr>\n",
       "      <th>0</th>\n",
       "      <td>20220101</td>\n",
       "      <td>3호선</td>\n",
       "      <td>수서</td>\n",
       "      <td>7370</td>\n",
       "      <td>7076</td>\n",
       "    </tr>\n",
       "    <tr>\n",
       "      <th>1</th>\n",
       "      <td>20220101</td>\n",
       "      <td>3호선</td>\n",
       "      <td>학여울</td>\n",
       "      <td>461</td>\n",
       "      <td>473</td>\n",
       "    </tr>\n",
       "    <tr>\n",
       "      <th>2</th>\n",
       "      <td>20220101</td>\n",
       "      <td>3호선</td>\n",
       "      <td>대청</td>\n",
       "      <td>3224</td>\n",
       "      <td>2903</td>\n",
       "    </tr>\n",
       "    <tr>\n",
       "      <th>3</th>\n",
       "      <td>20220101</td>\n",
       "      <td>3호선</td>\n",
       "      <td>일원</td>\n",
       "      <td>3321</td>\n",
       "      <td>2803</td>\n",
       "    </tr>\n",
       "    <tr>\n",
       "      <th>4</th>\n",
       "      <td>20220101</td>\n",
       "      <td>경원선</td>\n",
       "      <td>창동</td>\n",
       "      <td>1</td>\n",
       "      <td>0</td>\n",
       "    </tr>\n",
       "  </tbody>\n",
       "</table>\n",
       "</div>"
      ],
      "text/plain": [
       "        사용일  노선명   역명  승차승객  하차승객\n",
       "0  20220101  3호선   수서  7370  7076\n",
       "1  20220101  3호선  학여울   461   473\n",
       "2  20220101  3호선   대청  3224  2903\n",
       "3  20220101  3호선   일원  3321  2803\n",
       "4  20220101  경원선   창동     1     0"
      ]
     },
     "execution_count": 3,
     "metadata": {},
     "output_type": "execute_result"
    }
   ],
   "source": [
    "df.head()"
   ]
  },
  {
   "cell_type": "code",
   "execution_count": 4,
   "id": "f22638c4-6d1f-40c4-852c-3372367c46c7",
   "metadata": {},
   "outputs": [
    {
     "data": {
      "text/html": [
       "<div>\n",
       "<style scoped>\n",
       "    .dataframe tbody tr th:only-of-type {\n",
       "        vertical-align: middle;\n",
       "    }\n",
       "\n",
       "    .dataframe tbody tr th {\n",
       "        vertical-align: top;\n",
       "    }\n",
       "\n",
       "    .dataframe thead th {\n",
       "        text-align: right;\n",
       "    }\n",
       "</style>\n",
       "<table border=\"1\" class=\"dataframe\">\n",
       "  <thead>\n",
       "    <tr style=\"text-align: right;\">\n",
       "      <th></th>\n",
       "      <th>사용일</th>\n",
       "      <th>노선명</th>\n",
       "      <th>역명</th>\n",
       "      <th>승차승객</th>\n",
       "      <th>하차승객</th>\n",
       "    </tr>\n",
       "  </thead>\n",
       "  <tbody>\n",
       "    <tr>\n",
       "      <th>16707</th>\n",
       "      <td>20220228</td>\n",
       "      <td>중앙선</td>\n",
       "      <td>회기</td>\n",
       "      <td>21942</td>\n",
       "      <td>21477</td>\n",
       "    </tr>\n",
       "    <tr>\n",
       "      <th>16708</th>\n",
       "      <td>20220228</td>\n",
       "      <td>2호선</td>\n",
       "      <td>당산</td>\n",
       "      <td>15750</td>\n",
       "      <td>18370</td>\n",
       "    </tr>\n",
       "    <tr>\n",
       "      <th>16709</th>\n",
       "      <td>20220228</td>\n",
       "      <td>2호선</td>\n",
       "      <td>합정</td>\n",
       "      <td>26415</td>\n",
       "      <td>27830</td>\n",
       "    </tr>\n",
       "    <tr>\n",
       "      <th>16710</th>\n",
       "      <td>20220228</td>\n",
       "      <td>2호선</td>\n",
       "      <td>홍대입구</td>\n",
       "      <td>48847</td>\n",
       "      <td>50982</td>\n",
       "    </tr>\n",
       "    <tr>\n",
       "      <th>16711</th>\n",
       "      <td>20220228</td>\n",
       "      <td>2호선</td>\n",
       "      <td>신촌</td>\n",
       "      <td>29728</td>\n",
       "      <td>30184</td>\n",
       "    </tr>\n",
       "  </tbody>\n",
       "</table>\n",
       "</div>"
      ],
      "text/plain": [
       "            사용일  노선명    역명   승차승객   하차승객\n",
       "16707  20220228  중앙선    회기  21942  21477\n",
       "16708  20220228  2호선    당산  15750  18370\n",
       "16709  20220228  2호선    합정  26415  27830\n",
       "16710  20220228  2호선  홍대입구  48847  50982\n",
       "16711  20220228  2호선    신촌  29728  30184"
      ]
     },
     "execution_count": 4,
     "metadata": {},
     "output_type": "execute_result"
    }
   ],
   "source": [
    "df2.tail()"
   ]
  },
  {
   "cell_type": "code",
   "execution_count": 5,
   "id": "9755fcd5-51f9-4b7d-a38b-a5b5e73febb5",
   "metadata": {},
   "outputs": [
    {
     "data": {
      "text/html": [
       "<div>\n",
       "<style scoped>\n",
       "    .dataframe tbody tr th:only-of-type {\n",
       "        vertical-align: middle;\n",
       "    }\n",
       "\n",
       "    .dataframe tbody tr th {\n",
       "        vertical-align: top;\n",
       "    }\n",
       "\n",
       "    .dataframe thead th {\n",
       "        text-align: right;\n",
       "    }\n",
       "</style>\n",
       "<table border=\"1\" class=\"dataframe\">\n",
       "  <thead>\n",
       "    <tr style=\"text-align: right;\">\n",
       "      <th></th>\n",
       "      <th>사용일</th>\n",
       "      <th>노선명</th>\n",
       "      <th>역명</th>\n",
       "      <th>승차승객</th>\n",
       "      <th>하차승객</th>\n",
       "    </tr>\n",
       "  </thead>\n",
       "  <tbody>\n",
       "    <tr>\n",
       "      <th>7494</th>\n",
       "      <td>20220313</td>\n",
       "      <td>6호선</td>\n",
       "      <td>월곡(동덕여대)</td>\n",
       "      <td>4227</td>\n",
       "      <td>4028</td>\n",
       "    </tr>\n",
       "    <tr>\n",
       "      <th>11783</th>\n",
       "      <td>20220320</td>\n",
       "      <td>5호선</td>\n",
       "      <td>마곡</td>\n",
       "      <td>3109</td>\n",
       "      <td>3275</td>\n",
       "    </tr>\n",
       "    <tr>\n",
       "      <th>9721</th>\n",
       "      <td>20220317</td>\n",
       "      <td>5호선</td>\n",
       "      <td>광나루(장신대)</td>\n",
       "      <td>11959</td>\n",
       "      <td>11059</td>\n",
       "    </tr>\n",
       "    <tr>\n",
       "      <th>14671</th>\n",
       "      <td>20220325</td>\n",
       "      <td>7호선</td>\n",
       "      <td>건대입구</td>\n",
       "      <td>11965</td>\n",
       "      <td>12738</td>\n",
       "    </tr>\n",
       "    <tr>\n",
       "      <th>14226</th>\n",
       "      <td>20220324</td>\n",
       "      <td>경인선</td>\n",
       "      <td>송내</td>\n",
       "      <td>24860</td>\n",
       "      <td>24603</td>\n",
       "    </tr>\n",
       "  </tbody>\n",
       "</table>\n",
       "</div>"
      ],
      "text/plain": [
       "            사용일  노선명        역명   승차승객   하차승객\n",
       "7494   20220313  6호선  월곡(동덕여대)   4227   4028\n",
       "11783  20220320  5호선        마곡   3109   3275\n",
       "9721   20220317  5호선  광나루(장신대)  11959  11059\n",
       "14671  20220325  7호선      건대입구  11965  12738\n",
       "14226  20220324  경인선        송내  24860  24603"
      ]
     },
     "execution_count": 5,
     "metadata": {},
     "output_type": "execute_result"
    }
   ],
   "source": [
    "df3.sample(5)"
   ]
  },
  {
   "cell_type": "code",
   "execution_count": 6,
   "id": "5cdc9dc8-e71a-4bed-99c5-84912ea9b286",
   "metadata": {},
   "outputs": [
    {
     "data": {
      "text/html": [
       "<div>\n",
       "<style scoped>\n",
       "    .dataframe tbody tr th:only-of-type {\n",
       "        vertical-align: middle;\n",
       "    }\n",
       "\n",
       "    .dataframe tbody tr th {\n",
       "        vertical-align: top;\n",
       "    }\n",
       "\n",
       "    .dataframe thead th {\n",
       "        text-align: right;\n",
       "    }\n",
       "</style>\n",
       "<table border=\"1\" class=\"dataframe\">\n",
       "  <thead>\n",
       "    <tr style=\"text-align: right;\">\n",
       "      <th></th>\n",
       "      <th>사용일</th>\n",
       "      <th>노선명</th>\n",
       "      <th>역명</th>\n",
       "      <th>승차승객</th>\n",
       "      <th>하차승객</th>\n",
       "    </tr>\n",
       "  </thead>\n",
       "  <tbody>\n",
       "    <tr>\n",
       "      <th>12404</th>\n",
       "      <td>20220421</td>\n",
       "      <td>2호선</td>\n",
       "      <td>을지로입구</td>\n",
       "      <td>38929</td>\n",
       "      <td>35764</td>\n",
       "    </tr>\n",
       "    <tr>\n",
       "      <th>14124</th>\n",
       "      <td>20220424</td>\n",
       "      <td>안산선</td>\n",
       "      <td>대야미</td>\n",
       "      <td>3601</td>\n",
       "      <td>3070</td>\n",
       "    </tr>\n",
       "    <tr>\n",
       "      <th>14387</th>\n",
       "      <td>20220425</td>\n",
       "      <td>4호선</td>\n",
       "      <td>동대문역사문화공원(DDP)</td>\n",
       "      <td>13639</td>\n",
       "      <td>12519</td>\n",
       "    </tr>\n",
       "    <tr>\n",
       "      <th>5245</th>\n",
       "      <td>20220409</td>\n",
       "      <td>안산선</td>\n",
       "      <td>고잔</td>\n",
       "      <td>6770</td>\n",
       "      <td>6735</td>\n",
       "    </tr>\n",
       "    <tr>\n",
       "      <th>14373</th>\n",
       "      <td>20220425</td>\n",
       "      <td>3호선</td>\n",
       "      <td>오금</td>\n",
       "      <td>6535</td>\n",
       "      <td>5889</td>\n",
       "    </tr>\n",
       "  </tbody>\n",
       "</table>\n",
       "</div>"
      ],
      "text/plain": [
       "            사용일  노선명              역명   승차승객   하차승객\n",
       "12404  20220421  2호선           을지로입구  38929  35764\n",
       "14124  20220424  안산선             대야미   3601   3070\n",
       "14387  20220425  4호선  동대문역사문화공원(DDP)  13639  12519\n",
       "5245   20220409  안산선              고잔   6770   6735\n",
       "14373  20220425  3호선              오금   6535   5889"
      ]
     },
     "execution_count": 6,
     "metadata": {},
     "output_type": "execute_result"
    }
   ],
   "source": [
    "df4.sample(5)"
   ]
  },
  {
   "cell_type": "code",
   "execution_count": 7,
   "id": "3d23baac-9a12-409b-83fa-1195f0a213f3",
   "metadata": {},
   "outputs": [
    {
     "data": {
      "text/html": [
       "<div>\n",
       "<style scoped>\n",
       "    .dataframe tbody tr th:only-of-type {\n",
       "        vertical-align: middle;\n",
       "    }\n",
       "\n",
       "    .dataframe tbody tr th {\n",
       "        vertical-align: top;\n",
       "    }\n",
       "\n",
       "    .dataframe thead th {\n",
       "        text-align: right;\n",
       "    }\n",
       "</style>\n",
       "<table border=\"1\" class=\"dataframe\">\n",
       "  <thead>\n",
       "    <tr style=\"text-align: right;\">\n",
       "      <th></th>\n",
       "      <th>사용일</th>\n",
       "      <th>노선명</th>\n",
       "      <th>역명</th>\n",
       "      <th>승차승객</th>\n",
       "      <th>하차승객</th>\n",
       "    </tr>\n",
       "  </thead>\n",
       "  <tbody>\n",
       "    <tr>\n",
       "      <th>6990</th>\n",
       "      <td>20220512</td>\n",
       "      <td>6호선</td>\n",
       "      <td>보문</td>\n",
       "      <td>8084</td>\n",
       "      <td>7356</td>\n",
       "    </tr>\n",
       "    <tr>\n",
       "      <th>8241</th>\n",
       "      <td>20220514</td>\n",
       "      <td>경부선</td>\n",
       "      <td>평택</td>\n",
       "      <td>16208</td>\n",
       "      <td>15537</td>\n",
       "    </tr>\n",
       "    <tr>\n",
       "      <th>4062</th>\n",
       "      <td>20220507</td>\n",
       "      <td>분당선</td>\n",
       "      <td>모란</td>\n",
       "      <td>15941</td>\n",
       "      <td>16181</td>\n",
       "    </tr>\n",
       "    <tr>\n",
       "      <th>9196</th>\n",
       "      <td>20220516</td>\n",
       "      <td>8호선</td>\n",
       "      <td>장지</td>\n",
       "      <td>17686</td>\n",
       "      <td>16889</td>\n",
       "    </tr>\n",
       "    <tr>\n",
       "      <th>8108</th>\n",
       "      <td>20220514</td>\n",
       "      <td>7호선</td>\n",
       "      <td>태릉입구</td>\n",
       "      <td>9919</td>\n",
       "      <td>9694</td>\n",
       "    </tr>\n",
       "  </tbody>\n",
       "</table>\n",
       "</div>"
      ],
      "text/plain": [
       "           사용일  노선명    역명   승차승객   하차승객\n",
       "6990  20220512  6호선    보문   8084   7356\n",
       "8241  20220514  경부선    평택  16208  15537\n",
       "4062  20220507  분당선    모란  15941  16181\n",
       "9196  20220516  8호선    장지  17686  16889\n",
       "8108  20220514  7호선  태릉입구   9919   9694"
      ]
     },
     "execution_count": 7,
     "metadata": {},
     "output_type": "execute_result"
    }
   ],
   "source": [
    "df5.sample(5)"
   ]
  },
  {
   "cell_type": "code",
   "execution_count": 8,
   "id": "e51d37f1-fd32-438c-9093-d77969c8be74",
   "metadata": {},
   "outputs": [
    {
     "data": {
      "text/html": [
       "<div>\n",
       "<style scoped>\n",
       "    .dataframe tbody tr th:only-of-type {\n",
       "        vertical-align: middle;\n",
       "    }\n",
       "\n",
       "    .dataframe tbody tr th {\n",
       "        vertical-align: top;\n",
       "    }\n",
       "\n",
       "    .dataframe thead th {\n",
       "        text-align: right;\n",
       "    }\n",
       "</style>\n",
       "<table border=\"1\" class=\"dataframe\">\n",
       "  <thead>\n",
       "    <tr style=\"text-align: right;\">\n",
       "      <th></th>\n",
       "      <th>사용일</th>\n",
       "      <th>노선명</th>\n",
       "      <th>역명</th>\n",
       "      <th>승차승객</th>\n",
       "      <th>하차승객</th>\n",
       "    </tr>\n",
       "  </thead>\n",
       "  <tbody>\n",
       "    <tr>\n",
       "      <th>12736</th>\n",
       "      <td>20220622</td>\n",
       "      <td>분당선</td>\n",
       "      <td>개포동</td>\n",
       "      <td>4427</td>\n",
       "      <td>4541</td>\n",
       "    </tr>\n",
       "    <tr>\n",
       "      <th>14144</th>\n",
       "      <td>20220624</td>\n",
       "      <td>6호선</td>\n",
       "      <td>안암(고대병원앞)</td>\n",
       "      <td>12395</td>\n",
       "      <td>11937</td>\n",
       "    </tr>\n",
       "    <tr>\n",
       "      <th>3285</th>\n",
       "      <td>20220606</td>\n",
       "      <td>7호선</td>\n",
       "      <td>반포</td>\n",
       "      <td>3374</td>\n",
       "      <td>3231</td>\n",
       "    </tr>\n",
       "    <tr>\n",
       "      <th>4806</th>\n",
       "      <td>20220608</td>\n",
       "      <td>경의선</td>\n",
       "      <td>금릉</td>\n",
       "      <td>5541</td>\n",
       "      <td>5417</td>\n",
       "    </tr>\n",
       "    <tr>\n",
       "      <th>6194</th>\n",
       "      <td>20220611</td>\n",
       "      <td>5호선</td>\n",
       "      <td>서대문</td>\n",
       "      <td>8220</td>\n",
       "      <td>8008</td>\n",
       "    </tr>\n",
       "  </tbody>\n",
       "</table>\n",
       "</div>"
      ],
      "text/plain": [
       "            사용일  노선명         역명   승차승객   하차승객\n",
       "12736  20220622  분당선        개포동   4427   4541\n",
       "14144  20220624  6호선  안암(고대병원앞)  12395  11937\n",
       "3285   20220606  7호선         반포   3374   3231\n",
       "4806   20220608  경의선         금릉   5541   5417\n",
       "6194   20220611  5호선        서대문   8220   8008"
      ]
     },
     "execution_count": 8,
     "metadata": {},
     "output_type": "execute_result"
    }
   ],
   "source": [
    "df6.sample(5)"
   ]
  },
  {
   "cell_type": "code",
   "execution_count": 9,
   "id": "14f355e3-1400-4c7c-9962-b950e0e4c130",
   "metadata": {},
   "outputs": [
    {
     "data": {
      "text/html": [
       "<div>\n",
       "<style scoped>\n",
       "    .dataframe tbody tr th:only-of-type {\n",
       "        vertical-align: middle;\n",
       "    }\n",
       "\n",
       "    .dataframe tbody tr th {\n",
       "        vertical-align: top;\n",
       "    }\n",
       "\n",
       "    .dataframe thead th {\n",
       "        text-align: right;\n",
       "    }\n",
       "</style>\n",
       "<table border=\"1\" class=\"dataframe\">\n",
       "  <thead>\n",
       "    <tr style=\"text-align: right;\">\n",
       "      <th></th>\n",
       "      <th>사용일</th>\n",
       "      <th>노선명</th>\n",
       "      <th>역명</th>\n",
       "      <th>승차승객</th>\n",
       "      <th>하차승객</th>\n",
       "    </tr>\n",
       "  </thead>\n",
       "  <tbody>\n",
       "    <tr>\n",
       "      <th>11845</th>\n",
       "      <td>20220720</td>\n",
       "      <td>9호선2~3단계</td>\n",
       "      <td>선정릉</td>\n",
       "      <td>10936</td>\n",
       "      <td>12165</td>\n",
       "    </tr>\n",
       "    <tr>\n",
       "      <th>6778</th>\n",
       "      <td>20220712</td>\n",
       "      <td>경의선</td>\n",
       "      <td>파주</td>\n",
       "      <td>1275</td>\n",
       "      <td>806</td>\n",
       "    </tr>\n",
       "    <tr>\n",
       "      <th>11574</th>\n",
       "      <td>20220720</td>\n",
       "      <td>장항선</td>\n",
       "      <td>봉명</td>\n",
       "      <td>1424</td>\n",
       "      <td>1369</td>\n",
       "    </tr>\n",
       "    <tr>\n",
       "      <th>10823</th>\n",
       "      <td>20220718</td>\n",
       "      <td>수인선</td>\n",
       "      <td>달월</td>\n",
       "      <td>130</td>\n",
       "      <td>96</td>\n",
       "    </tr>\n",
       "    <tr>\n",
       "      <th>8614</th>\n",
       "      <td>20220715</td>\n",
       "      <td>8호선</td>\n",
       "      <td>강동구청</td>\n",
       "      <td>11431</td>\n",
       "      <td>11583</td>\n",
       "    </tr>\n",
       "  </tbody>\n",
       "</table>\n",
       "</div>"
      ],
      "text/plain": [
       "            사용일       노선명    역명   승차승객   하차승객\n",
       "11845  20220720  9호선2~3단계   선정릉  10936  12165\n",
       "6778   20220712       경의선    파주   1275    806\n",
       "11574  20220720       장항선    봉명   1424   1369\n",
       "10823  20220718       수인선    달월    130     96\n",
       "8614   20220715       8호선  강동구청  11431  11583"
      ]
     },
     "execution_count": 9,
     "metadata": {},
     "output_type": "execute_result"
    }
   ],
   "source": [
    "df7.sample(5)"
   ]
  },
  {
   "cell_type": "code",
   "execution_count": 10,
   "id": "cf37cca6-b564-4104-be46-3754753de3fb",
   "metadata": {},
   "outputs": [
    {
     "data": {
      "text/html": [
       "<div>\n",
       "<style scoped>\n",
       "    .dataframe tbody tr th:only-of-type {\n",
       "        vertical-align: middle;\n",
       "    }\n",
       "\n",
       "    .dataframe tbody tr th {\n",
       "        vertical-align: top;\n",
       "    }\n",
       "\n",
       "    .dataframe thead th {\n",
       "        text-align: right;\n",
       "    }\n",
       "</style>\n",
       "<table border=\"1\" class=\"dataframe\">\n",
       "  <thead>\n",
       "    <tr style=\"text-align: right;\">\n",
       "      <th></th>\n",
       "      <th>사용일</th>\n",
       "      <th>노선명</th>\n",
       "      <th>역명</th>\n",
       "      <th>승차승객</th>\n",
       "      <th>하차승객</th>\n",
       "    </tr>\n",
       "  </thead>\n",
       "  <tbody>\n",
       "    <tr>\n",
       "      <th>1924</th>\n",
       "      <td>20220804</td>\n",
       "      <td>경강선</td>\n",
       "      <td>세종대왕릉</td>\n",
       "      <td>358</td>\n",
       "      <td>373</td>\n",
       "    </tr>\n",
       "    <tr>\n",
       "      <th>18397</th>\n",
       "      <td>20220831</td>\n",
       "      <td>7호선</td>\n",
       "      <td>노원</td>\n",
       "      <td>20456</td>\n",
       "      <td>21575</td>\n",
       "    </tr>\n",
       "    <tr>\n",
       "      <th>389</th>\n",
       "      <td>20220801</td>\n",
       "      <td>5호선</td>\n",
       "      <td>강일</td>\n",
       "      <td>3811</td>\n",
       "      <td>4293</td>\n",
       "    </tr>\n",
       "    <tr>\n",
       "      <th>1657</th>\n",
       "      <td>20220803</td>\n",
       "      <td>경춘선</td>\n",
       "      <td>대성리</td>\n",
       "      <td>735</td>\n",
       "      <td>797</td>\n",
       "    </tr>\n",
       "    <tr>\n",
       "      <th>4134</th>\n",
       "      <td>20220807</td>\n",
       "      <td>분당선</td>\n",
       "      <td>태평</td>\n",
       "      <td>7635</td>\n",
       "      <td>7463</td>\n",
       "    </tr>\n",
       "  </tbody>\n",
       "</table>\n",
       "</div>"
      ],
      "text/plain": [
       "            사용일  노선명     역명   승차승객   하차승객\n",
       "1924   20220804  경강선  세종대왕릉    358    373\n",
       "18397  20220831  7호선     노원  20456  21575\n",
       "389    20220801  5호선     강일   3811   4293\n",
       "1657   20220803  경춘선    대성리    735    797\n",
       "4134   20220807  분당선     태평   7635   7463"
      ]
     },
     "execution_count": 10,
     "metadata": {},
     "output_type": "execute_result"
    }
   ],
   "source": [
    "df8.sample(5)"
   ]
  },
  {
   "cell_type": "code",
   "execution_count": 11,
   "id": "718bb29d-50b2-4898-87d2-177e7eab16c4",
   "metadata": {},
   "outputs": [
    {
     "name": "stdout",
     "output_type": "stream",
     "text": [
      "<class 'pandas.core.frame.DataFrame'>\n",
      "RangeIndex: 18521 entries, 0 to 18520\n",
      "Data columns (total 5 columns):\n",
      " #   Column  Non-Null Count  Dtype \n",
      "---  ------  --------------  ----- \n",
      " 0   사용일     18521 non-null  int64 \n",
      " 1   노선명     18521 non-null  object\n",
      " 2   역명      18521 non-null  object\n",
      " 3   승차승객    18521 non-null  int64 \n",
      " 4   하차승객    18521 non-null  int64 \n",
      "dtypes: int64(3), object(2)\n",
      "memory usage: 723.6+ KB\n"
     ]
    }
   ],
   "source": [
    "df.info()"
   ]
  },
  {
   "cell_type": "code",
   "execution_count": 12,
   "id": "c4bb5c55-6016-4e4e-8b65-87f5fb6bb1da",
   "metadata": {},
   "outputs": [
    {
     "name": "stdout",
     "output_type": "stream",
     "text": [
      "<class 'pandas.core.frame.DataFrame'>\n",
      "RangeIndex: 16712 entries, 0 to 16711\n",
      "Data columns (total 5 columns):\n",
      " #   Column  Non-Null Count  Dtype \n",
      "---  ------  --------------  ----- \n",
      " 0   사용일     16712 non-null  int64 \n",
      " 1   노선명     16712 non-null  object\n",
      " 2   역명      16712 non-null  object\n",
      " 3   승차승객    16712 non-null  int64 \n",
      " 4   하차승객    16712 non-null  int64 \n",
      "dtypes: int64(3), object(2)\n",
      "memory usage: 652.9+ KB\n"
     ]
    }
   ],
   "source": [
    "df2.info()"
   ]
  },
  {
   "cell_type": "code",
   "execution_count": 13,
   "id": "ec60b5ab-744c-401e-9728-3d1150125dea",
   "metadata": {},
   "outputs": [
    {
     "name": "stdout",
     "output_type": "stream",
     "text": [
      "<class 'pandas.core.frame.DataFrame'>\n",
      "RangeIndex: 18467 entries, 0 to 18466\n",
      "Data columns (total 5 columns):\n",
      " #   Column  Non-Null Count  Dtype \n",
      "---  ------  --------------  ----- \n",
      " 0   사용일     18467 non-null  int64 \n",
      " 1   노선명     18467 non-null  object\n",
      " 2   역명      18467 non-null  object\n",
      " 3   승차승객    18467 non-null  int64 \n",
      " 4   하차승객    18467 non-null  int64 \n",
      "dtypes: int64(3), object(2)\n",
      "memory usage: 721.5+ KB\n"
     ]
    }
   ],
   "source": [
    "df3.info()"
   ]
  },
  {
   "cell_type": "code",
   "execution_count": 14,
   "id": "dc7c6be5-2d86-4fb8-b992-335d5bbea44d",
   "metadata": {},
   "outputs": [
    {
     "name": "stdout",
     "output_type": "stream",
     "text": [
      "<class 'pandas.core.frame.DataFrame'>\n",
      "RangeIndex: 17847 entries, 0 to 17846\n",
      "Data columns (total 5 columns):\n",
      " #   Column  Non-Null Count  Dtype \n",
      "---  ------  --------------  ----- \n",
      " 0   사용일     17847 non-null  int64 \n",
      " 1   노선명     17847 non-null  object\n",
      " 2   역명      17847 non-null  object\n",
      " 3   승차승객    17847 non-null  int64 \n",
      " 4   하차승객    17847 non-null  int64 \n",
      "dtypes: int64(3), object(2)\n",
      "memory usage: 697.3+ KB\n"
     ]
    }
   ],
   "source": [
    "df4.info()"
   ]
  },
  {
   "cell_type": "code",
   "execution_count": 15,
   "id": "9332cd4f-15ed-4b5b-bf09-a7931c0be856",
   "metadata": {},
   "outputs": [
    {
     "name": "stdout",
     "output_type": "stream",
     "text": [
      "<class 'pandas.core.frame.DataFrame'>\n",
      "RangeIndex: 18496 entries, 0 to 18495\n",
      "Data columns (total 5 columns):\n",
      " #   Column  Non-Null Count  Dtype \n",
      "---  ------  --------------  ----- \n",
      " 0   사용일     18496 non-null  int64 \n",
      " 1   노선명     18496 non-null  object\n",
      " 2   역명      18496 non-null  object\n",
      " 3   승차승객    18496 non-null  int64 \n",
      " 4   하차승객    18496 non-null  int64 \n",
      "dtypes: int64(3), object(2)\n",
      "memory usage: 722.6+ KB\n"
     ]
    }
   ],
   "source": [
    "df5.info()"
   ]
  },
  {
   "cell_type": "code",
   "execution_count": 16,
   "id": "ef5b3d35-b07e-416f-9c8e-1f87c11f6675",
   "metadata": {},
   "outputs": [
    {
     "name": "stdout",
     "output_type": "stream",
     "text": [
      "<class 'pandas.core.frame.DataFrame'>\n",
      "RangeIndex: 18179 entries, 0 to 18178\n",
      "Data columns (total 5 columns):\n",
      " #   Column  Non-Null Count  Dtype \n",
      "---  ------  --------------  ----- \n",
      " 0   사용일     18179 non-null  int64 \n",
      " 1   노선명     18179 non-null  object\n",
      " 2   역명      18179 non-null  object\n",
      " 3   승차승객    18179 non-null  int64 \n",
      " 4   하차승객    18179 non-null  int64 \n",
      "dtypes: int64(3), object(2)\n",
      "memory usage: 710.2+ KB\n"
     ]
    }
   ],
   "source": [
    "df6.info()"
   ]
  },
  {
   "cell_type": "code",
   "execution_count": 17,
   "id": "8dbf6d46-6fe2-4e26-a1bc-a410b7237b88",
   "metadata": {},
   "outputs": [
    {
     "name": "stdout",
     "output_type": "stream",
     "text": [
      "<class 'pandas.core.frame.DataFrame'>\n",
      "RangeIndex: 18790 entries, 0 to 18789\n",
      "Data columns (total 5 columns):\n",
      " #   Column  Non-Null Count  Dtype \n",
      "---  ------  --------------  ----- \n",
      " 0   사용일     18790 non-null  int64 \n",
      " 1   노선명     18790 non-null  object\n",
      " 2   역명      18790 non-null  object\n",
      " 3   승차승객    18790 non-null  int64 \n",
      " 4   하차승객    18790 non-null  int64 \n",
      "dtypes: int64(3), object(2)\n",
      "memory usage: 734.1+ KB\n"
     ]
    }
   ],
   "source": [
    "df7.info()"
   ]
  },
  {
   "cell_type": "code",
   "execution_count": 18,
   "id": "f98a7c62-938d-4347-91c2-c9290e972169",
   "metadata": {},
   "outputs": [
    {
     "name": "stdout",
     "output_type": "stream",
     "text": [
      "<class 'pandas.core.frame.DataFrame'>\n",
      "RangeIndex: 18782 entries, 0 to 18781\n",
      "Data columns (total 5 columns):\n",
      " #   Column  Non-Null Count  Dtype \n",
      "---  ------  --------------  ----- \n",
      " 0   사용일     18782 non-null  int64 \n",
      " 1   노선명     18782 non-null  object\n",
      " 2   역명      18782 non-null  object\n",
      " 3   승차승객    18782 non-null  int64 \n",
      " 4   하차승객    18782 non-null  int64 \n",
      "dtypes: int64(3), object(2)\n",
      "memory usage: 733.8+ KB\n"
     ]
    }
   ],
   "source": [
    "df8.info()"
   ]
  },
  {
   "cell_type": "markdown",
   "id": "4e44cf4b-0f13-4c8c-9dc7-e1b7082ef6a5",
   "metadata": {},
   "source": [
    "### 데이터 속성\n",
    " - 사용일 : int\n",
    " - 노선명 : object\n",
    " - 역명 : object\n",
    " - 승차승객 : int\n",
    " - 하차승객 : int"
   ]
  },
  {
   "cell_type": "markdown",
   "id": "7d301272-7ba1-49fa-a15a-8e274992023e",
   "metadata": {},
   "source": [
    "### 결측치 확인"
   ]
  },
  {
   "cell_type": "code",
   "execution_count": 20,
   "id": "9c35360c-4889-470e-847f-f2d30a795f3e",
   "metadata": {},
   "outputs": [
    {
     "data": {
      "text/plain": [
       "사용일     0\n",
       "노선명     0\n",
       "역명      0\n",
       "승차승객    0\n",
       "하차승객    0\n",
       "dtype: int64"
      ]
     },
     "execution_count": 20,
     "metadata": {},
     "output_type": "execute_result"
    }
   ],
   "source": [
    "df.isna().sum()"
   ]
  },
  {
   "cell_type": "code",
   "execution_count": 21,
   "id": "1412f5d1-d460-48bb-b318-7dd651cd11ff",
   "metadata": {},
   "outputs": [
    {
     "data": {
      "text/plain": [
       "사용일     0\n",
       "노선명     0\n",
       "역명      0\n",
       "승차승객    0\n",
       "하차승객    0\n",
       "dtype: int64"
      ]
     },
     "execution_count": 21,
     "metadata": {},
     "output_type": "execute_result"
    }
   ],
   "source": [
    "df2.isna().sum()"
   ]
  },
  {
   "cell_type": "code",
   "execution_count": 22,
   "id": "b914af31-deba-418b-a79d-f3469c5d5c45",
   "metadata": {},
   "outputs": [
    {
     "data": {
      "text/plain": [
       "사용일     0\n",
       "노선명     0\n",
       "역명      0\n",
       "승차승객    0\n",
       "하차승객    0\n",
       "dtype: int64"
      ]
     },
     "execution_count": 22,
     "metadata": {},
     "output_type": "execute_result"
    }
   ],
   "source": [
    "df3.isna().sum()"
   ]
  },
  {
   "cell_type": "code",
   "execution_count": 23,
   "id": "cc7c635d-c1f2-4ef1-8f3a-7c4a420128bf",
   "metadata": {},
   "outputs": [
    {
     "data": {
      "text/plain": [
       "사용일     0\n",
       "노선명     0\n",
       "역명      0\n",
       "승차승객    0\n",
       "하차승객    0\n",
       "dtype: int64"
      ]
     },
     "execution_count": 23,
     "metadata": {},
     "output_type": "execute_result"
    }
   ],
   "source": [
    "df4.isna().sum()"
   ]
  },
  {
   "cell_type": "code",
   "execution_count": 24,
   "id": "696c7b34-4508-46dd-ba0f-f5898e9b4601",
   "metadata": {},
   "outputs": [
    {
     "data": {
      "text/plain": [
       "사용일     0\n",
       "노선명     0\n",
       "역명      0\n",
       "승차승객    0\n",
       "하차승객    0\n",
       "dtype: int64"
      ]
     },
     "execution_count": 24,
     "metadata": {},
     "output_type": "execute_result"
    }
   ],
   "source": [
    "df5.isna().sum()"
   ]
  },
  {
   "cell_type": "code",
   "execution_count": 25,
   "id": "173a2b58-eb3c-435f-80ea-c194e0b5300f",
   "metadata": {},
   "outputs": [
    {
     "data": {
      "text/plain": [
       "사용일     0\n",
       "노선명     0\n",
       "역명      0\n",
       "승차승객    0\n",
       "하차승객    0\n",
       "dtype: int64"
      ]
     },
     "execution_count": 25,
     "metadata": {},
     "output_type": "execute_result"
    }
   ],
   "source": [
    "df6.isna().sum()"
   ]
  },
  {
   "cell_type": "code",
   "execution_count": 26,
   "id": "47e0e28f-2a19-4d81-bded-6f3f45c3162f",
   "metadata": {},
   "outputs": [
    {
     "data": {
      "text/plain": [
       "사용일     0\n",
       "노선명     0\n",
       "역명      0\n",
       "승차승객    0\n",
       "하차승객    0\n",
       "dtype: int64"
      ]
     },
     "execution_count": 26,
     "metadata": {},
     "output_type": "execute_result"
    }
   ],
   "source": [
    "df7.isna().sum()"
   ]
  },
  {
   "cell_type": "code",
   "execution_count": 27,
   "id": "69ec3083-4a73-442f-ba8c-ac9df436c0f0",
   "metadata": {},
   "outputs": [
    {
     "data": {
      "text/plain": [
       "사용일     0\n",
       "노선명     0\n",
       "역명      0\n",
       "승차승객    0\n",
       "하차승객    0\n",
       "dtype: int64"
      ]
     },
     "execution_count": 27,
     "metadata": {},
     "output_type": "execute_result"
    }
   ],
   "source": [
    "df8.isna().sum()"
   ]
  },
  {
   "cell_type": "markdown",
   "id": "2149ade8-735d-46ea-8d88-c0bae47d84a8",
   "metadata": {},
   "source": [
    "### 결측치 없음"
   ]
  },
  {
   "cell_type": "markdown",
   "id": "e4622db2-21c1-4e20-aa60-e5583007e7b6",
   "metadata": {},
   "source": [
    "### 정보 요약"
   ]
  },
  {
   "cell_type": "code",
   "execution_count": 28,
   "id": "61d03d7c-7d7a-4a99-88a0-c741de382507",
   "metadata": {},
   "outputs": [
    {
     "data": {
      "text/html": [
       "<div>\n",
       "<style scoped>\n",
       "    .dataframe tbody tr th:only-of-type {\n",
       "        vertical-align: middle;\n",
       "    }\n",
       "\n",
       "    .dataframe tbody tr th {\n",
       "        vertical-align: top;\n",
       "    }\n",
       "\n",
       "    .dataframe thead th {\n",
       "        text-align: right;\n",
       "    }\n",
       "</style>\n",
       "<table border=\"1\" class=\"dataframe\">\n",
       "  <thead>\n",
       "    <tr style=\"text-align: right;\">\n",
       "      <th></th>\n",
       "      <th>사용일</th>\n",
       "      <th>승차승객</th>\n",
       "      <th>하차승객</th>\n",
       "    </tr>\n",
       "  </thead>\n",
       "  <tbody>\n",
       "    <tr>\n",
       "      <th>count</th>\n",
       "      <td>1.852100e+04</td>\n",
       "      <td>18521.000000</td>\n",
       "      <td>18521.000000</td>\n",
       "    </tr>\n",
       "    <tr>\n",
       "      <th>mean</th>\n",
       "      <td>2.022012e+07</td>\n",
       "      <td>9060.095135</td>\n",
       "      <td>9028.133794</td>\n",
       "    </tr>\n",
       "    <tr>\n",
       "      <th>std</th>\n",
       "      <td>8.942121e+00</td>\n",
       "      <td>9538.424818</td>\n",
       "      <td>9607.117182</td>\n",
       "    </tr>\n",
       "    <tr>\n",
       "      <th>min</th>\n",
       "      <td>2.022010e+07</td>\n",
       "      <td>1.000000</td>\n",
       "      <td>0.000000</td>\n",
       "    </tr>\n",
       "    <tr>\n",
       "      <th>25%</th>\n",
       "      <td>2.022011e+07</td>\n",
       "      <td>2858.000000</td>\n",
       "      <td>2768.000000</td>\n",
       "    </tr>\n",
       "    <tr>\n",
       "      <th>50%</th>\n",
       "      <td>2.022012e+07</td>\n",
       "      <td>6240.000000</td>\n",
       "      <td>6120.000000</td>\n",
       "    </tr>\n",
       "    <tr>\n",
       "      <th>75%</th>\n",
       "      <td>2.022012e+07</td>\n",
       "      <td>11863.000000</td>\n",
       "      <td>11730.000000</td>\n",
       "    </tr>\n",
       "    <tr>\n",
       "      <th>max</th>\n",
       "      <td>2.022013e+07</td>\n",
       "      <td>92932.000000</td>\n",
       "      <td>91167.000000</td>\n",
       "    </tr>\n",
       "  </tbody>\n",
       "</table>\n",
       "</div>"
      ],
      "text/plain": [
       "                사용일          승차승객          하차승객\n",
       "count  1.852100e+04  18521.000000  18521.000000\n",
       "mean   2.022012e+07   9060.095135   9028.133794\n",
       "std    8.942121e+00   9538.424818   9607.117182\n",
       "min    2.022010e+07      1.000000      0.000000\n",
       "25%    2.022011e+07   2858.000000   2768.000000\n",
       "50%    2.022012e+07   6240.000000   6120.000000\n",
       "75%    2.022012e+07  11863.000000  11730.000000\n",
       "max    2.022013e+07  92932.000000  91167.000000"
      ]
     },
     "execution_count": 28,
     "metadata": {},
     "output_type": "execute_result"
    }
   ],
   "source": [
    "df.describe()"
   ]
  },
  {
   "cell_type": "code",
   "execution_count": 29,
   "id": "70b77c5d-36d1-4450-9031-210f83a1576a",
   "metadata": {},
   "outputs": [
    {
     "data": {
      "text/html": [
       "<div>\n",
       "<style scoped>\n",
       "    .dataframe tbody tr th:only-of-type {\n",
       "        vertical-align: middle;\n",
       "    }\n",
       "\n",
       "    .dataframe tbody tr th {\n",
       "        vertical-align: top;\n",
       "    }\n",
       "\n",
       "    .dataframe thead th {\n",
       "        text-align: right;\n",
       "    }\n",
       "</style>\n",
       "<table border=\"1\" class=\"dataframe\">\n",
       "  <thead>\n",
       "    <tr style=\"text-align: right;\">\n",
       "      <th></th>\n",
       "      <th>사용일</th>\n",
       "      <th>승차승객</th>\n",
       "      <th>하차승객</th>\n",
       "    </tr>\n",
       "  </thead>\n",
       "  <tbody>\n",
       "    <tr>\n",
       "      <th>count</th>\n",
       "      <td>1.671200e+04</td>\n",
       "      <td>16712.000000</td>\n",
       "      <td>16712.000000</td>\n",
       "    </tr>\n",
       "    <tr>\n",
       "      <th>mean</th>\n",
       "      <td>2.022021e+07</td>\n",
       "      <td>8517.294818</td>\n",
       "      <td>8489.189983</td>\n",
       "    </tr>\n",
       "    <tr>\n",
       "      <th>std</th>\n",
       "      <td>8.073208e+00</td>\n",
       "      <td>8843.369670</td>\n",
       "      <td>8876.721606</td>\n",
       "    </tr>\n",
       "    <tr>\n",
       "      <th>min</th>\n",
       "      <td>2.022020e+07</td>\n",
       "      <td>1.000000</td>\n",
       "      <td>0.000000</td>\n",
       "    </tr>\n",
       "    <tr>\n",
       "      <th>25%</th>\n",
       "      <td>2.022021e+07</td>\n",
       "      <td>2722.000000</td>\n",
       "      <td>2633.750000</td>\n",
       "    </tr>\n",
       "    <tr>\n",
       "      <th>50%</th>\n",
       "      <td>2.022022e+07</td>\n",
       "      <td>5910.500000</td>\n",
       "      <td>5814.000000</td>\n",
       "    </tr>\n",
       "    <tr>\n",
       "      <th>75%</th>\n",
       "      <td>2.022022e+07</td>\n",
       "      <td>11241.250000</td>\n",
       "      <td>11113.750000</td>\n",
       "    </tr>\n",
       "    <tr>\n",
       "      <th>max</th>\n",
       "      <td>2.022023e+07</td>\n",
       "      <td>84950.000000</td>\n",
       "      <td>82108.000000</td>\n",
       "    </tr>\n",
       "  </tbody>\n",
       "</table>\n",
       "</div>"
      ],
      "text/plain": [
       "                사용일          승차승객          하차승객\n",
       "count  1.671200e+04  16712.000000  16712.000000\n",
       "mean   2.022021e+07   8517.294818   8489.189983\n",
       "std    8.073208e+00   8843.369670   8876.721606\n",
       "min    2.022020e+07      1.000000      0.000000\n",
       "25%    2.022021e+07   2722.000000   2633.750000\n",
       "50%    2.022022e+07   5910.500000   5814.000000\n",
       "75%    2.022022e+07  11241.250000  11113.750000\n",
       "max    2.022023e+07  84950.000000  82108.000000"
      ]
     },
     "execution_count": 29,
     "metadata": {},
     "output_type": "execute_result"
    }
   ],
   "source": [
    "df2.describe()"
   ]
  },
  {
   "cell_type": "code",
   "execution_count": 30,
   "id": "24706992-a062-4703-b134-3730c9630268",
   "metadata": {},
   "outputs": [
    {
     "data": {
      "text/html": [
       "<div>\n",
       "<style scoped>\n",
       "    .dataframe tbody tr th:only-of-type {\n",
       "        vertical-align: middle;\n",
       "    }\n",
       "\n",
       "    .dataframe tbody tr th {\n",
       "        vertical-align: top;\n",
       "    }\n",
       "\n",
       "    .dataframe thead th {\n",
       "        text-align: right;\n",
       "    }\n",
       "</style>\n",
       "<table border=\"1\" class=\"dataframe\">\n",
       "  <thead>\n",
       "    <tr style=\"text-align: right;\">\n",
       "      <th></th>\n",
       "      <th>사용일</th>\n",
       "      <th>승차승객</th>\n",
       "      <th>하차승객</th>\n",
       "    </tr>\n",
       "  </thead>\n",
       "  <tbody>\n",
       "    <tr>\n",
       "      <th>count</th>\n",
       "      <td>1.846700e+04</td>\n",
       "      <td>18467.000000</td>\n",
       "      <td>18467.000000</td>\n",
       "    </tr>\n",
       "    <tr>\n",
       "      <th>mean</th>\n",
       "      <td>2.022032e+07</td>\n",
       "      <td>8851.885688</td>\n",
       "      <td>8822.759463</td>\n",
       "    </tr>\n",
       "    <tr>\n",
       "      <th>std</th>\n",
       "      <td>8.944387e+00</td>\n",
       "      <td>8691.106320</td>\n",
       "      <td>8778.915177</td>\n",
       "    </tr>\n",
       "    <tr>\n",
       "      <th>min</th>\n",
       "      <td>2.022030e+07</td>\n",
       "      <td>1.000000</td>\n",
       "      <td>0.000000</td>\n",
       "    </tr>\n",
       "    <tr>\n",
       "      <th>25%</th>\n",
       "      <td>2.022031e+07</td>\n",
       "      <td>3078.500000</td>\n",
       "      <td>2989.000000</td>\n",
       "    </tr>\n",
       "    <tr>\n",
       "      <th>50%</th>\n",
       "      <td>2.022032e+07</td>\n",
       "      <td>6334.000000</td>\n",
       "      <td>6229.000000</td>\n",
       "    </tr>\n",
       "    <tr>\n",
       "      <th>75%</th>\n",
       "      <td>2.022032e+07</td>\n",
       "      <td>11838.000000</td>\n",
       "      <td>11742.000000</td>\n",
       "    </tr>\n",
       "    <tr>\n",
       "      <th>max</th>\n",
       "      <td>2.022033e+07</td>\n",
       "      <td>80279.000000</td>\n",
       "      <td>78816.000000</td>\n",
       "    </tr>\n",
       "  </tbody>\n",
       "</table>\n",
       "</div>"
      ],
      "text/plain": [
       "                사용일          승차승객          하차승객\n",
       "count  1.846700e+04  18467.000000  18467.000000\n",
       "mean   2.022032e+07   8851.885688   8822.759463\n",
       "std    8.944387e+00   8691.106320   8778.915177\n",
       "min    2.022030e+07      1.000000      0.000000\n",
       "25%    2.022031e+07   3078.500000   2989.000000\n",
       "50%    2.022032e+07   6334.000000   6229.000000\n",
       "75%    2.022032e+07  11838.000000  11742.000000\n",
       "max    2.022033e+07  80279.000000  78816.000000"
      ]
     },
     "execution_count": 30,
     "metadata": {},
     "output_type": "execute_result"
    }
   ],
   "source": [
    "df3.describe()"
   ]
  },
  {
   "cell_type": "code",
   "execution_count": 31,
   "id": "f17b54fe-5d23-4e15-ac68-91f976cffce4",
   "metadata": {},
   "outputs": [
    {
     "data": {
      "text/html": [
       "<div>\n",
       "<style scoped>\n",
       "    .dataframe tbody tr th:only-of-type {\n",
       "        vertical-align: middle;\n",
       "    }\n",
       "\n",
       "    .dataframe tbody tr th {\n",
       "        vertical-align: top;\n",
       "    }\n",
       "\n",
       "    .dataframe thead th {\n",
       "        text-align: right;\n",
       "    }\n",
       "</style>\n",
       "<table border=\"1\" class=\"dataframe\">\n",
       "  <thead>\n",
       "    <tr style=\"text-align: right;\">\n",
       "      <th></th>\n",
       "      <th>사용일</th>\n",
       "      <th>승차승객</th>\n",
       "      <th>하차승객</th>\n",
       "    </tr>\n",
       "  </thead>\n",
       "  <tbody>\n",
       "    <tr>\n",
       "      <th>count</th>\n",
       "      <td>1.784700e+04</td>\n",
       "      <td>17847.000000</td>\n",
       "      <td>17847.000000</td>\n",
       "    </tr>\n",
       "    <tr>\n",
       "      <th>mean</th>\n",
       "      <td>2.022042e+07</td>\n",
       "      <td>10321.086737</td>\n",
       "      <td>10282.937132</td>\n",
       "    </tr>\n",
       "    <tr>\n",
       "      <th>std</th>\n",
       "      <td>8.654078e+00</td>\n",
       "      <td>9958.381957</td>\n",
       "      <td>10131.443573</td>\n",
       "    </tr>\n",
       "    <tr>\n",
       "      <th>min</th>\n",
       "      <td>2.022040e+07</td>\n",
       "      <td>1.000000</td>\n",
       "      <td>0.000000</td>\n",
       "    </tr>\n",
       "    <tr>\n",
       "      <th>25%</th>\n",
       "      <td>2.022041e+07</td>\n",
       "      <td>3707.000000</td>\n",
       "      <td>3564.500000</td>\n",
       "    </tr>\n",
       "    <tr>\n",
       "      <th>50%</th>\n",
       "      <td>2.022042e+07</td>\n",
       "      <td>7511.000000</td>\n",
       "      <td>7291.000000</td>\n",
       "    </tr>\n",
       "    <tr>\n",
       "      <th>75%</th>\n",
       "      <td>2.022042e+07</td>\n",
       "      <td>13739.000000</td>\n",
       "      <td>13627.000000</td>\n",
       "    </tr>\n",
       "    <tr>\n",
       "      <th>max</th>\n",
       "      <td>2.022043e+07</td>\n",
       "      <td>122543.000000</td>\n",
       "      <td>118237.000000</td>\n",
       "    </tr>\n",
       "  </tbody>\n",
       "</table>\n",
       "</div>"
      ],
      "text/plain": [
       "                사용일           승차승객           하차승객\n",
       "count  1.784700e+04   17847.000000   17847.000000\n",
       "mean   2.022042e+07   10321.086737   10282.937132\n",
       "std    8.654078e+00    9958.381957   10131.443573\n",
       "min    2.022040e+07       1.000000       0.000000\n",
       "25%    2.022041e+07    3707.000000    3564.500000\n",
       "50%    2.022042e+07    7511.000000    7291.000000\n",
       "75%    2.022042e+07   13739.000000   13627.000000\n",
       "max    2.022043e+07  122543.000000  118237.000000"
      ]
     },
     "execution_count": 31,
     "metadata": {},
     "output_type": "execute_result"
    }
   ],
   "source": [
    "df4.describe()"
   ]
  },
  {
   "cell_type": "code",
   "execution_count": 32,
   "id": "21a0e025-910a-404b-a806-aea090ca9ca4",
   "metadata": {},
   "outputs": [
    {
     "data": {
      "text/html": [
       "<div>\n",
       "<style scoped>\n",
       "    .dataframe tbody tr th:only-of-type {\n",
       "        vertical-align: middle;\n",
       "    }\n",
       "\n",
       "    .dataframe tbody tr th {\n",
       "        vertical-align: top;\n",
       "    }\n",
       "\n",
       "    .dataframe thead th {\n",
       "        text-align: right;\n",
       "    }\n",
       "</style>\n",
       "<table border=\"1\" class=\"dataframe\">\n",
       "  <thead>\n",
       "    <tr style=\"text-align: right;\">\n",
       "      <th></th>\n",
       "      <th>사용일</th>\n",
       "      <th>승차승객</th>\n",
       "      <th>하차승객</th>\n",
       "    </tr>\n",
       "  </thead>\n",
       "  <tbody>\n",
       "    <tr>\n",
       "      <th>count</th>\n",
       "      <td>1.849600e+04</td>\n",
       "      <td>18496.000000</td>\n",
       "      <td>18496.000000</td>\n",
       "    </tr>\n",
       "    <tr>\n",
       "      <th>mean</th>\n",
       "      <td>2.022052e+07</td>\n",
       "      <td>10997.577801</td>\n",
       "      <td>10961.165117</td>\n",
       "    </tr>\n",
       "    <tr>\n",
       "      <th>std</th>\n",
       "      <td>8.954492e+00</td>\n",
       "      <td>10642.697815</td>\n",
       "      <td>10871.610179</td>\n",
       "    </tr>\n",
       "    <tr>\n",
       "      <th>min</th>\n",
       "      <td>2.022050e+07</td>\n",
       "      <td>1.000000</td>\n",
       "      <td>0.000000</td>\n",
       "    </tr>\n",
       "    <tr>\n",
       "      <th>25%</th>\n",
       "      <td>2.022051e+07</td>\n",
       "      <td>3938.250000</td>\n",
       "      <td>3763.000000</td>\n",
       "    </tr>\n",
       "    <tr>\n",
       "      <th>50%</th>\n",
       "      <td>2.022052e+07</td>\n",
       "      <td>8011.500000</td>\n",
       "      <td>7710.000000</td>\n",
       "    </tr>\n",
       "    <tr>\n",
       "      <th>75%</th>\n",
       "      <td>2.022052e+07</td>\n",
       "      <td>14611.500000</td>\n",
       "      <td>14483.000000</td>\n",
       "    </tr>\n",
       "    <tr>\n",
       "      <th>max</th>\n",
       "      <td>2.022053e+07</td>\n",
       "      <td>97288.000000</td>\n",
       "      <td>98286.000000</td>\n",
       "    </tr>\n",
       "  </tbody>\n",
       "</table>\n",
       "</div>"
      ],
      "text/plain": [
       "                사용일          승차승객          하차승객\n",
       "count  1.849600e+04  18496.000000  18496.000000\n",
       "mean   2.022052e+07  10997.577801  10961.165117\n",
       "std    8.954492e+00  10642.697815  10871.610179\n",
       "min    2.022050e+07      1.000000      0.000000\n",
       "25%    2.022051e+07   3938.250000   3763.000000\n",
       "50%    2.022052e+07   8011.500000   7710.000000\n",
       "75%    2.022052e+07  14611.500000  14483.000000\n",
       "max    2.022053e+07  97288.000000  98286.000000"
      ]
     },
     "execution_count": 32,
     "metadata": {},
     "output_type": "execute_result"
    }
   ],
   "source": [
    "df5.describe()"
   ]
  },
  {
   "cell_type": "code",
   "execution_count": 33,
   "id": "ade0e304-57a1-423a-9a7f-87956ced62d3",
   "metadata": {},
   "outputs": [
    {
     "data": {
      "text/html": [
       "<div>\n",
       "<style scoped>\n",
       "    .dataframe tbody tr th:only-of-type {\n",
       "        vertical-align: middle;\n",
       "    }\n",
       "\n",
       "    .dataframe tbody tr th {\n",
       "        vertical-align: top;\n",
       "    }\n",
       "\n",
       "    .dataframe thead th {\n",
       "        text-align: right;\n",
       "    }\n",
       "</style>\n",
       "<table border=\"1\" class=\"dataframe\">\n",
       "  <thead>\n",
       "    <tr style=\"text-align: right;\">\n",
       "      <th></th>\n",
       "      <th>사용일</th>\n",
       "      <th>승차승객</th>\n",
       "      <th>하차승객</th>\n",
       "    </tr>\n",
       "  </thead>\n",
       "  <tbody>\n",
       "    <tr>\n",
       "      <th>count</th>\n",
       "      <td>1.817900e+04</td>\n",
       "      <td>18179.000000</td>\n",
       "      <td>18179.000000</td>\n",
       "    </tr>\n",
       "    <tr>\n",
       "      <th>mean</th>\n",
       "      <td>2.022062e+07</td>\n",
       "      <td>10529.076407</td>\n",
       "      <td>10490.024974</td>\n",
       "    </tr>\n",
       "    <tr>\n",
       "      <th>std</th>\n",
       "      <td>8.656050e+00</td>\n",
       "      <td>10392.609820</td>\n",
       "      <td>10574.590772</td>\n",
       "    </tr>\n",
       "    <tr>\n",
       "      <th>min</th>\n",
       "      <td>2.022060e+07</td>\n",
       "      <td>1.000000</td>\n",
       "      <td>0.000000</td>\n",
       "    </tr>\n",
       "    <tr>\n",
       "      <th>25%</th>\n",
       "      <td>2.022061e+07</td>\n",
       "      <td>3635.500000</td>\n",
       "      <td>3487.000000</td>\n",
       "    </tr>\n",
       "    <tr>\n",
       "      <th>50%</th>\n",
       "      <td>2.022062e+07</td>\n",
       "      <td>7621.000000</td>\n",
       "      <td>7345.000000</td>\n",
       "    </tr>\n",
       "    <tr>\n",
       "      <th>75%</th>\n",
       "      <td>2.022062e+07</td>\n",
       "      <td>13926.000000</td>\n",
       "      <td>13725.500000</td>\n",
       "    </tr>\n",
       "    <tr>\n",
       "      <th>max</th>\n",
       "      <td>2.022063e+07</td>\n",
       "      <td>94875.000000</td>\n",
       "      <td>95390.000000</td>\n",
       "    </tr>\n",
       "  </tbody>\n",
       "</table>\n",
       "</div>"
      ],
      "text/plain": [
       "                사용일          승차승객          하차승객\n",
       "count  1.817900e+04  18179.000000  18179.000000\n",
       "mean   2.022062e+07  10529.076407  10490.024974\n",
       "std    8.656050e+00  10392.609820  10574.590772\n",
       "min    2.022060e+07      1.000000      0.000000\n",
       "25%    2.022061e+07   3635.500000   3487.000000\n",
       "50%    2.022062e+07   7621.000000   7345.000000\n",
       "75%    2.022062e+07  13926.000000  13725.500000\n",
       "max    2.022063e+07  94875.000000  95390.000000"
      ]
     },
     "execution_count": 33,
     "metadata": {},
     "output_type": "execute_result"
    }
   ],
   "source": [
    "df6.describe()"
   ]
  },
  {
   "cell_type": "code",
   "execution_count": 34,
   "id": "861d8076-9af0-455c-9a88-15e0b2869dd5",
   "metadata": {},
   "outputs": [
    {
     "data": {
      "text/html": [
       "<div>\n",
       "<style scoped>\n",
       "    .dataframe tbody tr th:only-of-type {\n",
       "        vertical-align: middle;\n",
       "    }\n",
       "\n",
       "    .dataframe tbody tr th {\n",
       "        vertical-align: top;\n",
       "    }\n",
       "\n",
       "    .dataframe thead th {\n",
       "        text-align: right;\n",
       "    }\n",
       "</style>\n",
       "<table border=\"1\" class=\"dataframe\">\n",
       "  <thead>\n",
       "    <tr style=\"text-align: right;\">\n",
       "      <th></th>\n",
       "      <th>사용일</th>\n",
       "      <th>승차승객</th>\n",
       "      <th>하차승객</th>\n",
       "    </tr>\n",
       "  </thead>\n",
       "  <tbody>\n",
       "    <tr>\n",
       "      <th>count</th>\n",
       "      <td>1.879000e+04</td>\n",
       "      <td>18790.000000</td>\n",
       "      <td>18790.000000</td>\n",
       "    </tr>\n",
       "    <tr>\n",
       "      <th>mean</th>\n",
       "      <td>2.022072e+07</td>\n",
       "      <td>10301.967110</td>\n",
       "      <td>10263.144119</td>\n",
       "    </tr>\n",
       "    <tr>\n",
       "      <th>std</th>\n",
       "      <td>8.945175e+00</td>\n",
       "      <td>10431.094294</td>\n",
       "      <td>10600.758791</td>\n",
       "    </tr>\n",
       "    <tr>\n",
       "      <th>min</th>\n",
       "      <td>2.022070e+07</td>\n",
       "      <td>1.000000</td>\n",
       "      <td>0.000000</td>\n",
       "    </tr>\n",
       "    <tr>\n",
       "      <th>25%</th>\n",
       "      <td>2.022071e+07</td>\n",
       "      <td>3509.000000</td>\n",
       "      <td>3369.250000</td>\n",
       "    </tr>\n",
       "    <tr>\n",
       "      <th>50%</th>\n",
       "      <td>2.022072e+07</td>\n",
       "      <td>7378.000000</td>\n",
       "      <td>7114.000000</td>\n",
       "    </tr>\n",
       "    <tr>\n",
       "      <th>75%</th>\n",
       "      <td>2.022072e+07</td>\n",
       "      <td>13537.750000</td>\n",
       "      <td>13281.000000</td>\n",
       "    </tr>\n",
       "    <tr>\n",
       "      <th>max</th>\n",
       "      <td>2.022073e+07</td>\n",
       "      <td>96795.000000</td>\n",
       "      <td>96558.000000</td>\n",
       "    </tr>\n",
       "  </tbody>\n",
       "</table>\n",
       "</div>"
      ],
      "text/plain": [
       "                사용일          승차승객          하차승객\n",
       "count  1.879000e+04  18790.000000  18790.000000\n",
       "mean   2.022072e+07  10301.967110  10263.144119\n",
       "std    8.945175e+00  10431.094294  10600.758791\n",
       "min    2.022070e+07      1.000000      0.000000\n",
       "25%    2.022071e+07   3509.000000   3369.250000\n",
       "50%    2.022072e+07   7378.000000   7114.000000\n",
       "75%    2.022072e+07  13537.750000  13281.000000\n",
       "max    2.022073e+07  96795.000000  96558.000000"
      ]
     },
     "execution_count": 34,
     "metadata": {},
     "output_type": "execute_result"
    }
   ],
   "source": [
    "df7.describe()"
   ]
  },
  {
   "cell_type": "code",
   "execution_count": 35,
   "id": "7a83c2a1-07f4-425c-8403-509c958ffa9d",
   "metadata": {},
   "outputs": [
    {
     "data": {
      "text/html": [
       "<div>\n",
       "<style scoped>\n",
       "    .dataframe tbody tr th:only-of-type {\n",
       "        vertical-align: middle;\n",
       "    }\n",
       "\n",
       "    .dataframe tbody tr th {\n",
       "        vertical-align: top;\n",
       "    }\n",
       "\n",
       "    .dataframe thead th {\n",
       "        text-align: right;\n",
       "    }\n",
       "</style>\n",
       "<table border=\"1\" class=\"dataframe\">\n",
       "  <thead>\n",
       "    <tr style=\"text-align: right;\">\n",
       "      <th></th>\n",
       "      <th>사용일</th>\n",
       "      <th>승차승객</th>\n",
       "      <th>하차승객</th>\n",
       "    </tr>\n",
       "  </thead>\n",
       "  <tbody>\n",
       "    <tr>\n",
       "      <th>count</th>\n",
       "      <td>1.878200e+04</td>\n",
       "      <td>18782.000000</td>\n",
       "      <td>18782.000000</td>\n",
       "    </tr>\n",
       "    <tr>\n",
       "      <th>mean</th>\n",
       "      <td>2.022082e+07</td>\n",
       "      <td>9926.206474</td>\n",
       "      <td>9889.340113</td>\n",
       "    </tr>\n",
       "    <tr>\n",
       "      <th>std</th>\n",
       "      <td>8.944884e+00</td>\n",
       "      <td>9964.206077</td>\n",
       "      <td>10104.228897</td>\n",
       "    </tr>\n",
       "    <tr>\n",
       "      <th>min</th>\n",
       "      <td>2.022080e+07</td>\n",
       "      <td>1.000000</td>\n",
       "      <td>0.000000</td>\n",
       "    </tr>\n",
       "    <tr>\n",
       "      <th>25%</th>\n",
       "      <td>2.022081e+07</td>\n",
       "      <td>3412.000000</td>\n",
       "      <td>3264.250000</td>\n",
       "    </tr>\n",
       "    <tr>\n",
       "      <th>50%</th>\n",
       "      <td>2.022082e+07</td>\n",
       "      <td>7138.000000</td>\n",
       "      <td>6894.000000</td>\n",
       "    </tr>\n",
       "    <tr>\n",
       "      <th>75%</th>\n",
       "      <td>2.022082e+07</td>\n",
       "      <td>13027.750000</td>\n",
       "      <td>12845.750000</td>\n",
       "    </tr>\n",
       "    <tr>\n",
       "      <th>max</th>\n",
       "      <td>2.022083e+07</td>\n",
       "      <td>89847.000000</td>\n",
       "      <td>88744.000000</td>\n",
       "    </tr>\n",
       "  </tbody>\n",
       "</table>\n",
       "</div>"
      ],
      "text/plain": [
       "                사용일          승차승객          하차승객\n",
       "count  1.878200e+04  18782.000000  18782.000000\n",
       "mean   2.022082e+07   9926.206474   9889.340113\n",
       "std    8.944884e+00   9964.206077  10104.228897\n",
       "min    2.022080e+07      1.000000      0.000000\n",
       "25%    2.022081e+07   3412.000000   3264.250000\n",
       "50%    2.022082e+07   7138.000000   6894.000000\n",
       "75%    2.022082e+07  13027.750000  12845.750000\n",
       "max    2.022083e+07  89847.000000  88744.000000"
      ]
     },
     "execution_count": 35,
     "metadata": {},
     "output_type": "execute_result"
    }
   ],
   "source": [
    "df8.describe()"
   ]
  },
  {
   "cell_type": "markdown",
   "id": "485a4064-bd06-458a-bac9-7802ef9f0a20",
   "metadata": {},
   "source": [
    "### 범주형 컬럼까지 확인"
   ]
  },
  {
   "cell_type": "code",
   "execution_count": 36,
   "id": "ef40123b-e1b8-4426-8187-139123dec9f6",
   "metadata": {},
   "outputs": [
    {
     "data": {
      "text/html": [
       "<div>\n",
       "<style scoped>\n",
       "    .dataframe tbody tr th:only-of-type {\n",
       "        vertical-align: middle;\n",
       "    }\n",
       "\n",
       "    .dataframe tbody tr th {\n",
       "        vertical-align: top;\n",
       "    }\n",
       "\n",
       "    .dataframe thead th {\n",
       "        text-align: right;\n",
       "    }\n",
       "</style>\n",
       "<table border=\"1\" class=\"dataframe\">\n",
       "  <thead>\n",
       "    <tr style=\"text-align: right;\">\n",
       "      <th></th>\n",
       "      <th>노선명</th>\n",
       "      <th>역명</th>\n",
       "    </tr>\n",
       "  </thead>\n",
       "  <tbody>\n",
       "    <tr>\n",
       "      <th>count</th>\n",
       "      <td>18521</td>\n",
       "      <td>18521</td>\n",
       "    </tr>\n",
       "    <tr>\n",
       "      <th>unique</th>\n",
       "      <td>25</td>\n",
       "      <td>522</td>\n",
       "    </tr>\n",
       "    <tr>\n",
       "      <th>top</th>\n",
       "      <td>5호선</td>\n",
       "      <td>서울역</td>\n",
       "    </tr>\n",
       "    <tr>\n",
       "      <th>freq</th>\n",
       "      <td>1736</td>\n",
       "      <td>155</td>\n",
       "    </tr>\n",
       "  </tbody>\n",
       "</table>\n",
       "</div>"
      ],
      "text/plain": [
       "          노선명     역명\n",
       "count   18521  18521\n",
       "unique     25    522\n",
       "top       5호선    서울역\n",
       "freq     1736    155"
      ]
     },
     "execution_count": 36,
     "metadata": {},
     "output_type": "execute_result"
    }
   ],
   "source": [
    "df.describe(include=\"object\")"
   ]
  },
  {
   "cell_type": "code",
   "execution_count": 37,
   "id": "b654d77e-8f13-472a-bbb6-96b0080b6f13",
   "metadata": {},
   "outputs": [
    {
     "data": {
      "text/html": [
       "<div>\n",
       "<style scoped>\n",
       "    .dataframe tbody tr th:only-of-type {\n",
       "        vertical-align: middle;\n",
       "    }\n",
       "\n",
       "    .dataframe tbody tr th {\n",
       "        vertical-align: top;\n",
       "    }\n",
       "\n",
       "    .dataframe thead th {\n",
       "        text-align: right;\n",
       "    }\n",
       "</style>\n",
       "<table border=\"1\" class=\"dataframe\">\n",
       "  <thead>\n",
       "    <tr style=\"text-align: right;\">\n",
       "      <th></th>\n",
       "      <th>노선명</th>\n",
       "      <th>역명</th>\n",
       "    </tr>\n",
       "  </thead>\n",
       "  <tbody>\n",
       "    <tr>\n",
       "      <th>count</th>\n",
       "      <td>16712</td>\n",
       "      <td>16712</td>\n",
       "    </tr>\n",
       "    <tr>\n",
       "      <th>unique</th>\n",
       "      <td>25</td>\n",
       "      <td>522</td>\n",
       "    </tr>\n",
       "    <tr>\n",
       "      <th>top</th>\n",
       "      <td>5호선</td>\n",
       "      <td>서울역</td>\n",
       "    </tr>\n",
       "    <tr>\n",
       "      <th>freq</th>\n",
       "      <td>1568</td>\n",
       "      <td>140</td>\n",
       "    </tr>\n",
       "  </tbody>\n",
       "</table>\n",
       "</div>"
      ],
      "text/plain": [
       "          노선명     역명\n",
       "count   16712  16712\n",
       "unique     25    522\n",
       "top       5호선    서울역\n",
       "freq     1568    140"
      ]
     },
     "execution_count": 37,
     "metadata": {},
     "output_type": "execute_result"
    }
   ],
   "source": [
    "df2.describe(include=\"object\")"
   ]
  },
  {
   "cell_type": "code",
   "execution_count": 38,
   "id": "f40ee44a-c6d9-4c1e-8cfd-25a4339100dc",
   "metadata": {},
   "outputs": [
    {
     "data": {
      "text/html": [
       "<div>\n",
       "<style scoped>\n",
       "    .dataframe tbody tr th:only-of-type {\n",
       "        vertical-align: middle;\n",
       "    }\n",
       "\n",
       "    .dataframe tbody tr th {\n",
       "        vertical-align: top;\n",
       "    }\n",
       "\n",
       "    .dataframe thead th {\n",
       "        text-align: right;\n",
       "    }\n",
       "</style>\n",
       "<table border=\"1\" class=\"dataframe\">\n",
       "  <thead>\n",
       "    <tr style=\"text-align: right;\">\n",
       "      <th></th>\n",
       "      <th>노선명</th>\n",
       "      <th>역명</th>\n",
       "    </tr>\n",
       "  </thead>\n",
       "  <tbody>\n",
       "    <tr>\n",
       "      <th>count</th>\n",
       "      <td>18467</td>\n",
       "      <td>18467</td>\n",
       "    </tr>\n",
       "    <tr>\n",
       "      <th>unique</th>\n",
       "      <td>25</td>\n",
       "      <td>522</td>\n",
       "    </tr>\n",
       "    <tr>\n",
       "      <th>top</th>\n",
       "      <td>5호선</td>\n",
       "      <td>서울역</td>\n",
       "    </tr>\n",
       "    <tr>\n",
       "      <th>freq</th>\n",
       "      <td>1736</td>\n",
       "      <td>155</td>\n",
       "    </tr>\n",
       "  </tbody>\n",
       "</table>\n",
       "</div>"
      ],
      "text/plain": [
       "          노선명     역명\n",
       "count   18467  18467\n",
       "unique     25    522\n",
       "top       5호선    서울역\n",
       "freq     1736    155"
      ]
     },
     "execution_count": 38,
     "metadata": {},
     "output_type": "execute_result"
    }
   ],
   "source": [
    "df3.describe(include=\"object\")"
   ]
  },
  {
   "cell_type": "code",
   "execution_count": 39,
   "id": "d25013aa-5657-4ba4-854c-4bd7d3cb2b09",
   "metadata": {},
   "outputs": [
    {
     "data": {
      "text/html": [
       "<div>\n",
       "<style scoped>\n",
       "    .dataframe tbody tr th:only-of-type {\n",
       "        vertical-align: middle;\n",
       "    }\n",
       "\n",
       "    .dataframe tbody tr th {\n",
       "        vertical-align: top;\n",
       "    }\n",
       "\n",
       "    .dataframe thead th {\n",
       "        text-align: right;\n",
       "    }\n",
       "</style>\n",
       "<table border=\"1\" class=\"dataframe\">\n",
       "  <thead>\n",
       "    <tr style=\"text-align: right;\">\n",
       "      <th></th>\n",
       "      <th>노선명</th>\n",
       "      <th>역명</th>\n",
       "    </tr>\n",
       "  </thead>\n",
       "  <tbody>\n",
       "    <tr>\n",
       "      <th>count</th>\n",
       "      <td>17847</td>\n",
       "      <td>17847</td>\n",
       "    </tr>\n",
       "    <tr>\n",
       "      <th>unique</th>\n",
       "      <td>25</td>\n",
       "      <td>520</td>\n",
       "    </tr>\n",
       "    <tr>\n",
       "      <th>top</th>\n",
       "      <td>5호선</td>\n",
       "      <td>서울역</td>\n",
       "    </tr>\n",
       "    <tr>\n",
       "      <th>freq</th>\n",
       "      <td>1680</td>\n",
       "      <td>150</td>\n",
       "    </tr>\n",
       "  </tbody>\n",
       "</table>\n",
       "</div>"
      ],
      "text/plain": [
       "          노선명     역명\n",
       "count   17847  17847\n",
       "unique     25    520\n",
       "top       5호선    서울역\n",
       "freq     1680    150"
      ]
     },
     "execution_count": 39,
     "metadata": {},
     "output_type": "execute_result"
    }
   ],
   "source": [
    "df4.describe(include=\"object\")"
   ]
  },
  {
   "cell_type": "code",
   "execution_count": 40,
   "id": "d4f496a2-c629-40c9-889f-db5402e7a45b",
   "metadata": {},
   "outputs": [
    {
     "data": {
      "text/html": [
       "<div>\n",
       "<style scoped>\n",
       "    .dataframe tbody tr th:only-of-type {\n",
       "        vertical-align: middle;\n",
       "    }\n",
       "\n",
       "    .dataframe tbody tr th {\n",
       "        vertical-align: top;\n",
       "    }\n",
       "\n",
       "    .dataframe thead th {\n",
       "        text-align: right;\n",
       "    }\n",
       "</style>\n",
       "<table border=\"1\" class=\"dataframe\">\n",
       "  <thead>\n",
       "    <tr style=\"text-align: right;\">\n",
       "      <th></th>\n",
       "      <th>노선명</th>\n",
       "      <th>역명</th>\n",
       "    </tr>\n",
       "  </thead>\n",
       "  <tbody>\n",
       "    <tr>\n",
       "      <th>count</th>\n",
       "      <td>18496</td>\n",
       "      <td>18496</td>\n",
       "    </tr>\n",
       "    <tr>\n",
       "      <th>unique</th>\n",
       "      <td>26</td>\n",
       "      <td>525</td>\n",
       "    </tr>\n",
       "    <tr>\n",
       "      <th>top</th>\n",
       "      <td>5호선</td>\n",
       "      <td>서울역</td>\n",
       "    </tr>\n",
       "    <tr>\n",
       "      <th>freq</th>\n",
       "      <td>1736</td>\n",
       "      <td>155</td>\n",
       "    </tr>\n",
       "  </tbody>\n",
       "</table>\n",
       "</div>"
      ],
      "text/plain": [
       "          노선명     역명\n",
       "count   18496  18496\n",
       "unique     26    525\n",
       "top       5호선    서울역\n",
       "freq     1736    155"
      ]
     },
     "execution_count": 40,
     "metadata": {},
     "output_type": "execute_result"
    }
   ],
   "source": [
    "df5.describe(include=\"object\")"
   ]
  },
  {
   "cell_type": "code",
   "execution_count": 41,
   "id": "c0cead40-cb45-4715-b093-7404ac01256a",
   "metadata": {},
   "outputs": [
    {
     "data": {
      "text/html": [
       "<div>\n",
       "<style scoped>\n",
       "    .dataframe tbody tr th:only-of-type {\n",
       "        vertical-align: middle;\n",
       "    }\n",
       "\n",
       "    .dataframe tbody tr th {\n",
       "        vertical-align: top;\n",
       "    }\n",
       "\n",
       "    .dataframe thead th {\n",
       "        text-align: right;\n",
       "    }\n",
       "</style>\n",
       "<table border=\"1\" class=\"dataframe\">\n",
       "  <thead>\n",
       "    <tr style=\"text-align: right;\">\n",
       "      <th></th>\n",
       "      <th>노선명</th>\n",
       "      <th>역명</th>\n",
       "    </tr>\n",
       "  </thead>\n",
       "  <tbody>\n",
       "    <tr>\n",
       "      <th>count</th>\n",
       "      <td>18179</td>\n",
       "      <td>18179</td>\n",
       "    </tr>\n",
       "    <tr>\n",
       "      <th>unique</th>\n",
       "      <td>26</td>\n",
       "      <td>524</td>\n",
       "    </tr>\n",
       "    <tr>\n",
       "      <th>top</th>\n",
       "      <td>5호선</td>\n",
       "      <td>서울역</td>\n",
       "    </tr>\n",
       "    <tr>\n",
       "      <th>freq</th>\n",
       "      <td>1680</td>\n",
       "      <td>150</td>\n",
       "    </tr>\n",
       "  </tbody>\n",
       "</table>\n",
       "</div>"
      ],
      "text/plain": [
       "          노선명     역명\n",
       "count   18179  18179\n",
       "unique     26    524\n",
       "top       5호선    서울역\n",
       "freq     1680    150"
      ]
     },
     "execution_count": 41,
     "metadata": {},
     "output_type": "execute_result"
    }
   ],
   "source": [
    "df6.describe(include=\"object\")"
   ]
  },
  {
   "cell_type": "code",
   "execution_count": 42,
   "id": "3aa95b53-e54c-41cf-88ff-046cefa091af",
   "metadata": {},
   "outputs": [
    {
     "data": {
      "text/html": [
       "<div>\n",
       "<style scoped>\n",
       "    .dataframe tbody tr th:only-of-type {\n",
       "        vertical-align: middle;\n",
       "    }\n",
       "\n",
       "    .dataframe tbody tr th {\n",
       "        vertical-align: top;\n",
       "    }\n",
       "\n",
       "    .dataframe thead th {\n",
       "        text-align: right;\n",
       "    }\n",
       "</style>\n",
       "<table border=\"1\" class=\"dataframe\">\n",
       "  <thead>\n",
       "    <tr style=\"text-align: right;\">\n",
       "      <th></th>\n",
       "      <th>노선명</th>\n",
       "      <th>역명</th>\n",
       "    </tr>\n",
       "  </thead>\n",
       "  <tbody>\n",
       "    <tr>\n",
       "      <th>count</th>\n",
       "      <td>18790</td>\n",
       "      <td>18790</td>\n",
       "    </tr>\n",
       "    <tr>\n",
       "      <th>unique</th>\n",
       "      <td>26</td>\n",
       "      <td>523</td>\n",
       "    </tr>\n",
       "    <tr>\n",
       "      <th>top</th>\n",
       "      <td>5호선</td>\n",
       "      <td>서울역</td>\n",
       "    </tr>\n",
       "    <tr>\n",
       "      <th>freq</th>\n",
       "      <td>1736</td>\n",
       "      <td>155</td>\n",
       "    </tr>\n",
       "  </tbody>\n",
       "</table>\n",
       "</div>"
      ],
      "text/plain": [
       "          노선명     역명\n",
       "count   18790  18790\n",
       "unique     26    523\n",
       "top       5호선    서울역\n",
       "freq     1736    155"
      ]
     },
     "execution_count": 42,
     "metadata": {},
     "output_type": "execute_result"
    }
   ],
   "source": [
    "df7.describe(include=\"object\")"
   ]
  },
  {
   "cell_type": "code",
   "execution_count": 43,
   "id": "07d116bf-d739-4bc4-a4e4-0f0bdb4d5c68",
   "metadata": {},
   "outputs": [
    {
     "data": {
      "text/html": [
       "<div>\n",
       "<style scoped>\n",
       "    .dataframe tbody tr th:only-of-type {\n",
       "        vertical-align: middle;\n",
       "    }\n",
       "\n",
       "    .dataframe tbody tr th {\n",
       "        vertical-align: top;\n",
       "    }\n",
       "\n",
       "    .dataframe thead th {\n",
       "        text-align: right;\n",
       "    }\n",
       "</style>\n",
       "<table border=\"1\" class=\"dataframe\">\n",
       "  <thead>\n",
       "    <tr style=\"text-align: right;\">\n",
       "      <th></th>\n",
       "      <th>노선명</th>\n",
       "      <th>역명</th>\n",
       "    </tr>\n",
       "  </thead>\n",
       "  <tbody>\n",
       "    <tr>\n",
       "      <th>count</th>\n",
       "      <td>18782</td>\n",
       "      <td>18782</td>\n",
       "    </tr>\n",
       "    <tr>\n",
       "      <th>unique</th>\n",
       "      <td>26</td>\n",
       "      <td>526</td>\n",
       "    </tr>\n",
       "    <tr>\n",
       "      <th>top</th>\n",
       "      <td>5호선</td>\n",
       "      <td>서울역</td>\n",
       "    </tr>\n",
       "    <tr>\n",
       "      <th>freq</th>\n",
       "      <td>1736</td>\n",
       "      <td>155</td>\n",
       "    </tr>\n",
       "  </tbody>\n",
       "</table>\n",
       "</div>"
      ],
      "text/plain": [
       "          노선명     역명\n",
       "count   18782  18782\n",
       "unique     26    526\n",
       "top       5호선    서울역\n",
       "freq     1736    155"
      ]
     },
     "execution_count": 43,
     "metadata": {},
     "output_type": "execute_result"
    }
   ],
   "source": [
    "df8.describe(include=\"object\")"
   ]
  },
  {
   "cell_type": "markdown",
   "id": "e6c389de-c18c-4fee-8ca5-455b5106acb0",
   "metadata": {},
   "source": [
    "### 빈도\n",
    "- 노선 : 5호선 최다\n",
    "- 역 : 서울역 최다\n",
    "- 매월 변함없음"
   ]
  },
  {
   "cell_type": "code",
   "execution_count": null,
   "id": "e4580f65-af7a-49cf-9512-af7b9880564f",
   "metadata": {},
   "outputs": [],
   "source": []
  }
 ],
 "metadata": {
  "kernelspec": {
   "display_name": "Python 3 (ipykernel)",
   "language": "python",
   "name": "python3"
  },
  "language_info": {
   "codemirror_mode": {
    "name": "ipython",
    "version": 3
   },
   "file_extension": ".py",
   "mimetype": "text/x-python",
   "name": "python",
   "nbconvert_exporter": "python",
   "pygments_lexer": "ipython3",
   "version": "3.9.12"
  }
 },
 "nbformat": 4,
 "nbformat_minor": 5
}
