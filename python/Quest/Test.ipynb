{
 "cells": [
  {
   "cell_type": "code",
   "execution_count": 4,
   "id": "b75cfe37-351f-4c06-bd3f-4b48a351897c",
   "metadata": {},
   "outputs": [],
   "source": [
    "import pandas as pd\n",
    "import glob\n",
    "import os"
   ]
  },
  {
   "cell_type": "code",
   "execution_count": 5,
   "id": "25d246d7-1c18-4030-8b74-77a57ac41821",
   "metadata": {},
   "outputs": [
    {
     "name": "stdout",
     "output_type": "stream",
     "text": [
      "File[0] Succeed..!\n",
      "File[1] Succeed..!\n",
      "File[2] Succeed..!\n",
      "File Mergin Succeed..!\n"
     ]
    }
   ],
   "source": [
    "input_path = r'C:\\Users\\KB\\study\\python\\Quest\\Data' # csv파일들이 있는 디렉토리 위치\n",
    "output_file = r'C:\\Users\\KB\\study\\python\\Quest\\Data\\Total.csv' # 저장 파일명\n",
    "\n",
    "file_list = glob.glob(os.path.join(input_path, '*.csv')) # 모든 scv파일 선택\n",
    "\n",
    "with open(output_file, 'w') as write_file:\n",
    "\tfor i, file_name in enumerate (file_list):\n",
    "\t\twith open(file_name, 'r') as original_file: # 파일 읽어오기\n",
    "\t\t\tn = 0\n",
    "\t\t\twhile True:\n",
    "\t\t\t\tline = original_file.readline()\n",
    "\t\t\t\tif n == 0: # 모든 csv 파일 릴레이션 삭제\n",
    "\t\t\t\t# if i != 0 and n == 0: # 첫 번쨰 파일이 아니고, 첫 번쨰 라인인 경우 (릴레이션)\n",
    "\t\t\t\t\tn += 1\n",
    "\t\t\t\t\tcontinue\n",
    "\t\t\t\tif not line:\n",
    "\t\t\t\t\tprint(f'File[{i}] Succeed..!')\n",
    "\t\t\t\t\tbreak\n",
    "\t\t\t\twrite_file.write(line)\n",
    "\t\t\tn += 1\n",
    "\n",
    "print('File Mergin Succeed..!')"
   ]
  },
  {
   "cell_type": "code",
   "execution_count": 13,
   "id": "559b61e9-05cd-4d22-b7cb-92ea3b95d714",
   "metadata": {},
   "outputs": [],
   "source": [
    "from csv import writer"
   ]
  },
  {
   "cell_type": "code",
   "execution_count": 8,
   "id": "04680608-28ae-4900-9ec6-343c503c7463",
   "metadata": {},
   "outputs": [],
   "source": [
    "newrow = [\"구분\",  2004,  2005,  2006, 2007, 2008, 2009, 2010, 2011, 2012, 2013, 2014, 2015, 2016, 2017, 2018, 2019, 2020, 2021]"
   ]
  },
  {
   "cell_type": "code",
   "execution_count": 16,
   "id": "0b4585dd-3cc9-4184-b715-854ca40df2ce",
   "metadata": {},
   "outputs": [],
   "source": [
    "# appendNewRow(\"Data/Total.csv\", newrow)\n",
    "with open(\"Data/Total.csv\", 'a', newline='') as f_object:  \n",
    "    # Pass the CSV  file object to the writer() function\n",
    "    writer_object = writer(f_object)\n",
    "    # Result - a writer object\n",
    "    # Pass the data in the list as an argument into the writerow() function\n",
    "    writer_object.writerow(newrow)  \n",
    "    # Close the file object\n",
    "    f_object.close()"
   ]
  },
  {
   "cell_type": "code",
   "execution_count": null,
   "id": "e92c7c7b-7f09-4762-893d-8f86e280df4f",
   "metadata": {},
   "outputs": [],
   "source": []
  }
 ],
 "metadata": {
  "kernelspec": {
   "display_name": "Python 3 (ipykernel)",
   "language": "python",
   "name": "python3"
  },
  "language_info": {
   "codemirror_mode": {
    "name": "ipython",
    "version": 3
   },
   "file_extension": ".py",
   "mimetype": "text/x-python",
   "name": "python",
   "nbconvert_exporter": "python",
   "pygments_lexer": "ipython3",
   "version": "3.9.12"
  }
 },
 "nbformat": 4,
 "nbformat_minor": 5
}
