{
 "cells": [
  {
   "cell_type": "markdown",
   "id": "76db9af1-ba49-455f-9cd5-ae9fb1d384bf",
   "metadata": {},
   "source": [
    "### 예측"
   ]
  },
  {
   "cell_type": "code",
   "execution_count": 1,
   "id": "ac1da1d7-eb60-4119-a497-41f6101e4fa0",
   "metadata": {},
   "outputs": [],
   "source": [
    "import pandas as pd\n",
    "import seaborn as sns\n",
    "import matplotlib.pyplot as plt \n",
    "%matplotlib inline\n",
    "import numpy as np\n",
    "import tensorflow as tf \n",
    "from tensorflow import keras\n",
    "from tensorflow.keras import layers\n",
    "import matplotlib.font_manager as fm\n",
    "from wordcloud import WordCloud\n",
    "from collections import Counter\n",
    "from konlpy.tag import Okt\n",
    "from PIL import Image"
   ]
  },
  {
   "cell_type": "code",
   "execution_count": 2,
   "id": "b09154ca-a80a-4929-bb37-ed4c99338e87",
   "metadata": {},
   "outputs": [],
   "source": [
    "plt.rcParams['font.family']='HYGPRM'"
   ]
  },
  {
   "cell_type": "code",
   "execution_count": 3,
   "id": "b9cee73f-b5df-45c0-a059-7d50f27ed8a3",
   "metadata": {},
   "outputs": [],
   "source": [
    "df1=pd.read_csv(\"MetroData/2201.csv\")\n",
    "df2=pd.read_csv(\"MetroData/2202.csv\")\n",
    "df3=pd.read_csv(\"MetroData/2203.csv\")\n",
    "df4=pd.read_csv(\"MetroData/2204.csv\")\n",
    "df5=pd.read_csv(\"MetroData/2205.csv\")\n",
    "df6=pd.read_csv(\"MetroData/2206.csv\")\n",
    "df7=pd.read_csv(\"MetroData/2207.csv\")\n",
    "df8=pd.read_csv(\"MetroData/2208.csv\")\n",
    "df9=pd.read_csv(\"MetroData/2022.csv\")\n",
    "df10=pd.read_csv(\"MetroData/september.csv\")"
   ]
  },
  {
   "cell_type": "code",
   "execution_count": 4,
   "id": "91867016-d073-4bfb-a1d7-97f643557ceb",
   "metadata": {},
   "outputs": [],
   "source": [
    "pd.options.display.float_format = '{:.5f}'.format"
   ]
  },
  {
   "cell_type": "markdown",
   "id": "778dfcad-b326-4ec2-80b0-f9144b873fad",
   "metadata": {},
   "source": [
    "### 요일별 승차, 하차, 총 승객 합"
   ]
  },
  {
   "cell_type": "code",
   "execution_count": 5,
   "id": "61be8663-78fe-4ee0-847c-c74ecf8ed4b8",
   "metadata": {},
   "outputs": [
    {
     "data": {
      "text/html": [
       "<div>\n",
       "<style scoped>\n",
       "    .dataframe tbody tr th:only-of-type {\n",
       "        vertical-align: middle;\n",
       "    }\n",
       "\n",
       "    .dataframe tbody tr th {\n",
       "        vertical-align: top;\n",
       "    }\n",
       "\n",
       "    .dataframe thead th {\n",
       "        text-align: right;\n",
       "    }\n",
       "</style>\n",
       "<table border=\"1\" class=\"dataframe\">\n",
       "  <thead>\n",
       "    <tr style=\"text-align: right;\">\n",
       "      <th></th>\n",
       "      <th>승차승객</th>\n",
       "      <th>하차승객</th>\n",
       "      <th>총 승객</th>\n",
       "      <th>승차-하차</th>\n",
       "      <th>월</th>\n",
       "      <th>일</th>\n",
       "    </tr>\n",
       "    <tr>\n",
       "      <th>요일</th>\n",
       "      <th></th>\n",
       "      <th></th>\n",
       "      <th></th>\n",
       "      <th></th>\n",
       "      <th></th>\n",
       "      <th></th>\n",
       "    </tr>\n",
       "  </thead>\n",
       "  <tbody>\n",
       "    <tr>\n",
       "      <th>금</th>\n",
       "      <td>237128298</td>\n",
       "      <td>236361617</td>\n",
       "      <td>473489915</td>\n",
       "      <td>766681</td>\n",
       "      <td>93359</td>\n",
       "      <td>310896</td>\n",
       "    </tr>\n",
       "    <tr>\n",
       "      <th>목</th>\n",
       "      <td>226354663</td>\n",
       "      <td>225657102</td>\n",
       "      <td>452011765</td>\n",
       "      <td>697561</td>\n",
       "      <td>92107</td>\n",
       "      <td>327020</td>\n",
       "    </tr>\n",
       "    <tr>\n",
       "      <th>수</th>\n",
       "      <td>227813968</td>\n",
       "      <td>227109211</td>\n",
       "      <td>454923179</td>\n",
       "      <td>704757</td>\n",
       "      <td>96923</td>\n",
       "      <td>325423</td>\n",
       "    </tr>\n",
       "    <tr>\n",
       "      <th>월</th>\n",
       "      <td>219967470</td>\n",
       "      <td>219278743</td>\n",
       "      <td>439246213</td>\n",
       "      <td>688727</td>\n",
       "      <td>95126</td>\n",
       "      <td>337360</td>\n",
       "    </tr>\n",
       "    <tr>\n",
       "      <th>일</th>\n",
       "      <td>124605057</td>\n",
       "      <td>123887691</td>\n",
       "      <td>248492748</td>\n",
       "      <td>717366</td>\n",
       "      <td>94361</td>\n",
       "      <td>334457</td>\n",
       "    </tr>\n",
       "    <tr>\n",
       "      <th>토</th>\n",
       "      <td>168638012</td>\n",
       "      <td>167836285</td>\n",
       "      <td>336474297</td>\n",
       "      <td>801727</td>\n",
       "      <td>93911</td>\n",
       "      <td>331792</td>\n",
       "    </tr>\n",
       "    <tr>\n",
       "      <th>화</th>\n",
       "      <td>228131044</td>\n",
       "      <td>227422176</td>\n",
       "      <td>455553220</td>\n",
       "      <td>708868</td>\n",
       "      <td>96287</td>\n",
       "      <td>322957</td>\n",
       "    </tr>\n",
       "  </tbody>\n",
       "</table>\n",
       "</div>"
      ],
      "text/plain": [
       "         승차승객       하차승객       총 승객   승차-하차      월       일\n",
       "요일                                                        \n",
       "금   237128298  236361617  473489915  766681  93359  310896\n",
       "목   226354663  225657102  452011765  697561  92107  327020\n",
       "수   227813968  227109211  454923179  704757  96923  325423\n",
       "월   219967470  219278743  439246213  688727  95126  337360\n",
       "일   124605057  123887691  248492748  717366  94361  334457\n",
       "토   168638012  167836285  336474297  801727  93911  331792\n",
       "화   228131044  227422176  455553220  708868  96287  322957"
      ]
     },
     "execution_count": 5,
     "metadata": {},
     "output_type": "execute_result"
    }
   ],
   "source": [
    "week_sum=df9.groupby([\"요일\"]).sum()\n",
    "week_sum"
   ]
  },
  {
   "cell_type": "markdown",
   "id": "1f7950df-3d41-468d-8617-21fbb24580cc",
   "metadata": {},
   "source": [
    "### 월별 승차, 하차, 총 승객 합"
   ]
  },
  {
   "cell_type": "code",
   "execution_count": 6,
   "id": "71d0eeb4-2228-468d-8332-40905033d6ef",
   "metadata": {},
   "outputs": [
    {
     "data": {
      "text/html": [
       "<div>\n",
       "<style scoped>\n",
       "    .dataframe tbody tr th:only-of-type {\n",
       "        vertical-align: middle;\n",
       "    }\n",
       "\n",
       "    .dataframe tbody tr th {\n",
       "        vertical-align: top;\n",
       "    }\n",
       "\n",
       "    .dataframe thead th {\n",
       "        text-align: right;\n",
       "    }\n",
       "</style>\n",
       "<table border=\"1\" class=\"dataframe\">\n",
       "  <thead>\n",
       "    <tr style=\"text-align: right;\">\n",
       "      <th></th>\n",
       "      <th>승차승객</th>\n",
       "      <th>하차승객</th>\n",
       "      <th>총 승객</th>\n",
       "      <th>승차-하차</th>\n",
       "      <th>일</th>\n",
       "    </tr>\n",
       "    <tr>\n",
       "      <th>월</th>\n",
       "      <th></th>\n",
       "      <th></th>\n",
       "      <th></th>\n",
       "      <th></th>\n",
       "      <th></th>\n",
       "    </tr>\n",
       "  </thead>\n",
       "  <tbody>\n",
       "    <tr>\n",
       "      <th>1</th>\n",
       "      <td>167802022</td>\n",
       "      <td>167210066</td>\n",
       "      <td>335012088</td>\n",
       "      <td>591956</td>\n",
       "      <td>296171</td>\n",
       "    </tr>\n",
       "    <tr>\n",
       "      <th>2</th>\n",
       "      <td>142341031</td>\n",
       "      <td>141871343</td>\n",
       "      <td>284212374</td>\n",
       "      <td>469688</td>\n",
       "      <td>242392</td>\n",
       "    </tr>\n",
       "    <tr>\n",
       "      <th>3</th>\n",
       "      <td>163467773</td>\n",
       "      <td>162929899</td>\n",
       "      <td>326397672</td>\n",
       "      <td>537874</td>\n",
       "      <td>295274</td>\n",
       "    </tr>\n",
       "    <tr>\n",
       "      <th>4</th>\n",
       "      <td>184200435</td>\n",
       "      <td>183519579</td>\n",
       "      <td>367720014</td>\n",
       "      <td>680856</td>\n",
       "      <td>276574</td>\n",
       "    </tr>\n",
       "    <tr>\n",
       "      <th>5</th>\n",
       "      <td>203411199</td>\n",
       "      <td>202737710</td>\n",
       "      <td>406148909</td>\n",
       "      <td>673489</td>\n",
       "      <td>296541</td>\n",
       "    </tr>\n",
       "    <tr>\n",
       "      <th>6</th>\n",
       "      <td>191408080</td>\n",
       "      <td>190698164</td>\n",
       "      <td>382106244</td>\n",
       "      <td>709916</td>\n",
       "      <td>281742</td>\n",
       "    </tr>\n",
       "    <tr>\n",
       "      <th>7</th>\n",
       "      <td>193573962</td>\n",
       "      <td>192844478</td>\n",
       "      <td>386418440</td>\n",
       "      <td>729484</td>\n",
       "      <td>300544</td>\n",
       "    </tr>\n",
       "    <tr>\n",
       "      <th>8</th>\n",
       "      <td>186434010</td>\n",
       "      <td>185741586</td>\n",
       "      <td>372175596</td>\n",
       "      <td>692424</td>\n",
       "      <td>300667</td>\n",
       "    </tr>\n",
       "  </tbody>\n",
       "</table>\n",
       "</div>"
      ],
      "text/plain": [
       "        승차승객       하차승객       총 승객   승차-하차       일\n",
       "월                                                 \n",
       "1  167802022  167210066  335012088  591956  296171\n",
       "2  142341031  141871343  284212374  469688  242392\n",
       "3  163467773  162929899  326397672  537874  295274\n",
       "4  184200435  183519579  367720014  680856  276574\n",
       "5  203411199  202737710  406148909  673489  296541\n",
       "6  191408080  190698164  382106244  709916  281742\n",
       "7  193573962  192844478  386418440  729484  300544\n",
       "8  186434010  185741586  372175596  692424  300667"
      ]
     },
     "execution_count": 6,
     "metadata": {},
     "output_type": "execute_result"
    }
   ],
   "source": [
    "month_sum=df9.groupby([\"월\"]).sum()\n",
    "month_sum"
   ]
  },
  {
   "cell_type": "markdown",
   "id": "2d7d9a57-4bfb-492e-9e2b-af9ab8083a01",
   "metadata": {},
   "source": [
    "### 자료 수정\n",
    " - 요일, 노선을 int형으로 변환\n",
    " - 날짜, 역 삭제"
   ]
  },
  {
   "cell_type": "code",
   "execution_count": 7,
   "id": "46d44954-14c1-4e11-9a0f-e70df1a2ce2a",
   "metadata": {},
   "outputs": [],
   "source": [
    "week_mapping={\"월\":0, \"화\":1, \"수\":2, \"목\":3, \"금\":4, \"토\":5, \"일\":6}"
   ]
  },
  {
   "cell_type": "code",
   "execution_count": 8,
   "id": "c63dd11c-931b-401d-8e91-54b44377e9a0",
   "metadata": {},
   "outputs": [],
   "source": [
    "line_mapping={\"1호선\":0, \"2호선\":1, \"3호선\":2, \"4호선\":3, \"5호선\":4, \"6호선\":5, \"7호선\":6, \"8호선\":7, \"9호선\":8, \"9호선2~3단계\":9, \"경강선\":10, \"경부선\":11, \"경원선\":12, \n",
    "              \"경의선\":13, \"경인선\":14, \"경춘선\":15, \"공항철도 1호선\":16, \"과천선\":17, \"분당선\":18, \"수인선\":19, \"신림선\":20, \"안산선\":21, \"우이신설선\":22,\n",
    "              \"일산선\":23, \"장항선\":24, \"중앙선\":25}"
   ]
  },
  {
   "cell_type": "code",
   "execution_count": 9,
   "id": "58541420-3d09-4c8e-9d40-107cf8c135c2",
   "metadata": {},
   "outputs": [],
   "source": [
    "df9[\"요일\"]=df9[\"요일\"].map(week_mapping)"
   ]
  },
  {
   "cell_type": "code",
   "execution_count": 10,
   "id": "d7f96e15-dea5-48aa-b8a3-8b0bba466f2c",
   "metadata": {},
   "outputs": [],
   "source": [
    "df9[\"노선\"]=df9[\"노선\"].map(line_mapping)"
   ]
  },
  {
   "cell_type": "code",
   "execution_count": 11,
   "id": "00a3a98a-b511-4ddc-90bd-633c70ff2ca3",
   "metadata": {},
   "outputs": [],
   "source": [
    "df9=df9.drop([\"날짜\", \"역\"], axis=1)"
   ]
  },
  {
   "cell_type": "code",
   "execution_count": 12,
   "id": "97a5b4cf-77cf-4379-b14b-505bd062f1b6",
   "metadata": {},
   "outputs": [
    {
     "name": "stdout",
     "output_type": "stream",
     "text": [
      "<class 'pandas.core.frame.DataFrame'>\n",
      "RangeIndex: 145794 entries, 0 to 145793\n",
      "Data columns (total 8 columns):\n",
      " #   Column  Non-Null Count   Dtype\n",
      "---  ------  --------------   -----\n",
      " 0   노선      145794 non-null  int64\n",
      " 1   승차승객    145794 non-null  int64\n",
      " 2   하차승객    145794 non-null  int64\n",
      " 3   총 승객    145794 non-null  int64\n",
      " 4   승차-하차   145794 non-null  int64\n",
      " 5   월       145794 non-null  int64\n",
      " 6   일       145794 non-null  int64\n",
      " 7   요일      145794 non-null  int64\n",
      "dtypes: int64(8)\n",
      "memory usage: 8.9 MB\n"
     ]
    }
   ],
   "source": [
    "df9.info()"
   ]
  },
  {
   "cell_type": "code",
   "execution_count": 13,
   "id": "e1dbfc2f-3414-44fc-b8df-aa9ea3ef5b3f",
   "metadata": {},
   "outputs": [
    {
     "data": {
      "text/html": [
       "<div>\n",
       "<style scoped>\n",
       "    .dataframe tbody tr th:only-of-type {\n",
       "        vertical-align: middle;\n",
       "    }\n",
       "\n",
       "    .dataframe tbody tr th {\n",
       "        vertical-align: top;\n",
       "    }\n",
       "\n",
       "    .dataframe thead th {\n",
       "        text-align: right;\n",
       "    }\n",
       "</style>\n",
       "<table border=\"1\" class=\"dataframe\">\n",
       "  <thead>\n",
       "    <tr style=\"text-align: right;\">\n",
       "      <th></th>\n",
       "      <th>노선</th>\n",
       "      <th>승차승객</th>\n",
       "      <th>하차승객</th>\n",
       "      <th>총 승객</th>\n",
       "      <th>승차-하차</th>\n",
       "      <th>월</th>\n",
       "      <th>일</th>\n",
       "      <th>요일</th>\n",
       "    </tr>\n",
       "  </thead>\n",
       "  <tbody>\n",
       "    <tr>\n",
       "      <th>0</th>\n",
       "      <td>2</td>\n",
       "      <td>7370</td>\n",
       "      <td>7076</td>\n",
       "      <td>14446</td>\n",
       "      <td>294</td>\n",
       "      <td>1</td>\n",
       "      <td>1</td>\n",
       "      <td>5</td>\n",
       "    </tr>\n",
       "    <tr>\n",
       "      <th>1</th>\n",
       "      <td>2</td>\n",
       "      <td>461</td>\n",
       "      <td>473</td>\n",
       "      <td>934</td>\n",
       "      <td>-12</td>\n",
       "      <td>1</td>\n",
       "      <td>1</td>\n",
       "      <td>5</td>\n",
       "    </tr>\n",
       "    <tr>\n",
       "      <th>2</th>\n",
       "      <td>2</td>\n",
       "      <td>3224</td>\n",
       "      <td>2903</td>\n",
       "      <td>6127</td>\n",
       "      <td>321</td>\n",
       "      <td>1</td>\n",
       "      <td>1</td>\n",
       "      <td>5</td>\n",
       "    </tr>\n",
       "    <tr>\n",
       "      <th>3</th>\n",
       "      <td>2</td>\n",
       "      <td>3321</td>\n",
       "      <td>2803</td>\n",
       "      <td>6124</td>\n",
       "      <td>518</td>\n",
       "      <td>1</td>\n",
       "      <td>1</td>\n",
       "      <td>5</td>\n",
       "    </tr>\n",
       "    <tr>\n",
       "      <th>4</th>\n",
       "      <td>12</td>\n",
       "      <td>1</td>\n",
       "      <td>0</td>\n",
       "      <td>1</td>\n",
       "      <td>1</td>\n",
       "      <td>1</td>\n",
       "      <td>1</td>\n",
       "      <td>5</td>\n",
       "    </tr>\n",
       "    <tr>\n",
       "      <th>...</th>\n",
       "      <td>...</td>\n",
       "      <td>...</td>\n",
       "      <td>...</td>\n",
       "      <td>...</td>\n",
       "      <td>...</td>\n",
       "      <td>...</td>\n",
       "      <td>...</td>\n",
       "      <td>...</td>\n",
       "    </tr>\n",
       "    <tr>\n",
       "      <th>145789</th>\n",
       "      <td>25</td>\n",
       "      <td>901</td>\n",
       "      <td>848</td>\n",
       "      <td>1749</td>\n",
       "      <td>53</td>\n",
       "      <td>8</td>\n",
       "      <td>31</td>\n",
       "      <td>2</td>\n",
       "    </tr>\n",
       "    <tr>\n",
       "      <th>145790</th>\n",
       "      <td>25</td>\n",
       "      <td>639</td>\n",
       "      <td>632</td>\n",
       "      <td>1271</td>\n",
       "      <td>7</td>\n",
       "      <td>8</td>\n",
       "      <td>31</td>\n",
       "      <td>2</td>\n",
       "    </tr>\n",
       "    <tr>\n",
       "      <th>145791</th>\n",
       "      <td>25</td>\n",
       "      <td>321</td>\n",
       "      <td>317</td>\n",
       "      <td>638</td>\n",
       "      <td>4</td>\n",
       "      <td>8</td>\n",
       "      <td>31</td>\n",
       "      <td>2</td>\n",
       "    </tr>\n",
       "    <tr>\n",
       "      <th>145792</th>\n",
       "      <td>25</td>\n",
       "      <td>2850</td>\n",
       "      <td>2848</td>\n",
       "      <td>5698</td>\n",
       "      <td>2</td>\n",
       "      <td>8</td>\n",
       "      <td>31</td>\n",
       "      <td>2</td>\n",
       "    </tr>\n",
       "    <tr>\n",
       "      <th>145793</th>\n",
       "      <td>25</td>\n",
       "      <td>1754</td>\n",
       "      <td>1726</td>\n",
       "      <td>3480</td>\n",
       "      <td>28</td>\n",
       "      <td>8</td>\n",
       "      <td>31</td>\n",
       "      <td>2</td>\n",
       "    </tr>\n",
       "  </tbody>\n",
       "</table>\n",
       "<p>145794 rows × 8 columns</p>\n",
       "</div>"
      ],
      "text/plain": [
       "        노선  승차승객  하차승객   총 승객  승차-하차  월   일  요일\n",
       "0        2  7370  7076  14446    294  1   1   5\n",
       "1        2   461   473    934    -12  1   1   5\n",
       "2        2  3224  2903   6127    321  1   1   5\n",
       "3        2  3321  2803   6124    518  1   1   5\n",
       "4       12     1     0      1      1  1   1   5\n",
       "...     ..   ...   ...    ...    ... ..  ..  ..\n",
       "145789  25   901   848   1749     53  8  31   2\n",
       "145790  25   639   632   1271      7  8  31   2\n",
       "145791  25   321   317    638      4  8  31   2\n",
       "145792  25  2850  2848   5698      2  8  31   2\n",
       "145793  25  1754  1726   3480     28  8  31   2\n",
       "\n",
       "[145794 rows x 8 columns]"
      ]
     },
     "execution_count": 13,
     "metadata": {},
     "output_type": "execute_result"
    }
   ],
   "source": [
    "df9"
   ]
  },
  {
   "cell_type": "code",
   "execution_count": 14,
   "id": "54170463-84fb-4292-8258-72e775032081",
   "metadata": {},
   "outputs": [],
   "source": [
    "month_df=df9\n",
    "predict_df=df10"
   ]
  },
  {
   "cell_type": "code",
   "execution_count": 15,
   "id": "58a76ab3-31d7-456f-b775-55f7ef13fcb6",
   "metadata": {},
   "outputs": [
    {
     "data": {
      "text/html": [
       "<div>\n",
       "<style scoped>\n",
       "    .dataframe tbody tr th:only-of-type {\n",
       "        vertical-align: middle;\n",
       "    }\n",
       "\n",
       "    .dataframe tbody tr th {\n",
       "        vertical-align: top;\n",
       "    }\n",
       "\n",
       "    .dataframe thead th {\n",
       "        text-align: right;\n",
       "    }\n",
       "</style>\n",
       "<table border=\"1\" class=\"dataframe\">\n",
       "  <thead>\n",
       "    <tr style=\"text-align: right;\">\n",
       "      <th></th>\n",
       "      <th>노선</th>\n",
       "      <th>승차승객</th>\n",
       "      <th>하차승객</th>\n",
       "      <th>총 승객</th>\n",
       "      <th>승차-하차</th>\n",
       "      <th>월</th>\n",
       "      <th>일</th>\n",
       "      <th>요일</th>\n",
       "    </tr>\n",
       "  </thead>\n",
       "  <tbody>\n",
       "    <tr>\n",
       "      <th>0</th>\n",
       "      <td>22</td>\n",
       "      <td>2283</td>\n",
       "      <td>1940</td>\n",
       "      <td>4223</td>\n",
       "      <td>343</td>\n",
       "      <td>9</td>\n",
       "      <td>25</td>\n",
       "      <td>6</td>\n",
       "    </tr>\n",
       "    <tr>\n",
       "      <th>1</th>\n",
       "      <td>12</td>\n",
       "      <td>4697</td>\n",
       "      <td>4287</td>\n",
       "      <td>8984</td>\n",
       "      <td>410</td>\n",
       "      <td>9</td>\n",
       "      <td>25</td>\n",
       "      <td>6</td>\n",
       "    </tr>\n",
       "    <tr>\n",
       "      <th>2</th>\n",
       "      <td>7</td>\n",
       "      <td>3454</td>\n",
       "      <td>4242</td>\n",
       "      <td>7696</td>\n",
       "      <td>-788</td>\n",
       "      <td>9</td>\n",
       "      <td>25</td>\n",
       "      <td>6</td>\n",
       "    </tr>\n",
       "    <tr>\n",
       "      <th>3</th>\n",
       "      <td>2</td>\n",
       "      <td>4272</td>\n",
       "      <td>4510</td>\n",
       "      <td>8782</td>\n",
       "      <td>-238</td>\n",
       "      <td>9</td>\n",
       "      <td>25</td>\n",
       "      <td>6</td>\n",
       "    </tr>\n",
       "    <tr>\n",
       "      <th>4</th>\n",
       "      <td>11</td>\n",
       "      <td>5741</td>\n",
       "      <td>7522</td>\n",
       "      <td>13263</td>\n",
       "      <td>-1781</td>\n",
       "      <td>9</td>\n",
       "      <td>25</td>\n",
       "      <td>6</td>\n",
       "    </tr>\n",
       "    <tr>\n",
       "      <th>...</th>\n",
       "      <td>...</td>\n",
       "      <td>...</td>\n",
       "      <td>...</td>\n",
       "      <td>...</td>\n",
       "      <td>...</td>\n",
       "      <td>...</td>\n",
       "      <td>...</td>\n",
       "      <td>...</td>\n",
       "    </tr>\n",
       "    <tr>\n",
       "      <th>15141</th>\n",
       "      <td>12</td>\n",
       "      <td>14032</td>\n",
       "      <td>13972</td>\n",
       "      <td>28004</td>\n",
       "      <td>60</td>\n",
       "      <td>9</td>\n",
       "      <td>1</td>\n",
       "      <td>3</td>\n",
       "    </tr>\n",
       "    <tr>\n",
       "      <th>15142</th>\n",
       "      <td>3</td>\n",
       "      <td>27034</td>\n",
       "      <td>28278</td>\n",
       "      <td>55312</td>\n",
       "      <td>-1244</td>\n",
       "      <td>9</td>\n",
       "      <td>1</td>\n",
       "      <td>3</td>\n",
       "    </tr>\n",
       "    <tr>\n",
       "      <th>15143</th>\n",
       "      <td>13</td>\n",
       "      <td>3641</td>\n",
       "      <td>3776</td>\n",
       "      <td>7417</td>\n",
       "      <td>-135</td>\n",
       "      <td>9</td>\n",
       "      <td>1</td>\n",
       "      <td>3</td>\n",
       "    </tr>\n",
       "    <tr>\n",
       "      <th>15144</th>\n",
       "      <td>5</td>\n",
       "      <td>8109</td>\n",
       "      <td>7775</td>\n",
       "      <td>15884</td>\n",
       "      <td>334</td>\n",
       "      <td>9</td>\n",
       "      <td>1</td>\n",
       "      <td>3</td>\n",
       "    </tr>\n",
       "    <tr>\n",
       "      <th>15145</th>\n",
       "      <td>8</td>\n",
       "      <td>11397</td>\n",
       "      <td>11501</td>\n",
       "      <td>22898</td>\n",
       "      <td>-104</td>\n",
       "      <td>9</td>\n",
       "      <td>1</td>\n",
       "      <td>3</td>\n",
       "    </tr>\n",
       "  </tbody>\n",
       "</table>\n",
       "<p>15146 rows × 8 columns</p>\n",
       "</div>"
      ],
      "text/plain": [
       "       노선   승차승객   하차승객   총 승객  승차-하차  월   일  요일\n",
       "0      22   2283   1940   4223    343  9  25   6\n",
       "1      12   4697   4287   8984    410  9  25   6\n",
       "2       7   3454   4242   7696   -788  9  25   6\n",
       "3       2   4272   4510   8782   -238  9  25   6\n",
       "4      11   5741   7522  13263  -1781  9  25   6\n",
       "...    ..    ...    ...    ...    ... ..  ..  ..\n",
       "15141  12  14032  13972  28004     60  9   1   3\n",
       "15142   3  27034  28278  55312  -1244  9   1   3\n",
       "15143  13   3641   3776   7417   -135  9   1   3\n",
       "15144   5   8109   7775  15884    334  9   1   3\n",
       "15145   8  11397  11501  22898   -104  9   1   3\n",
       "\n",
       "[15146 rows x 8 columns]"
      ]
     },
     "execution_count": 15,
     "metadata": {},
     "output_type": "execute_result"
    }
   ],
   "source": [
    "predict_df"
   ]
  },
  {
   "cell_type": "code",
   "execution_count": 16,
   "id": "e8d9b5dc-3c0f-4ac7-9e6f-834ade87521b",
   "metadata": {},
   "outputs": [
    {
     "data": {
      "text/html": [
       "<div>\n",
       "<style scoped>\n",
       "    .dataframe tbody tr th:only-of-type {\n",
       "        vertical-align: middle;\n",
       "    }\n",
       "\n",
       "    .dataframe tbody tr th {\n",
       "        vertical-align: top;\n",
       "    }\n",
       "\n",
       "    .dataframe thead th {\n",
       "        text-align: right;\n",
       "    }\n",
       "</style>\n",
       "<table border=\"1\" class=\"dataframe\">\n",
       "  <thead>\n",
       "    <tr style=\"text-align: right;\">\n",
       "      <th></th>\n",
       "      <th>노선</th>\n",
       "      <th>승차승객</th>\n",
       "      <th>하차승객</th>\n",
       "      <th>총 승객</th>\n",
       "      <th>승차-하차</th>\n",
       "      <th>월</th>\n",
       "      <th>일</th>\n",
       "      <th>요일</th>\n",
       "    </tr>\n",
       "  </thead>\n",
       "  <tbody>\n",
       "    <tr>\n",
       "      <th>count</th>\n",
       "      <td>145794.00000</td>\n",
       "      <td>145794.00000</td>\n",
       "      <td>145794.00000</td>\n",
       "      <td>145794.00000</td>\n",
       "      <td>145794.00000</td>\n",
       "      <td>145794.00000</td>\n",
       "      <td>145794.00000</td>\n",
       "      <td>145794.00000</td>\n",
       "    </tr>\n",
       "    <tr>\n",
       "      <th>mean</th>\n",
       "      <td>10.00296</td>\n",
       "      <td>9826.45728</td>\n",
       "      <td>9791.57458</td>\n",
       "      <td>19618.03186</td>\n",
       "      <td>34.88269</td>\n",
       "      <td>4.54116</td>\n",
       "      <td>15.70644</td>\n",
       "      <td>2.99512</td>\n",
       "    </tr>\n",
       "    <tr>\n",
       "      <th>std</th>\n",
       "      <td>7.05350</td>\n",
       "      <td>9877.38427</td>\n",
       "      <td>10016.66844</td>\n",
       "      <td>19864.62382</td>\n",
       "      <td>1090.62087</td>\n",
       "      <td>2.29835</td>\n",
       "      <td>8.79173</td>\n",
       "      <td>2.00688</td>\n",
       "    </tr>\n",
       "    <tr>\n",
       "      <th>min</th>\n",
       "      <td>0.00000</td>\n",
       "      <td>1.00000</td>\n",
       "      <td>0.00000</td>\n",
       "      <td>1.00000</td>\n",
       "      <td>-20299.00000</td>\n",
       "      <td>1.00000</td>\n",
       "      <td>1.00000</td>\n",
       "      <td>0.00000</td>\n",
       "    </tr>\n",
       "    <tr>\n",
       "      <th>25%</th>\n",
       "      <td>4.00000</td>\n",
       "      <td>3333.00000</td>\n",
       "      <td>3223.00000</td>\n",
       "      <td>6582.00000</td>\n",
       "      <td>-206.00000</td>\n",
       "      <td>3.00000</td>\n",
       "      <td>8.00000</td>\n",
       "      <td>1.00000</td>\n",
       "    </tr>\n",
       "    <tr>\n",
       "      <th>50%</th>\n",
       "      <td>9.00000</td>\n",
       "      <td>7000.50000</td>\n",
       "      <td>6821.50000</td>\n",
       "      <td>13852.00000</td>\n",
       "      <td>63.00000</td>\n",
       "      <td>5.00000</td>\n",
       "      <td>16.00000</td>\n",
       "      <td>3.00000</td>\n",
       "    </tr>\n",
       "    <tr>\n",
       "      <th>75%</th>\n",
       "      <td>15.00000</td>\n",
       "      <td>12953.00000</td>\n",
       "      <td>12796.00000</td>\n",
       "      <td>25805.75000</td>\n",
       "      <td>369.00000</td>\n",
       "      <td>7.00000</td>\n",
       "      <td>23.00000</td>\n",
       "      <td>5.00000</td>\n",
       "    </tr>\n",
       "    <tr>\n",
       "      <th>max</th>\n",
       "      <td>25.00000</td>\n",
       "      <td>122543.00000</td>\n",
       "      <td>118237.00000</td>\n",
       "      <td>240780.00000</td>\n",
       "      <td>28118.00000</td>\n",
       "      <td>8.00000</td>\n",
       "      <td>31.00000</td>\n",
       "      <td>6.00000</td>\n",
       "    </tr>\n",
       "  </tbody>\n",
       "</table>\n",
       "</div>"
      ],
      "text/plain": [
       "                노선         승차승객         하차승객         총 승객        승차-하차  \\\n",
       "count 145794.00000 145794.00000 145794.00000 145794.00000 145794.00000   \n",
       "mean      10.00296   9826.45728   9791.57458  19618.03186     34.88269   \n",
       "std        7.05350   9877.38427  10016.66844  19864.62382   1090.62087   \n",
       "min        0.00000      1.00000      0.00000      1.00000 -20299.00000   \n",
       "25%        4.00000   3333.00000   3223.00000   6582.00000   -206.00000   \n",
       "50%        9.00000   7000.50000   6821.50000  13852.00000     63.00000   \n",
       "75%       15.00000  12953.00000  12796.00000  25805.75000    369.00000   \n",
       "max       25.00000 122543.00000 118237.00000 240780.00000  28118.00000   \n",
       "\n",
       "                 월            일           요일  \n",
       "count 145794.00000 145794.00000 145794.00000  \n",
       "mean       4.54116     15.70644      2.99512  \n",
       "std        2.29835      8.79173      2.00688  \n",
       "min        1.00000      1.00000      0.00000  \n",
       "25%        3.00000      8.00000      1.00000  \n",
       "50%        5.00000     16.00000      3.00000  \n",
       "75%        7.00000     23.00000      5.00000  \n",
       "max        8.00000     31.00000      6.00000  "
      ]
     },
     "execution_count": 16,
     "metadata": {},
     "output_type": "execute_result"
    }
   ],
   "source": [
    "month_stats=month_df.describe()\n",
    "month_stats"
   ]
  },
  {
   "cell_type": "code",
   "execution_count": 17,
   "id": "720e3f7b-c4c1-4a2a-8d94-b03dd0183170",
   "metadata": {},
   "outputs": [
    {
     "data": {
      "text/html": [
       "<div>\n",
       "<style scoped>\n",
       "    .dataframe tbody tr th:only-of-type {\n",
       "        vertical-align: middle;\n",
       "    }\n",
       "\n",
       "    .dataframe tbody tr th {\n",
       "        vertical-align: top;\n",
       "    }\n",
       "\n",
       "    .dataframe thead th {\n",
       "        text-align: right;\n",
       "    }\n",
       "</style>\n",
       "<table border=\"1\" class=\"dataframe\">\n",
       "  <thead>\n",
       "    <tr style=\"text-align: right;\">\n",
       "      <th></th>\n",
       "      <th>노선</th>\n",
       "      <th>승차승객</th>\n",
       "      <th>하차승객</th>\n",
       "      <th>승차-하차</th>\n",
       "      <th>월</th>\n",
       "      <th>일</th>\n",
       "      <th>요일</th>\n",
       "    </tr>\n",
       "  </thead>\n",
       "  <tbody>\n",
       "    <tr>\n",
       "      <th>count</th>\n",
       "      <td>145794.00000</td>\n",
       "      <td>145794.00000</td>\n",
       "      <td>145794.00000</td>\n",
       "      <td>145794.00000</td>\n",
       "      <td>145794.00000</td>\n",
       "      <td>145794.00000</td>\n",
       "      <td>145794.00000</td>\n",
       "    </tr>\n",
       "    <tr>\n",
       "      <th>mean</th>\n",
       "      <td>10.00296</td>\n",
       "      <td>9826.45728</td>\n",
       "      <td>9791.57458</td>\n",
       "      <td>34.88269</td>\n",
       "      <td>4.54116</td>\n",
       "      <td>15.70644</td>\n",
       "      <td>2.99512</td>\n",
       "    </tr>\n",
       "    <tr>\n",
       "      <th>std</th>\n",
       "      <td>7.05350</td>\n",
       "      <td>9877.38427</td>\n",
       "      <td>10016.66844</td>\n",
       "      <td>1090.62087</td>\n",
       "      <td>2.29835</td>\n",
       "      <td>8.79173</td>\n",
       "      <td>2.00688</td>\n",
       "    </tr>\n",
       "    <tr>\n",
       "      <th>min</th>\n",
       "      <td>0.00000</td>\n",
       "      <td>1.00000</td>\n",
       "      <td>0.00000</td>\n",
       "      <td>-20299.00000</td>\n",
       "      <td>1.00000</td>\n",
       "      <td>1.00000</td>\n",
       "      <td>0.00000</td>\n",
       "    </tr>\n",
       "    <tr>\n",
       "      <th>25%</th>\n",
       "      <td>4.00000</td>\n",
       "      <td>3333.00000</td>\n",
       "      <td>3223.00000</td>\n",
       "      <td>-206.00000</td>\n",
       "      <td>3.00000</td>\n",
       "      <td>8.00000</td>\n",
       "      <td>1.00000</td>\n",
       "    </tr>\n",
       "    <tr>\n",
       "      <th>50%</th>\n",
       "      <td>9.00000</td>\n",
       "      <td>7000.50000</td>\n",
       "      <td>6821.50000</td>\n",
       "      <td>63.00000</td>\n",
       "      <td>5.00000</td>\n",
       "      <td>16.00000</td>\n",
       "      <td>3.00000</td>\n",
       "    </tr>\n",
       "    <tr>\n",
       "      <th>75%</th>\n",
       "      <td>15.00000</td>\n",
       "      <td>12953.00000</td>\n",
       "      <td>12796.00000</td>\n",
       "      <td>369.00000</td>\n",
       "      <td>7.00000</td>\n",
       "      <td>23.00000</td>\n",
       "      <td>5.00000</td>\n",
       "    </tr>\n",
       "    <tr>\n",
       "      <th>max</th>\n",
       "      <td>25.00000</td>\n",
       "      <td>122543.00000</td>\n",
       "      <td>118237.00000</td>\n",
       "      <td>28118.00000</td>\n",
       "      <td>8.00000</td>\n",
       "      <td>31.00000</td>\n",
       "      <td>6.00000</td>\n",
       "    </tr>\n",
       "  </tbody>\n",
       "</table>\n",
       "</div>"
      ],
      "text/plain": [
       "                노선         승차승객         하차승객        승차-하차            월  \\\n",
       "count 145794.00000 145794.00000 145794.00000 145794.00000 145794.00000   \n",
       "mean      10.00296   9826.45728   9791.57458     34.88269      4.54116   \n",
       "std        7.05350   9877.38427  10016.66844   1090.62087      2.29835   \n",
       "min        0.00000      1.00000      0.00000 -20299.00000      1.00000   \n",
       "25%        4.00000   3333.00000   3223.00000   -206.00000      3.00000   \n",
       "50%        9.00000   7000.50000   6821.50000     63.00000      5.00000   \n",
       "75%       15.00000  12953.00000  12796.00000    369.00000      7.00000   \n",
       "max       25.00000 122543.00000 118237.00000  28118.00000      8.00000   \n",
       "\n",
       "                 일           요일  \n",
       "count 145794.00000 145794.00000  \n",
       "mean      15.70644      2.99512  \n",
       "std        8.79173      2.00688  \n",
       "min        1.00000      0.00000  \n",
       "25%        8.00000      1.00000  \n",
       "50%       16.00000      3.00000  \n",
       "75%       23.00000      5.00000  \n",
       "max       31.00000      6.00000  "
      ]
     },
     "execution_count": 17,
     "metadata": {},
     "output_type": "execute_result"
    }
   ],
   "source": [
    "month_stats.pop(\"총 승객\")\n",
    "month_stats"
   ]
  },
  {
   "cell_type": "code",
   "execution_count": 18,
   "id": "19617a76-77d6-4213-bd88-3c6cae83d7a2",
   "metadata": {},
   "outputs": [
    {
     "data": {
      "text/html": [
       "<div>\n",
       "<style scoped>\n",
       "    .dataframe tbody tr th:only-of-type {\n",
       "        vertical-align: middle;\n",
       "    }\n",
       "\n",
       "    .dataframe tbody tr th {\n",
       "        vertical-align: top;\n",
       "    }\n",
       "\n",
       "    .dataframe thead th {\n",
       "        text-align: right;\n",
       "    }\n",
       "</style>\n",
       "<table border=\"1\" class=\"dataframe\">\n",
       "  <thead>\n",
       "    <tr style=\"text-align: right;\">\n",
       "      <th></th>\n",
       "      <th>count</th>\n",
       "      <th>mean</th>\n",
       "      <th>std</th>\n",
       "      <th>min</th>\n",
       "      <th>25%</th>\n",
       "      <th>50%</th>\n",
       "      <th>75%</th>\n",
       "      <th>max</th>\n",
       "    </tr>\n",
       "  </thead>\n",
       "  <tbody>\n",
       "    <tr>\n",
       "      <th>노선</th>\n",
       "      <td>145794.00000</td>\n",
       "      <td>10.00296</td>\n",
       "      <td>7.05350</td>\n",
       "      <td>0.00000</td>\n",
       "      <td>4.00000</td>\n",
       "      <td>9.00000</td>\n",
       "      <td>15.00000</td>\n",
       "      <td>25.00000</td>\n",
       "    </tr>\n",
       "    <tr>\n",
       "      <th>승차승객</th>\n",
       "      <td>145794.00000</td>\n",
       "      <td>9826.45728</td>\n",
       "      <td>9877.38427</td>\n",
       "      <td>1.00000</td>\n",
       "      <td>3333.00000</td>\n",
       "      <td>7000.50000</td>\n",
       "      <td>12953.00000</td>\n",
       "      <td>122543.00000</td>\n",
       "    </tr>\n",
       "    <tr>\n",
       "      <th>하차승객</th>\n",
       "      <td>145794.00000</td>\n",
       "      <td>9791.57458</td>\n",
       "      <td>10016.66844</td>\n",
       "      <td>0.00000</td>\n",
       "      <td>3223.00000</td>\n",
       "      <td>6821.50000</td>\n",
       "      <td>12796.00000</td>\n",
       "      <td>118237.00000</td>\n",
       "    </tr>\n",
       "    <tr>\n",
       "      <th>승차-하차</th>\n",
       "      <td>145794.00000</td>\n",
       "      <td>34.88269</td>\n",
       "      <td>1090.62087</td>\n",
       "      <td>-20299.00000</td>\n",
       "      <td>-206.00000</td>\n",
       "      <td>63.00000</td>\n",
       "      <td>369.00000</td>\n",
       "      <td>28118.00000</td>\n",
       "    </tr>\n",
       "    <tr>\n",
       "      <th>월</th>\n",
       "      <td>145794.00000</td>\n",
       "      <td>4.54116</td>\n",
       "      <td>2.29835</td>\n",
       "      <td>1.00000</td>\n",
       "      <td>3.00000</td>\n",
       "      <td>5.00000</td>\n",
       "      <td>7.00000</td>\n",
       "      <td>8.00000</td>\n",
       "    </tr>\n",
       "    <tr>\n",
       "      <th>일</th>\n",
       "      <td>145794.00000</td>\n",
       "      <td>15.70644</td>\n",
       "      <td>8.79173</td>\n",
       "      <td>1.00000</td>\n",
       "      <td>8.00000</td>\n",
       "      <td>16.00000</td>\n",
       "      <td>23.00000</td>\n",
       "      <td>31.00000</td>\n",
       "    </tr>\n",
       "    <tr>\n",
       "      <th>요일</th>\n",
       "      <td>145794.00000</td>\n",
       "      <td>2.99512</td>\n",
       "      <td>2.00688</td>\n",
       "      <td>0.00000</td>\n",
       "      <td>1.00000</td>\n",
       "      <td>3.00000</td>\n",
       "      <td>5.00000</td>\n",
       "      <td>6.00000</td>\n",
       "    </tr>\n",
       "  </tbody>\n",
       "</table>\n",
       "</div>"
      ],
      "text/plain": [
       "             count       mean         std          min        25%        50%  \\\n",
       "노선    145794.00000   10.00296     7.05350      0.00000    4.00000    9.00000   \n",
       "승차승객  145794.00000 9826.45728  9877.38427      1.00000 3333.00000 7000.50000   \n",
       "하차승객  145794.00000 9791.57458 10016.66844      0.00000 3223.00000 6821.50000   \n",
       "승차-하차 145794.00000   34.88269  1090.62087 -20299.00000 -206.00000   63.00000   \n",
       "월     145794.00000    4.54116     2.29835      1.00000    3.00000    5.00000   \n",
       "일     145794.00000   15.70644     8.79173      1.00000    8.00000   16.00000   \n",
       "요일    145794.00000    2.99512     2.00688      0.00000    1.00000    3.00000   \n",
       "\n",
       "              75%          max  \n",
       "노선       15.00000     25.00000  \n",
       "승차승객  12953.00000 122543.00000  \n",
       "하차승객  12796.00000 118237.00000  \n",
       "승차-하차   369.00000  28118.00000  \n",
       "월         7.00000      8.00000  \n",
       "일        23.00000     31.00000  \n",
       "요일        5.00000      6.00000  "
      ]
     },
     "execution_count": 18,
     "metadata": {},
     "output_type": "execute_result"
    }
   ],
   "source": [
    "month_stats=month_stats.transpose()\n",
    "month_stats"
   ]
  },
  {
   "cell_type": "code",
   "execution_count": 19,
   "id": "9cc6cb0e-865f-4bd5-bdfc-3c98a5a63dfe",
   "metadata": {},
   "outputs": [],
   "source": [
    "month_labels=month_df.pop(\"총 승객\")\n",
    "predict_labels=predict_df.pop(\"총 승객\")"
   ]
  },
  {
   "cell_type": "code",
   "execution_count": 20,
   "id": "1e80d527-0179-4ca2-b950-4fa9145f8878",
   "metadata": {},
   "outputs": [
    {
     "data": {
      "text/plain": [
       "0         14446\n",
       "1           934\n",
       "2          6127\n",
       "3          6124\n",
       "4             1\n",
       "          ...  \n",
       "145789     1749\n",
       "145790     1271\n",
       "145791      638\n",
       "145792     5698\n",
       "145793     3480\n",
       "Name: 총 승객, Length: 145794, dtype: int64"
      ]
     },
     "execution_count": 20,
     "metadata": {},
     "output_type": "execute_result"
    }
   ],
   "source": [
    "month_labels"
   ]
  },
  {
   "cell_type": "code",
   "execution_count": 21,
   "id": "71c5545c-4c05-4755-aa34-b0f822aeba76",
   "metadata": {},
   "outputs": [],
   "source": [
    "def norm(x):\n",
    "    return(x-month_stats[\"mean\"])/month_stats[\"std\"]\n",
    "normed_month_df=norm(month_df)\n",
    "normed_predict_df=norm(predict_df)"
   ]
  },
  {
   "cell_type": "code",
   "execution_count": 22,
   "id": "dd6fb25f-5fd5-4ba4-b47d-4583e1b39dc7",
   "metadata": {},
   "outputs": [
    {
     "data": {
      "text/html": [
       "<div>\n",
       "<style scoped>\n",
       "    .dataframe tbody tr th:only-of-type {\n",
       "        vertical-align: middle;\n",
       "    }\n",
       "\n",
       "    .dataframe tbody tr th {\n",
       "        vertical-align: top;\n",
       "    }\n",
       "\n",
       "    .dataframe thead th {\n",
       "        text-align: right;\n",
       "    }\n",
       "</style>\n",
       "<table border=\"1\" class=\"dataframe\">\n",
       "  <thead>\n",
       "    <tr style=\"text-align: right;\">\n",
       "      <th></th>\n",
       "      <th>노선</th>\n",
       "      <th>승차승객</th>\n",
       "      <th>하차승객</th>\n",
       "      <th>승차-하차</th>\n",
       "      <th>월</th>\n",
       "      <th>일</th>\n",
       "      <th>요일</th>\n",
       "    </tr>\n",
       "  </thead>\n",
       "  <tbody>\n",
       "    <tr>\n",
       "      <th>145789</th>\n",
       "      <td>2.12618</td>\n",
       "      <td>-0.90363</td>\n",
       "      <td>-0.89287</td>\n",
       "      <td>0.01661</td>\n",
       "      <td>1.50492</td>\n",
       "      <td>1.73954</td>\n",
       "      <td>-0.49586</td>\n",
       "    </tr>\n",
       "    <tr>\n",
       "      <th>145790</th>\n",
       "      <td>2.12618</td>\n",
       "      <td>-0.93015</td>\n",
       "      <td>-0.91443</td>\n",
       "      <td>-0.02557</td>\n",
       "      <td>1.50492</td>\n",
       "      <td>1.73954</td>\n",
       "      <td>-0.49586</td>\n",
       "    </tr>\n",
       "    <tr>\n",
       "      <th>145791</th>\n",
       "      <td>2.12618</td>\n",
       "      <td>-0.96235</td>\n",
       "      <td>-0.94588</td>\n",
       "      <td>-0.02832</td>\n",
       "      <td>1.50492</td>\n",
       "      <td>1.73954</td>\n",
       "      <td>-0.49586</td>\n",
       "    </tr>\n",
       "    <tr>\n",
       "      <th>145792</th>\n",
       "      <td>2.12618</td>\n",
       "      <td>-0.70631</td>\n",
       "      <td>-0.69320</td>\n",
       "      <td>-0.03015</td>\n",
       "      <td>1.50492</td>\n",
       "      <td>1.73954</td>\n",
       "      <td>-0.49586</td>\n",
       "    </tr>\n",
       "    <tr>\n",
       "      <th>145793</th>\n",
       "      <td>2.12618</td>\n",
       "      <td>-0.81727</td>\n",
       "      <td>-0.80522</td>\n",
       "      <td>-0.00631</td>\n",
       "      <td>1.50492</td>\n",
       "      <td>1.73954</td>\n",
       "      <td>-0.49586</td>\n",
       "    </tr>\n",
       "  </tbody>\n",
       "</table>\n",
       "</div>"
      ],
      "text/plain": [
       "            노선     승차승객     하차승객    승차-하차       월       일       요일\n",
       "145789 2.12618 -0.90363 -0.89287  0.01661 1.50492 1.73954 -0.49586\n",
       "145790 2.12618 -0.93015 -0.91443 -0.02557 1.50492 1.73954 -0.49586\n",
       "145791 2.12618 -0.96235 -0.94588 -0.02832 1.50492 1.73954 -0.49586\n",
       "145792 2.12618 -0.70631 -0.69320 -0.03015 1.50492 1.73954 -0.49586\n",
       "145793 2.12618 -0.81727 -0.80522 -0.00631 1.50492 1.73954 -0.49586"
      ]
     },
     "execution_count": 22,
     "metadata": {},
     "output_type": "execute_result"
    }
   ],
   "source": [
    "normed_month_df.tail()"
   ]
  },
  {
   "cell_type": "code",
   "execution_count": 23,
   "id": "9dce3199-4ac7-4580-8a5f-7cad37fb813c",
   "metadata": {},
   "outputs": [
    {
     "data": {
      "text/html": [
       "<div>\n",
       "<style scoped>\n",
       "    .dataframe tbody tr th:only-of-type {\n",
       "        vertical-align: middle;\n",
       "    }\n",
       "\n",
       "    .dataframe tbody tr th {\n",
       "        vertical-align: top;\n",
       "    }\n",
       "\n",
       "    .dataframe thead th {\n",
       "        text-align: right;\n",
       "    }\n",
       "</style>\n",
       "<table border=\"1\" class=\"dataframe\">\n",
       "  <thead>\n",
       "    <tr style=\"text-align: right;\">\n",
       "      <th></th>\n",
       "      <th>노선</th>\n",
       "      <th>승차승객</th>\n",
       "      <th>하차승객</th>\n",
       "      <th>승차-하차</th>\n",
       "      <th>월</th>\n",
       "      <th>일</th>\n",
       "      <th>요일</th>\n",
       "    </tr>\n",
       "  </thead>\n",
       "  <tbody>\n",
       "    <tr>\n",
       "      <th>15141</th>\n",
       "      <td>0.28313</td>\n",
       "      <td>0.42577</td>\n",
       "      <td>0.41735</td>\n",
       "      <td>0.02303</td>\n",
       "      <td>1.94001</td>\n",
       "      <td>-1.67276</td>\n",
       "      <td>0.00243</td>\n",
       "    </tr>\n",
       "    <tr>\n",
       "      <th>15142</th>\n",
       "      <td>-0.99283</td>\n",
       "      <td>1.74212</td>\n",
       "      <td>1.84557</td>\n",
       "      <td>-1.17262</td>\n",
       "      <td>1.94001</td>\n",
       "      <td>-1.67276</td>\n",
       "      <td>0.00243</td>\n",
       "    </tr>\n",
       "    <tr>\n",
       "      <th>15143</th>\n",
       "      <td>0.42490</td>\n",
       "      <td>-0.62622</td>\n",
       "      <td>-0.60056</td>\n",
       "      <td>-0.15577</td>\n",
       "      <td>1.94001</td>\n",
       "      <td>-1.67276</td>\n",
       "      <td>0.00243</td>\n",
       "    </tr>\n",
       "    <tr>\n",
       "      <th>15144</th>\n",
       "      <td>-0.70929</td>\n",
       "      <td>-0.17388</td>\n",
       "      <td>-0.20132</td>\n",
       "      <td>0.27426</td>\n",
       "      <td>1.94001</td>\n",
       "      <td>-1.67276</td>\n",
       "      <td>0.00243</td>\n",
       "    </tr>\n",
       "    <tr>\n",
       "      <th>15145</th>\n",
       "      <td>-0.28397</td>\n",
       "      <td>0.15900</td>\n",
       "      <td>0.17066</td>\n",
       "      <td>-0.12734</td>\n",
       "      <td>1.94001</td>\n",
       "      <td>-1.67276</td>\n",
       "      <td>0.00243</td>\n",
       "    </tr>\n",
       "  </tbody>\n",
       "</table>\n",
       "</div>"
      ],
      "text/plain": [
       "            노선     승차승객     하차승객    승차-하차       월        일      요일\n",
       "15141  0.28313  0.42577  0.41735  0.02303 1.94001 -1.67276 0.00243\n",
       "15142 -0.99283  1.74212  1.84557 -1.17262 1.94001 -1.67276 0.00243\n",
       "15143  0.42490 -0.62622 -0.60056 -0.15577 1.94001 -1.67276 0.00243\n",
       "15144 -0.70929 -0.17388 -0.20132  0.27426 1.94001 -1.67276 0.00243\n",
       "15145 -0.28397  0.15900  0.17066 -0.12734 1.94001 -1.67276 0.00243"
      ]
     },
     "execution_count": 23,
     "metadata": {},
     "output_type": "execute_result"
    }
   ],
   "source": [
    "normed_predict_df.tail()"
   ]
  },
  {
   "cell_type": "code",
   "execution_count": 24,
   "id": "d9d08fed-9a93-4d31-9e30-57a1d0358314",
   "metadata": {},
   "outputs": [
    {
     "data": {
      "text/plain": [
       "Index(['노선', '승차승객', '하차승객', '승차-하차', '월', '일', '요일'], dtype='object')"
      ]
     },
     "execution_count": 24,
     "metadata": {},
     "output_type": "execute_result"
    }
   ],
   "source": [
    "month_df.keys()"
   ]
  },
  {
   "cell_type": "code",
   "execution_count": 25,
   "id": "e5bca471-dfdd-4a25-9441-6ba5eeeae481",
   "metadata": {},
   "outputs": [
    {
     "data": {
      "text/plain": [
       "7"
      ]
     },
     "execution_count": 25,
     "metadata": {},
     "output_type": "execute_result"
    }
   ],
   "source": [
    "len(month_df.keys())"
   ]
  },
  {
   "cell_type": "code",
   "execution_count": 26,
   "id": "eb296ced-414c-4d3f-9d5d-80ac80ff7f18",
   "metadata": {},
   "outputs": [],
   "source": [
    "# 모델 만들기 - mae(평균 절대 오차), mse(평균 제곱 오차)\n",
    "def build_model():\n",
    "    model=keras.Sequential([\n",
    "        layers.Dense(64, input_shape=[len(month_df.keys())], activation=\"relu\"),\n",
    "        layers.Dense(64, activation=\"relu\"),\n",
    "        layers.Dense(1)\n",
    "    ])\n",
    "    # 오답 처리 알고리즘 - 바로 밑\n",
    "    optimizer=tf.keras.optimizers.RMSprop(0.001)\n",
    "    model.compile(loss=\"mse\", optimizer=optimizer, metrics=[\"mae\", \"mse\"])\n",
    "    return model"
   ]
  },
  {
   "cell_type": "code",
   "execution_count": 27,
   "id": "aa180026-2b13-41a6-9507-86cd656daa27",
   "metadata": {},
   "outputs": [
    {
     "name": "stdout",
     "output_type": "stream",
     "text": [
      "Model: \"sequential\"\n",
      "_________________________________________________________________\n",
      " Layer (type)                Output Shape              Param #   \n",
      "=================================================================\n",
      " dense (Dense)               (None, 64)                512       \n",
      "                                                                 \n",
      " dense_1 (Dense)             (None, 64)                4160      \n",
      "                                                                 \n",
      " dense_2 (Dense)             (None, 1)                 65        \n",
      "                                                                 \n",
      "=================================================================\n",
      "Total params: 4,737\n",
      "Trainable params: 4,737\n",
      "Non-trainable params: 0\n",
      "_________________________________________________________________\n"
     ]
    }
   ],
   "source": [
    "# 모델 확인\n",
    "model=build_model()\n",
    "model.summary()"
   ]
  },
  {
   "cell_type": "code",
   "execution_count": 28,
   "id": "a1b11d97-51ae-4e38-a12d-2cf840e75e59",
   "metadata": {},
   "outputs": [
    {
     "name": "stdout",
     "output_type": "stream",
     "text": [
      "\n",
      "...................................................................................................."
     ]
    }
   ],
   "source": [
    "# 모델 훈련 - 100번\n",
    "class PrintDot(keras.callbacks.Callback):\n",
    "    def on_epoch_end(self, epoch, logs):\n",
    "        if epoch%100==0:\n",
    "            print(\"\")\n",
    "        print('.', end=\"\")\n",
    "EPOCHS=100\n",
    "model=build_model()\n",
    "history=model.fit(\n",
    "    normed_month_df, month_labels, epochs=EPOCHS, validation_split=0.2, verbose=0, callbacks=[PrintDot()]\n",
    ")"
   ]
  },
  {
   "cell_type": "code",
   "execution_count": 29,
   "id": "a27bf4ac-decd-49da-a339-83dd36862eff",
   "metadata": {},
   "outputs": [
    {
     "data": {
      "text/html": [
       "<div>\n",
       "<style scoped>\n",
       "    .dataframe tbody tr th:only-of-type {\n",
       "        vertical-align: middle;\n",
       "    }\n",
       "\n",
       "    .dataframe tbody tr th {\n",
       "        vertical-align: top;\n",
       "    }\n",
       "\n",
       "    .dataframe thead th {\n",
       "        text-align: right;\n",
       "    }\n",
       "</style>\n",
       "<table border=\"1\" class=\"dataframe\">\n",
       "  <thead>\n",
       "    <tr style=\"text-align: right;\">\n",
       "      <th></th>\n",
       "      <th>loss</th>\n",
       "      <th>mae</th>\n",
       "      <th>mse</th>\n",
       "      <th>val_loss</th>\n",
       "      <th>val_mae</th>\n",
       "      <th>val_mse</th>\n",
       "    </tr>\n",
       "  </thead>\n",
       "  <tbody>\n",
       "    <tr>\n",
       "      <th>95</th>\n",
       "      <td>726.26648</td>\n",
       "      <td>11.45953</td>\n",
       "      <td>726.26648</td>\n",
       "      <td>154.45645</td>\n",
       "      <td>9.05669</td>\n",
       "      <td>154.45645</td>\n",
       "    </tr>\n",
       "    <tr>\n",
       "      <th>96</th>\n",
       "      <td>725.70465</td>\n",
       "      <td>11.13715</td>\n",
       "      <td>725.70465</td>\n",
       "      <td>4.20988</td>\n",
       "      <td>1.58353</td>\n",
       "      <td>4.20988</td>\n",
       "    </tr>\n",
       "    <tr>\n",
       "      <th>97</th>\n",
       "      <td>735.10059</td>\n",
       "      <td>11.75958</td>\n",
       "      <td>735.10059</td>\n",
       "      <td>28.80206</td>\n",
       "      <td>4.31122</td>\n",
       "      <td>28.80206</td>\n",
       "    </tr>\n",
       "    <tr>\n",
       "      <th>98</th>\n",
       "      <td>727.69641</td>\n",
       "      <td>11.51542</td>\n",
       "      <td>727.69641</td>\n",
       "      <td>6.52293</td>\n",
       "      <td>2.03675</td>\n",
       "      <td>6.52293</td>\n",
       "    </tr>\n",
       "    <tr>\n",
       "      <th>99</th>\n",
       "      <td>732.23688</td>\n",
       "      <td>11.50469</td>\n",
       "      <td>732.23688</td>\n",
       "      <td>2.19666</td>\n",
       "      <td>1.12079</td>\n",
       "      <td>2.19666</td>\n",
       "    </tr>\n",
       "  </tbody>\n",
       "</table>\n",
       "</div>"
      ],
      "text/plain": [
       "        loss      mae       mse  val_loss  val_mae   val_mse\n",
       "95 726.26648 11.45953 726.26648 154.45645  9.05669 154.45645\n",
       "96 725.70465 11.13715 725.70465   4.20988  1.58353   4.20988\n",
       "97 735.10059 11.75958 735.10059  28.80206  4.31122  28.80206\n",
       "98 727.69641 11.51542 727.69641   6.52293  2.03675   6.52293\n",
       "99 732.23688 11.50469 732.23688   2.19666  1.12079   2.19666"
      ]
     },
     "execution_count": 29,
     "metadata": {},
     "output_type": "execute_result"
    }
   ],
   "source": [
    "hist=pd.DataFrame(history.history)\n",
    "hist.tail()"
   ]
  },
  {
   "cell_type": "code",
   "execution_count": 30,
   "id": "53b97249-d172-4917-a902-80987a9d7824",
   "metadata": {},
   "outputs": [
    {
     "data": {
      "image/png": "[encoded data removed]",
      "text/plain": [
       "<Figure size 640x480 with 1 Axes>"
      ]
     },
     "metadata": {},
     "output_type": "display_data"
    }
   ],
   "source": [
    "# 학습 100번 가성비 \n",
    "# 학습을 진행하면서 오차율을 시각화\n",
    "def sns_hist(history):\n",
    "    hist=pd.DataFrame(history.history)\n",
    "    hist['epoch']=history.epoch\n",
    "    sns.lineplot(data=hist, x=\"epoch\", y=\"mae\")\n",
    "    sns.lineplot(data=hist, x=\"epoch\", y=\"mse\")\n",
    "sns_hist(history)"
   ]
  },
  {
   "cell_type": "code",
   "execution_count": 31,
   "id": "1b4210d6-8c30-4c43-86f5-50492e544ec2",
   "metadata": {},
   "outputs": [
    {
     "name": "stdout",
     "output_type": "stream",
     "text": [
      "\n",
      "......................"
     ]
    }
   ],
   "source": [
    "# model.fit를 수정해서 검증 점수가 향상되지 않으면 자동으로 훈련을 멈추도록 하는 것으로 수정(val_loss기준)\n",
    "model=build_model()\n",
    "early_stop=keras.callbacks.EarlyStopping(monitor=\"val_loss\", patience=10)\n",
    "history=model.fit(\n",
    "    normed_month_df, month_labels, epochs=EPOCHS, validation_split=0.2, verbose=0, callbacks=[PrintDot(), early_stop]\n",
    ")\n",
    "#verbose=0 - log 안 찍는 것"
   ]
  },
  {
   "cell_type": "code",
   "execution_count": 32,
   "id": "fc7fe478-ad1a-4979-a92f-fe38b2b76baf",
   "metadata": {},
   "outputs": [
    {
     "data": {
      "image/png": "[encoded data removed]",
      "text/plain": [
       "<Figure size 640x480 with 1 Axes>"
      ]
     },
     "metadata": {},
     "output_type": "display_data"
    }
   ],
   "source": [
    "sns_hist(history)"
   ]
  },
  {
   "cell_type": "code",
   "execution_count": 33,
   "id": "831c39d5-2218-4aea-930b-3cddd6d412ca",
   "metadata": {},
   "outputs": [
    {
     "data": {
      "text/plain": [
       "9223372036854775807"
      ]
     },
     "execution_count": 33,
     "metadata": {},
     "output_type": "execute_result"
    }
   ],
   "source": [
    "import sys\n",
    "sys.maxsize"
   ]
  },
  {
   "cell_type": "code",
   "execution_count": 34,
   "id": "30144479-e674-425f-bd35-846e88b9b13e",
   "metadata": {},
   "outputs": [
    {
     "name": "stdout",
     "output_type": "stream",
     "text": [
      "474/474 - 0s - loss: 10267.3242 - mae: 75.9546 - mse: 10267.3242 - 186ms/epoch - 391us/step\n",
      "테스트 세트의 평균 절대 오차:  75.9545669555664\n",
      "테스트 세트의 평균 절대 오차: 75.95457\n"
     ]
    }
   ],
   "source": [
    "# 성능 평가\n",
    "loss, mae, mse=model.evaluate(normed_predict_df, predict_labels, verbose=2)\n",
    "print(\"테스트 세트의 평균 절대 오차: \", mae)\n",
    "print(\"테스트 세트의 평균 절대 오차: {:.5f}\".format(mae))"
   ]
  },
  {
   "cell_type": "code",
   "execution_count": 35,
   "id": "a393ab44-c818-460b-956a-84e51693ab94",
   "metadata": {},
   "outputs": [
    {
     "name": "stdout",
     "output_type": "stream",
     "text": [
      "474/474 [==============================] - 0s 391us/step\n"
     ]
    },
    {
     "data": {
      "text/plain": [
       "array([ 4216.876 ,  8998.731 ,  7728.8623, ...,  7455.499 , 15945.533 ,\n",
       "       22981.234 ], dtype=float32)"
      ]
     },
     "execution_count": 35,
     "metadata": {},
     "output_type": "execute_result"
    }
   ],
   "source": [
    "# 시각화해서 평가\n",
    "# 예측만 하게 할 수 있음\n",
    "predict_predictions=model.predict(normed_predict_df).flatten()\n",
    "predict_predictions"
   ]
  },
  {
   "cell_type": "code",
   "execution_count": 36,
   "id": "5d75fe33-5b24-4c73-b52b-30447b50131c",
   "metadata": {},
   "outputs": [
    {
     "data": {
      "text/plain": [
       "<AxesSubplot:xlabel='총 승객'>"
      ]
     },
     "execution_count": 36,
     "metadata": {},
     "output_type": "execute_result"
    },
    {
     "data": {
      "image/png": "[encoded data removed]",
      "text/plain": [
       "<Figure size 640x480 with 1 Axes>"
      ]
     },
     "metadata": {},
     "output_type": "display_data"
    }
   ],
   "source": [
    "sns.regplot(x=predict_labels, y=predict_predictions)"
   ]
  },
  {
   "cell_type": "code",
   "execution_count": 37,
   "id": "7667f119-aa3f-40f7-8420-4362361ab36c",
   "metadata": {},
   "outputs": [
    {
     "data": {
      "text/plain": [
       "<AxesSubplot:xlabel='총 승객'>"
      ]
     },
     "execution_count": 37,
     "metadata": {},
     "output_type": "execute_result"
    },
    {
     "name": "stderr",
     "output_type": "stream",
     "text": [
      "C:\\Users\\KB\\miniconda3\\lib\\site-packages\\IPython\\core\\events.py:89: UserWarning: Glyph 8722 (\\N{MINUS SIGN}) missing from current font.\n",
      "  func(*args, **kwargs)\n",
      "C:\\Users\\KB\\miniconda3\\lib\\site-packages\\IPython\\core\\pylabtools.py:151: UserWarning: Glyph 8722 (\\N{MINUS SIGN}) missing from current font.\n",
      "  fig.canvas.print_figure(bytes_io, **kw)\n"
     ]
    },
    {
     "data": {
      "image/png": "[encoded data removed]",
      "text/plain": [
       "<Figure size 640x480 with 1 Axes>"
      ]
     },
     "metadata": {},
     "output_type": "display_data"
    }
   ],
   "source": [
    "sns.residplot(x=predict_labels, y=predict_predictions)"
   ]
  },
  {
   "cell_type": "code",
   "execution_count": 38,
   "id": "df2bd769-48b4-4939-8611-4f3d5cac9cab",
   "metadata": {},
   "outputs": [
    {
     "data": {
      "text/plain": [
       "15141    90.54883\n",
       "15142   188.71484\n",
       "15143    38.49902\n",
       "15144    61.53320\n",
       "15145    83.23438\n",
       "Name: 총 승객, dtype: float64"
      ]
     },
     "execution_count": 38,
     "metadata": {},
     "output_type": "execute_result"
    }
   ],
   "source": [
    "# 오차 분포\n",
    "error=predict_predictions-predict_labels\n",
    "error.tail()"
   ]
  },
  {
   "cell_type": "code",
   "execution_count": 39,
   "id": "9aadd766-5b53-4295-82b0-f2b1c9cc3f51",
   "metadata": {},
   "outputs": [
    {
     "data": {
      "text/plain": [
       "<AxesSubplot:>"
      ]
     },
     "execution_count": 39,
     "metadata": {},
     "output_type": "execute_result"
    },
    {
     "data": {
      "image/png": "[encoded data removed]",
      "text/plain": [
       "<Figure size 640x480 with 1 Axes>"
      ]
     },
     "metadata": {},
     "output_type": "display_data"
    }
   ],
   "source": [
    "error.hist()"
   ]
  },
  {
   "cell_type": "code",
   "execution_count": 40,
   "id": "f86757e2-7956-4062-8ef9-dbabbb7f1968",
   "metadata": {},
   "outputs": [
    {
     "data": {
      "text/plain": [
       "((145794, 6), (145794,), (15146, 6))"
      ]
     },
     "execution_count": 40,
     "metadata": {},
     "output_type": "execute_result"
    }
   ],
   "source": [
    "X_train=month_df.drop(\"승차승객\", axis=1)\n",
    "Y_train=month_df[\"승차승객\"]\n",
    "X_test=predict_df.drop(\"승차승객\", axis=1).copy()\n",
    "X_train.shape, Y_train.shape, X_test.shape"
   ]
  },
  {
   "cell_type": "code",
   "execution_count": 41,
   "id": "dc50bb15-0413-4f6d-b58f-75831e74a74d",
   "metadata": {},
   "outputs": [
    {
     "data": {
      "text/plain": [
       "13.37"
      ]
     },
     "execution_count": 41,
     "metadata": {},
     "output_type": "execute_result"
    }
   ],
   "source": [
    "# k-NN 분류와 회귀에 사용되는 알고리즘\n",
    "from sklearn.neighbors import KNeighborsClassifier\n",
    "knn=KNeighborsClassifier()\n",
    "knn.fit(X_train, Y_train)\n",
    "Y_pred=knn.predict(X_test)\n",
    "acc_knn=round(knn.score(X_train, Y_train)*100, 2)\n",
    "acc_knn"
   ]
  },
  {
   "cell_type": "code",
   "execution_count": 42,
   "id": "9a1aca2d-7057-481a-9be8-d50cd314bcdb",
   "metadata": {},
   "outputs": [
    {
     "data": {
      "text/html": [
       "<div>\n",
       "<style scoped>\n",
       "    .dataframe tbody tr th:only-of-type {\n",
       "        vertical-align: middle;\n",
       "    }\n",
       "\n",
       "    .dataframe tbody tr th {\n",
       "        vertical-align: top;\n",
       "    }\n",
       "\n",
       "    .dataframe thead th {\n",
       "        text-align: right;\n",
       "    }\n",
       "</style>\n",
       "<table border=\"1\" class=\"dataframe\">\n",
       "  <thead>\n",
       "    <tr style=\"text-align: right;\">\n",
       "      <th></th>\n",
       "      <th>Model</th>\n",
       "      <th>Score</th>\n",
       "    </tr>\n",
       "  </thead>\n",
       "  <tbody>\n",
       "    <tr>\n",
       "      <th>0</th>\n",
       "      <td>KNN</td>\n",
       "      <td>13.37000</td>\n",
       "    </tr>\n",
       "  </tbody>\n",
       "</table>\n",
       "</div>"
      ],
      "text/plain": [
       "  Model    Score\n",
       "0   KNN 13.37000"
      ]
     },
     "execution_count": 42,
     "metadata": {},
     "output_type": "execute_result"
    }
   ],
   "source": [
    "# 모델에 대한 평가 순위를 매겨서 도출\n",
    "models=pd.DataFrame({\n",
    "    \"Model\":[\"KNN\"],\n",
    "    \"Score\":[acc_knn]\n",
    "    })\n",
    "models.sort_values(by=\"Score\", ascending=False)"
   ]
  },
  {
   "cell_type": "code",
   "execution_count": 43,
   "id": "492a2f79-c184-4a7a-9197-9cd0d067c88a",
   "metadata": {},
   "outputs": [
    {
     "data": {
      "text/html": [
       "<div>\n",
       "<style scoped>\n",
       "    .dataframe tbody tr th:only-of-type {\n",
       "        vertical-align: middle;\n",
       "    }\n",
       "\n",
       "    .dataframe tbody tr th {\n",
       "        vertical-align: top;\n",
       "    }\n",
       "\n",
       "    .dataframe thead th {\n",
       "        text-align: right;\n",
       "    }\n",
       "</style>\n",
       "<table border=\"1\" class=\"dataframe\">\n",
       "  <thead>\n",
       "    <tr style=\"text-align: right;\">\n",
       "      <th></th>\n",
       "      <th>승차승객</th>\n",
       "      <th>하차승객</th>\n",
       "    </tr>\n",
       "  </thead>\n",
       "  <tbody>\n",
       "    <tr>\n",
       "      <th>0</th>\n",
       "      <td>2283</td>\n",
       "      <td>2257</td>\n",
       "    </tr>\n",
       "    <tr>\n",
       "      <th>1</th>\n",
       "      <td>4697</td>\n",
       "      <td>4681</td>\n",
       "    </tr>\n",
       "    <tr>\n",
       "      <th>2</th>\n",
       "      <td>3454</td>\n",
       "      <td>3456</td>\n",
       "    </tr>\n",
       "    <tr>\n",
       "      <th>3</th>\n",
       "      <td>4272</td>\n",
       "      <td>4253</td>\n",
       "    </tr>\n",
       "    <tr>\n",
       "      <th>4</th>\n",
       "      <td>5741</td>\n",
       "      <td>5652</td>\n",
       "    </tr>\n",
       "  </tbody>\n",
       "</table>\n",
       "</div>"
      ],
      "text/plain": [
       "   승차승객  하차승객\n",
       "0  2283  2257\n",
       "1  4697  4681\n",
       "2  3454  3456\n",
       "3  4272  4253\n",
       "4  5741  5652"
      ]
     },
     "execution_count": 43,
     "metadata": {},
     "output_type": "execute_result"
    }
   ],
   "source": [
    "predict_month=pd.DataFrame({\n",
    "    \"승차승객\": predict_df[\"승차승객\"],\n",
    "    \"하차승객\":Y_pred\n",
    "    })\n",
    "predict_month.head()"
   ]
  },
  {
   "cell_type": "code",
   "execution_count": 44,
   "id": "af718bf2-5495-412b-b0ca-95e85ab7d214",
   "metadata": {},
   "outputs": [],
   "source": [
    "predict_month.to_csv(\"predict_month.csv\", index=False)"
   ]
  },
  {
   "cell_type": "code",
   "execution_count": null,
   "id": "7f1b97a4-db4a-4de3-be8b-8931a260dc85",
   "metadata": {},
   "outputs": [],
   "source": []
  }
 ],
 "metadata": {
  "kernelspec": {
   "display_name": "Python 3 (ipykernel)",
   "language": "python",
   "name": "python3"
  },
  "language_info": {
   "codemirror_mode": {
    "name": "ipython",
    "version": 3
   },
   "file_extension": ".py",
   "mimetype": "text/x-python",
   "name": "python",
   "nbconvert_exporter": "python",
   "pygments_lexer": "ipython3",
   "version": "3.9.12"
  }
 },
 "nbformat": 4,
 "nbformat_minor": 5
}
