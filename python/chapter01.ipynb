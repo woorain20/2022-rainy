{
 "cells": [
  {
   "cell_type": "code",
   "execution_count": 1,
   "id": "5b83af5e-edc1-4461-94b8-37daff8b474e",
   "metadata": {},
   "outputs": [
    {
     "name": "stdout",
     "output_type": "stream",
     "text": [
      "Hello World\n"
     ]
    }
   ],
   "source": [
    "print(\"Hello World\")"
   ]
  },
  {
   "cell_type": "code",
   "execution_count": 3,
   "id": "23c0cb0c-0e6c-42fd-9e77-e61384b3a651",
   "metadata": {},
   "outputs": [],
   "source": [
    "# 파이썬 주석 90년대 귀도 반 로섬이 만듬"
   ]
  },
  {
   "cell_type": "code",
   "execution_count": 4,
   "id": "d0033578-5635-40e0-8125-116780d40d8e",
   "metadata": {},
   "outputs": [
    {
     "name": "stdout",
     "output_type": "stream",
     "text": [
      "The Zen of Python, by Tim Peters\n",
      "\n",
      "Beautiful is better than ugly.\n",
      "Explicit is better than implicit.\n",
      "Simple is better than complex.\n",
      "Complex is better than complicated.\n",
      "Flat is better than nested.\n",
      "Sparse is better than dense.\n",
      "Readability counts.\n",
      "Special cases aren't special enough to break the rules.\n",
      "Although practicality beats purity.\n",
      "Errors should never pass silently.\n",
      "Unless explicitly silenced.\n",
      "In the face of ambiguity, refuse the temptation to guess.\n",
      "There should be one-- and preferably only one --obvious way to do it.\n",
      "Although that way may not be obvious at first unless you're Dutch.\n",
      "Now is better than never.\n",
      "Although never is often better than *right* now.\n",
      "If the implementation is hard to explain, it's a bad idea.\n",
      "If the implementation is easy to explain, it may be a good idea.\n",
      "Namespaces are one honking great idea -- let's do more of those!\n"
     ]
    }
   ],
   "source": [
    "import this"
   ]
  },
  {
   "cell_type": "code",
   "execution_count": 5,
   "id": "ac6c6159-a187-42a2-818e-d66377231e6d",
   "metadata": {},
   "outputs": [
    {
     "data": {
      "text/plain": [
       "['False',\n",
       " 'None',\n",
       " 'True',\n",
       " '__peg_parser__',\n",
       " 'and',\n",
       " 'as',\n",
       " 'assert',\n",
       " 'async',\n",
       " 'await',\n",
       " 'break',\n",
       " 'class',\n",
       " 'continue',\n",
       " 'def',\n",
       " 'del',\n",
       " 'elif',\n",
       " 'else',\n",
       " 'except',\n",
       " 'finally',\n",
       " 'for',\n",
       " 'from',\n",
       " 'global',\n",
       " 'if',\n",
       " 'import',\n",
       " 'in',\n",
       " 'is',\n",
       " 'lambda',\n",
       " 'nonlocal',\n",
       " 'not',\n",
       " 'or',\n",
       " 'pass',\n",
       " 'raise',\n",
       " 'return',\n",
       " 'try',\n",
       " 'while',\n",
       " 'with',\n",
       " 'yield']"
      ]
     },
     "execution_count": 5,
     "metadata": {},
     "output_type": "execute_result"
    }
   ],
   "source": [
    "import keyword\n",
    "keyword.kwlist"
   ]
  },
  {
   "cell_type": "code",
   "execution_count": 6,
   "id": "b88c6fd0-bd3b-4d7e-b973-f1301166c527",
   "metadata": {},
   "outputs": [
    {
     "data": {
      "text/plain": [
       "12"
      ]
     },
     "execution_count": 6,
     "metadata": {},
     "output_type": "execute_result"
    }
   ],
   "source": [
    "y=12\n",
    "y"
   ]
  },
  {
   "cell_type": "code",
   "execution_count": 7,
   "id": "17d39fff-1c16-4e6b-8c99-f16d27fe3bd8",
   "metadata": {},
   "outputs": [],
   "source": [
    "x=5"
   ]
  },
  {
   "cell_type": "code",
   "execution_count": 8,
   "id": "b119176c-d977-4a88-a840-4b2a827a41c2",
   "metadata": {},
   "outputs": [],
   "source": [
    "z=6"
   ]
  },
  {
   "cell_type": "code",
   "execution_count": 9,
   "id": "09db423f-dfe6-4d28-8780-a1b3e4daa8de",
   "metadata": {},
   "outputs": [
    {
     "data": {
      "text/plain": [
       "5"
      ]
     },
     "execution_count": 9,
     "metadata": {},
     "output_type": "execute_result"
    }
   ],
   "source": [
    "x"
   ]
  },
  {
   "cell_type": "code",
   "execution_count": 10,
   "id": "c77eb4cd-3c50-4268-840d-9a2c8127fa34",
   "metadata": {},
   "outputs": [
    {
     "data": {
      "text/plain": [
       "17"
      ]
     },
     "execution_count": 10,
     "metadata": {},
     "output_type": "execute_result"
    }
   ],
   "source": [
    "x+y"
   ]
  },
  {
   "cell_type": "code",
   "execution_count": 12,
   "id": "56e8183f-380b-4303-b8a7-5de8202dc77c",
   "metadata": {},
   "outputs": [
    {
     "name": "stdout",
     "output_type": "stream",
     "text": [
      "5\n"
     ]
    },
    {
     "data": {
      "text/plain": [
       "17"
      ]
     },
     "execution_count": 12,
     "metadata": {},
     "output_type": "execute_result"
    }
   ],
   "source": [
    "y=x+12\n",
    "print(x)\n",
    "y"
   ]
  },
  {
   "cell_type": "code",
   "execution_count": 14,
   "id": "761a7e56-1344-4c78-a786-3d000fae47b5",
   "metadata": {},
   "outputs": [
    {
     "data": {
      "text/plain": [
       "int"
      ]
     },
     "execution_count": 14,
     "metadata": {},
     "output_type": "execute_result"
    }
   ],
   "source": [
    "type(7)"
   ]
  },
  {
   "cell_type": "code",
   "execution_count": 15,
   "id": "e4d27d03-6cd1-490a-8df8-0d6bbf3ab536",
   "metadata": {},
   "outputs": [
    {
     "data": {
      "text/plain": [
       "True"
      ]
     },
     "execution_count": 15,
     "metadata": {},
     "output_type": "execute_result"
    }
   ],
   "source": [
    "type(7)==int"
   ]
  },
  {
   "cell_type": "code",
   "execution_count": 16,
   "id": "48d072d9-f446-439c-b17e-df594e3d4e5b",
   "metadata": {},
   "outputs": [
    {
     "data": {
      "text/plain": [
       "True"
      ]
     },
     "execution_count": 16,
     "metadata": {},
     "output_type": "execute_result"
    }
   ],
   "source": [
    "a=7\n",
    "isinstance(a, int)"
   ]
  },
  {
   "cell_type": "code",
   "execution_count": 17,
   "id": "3472d524-c0fc-42dd-beb5-338f9ebf4302",
   "metadata": {
    "tags": []
   },
   "outputs": [
    {
     "name": "stdout",
     "output_type": "stream",
     "text": [
      "2 2 2\n"
     ]
    }
   ],
   "source": [
    "two=deux=zwei=2\n",
    "print(two, deux, zwei)"
   ]
  },
  {
   "cell_type": "code",
   "execution_count": 19,
   "id": "41560059-826d-43da-9de1-37074cae9e9e",
   "metadata": {},
   "outputs": [
    {
     "data": {
      "text/plain": [
       "5"
      ]
     },
     "execution_count": 19,
     "metadata": {},
     "output_type": "execute_result"
    }
   ],
   "source": [
    "# 변수는 깊은 복사가 된다\n",
    "x=5\n",
    "y=x\n",
    "x=29\n",
    "y"
   ]
  },
  {
   "cell_type": "code",
   "execution_count": 20,
   "id": "4a5486a2-fdb3-4468-93f0-186985cc8c7d",
   "metadata": {},
   "outputs": [
    {
     "name": "stdout",
     "output_type": "stream",
     "text": [
      "[99, 3, 5, 6] [99, 3, 5, 6]\n"
     ]
    }
   ],
   "source": [
    "#리스트(배열)는 얕은 복사 된다\n",
    "a=[2,3,5,6]\n",
    "b=a\n",
    "a[0]=99\n",
    "print(a,b)"
   ]
  },
  {
   "cell_type": "code",
   "execution_count": 21,
   "id": "9504401b-2d6b-4285-9019-e172efc5bb33",
   "metadata": {},
   "outputs": [
    {
     "data": {
      "text/plain": [
       "True"
      ]
     },
     "execution_count": 21,
     "metadata": {},
     "output_type": "execute_result"
    }
   ],
   "source": [
    "# bool() - 파이썬 데이터 타입을 불리언으로 변환\n",
    "bool(True)"
   ]
  },
  {
   "cell_type": "code",
   "execution_count": 23,
   "id": "b12c643e-a763-40b0-9f15-8dc3164d913a",
   "metadata": {},
   "outputs": [
    {
     "data": {
      "text/plain": [
       "True"
      ]
     },
     "execution_count": 23,
     "metadata": {},
     "output_type": "execute_result"
    }
   ],
   "source": [
    "bool(1)"
   ]
  },
  {
   "cell_type": "code",
   "execution_count": 24,
   "id": "349b18f8-5ca5-4d65-ae24-5e7062a71849",
   "metadata": {},
   "outputs": [
    {
     "data": {
      "text/plain": [
       "True"
      ]
     },
     "execution_count": 24,
     "metadata": {},
     "output_type": "execute_result"
    }
   ],
   "source": [
    "bool(45)"
   ]
  },
  {
   "cell_type": "code",
   "execution_count": 25,
   "id": "a5fdfcea-ab94-4eb7-aee4-ea275f7a0df9",
   "metadata": {},
   "outputs": [
    {
     "data": {
      "text/plain": [
       "False"
      ]
     },
     "execution_count": 25,
     "metadata": {},
     "output_type": "execute_result"
    }
   ],
   "source": [
    "bool(False)"
   ]
  },
  {
   "cell_type": "code",
   "execution_count": 26,
   "id": "3c5aee28-7028-452a-a040-c3d597ed1a7a",
   "metadata": {},
   "outputs": [
    {
     "data": {
      "text/plain": [
       "False"
      ]
     },
     "execution_count": 26,
     "metadata": {},
     "output_type": "execute_result"
    }
   ],
   "source": [
    "bool(0)"
   ]
  },
  {
   "cell_type": "code",
   "execution_count": 27,
   "id": "a19070ed-987f-4f7d-ba62-70bb3ae5fed0",
   "metadata": {},
   "outputs": [
    {
     "data": {
      "text/plain": [
       "True"
      ]
     },
     "execution_count": 27,
     "metadata": {},
     "output_type": "execute_result"
    }
   ],
   "source": [
    "bool(-5)"
   ]
  },
  {
   "cell_type": "code",
   "execution_count": 28,
   "id": "2f020b8f-16ae-45bb-9c5f-ad7a7ec4a7b4",
   "metadata": {},
   "outputs": [
    {
     "data": {
      "text/plain": [
       "False"
      ]
     },
     "execution_count": 28,
     "metadata": {},
     "output_type": "execute_result"
    }
   ],
   "source": [
    "bool(0.0)"
   ]
  },
  {
   "cell_type": "code",
   "execution_count": 34,
   "id": "d2aaf09e-729c-40fb-bf51-f48caf67a04c",
   "metadata": {},
   "outputs": [],
   "source": [
    "# +, -, *, /, %, **(지수 구하기), //(소수점 이하 버리는 나누기)\n",
    "# ,는 사용 못함"
   ]
  },
  {
   "cell_type": "code",
   "execution_count": 30,
   "id": "3b3c12fe-eb52-45dd-96b1-416053beb2e4",
   "metadata": {},
   "outputs": [
    {
     "data": {
      "text/plain": [
       "1.8"
      ]
     },
     "execution_count": 30,
     "metadata": {},
     "output_type": "execute_result"
    }
   ],
   "source": [
    "9/5"
   ]
  },
  {
   "cell_type": "code",
   "execution_count": 31,
   "id": "544ff259-7bb7-42c6-ac02-ef5a27c9d923",
   "metadata": {},
   "outputs": [
    {
     "data": {
      "text/plain": [
       "1"
      ]
     },
     "execution_count": 31,
     "metadata": {},
     "output_type": "execute_result"
    }
   ],
   "source": [
    "9//5"
   ]
  },
  {
   "cell_type": "code",
   "execution_count": 32,
   "id": "132afdbb-aa89-454f-8a14-f0685374623d",
   "metadata": {},
   "outputs": [
    {
     "data": {
      "text/plain": [
       "4294967296"
      ]
     },
     "execution_count": 32,
     "metadata": {},
     "output_type": "execute_result"
    }
   ],
   "source": [
    "2**32"
   ]
  },
  {
   "cell_type": "code",
   "execution_count": 33,
   "id": "16ad7090-ef37-4068-ae2c-f0ed7cf247d1",
   "metadata": {},
   "outputs": [
    {
     "data": {
      "text/plain": [
       "8"
      ]
     },
     "execution_count": 33,
     "metadata": {},
     "output_type": "execute_result"
    }
   ],
   "source": [
    "2**3"
   ]
  },
  {
   "cell_type": "code",
   "execution_count": 35,
   "id": "902735b1-e261-4e58-9034-5a8dd54a6cf1",
   "metadata": {},
   "outputs": [
    {
     "data": {
      "text/plain": [
       "1000"
      ]
     },
     "execution_count": 35,
     "metadata": {},
     "output_type": "execute_result"
    }
   ],
   "source": [
    "1_000"
   ]
  },
  {
   "cell_type": "code",
   "execution_count": 36,
   "id": "37ddd085-08af-405a-9e1d-e524952aa210",
   "metadata": {},
   "outputs": [
    {
     "data": {
      "text/plain": [
       "(1, 4)"
      ]
     },
     "execution_count": 36,
     "metadata": {},
     "output_type": "execute_result"
    }
   ],
   "source": [
    "#divmod() - 몫과 나머지 동시에 얻을 수 있음\n",
    "divmod(9, 5)"
   ]
  },
  {
   "cell_type": "code",
   "execution_count": 37,
   "id": "4fe482b4-1030-4970-afbc-24e9ee15f3d4",
   "metadata": {},
   "outputs": [
    {
     "data": {
      "text/plain": [
       "(3, 2)"
      ]
     },
     "execution_count": 37,
     "metadata": {},
     "output_type": "execute_result"
    }
   ],
   "source": [
    "divmod(14,4)"
   ]
  },
  {
   "cell_type": "code",
   "execution_count": 44,
   "id": "1129abc9-a016-4991-a419-98ccb1a8db3c",
   "metadata": {},
   "outputs": [
    {
     "name": "stdout",
     "output_type": "stream",
     "text": [
      "1\n",
      "0\n",
      "98\n",
      "2\n",
      "38\n",
      "8\n",
      "16\n"
     ]
    }
   ],
   "source": [
    "# int() - 정수로 변환\n",
    "print(int(True))\n",
    "print(int(False))\n",
    "print(int(98.6))\n",
    "# 2진수를 정수로\n",
    "print(int('10',2))\n",
    "print(int('100110',2))\n",
    "# 8진수를 정수로\n",
    "print(int('10',8))\n",
    "# 16진수를 정수로\n",
    "print(int('10',16))"
   ]
  },
  {
   "cell_type": "code",
   "execution_count": 46,
   "id": "c4aa3a43-46ae-4016-a4d9-e13cbb81971b",
   "metadata": {},
   "outputs": [
    {
     "data": {
      "text/plain": [
       "10000000000000000000000000000000000000000000000000000000000000000000000000000000000000000000000000000"
      ]
     },
     "execution_count": 46,
     "metadata": {},
     "output_type": "execute_result"
    }
   ],
   "source": [
    "# 파이썬 변수의 저장 공간은 유동적\n",
    "googol=10**100\n",
    "googol"
   ]
  },
  {
   "cell_type": "code",
   "execution_count": 47,
   "id": "fb3a7eb6-8101-4880-9fce-66a2d53467e1",
   "metadata": {},
   "outputs": [
    {
     "data": {
      "text/plain": [
       "4294967296"
      ]
     },
     "execution_count": 47,
     "metadata": {},
     "output_type": "execute_result"
    }
   ],
   "source": [
    "# 자바 int 4byte 1byte=8bit\n",
    "# 32bit 2**32- 주소선 계산 - 경우의 수\n",
    "2**32\n",
    "# -21억~21억"
   ]
  },
  {
   "cell_type": "code",
   "execution_count": 48,
   "id": "ca1ea4bd-db99-49a7-88b7-baf7bfe9f162",
   "metadata": {},
   "outputs": [
    {
     "data": {
      "text/plain": [
       "98.6"
      ]
     },
     "execution_count": 48,
     "metadata": {},
     "output_type": "execute_result"
    }
   ],
   "source": [
    "# float() - 부동소수점으로 숫자 타입 변환\n",
    "float('98.6')"
   ]
  },
  {
   "cell_type": "code",
   "execution_count": 49,
   "id": "22814c46-9221-4ee9-b9b9-98da3e2da42e",
   "metadata": {},
   "outputs": [
    {
     "data": {
      "text/plain": [
       "95.0"
      ]
     },
     "execution_count": 49,
     "metadata": {},
     "output_type": "execute_result"
    }
   ],
   "source": [
    "float('95')"
   ]
  },
  {
   "cell_type": "code",
   "execution_count": 50,
   "id": "96532044-e17c-4e41-a4e5-dadbc213558e",
   "metadata": {},
   "outputs": [
    {
     "data": {
      "text/plain": [
       "0"
      ]
     },
     "execution_count": 50,
     "metadata": {},
     "output_type": "execute_result"
    }
   ],
   "source": [
    "False+0"
   ]
  },
  {
   "cell_type": "code",
   "execution_count": 51,
   "id": "8c2ecc7f-50bc-432e-9fc7-644fa498645f",
   "metadata": {},
   "outputs": [
    {
     "data": {
      "text/plain": [
       "0.0"
      ]
     },
     "execution_count": 51,
     "metadata": {},
     "output_type": "execute_result"
    }
   ],
   "source": [
    "False+0.0"
   ]
  },
  {
   "cell_type": "code",
   "execution_count": 52,
   "id": "3cdc9e0e-7317-4c98-bb3a-c5f8d67591da",
   "metadata": {},
   "outputs": [
    {
     "name": "stdout",
     "output_type": "stream",
     "text": [
      "#먹방\n"
     ]
    }
   ],
   "source": [
    "print(\"#먹방\")"
   ]
  },
  {
   "cell_type": "code",
   "execution_count": 54,
   "id": "de8dc7f7-4ebe-49fa-b5f6-3027276e39e7",
   "metadata": {},
   "outputs": [
    {
     "data": {
      "text/plain": [
       "3"
      ]
     },
     "execution_count": 54,
     "metadata": {},
     "output_type": "execute_result"
    }
   ],
   "source": [
    "# ; 안 넣어도 됨\n",
    "sum=0\n",
    "sum+=1\n",
    "sum+=2\n",
    "sum"
   ]
  },
  {
   "cell_type": "code",
   "execution_count": 59,
   "id": "931c6cdc-a4f2-4986-b542-8d4d95eff114",
   "metadata": {},
   "outputs": [
    {
     "data": {
      "text/plain": [
       "55"
      ]
     },
     "execution_count": 59,
     "metadata": {},
     "output_type": "execute_result"
    }
   ],
   "source": [
    "# 한 문장으로 인식하게 만들기 위해서는 \\ 사용\n",
    "sum=1+2+3+4\\\n",
    "+5+6+7+8+9+10\n",
    "sum"
   ]
  },
  {
   "cell_type": "code",
   "execution_count": 60,
   "id": "5540a033-1f4e-4f5d-9bec-7f47a4c1c597",
   "metadata": {},
   "outputs": [
    {
     "data": {
      "text/plain": [
       "15"
      ]
     },
     "execution_count": 60,
     "metadata": {},
     "output_type": "execute_result"
    }
   ],
   "source": [
    "sum=(1+2+3\n",
    "     +4+5)\n",
    "sum"
   ]
  },
  {
   "cell_type": "code",
   "execution_count": 67,
   "id": "2f70d76e-4550-471a-b89a-1ede5bd7855a",
   "metadata": {},
   "outputs": [
    {
     "name": "stdout",
     "output_type": "stream",
     "text": [
      "Yeah\n"
     ]
    }
   ],
   "source": [
    "# if 들여쓰기 잘 맞춰야 함\n",
    "disaster=False\n",
    "if disaster:\n",
    "    print(\"Wow!\")\n",
    "    print(\"Wow Wow!\")\n",
    "    print(\"Wow Wow Wow!\")\n",
    "print(\"Yeah\")"
   ]
  },
  {
   "cell_type": "code",
   "execution_count": 68,
   "id": "71b72e90-b505-4cdc-8253-19d15ef2656c",
   "metadata": {},
   "outputs": [
    {
     "name": "stdout",
     "output_type": "stream",
     "text": [
      "Woo~~\n"
     ]
    }
   ],
   "source": [
    "disaster=True\n",
    "if disaster:\n",
    "    print(\"Woo~~\")\n",
    "else:\n",
    "    print(\"Ah\")"
   ]
  },
  {
   "cell_type": "code",
   "execution_count": 71,
   "id": "299e01ff-04b1-49ab-b086-3f332eda738d",
   "metadata": {},
   "outputs": [
    {
     "name": "stdout",
     "output_type": "stream",
     "text": [
      "yeti\n"
     ]
    }
   ],
   "source": [
    "furry=True\n",
    "large=True\n",
    "if furry:\n",
    "    if large:\n",
    "        print(\"yeti\")\n",
    "    else:\n",
    "        print(\"cat\")\n",
    "else:\n",
    "    if large:\n",
    "        print(\"whale\")\n",
    "    else:\n",
    "        print(\"human\")"
   ]
  },
  {
   "cell_type": "code",
   "execution_count": 73,
   "id": "e06bc705-50df-490f-a1d7-e4ad591ebfa7",
   "metadata": {},
   "outputs": [
    {
     "name": "stdout",
     "output_type": "stream",
     "text": [
      "mauve\n"
     ]
    }
   ],
   "source": [
    "color=\"mauve\"\n",
    "if color==\"red\":\n",
    "    print(\"tomato\")\n",
    "elif color==\"green\":\n",
    "    print(\"green pepper\")\n",
    "elif color==\"bee purple\":\n",
    "    print(\"I don`t know\")\n",
    "else:\n",
    "    print(color)"
   ]
  },
  {
   "cell_type": "code",
   "execution_count": 83,
   "id": "a8018731-28a5-4eeb-8a44-0b350c886b4d",
   "metadata": {},
   "outputs": [],
   "source": [
    "x=7"
   ]
  },
  {
   "cell_type": "code",
   "execution_count": 90,
   "id": "d9a9041c-6683-4431-aa09-9af5a62aa682",
   "metadata": {},
   "outputs": [
    {
     "data": {
      "text/plain": [
       "False"
      ]
     },
     "execution_count": 90,
     "metadata": {},
     "output_type": "execute_result"
    }
   ],
   "source": [
    "x==5"
   ]
  },
  {
   "cell_type": "code",
   "execution_count": 87,
   "id": "74003d90-113b-444b-a02b-ebbf5ead198b",
   "metadata": {},
   "outputs": [
    {
     "data": {
      "text/plain": [
       "True"
      ]
     },
     "execution_count": 87,
     "metadata": {},
     "output_type": "execute_result"
    }
   ],
   "source": [
    "x==7"
   ]
  },
  {
   "cell_type": "code",
   "execution_count": 88,
   "id": "7f51a77d-839c-4a64-a3a6-c6a89ebaabfe",
   "metadata": {},
   "outputs": [
    {
     "data": {
      "text/plain": [
       "True"
      ]
     },
     "execution_count": 88,
     "metadata": {},
     "output_type": "execute_result"
    }
   ],
   "source": [
    "5<x"
   ]
  },
  {
   "cell_type": "code",
   "execution_count": 89,
   "id": "0509c226-1947-482c-8846-c93110c782e9",
   "metadata": {},
   "outputs": [
    {
     "data": {
      "text/plain": [
       "True"
      ]
     },
     "execution_count": 89,
     "metadata": {},
     "output_type": "execute_result"
    }
   ],
   "source": [
    "x<10"
   ]
  },
  {
   "cell_type": "code",
   "execution_count": 91,
   "id": "82ea9b04-084c-4028-aada-6d3066d3525e",
   "metadata": {},
   "outputs": [
    {
     "data": {
      "text/plain": [
       "True"
      ]
     },
     "execution_count": 91,
     "metadata": {},
     "output_type": "execute_result"
    }
   ],
   "source": [
    "(5<x)and(x<10)"
   ]
  },
  {
   "cell_type": "code",
   "execution_count": 92,
   "id": "28e277a6-1c1b-4ca8-9b3e-e4ca4d0aa5ea",
   "metadata": {},
   "outputs": [
    {
     "data": {
      "text/plain": [
       "True"
      ]
     },
     "execution_count": 92,
     "metadata": {},
     "output_type": "execute_result"
    }
   ],
   "source": [
    "5<x or x<10"
   ]
  },
  {
   "cell_type": "code",
   "execution_count": 94,
   "id": "179e5f5c-eb17-46c6-aae8-8e82311025f3",
   "metadata": {},
   "outputs": [
    {
     "data": {
      "text/plain": [
       "False"
      ]
     },
     "execution_count": 94,
     "metadata": {},
     "output_type": "execute_result"
    }
   ],
   "source": [
    "5<x and x>10"
   ]
  },
  {
   "cell_type": "code",
   "execution_count": 95,
   "id": "31819c4f-b12e-4af6-b2ea-3c43cbfd984b",
   "metadata": {},
   "outputs": [
    {
     "data": {
      "text/plain": [
       "True"
      ]
     },
     "execution_count": 95,
     "metadata": {},
     "output_type": "execute_result"
    }
   ],
   "source": [
    "5<x and not x>10"
   ]
  },
  {
   "cell_type": "code",
   "execution_count": 96,
   "id": "80f6ffc7-25ba-4d36-80b8-39b06a893231",
   "metadata": {},
   "outputs": [
    {
     "data": {
      "text/plain": [
       "True"
      ]
     },
     "execution_count": 96,
     "metadata": {},
     "output_type": "execute_result"
    }
   ],
   "source": [
    "5<x<10<999"
   ]
  },
  {
   "cell_type": "code",
   "execution_count": 98,
   "id": "b629d11c-d266-44ff-8570-826902e36b07",
   "metadata": {},
   "outputs": [],
   "source": [
    "# false가 나오는 경우\n",
    "# null, 0, 0.0, '', [], (), {}, set()"
   ]
  },
  {
   "cell_type": "code",
   "execution_count": 99,
   "id": "87be413c-e022-40bc-a512-2d21974a2442",
   "metadata": {},
   "outputs": [
    {
     "name": "stdout",
     "output_type": "stream",
     "text": [
      "Empty\n"
     ]
    }
   ],
   "source": [
    "some_list=[]\n",
    "if some_list:\n",
    "    print(\"Not Empty\")\n",
    "else:\n",
    "    print(\"Empty\")"
   ]
  },
  {
   "cell_type": "code",
   "execution_count": 101,
   "id": "440a7c64-7d84-4aa9-a580-c6ac2fe4b914",
   "metadata": {},
   "outputs": [
    {
     "data": {
      "text/plain": [
       "'letter'"
      ]
     },
     "execution_count": 101,
     "metadata": {},
     "output_type": "execute_result"
    }
   ],
   "source": [
    "l1=\"letter\"\n",
    "l1"
   ]
  },
  {
   "cell_type": "code",
   "execution_count": 104,
   "id": "72f9bf30-ecb3-4cd0-8b2e-9b3247a9d483",
   "metadata": {},
   "outputs": [
    {
     "data": {
      "text/plain": [
       "True"
      ]
     },
     "execution_count": 104,
     "metadata": {},
     "output_type": "execute_result"
    }
   ],
   "source": [
    "# in - 멤버십 연산자 (ex. l1 안에 l이라는 문자가 들어가 있는가)\n",
    "l in l1"
   ]
  },
  {
   "cell_type": "code",
   "execution_count": 106,
   "id": "07e0c658-92ce-40c5-ae56-6406bce25f55",
   "metadata": {},
   "outputs": [
    {
     "name": "stdout",
     "output_type": "stream",
     "text": [
      "include\n"
     ]
    }
   ],
   "source": [
    "if 'e' in l1:\n",
    "    print(\"include\")\n",
    "else:\n",
    "    print(\"none\")"
   ]
  },
  {
   "cell_type": "code",
   "execution_count": 108,
   "id": "aa4fb74d-b289-4982-a4e4-6f06121f873b",
   "metadata": {},
   "outputs": [],
   "source": [
    "# := - 바다코끼리 연산자\n",
    "# 이름 := 표현식"
   ]
  },
  {
   "cell_type": "code",
   "execution_count": 116,
   "id": "16161b1c-aa81-4ea8-b98e-570a5e1654bb",
   "metadata": {},
   "outputs": [
    {
     "name": "stdout",
     "output_type": "stream",
     "text": [
      "A fitting tweet\n"
     ]
    }
   ],
   "source": [
    "tweet_limit=280\n",
    "tweet_string=\"Blah\"*50\n",
    "# diff=tweet_limit-len(tweet_string)\n",
    "# diff>=0\n",
    "if diff:=tweet_limit-len(tweet_string)>=0:\n",
    "    print(\"A fitting tweet\")\n",
    "else:\n",
    "    print(\"Wont over by\",abs(diff))"
   ]
  },
  {
   "cell_type": "code",
   "execution_count": null,
   "id": "29c97239-12ba-4f5a-b48f-890ae663ad7f",
   "metadata": {},
   "outputs": [],
   "source": []
  }
 ],
 "metadata": {
  "kernelspec": {
   "display_name": "Python 3 (ipykernel)",
   "language": "python",
   "name": "python3"
  },
  "language_info": {
   "codemirror_mode": {
    "name": "ipython",
    "version": 3
   },
   "file_extension": ".py",
   "mimetype": "text/x-python",
   "name": "python",
   "nbconvert_exporter": "python",
   "pygments_lexer": "ipython3",
   "version": "3.9.12"
  }
 },
 "nbformat": 4,
 "nbformat_minor": 5
}
