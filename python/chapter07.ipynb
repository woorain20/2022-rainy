{
 "cells": [
  {
   "cell_type": "code",
   "execution_count": 1,
   "id": "0da1dd1f-3ec3-4039-8741-32ea575ca7d6",
   "metadata": {},
   "outputs": [],
   "source": [
    "# 리스트 - [] - 가변\n",
    "# 튜플 - () - 불변(상수배열)"
   ]
  },
  {
   "cell_type": "code",
   "execution_count": 2,
   "id": "d0728c49-473c-4b3b-be9b-002dcd312a8c",
   "metadata": {},
   "outputs": [
    {
     "data": {
      "text/plain": [
       "()"
      ]
     },
     "execution_count": 2,
     "metadata": {},
     "output_type": "execute_result"
    }
   ],
   "source": [
    "empty_tuple=()\n",
    "empty_tuple"
   ]
  },
  {
   "cell_type": "code",
   "execution_count": 4,
   "id": "959fba57-fa6f-434c-90d5-773c0d44af18",
   "metadata": {},
   "outputs": [
    {
     "data": {
      "text/plain": [
       "('Groucho',)"
      ]
     },
     "execution_count": 4,
     "metadata": {},
     "output_type": "execute_result"
    }
   ],
   "source": [
    "one_marx=(\"Groucho\", )\n",
    "one_marx\n",
    "# 하나 생성할 때도 , 붙여야 함"
   ]
  },
  {
   "cell_type": "code",
   "execution_count": 6,
   "id": "bee32027-b91b-4d2e-90dd-37c7bdf6276b",
   "metadata": {},
   "outputs": [
    {
     "data": {
      "text/plain": [
       "tuple"
      ]
     },
     "execution_count": 6,
     "metadata": {},
     "output_type": "execute_result"
    }
   ],
   "source": [
    "one_marx=\"Groucho\",\n",
    "type(one_marx)\n",
    "# 소괄호 생략 가능"
   ]
  },
  {
   "cell_type": "code",
   "execution_count": 7,
   "id": "2e423f91-050f-4c49-b230-765d8f9e67de",
   "metadata": {},
   "outputs": [
    {
     "data": {
      "text/plain": [
       "('Groucho', 'Chico', 'Harpo')"
      ]
     },
     "execution_count": 7,
     "metadata": {},
     "output_type": "execute_result"
    }
   ],
   "source": [
    "marx_tuple=(\"Groucho\",\"Chico\",\"Harpo\")\n",
    "marx_tuple"
   ]
  },
  {
   "cell_type": "code",
   "execution_count": 8,
   "id": "33e6d2ea-df48-4f44-bb6a-e9ff7c82cf4c",
   "metadata": {},
   "outputs": [
    {
     "data": {
      "text/plain": [
       "tuple"
      ]
     },
     "execution_count": 8,
     "metadata": {},
     "output_type": "execute_result"
    }
   ],
   "source": [
    "marx_tuple=\"Groucho\",\"Chico\",\"Harpo\"\n",
    "type(marx_tuple)"
   ]
  },
  {
   "cell_type": "code",
   "execution_count": 9,
   "id": "2b5b9216-7c1e-4e2b-b87a-ec9eed6d2e10",
   "metadata": {},
   "outputs": [
    {
     "data": {
      "text/plain": [
       "str"
      ]
     },
     "execution_count": 9,
     "metadata": {},
     "output_type": "execute_result"
    }
   ],
   "source": [
    "type(\"Groucho\",)"
   ]
  },
  {
   "cell_type": "code",
   "execution_count": 10,
   "id": "8afc9ece-2d11-4a0a-8b49-02aa0a20b4e1",
   "metadata": {},
   "outputs": [
    {
     "data": {
      "text/plain": [
       "tuple"
      ]
     },
     "execution_count": 10,
     "metadata": {},
     "output_type": "execute_result"
    }
   ],
   "source": [
    "type((\"Groucho\",))"
   ]
  },
  {
   "cell_type": "code",
   "execution_count": 11,
   "id": "ed2b1874-8330-4350-9caf-408857cc80d8",
   "metadata": {},
   "outputs": [
    {
     "data": {
      "text/plain": [
       "'Groucho'"
      ]
     },
     "execution_count": 11,
     "metadata": {},
     "output_type": "execute_result"
    }
   ],
   "source": [
    "marx_tuple[0]"
   ]
  },
  {
   "cell_type": "code",
   "execution_count": 12,
   "id": "1fe1f6c1-a7dc-46cd-83f4-f73318be62f8",
   "metadata": {},
   "outputs": [
    {
     "data": {
      "text/plain": [
       "'Harpo'"
      ]
     },
     "execution_count": 12,
     "metadata": {},
     "output_type": "execute_result"
    }
   ],
   "source": [
    "marx_tuple[2]"
   ]
  },
  {
   "cell_type": "code",
   "execution_count": 14,
   "id": "f9afa217-2e27-4c3a-a737-642a265c3324",
   "metadata": {},
   "outputs": [
    {
     "name": "stdout",
     "output_type": "stream",
     "text": [
      "Groucho Chico Harpo\n"
     ]
    },
    {
     "data": {
      "text/plain": [
       "('Groucho', 'Chico', 'Harpo')"
      ]
     },
     "execution_count": 14,
     "metadata": {},
     "output_type": "execute_result"
    }
   ],
   "source": [
    "a=marx_tuple[0]\n",
    "b=marx_tuple[1]\n",
    "c=marx_tuple[2]\n",
    "print(a,b,c)\n",
    "a,b,c"
   ]
  },
  {
   "cell_type": "code",
   "execution_count": 18,
   "id": "c75be300-74e2-441e-a6ef-d346791ab66c",
   "metadata": {},
   "outputs": [],
   "source": [
    "# marx_tuple[0]=\"Croucho\" - 안 됨. 에러발생. 불변 특성"
   ]
  },
  {
   "cell_type": "code",
   "execution_count": 20,
   "id": "46e25945-db00-423c-b785-2bbd831419e4",
   "metadata": {},
   "outputs": [
    {
     "name": "stdout",
     "output_type": "stream",
     "text": [
      "Groucho Chico Harpo\n"
     ]
    }
   ],
   "source": [
    "# 튜플 언패킹\n",
    "d,e,f=marx_tuple\n",
    "print(d,e,f)"
   ]
  },
  {
   "cell_type": "code",
   "execution_count": 21,
   "id": "4aab45c1-8e23-48b2-828c-ac3038a062ed",
   "metadata": {},
   "outputs": [
    {
     "name": "stdout",
     "output_type": "stream",
     "text": [
      "tuttifrutti swordfish\n"
     ]
    }
   ],
   "source": [
    "password=\"swordfish\"\n",
    "icecream=\"tuttifrutti\"\n",
    "temp=password\n",
    "password=icecream\n",
    "icecream=temp\n",
    "print(password, icecream)"
   ]
  },
  {
   "cell_type": "code",
   "execution_count": 22,
   "id": "9cc89925-baf0-4d68-b83f-c67b90fbd22e",
   "metadata": {},
   "outputs": [
    {
     "name": "stdout",
     "output_type": "stream",
     "text": [
      "swordfish tuttifrutti\n"
     ]
    }
   ],
   "source": [
    "password, icecream=icecream, password\n",
    "print(password, icecream)"
   ]
  },
  {
   "cell_type": "code",
   "execution_count": 24,
   "id": "cde53e02-2707-4be2-8c39-bc05b0513a03",
   "metadata": {},
   "outputs": [
    {
     "data": {
      "text/plain": [
       "('Groucho', 'Chico', 'Harpo')"
      ]
     },
     "execution_count": 24,
     "metadata": {},
     "output_type": "execute_result"
    }
   ],
   "source": [
    "marx_list=[\"Groucho\",\"Chico\",\"Harpo\"]\n",
    "marx_list=tuple(marx_list)\n",
    "marx_list"
   ]
  },
  {
   "cell_type": "code",
   "execution_count": 25,
   "id": "57d9e648-653e-48f7-aba5-a1a439f7ba62",
   "metadata": {},
   "outputs": [
    {
     "data": {
      "text/plain": [
       "('Groucho', 'Chico', 'Harpo')"
      ]
     },
     "execution_count": 25,
     "metadata": {},
     "output_type": "execute_result"
    }
   ],
   "source": [
    "(\"Groucho\",)+(\"Chico\",\"Harpo\")"
   ]
  },
  {
   "cell_type": "code",
   "execution_count": 26,
   "id": "54f8cdb0-0b78-410d-acd0-638e364c511a",
   "metadata": {},
   "outputs": [
    {
     "data": {
      "text/plain": [
       "('yada', 'yada', 'yada')"
      ]
     },
     "execution_count": 26,
     "metadata": {},
     "output_type": "execute_result"
    }
   ],
   "source": [
    "(\"yada\",)*3"
   ]
  },
  {
   "cell_type": "code",
   "execution_count": 29,
   "id": "ea58c228-667d-46e9-b887-ae1c1ee070a0",
   "metadata": {},
   "outputs": [
    {
     "data": {
      "text/plain": [
       "False"
      ]
     },
     "execution_count": 29,
     "metadata": {},
     "output_type": "execute_result"
    }
   ],
   "source": [
    "a=(7,2)\n",
    "b=(7,2,9)\n",
    "c=(2,7)\n",
    "d=(7,2)\n",
    "a==b"
   ]
  },
  {
   "cell_type": "code",
   "execution_count": 28,
   "id": "f961947d-f81e-438c-b805-9de890a4e1b9",
   "metadata": {},
   "outputs": [
    {
     "data": {
      "text/plain": [
       "False"
      ]
     },
     "execution_count": 28,
     "metadata": {},
     "output_type": "execute_result"
    }
   ],
   "source": [
    "a==c"
   ]
  },
  {
   "cell_type": "code",
   "execution_count": 30,
   "id": "1ec538da-4796-4211-8f49-a4207e4b2d40",
   "metadata": {},
   "outputs": [
    {
     "data": {
      "text/plain": [
       "True"
      ]
     },
     "execution_count": 30,
     "metadata": {},
     "output_type": "execute_result"
    }
   ],
   "source": [
    "a==d"
   ]
  },
  {
   "cell_type": "code",
   "execution_count": 31,
   "id": "231d392e-17dd-4bc5-b25c-56638a6fccc0",
   "metadata": {},
   "outputs": [
    {
     "name": "stdout",
     "output_type": "stream",
     "text": [
      "False False True\n"
     ]
    }
   ],
   "source": [
    "print(a==b, a==c, a==d)"
   ]
  },
  {
   "cell_type": "code",
   "execution_count": 32,
   "id": "5a7e7434-fecf-45d0-8131-f2025bab34f6",
   "metadata": {},
   "outputs": [
    {
     "name": "stdout",
     "output_type": "stream",
     "text": [
      "fresh\n",
      "out\n",
      "of\n",
      "ideas\n"
     ]
    }
   ],
   "source": [
    "words=(\"fresh\",\"out\",\"of\",\"ideas\")\n",
    "for word in words:\n",
    "    print(word)"
   ]
  },
  {
   "cell_type": "code",
   "execution_count": 35,
   "id": "c8e53acb-eb91-49c8-9875-58472d2f956c",
   "metadata": {},
   "outputs": [
    {
     "name": "stdout",
     "output_type": "stream",
     "text": [
      "1383836126336\n",
      "1383804056576\n",
      "1383836230416\n"
     ]
    },
    {
     "data": {
      "text/plain": [
       "('Fee', 'Fie', 'Foe', 'Flop')"
      ]
     },
     "execution_count": 35,
     "metadata": {},
     "output_type": "execute_result"
    }
   ],
   "source": [
    "t1=(\"Fee\", \"Fie\", \"Foe\")\n",
    "print(id(t1))\n",
    "t2=(\"Flop\",)\n",
    "print(id(t2))\n",
    "t1+=t2\n",
    "print(id(t1))\n",
    "t1"
   ]
  },
  {
   "cell_type": "code",
   "execution_count": 36,
   "id": "a3ef63bc-bcdb-40e9-9cd7-c040949a03a3",
   "metadata": {},
   "outputs": [],
   "source": [
    "# 실제 메모리 주소 -> 가상 메모리 주소 -> (프로그래밍 언어 가상 주소)\n",
    "# id() - 주소를 알아볼 수 있음"
   ]
  },
  {
   "cell_type": "code",
   "execution_count": 37,
   "id": "279dfa4e-6d5a-41d0-a0ef-b7c9e2565d86",
   "metadata": {},
   "outputs": [
    {
     "name": "stdout",
     "output_type": "stream",
     "text": [
      "1383713892752 1383713892720\n"
     ]
    }
   ],
   "source": [
    "x=3\n",
    "y=x\n",
    "x=4\n",
    "print(id(x),id(y))"
   ]
  },
  {
   "cell_type": "code",
   "execution_count": 39,
   "id": "148f71f1-34da-4f65-a75d-524681d7f8c4",
   "metadata": {},
   "outputs": [
    {
     "name": "stdout",
     "output_type": "stream",
     "text": [
      "[1, 1] 1383836296704 1383836296704\n"
     ]
    }
   ],
   "source": [
    "i=[0,1]\n",
    "j=i\n",
    "i[0]=1\n",
    "print(j,id(i),id(j))"
   ]
  },
  {
   "cell_type": "code",
   "execution_count": 40,
   "id": "b38f88b7-7c06-44d1-8c80-f3e59c8bdeaf",
   "metadata": {},
   "outputs": [
    {
     "data": {
      "text/plain": [
       "[]"
      ]
     },
     "execution_count": 40,
     "metadata": {},
     "output_type": "execute_result"
    }
   ],
   "source": [
    "empty_list=[]\n",
    "empty_list"
   ]
  },
  {
   "cell_type": "code",
   "execution_count": 41,
   "id": "fbfc0b2d-27df-4661-9cae-c5b7f656bcee",
   "metadata": {},
   "outputs": [
    {
     "data": {
      "text/plain": [
       "['Monday', 'Tuesday', 'Wednesday']"
      ]
     },
     "execution_count": 41,
     "metadata": {},
     "output_type": "execute_result"
    }
   ],
   "source": [
    "weekdays=[\"Monday\", \"Tuesday\", \"Wednesday\"]\n",
    "weekdays"
   ]
  },
  {
   "cell_type": "code",
   "execution_count": 43,
   "id": "9953f53c-da8e-4d8c-bcce-b0ae2d8bf43a",
   "metadata": {},
   "outputs": [
    {
     "name": "stdout",
     "output_type": "stream",
     "text": [
      "Monday Wednesday\n"
     ]
    }
   ],
   "source": [
    "print(weekdays[0],weekdays[2])"
   ]
  },
  {
   "cell_type": "code",
   "execution_count": 44,
   "id": "5f4f9abd-0185-413a-abb4-602a76825055",
   "metadata": {},
   "outputs": [
    {
     "data": {
      "text/plain": [
       "['Sunday', 'Tuesday', 'Wednesday']"
      ]
     },
     "execution_count": 44,
     "metadata": {},
     "output_type": "execute_result"
    }
   ],
   "source": [
    "weekdays[0]=\"Sunday\"\n",
    "weekdays"
   ]
  },
  {
   "cell_type": "code",
   "execution_count": 45,
   "id": "aeb53b61-4dfc-481b-a1f6-f59c2234ebc7",
   "metadata": {},
   "outputs": [
    {
     "data": {
      "text/plain": [
       "['c', 'a', 't']"
      ]
     },
     "execution_count": 45,
     "metadata": {},
     "output_type": "execute_result"
    }
   ],
   "source": [
    "list(\"cat\")"
   ]
  },
  {
   "cell_type": "code",
   "execution_count": 46,
   "id": "918afa01-e4e5-4ba3-b9ba-ba9fb716e622",
   "metadata": {},
   "outputs": [
    {
     "data": {
      "text/plain": [
       "['ready', 'fire', 'aim']"
      ]
     },
     "execution_count": 46,
     "metadata": {},
     "output_type": "execute_result"
    }
   ],
   "source": [
    "a_tuple=(\"ready\", \"fire\", \"aim\")\n",
    "list(a_tuple)"
   ]
  },
  {
   "cell_type": "code",
   "execution_count": 47,
   "id": "1ad34e3b-074f-42ae-808c-8e63ec73fd0e",
   "metadata": {},
   "outputs": [
    {
     "data": {
      "text/plain": [
       "['9', '19', '2022']"
      ]
     },
     "execution_count": 47,
     "metadata": {},
     "output_type": "execute_result"
    }
   ],
   "source": [
    "# 문자열 분할로 생성하기 - split()\n",
    "pirate_day=\"9/19/2022\"\n",
    "pirate_day.split(\"/\")"
   ]
  },
  {
   "cell_type": "code",
   "execution_count": 48,
   "id": "d740fbec-afcc-46bd-aa8c-49ebf0859c50",
   "metadata": {},
   "outputs": [
    {
     "data": {
      "text/plain": [
       "'Wednesday'"
      ]
     },
     "execution_count": 48,
     "metadata": {},
     "output_type": "execute_result"
    }
   ],
   "source": [
    "weekdays[-1]"
   ]
  },
  {
   "cell_type": "code",
   "execution_count": 49,
   "id": "e9eb4ec7-6de6-44fa-8189-6e8d8a12114e",
   "metadata": {},
   "outputs": [
    {
     "data": {
      "text/plain": [
       "['Sunday', 'Tuesday']"
      ]
     },
     "execution_count": 49,
     "metadata": {},
     "output_type": "execute_result"
    }
   ],
   "source": [
    "weekdays[0:2]"
   ]
  },
  {
   "cell_type": "code",
   "execution_count": 50,
   "id": "72cd6f66-1e25-464e-b039-4a20ab3124a0",
   "metadata": {},
   "outputs": [
    {
     "data": {
      "text/plain": [
       "['Sunday', 'Wednesday']"
      ]
     },
     "execution_count": 50,
     "metadata": {},
     "output_type": "execute_result"
    }
   ],
   "source": [
    "weekdays[::2]"
   ]
  },
  {
   "cell_type": "code",
   "execution_count": 53,
   "id": "a41d4990-e64e-4546-a1c0-68cfe0eacc32",
   "metadata": {},
   "outputs": [
    {
     "data": {
      "text/plain": [
       "['Wednesday', 'Tuesday', 'Sunday']"
      ]
     },
     "execution_count": 53,
     "metadata": {},
     "output_type": "execute_result"
    }
   ],
   "source": [
    "weekdays.reverse()\n",
    "weekdays"
   ]
  },
  {
   "cell_type": "code",
   "execution_count": 71,
   "id": "dc3e7025-0f51-49df-8470-6b9f062e62c3",
   "metadata": {},
   "outputs": [
    {
     "data": {
      "text/plain": [
       "['Groucho', 'Chico', 'Harpo', 'Zeppo']"
      ]
     },
     "execution_count": 71,
     "metadata": {},
     "output_type": "execute_result"
    }
   ],
   "source": [
    "marxes=[\"Groucho\",\"Chico\",\"Harpo\"]\n",
    "marxes.append(\"Zeppo\")\n",
    "marxes"
   ]
  },
  {
   "cell_type": "code",
   "execution_count": 72,
   "id": "1e7fdb3c-485c-4c04-a090-8506cb742c86",
   "metadata": {},
   "outputs": [
    {
     "data": {
      "text/plain": [
       "['Groucho', 'Gummo', 'Chico', 'Harpo', 'Zeppo']"
      ]
     },
     "execution_count": 72,
     "metadata": {},
     "output_type": "execute_result"
    }
   ],
   "source": [
    "# index==offest\n",
    "# insert(index,값)\n",
    "marxes.insert(1,\"Gummo\")\n",
    "marxes"
   ]
  },
  {
   "cell_type": "code",
   "execution_count": 56,
   "id": "202a2e59-1059-40ad-b61e-01c6d9c572cd",
   "metadata": {},
   "outputs": [
    {
     "data": {
      "text/plain": [
       "['blah', 'blah', 'blah']"
      ]
     },
     "execution_count": 56,
     "metadata": {},
     "output_type": "execute_result"
    }
   ],
   "source": [
    "[\"blah\"]*3"
   ]
  },
  {
   "cell_type": "code",
   "execution_count": 73,
   "id": "7dfa518e-a0aa-40af-8789-734218d18105",
   "metadata": {},
   "outputs": [],
   "source": [
    "others=[\"Karl\",\"John\"]\n",
    "marxes+=others"
   ]
  },
  {
   "cell_type": "code",
   "execution_count": 74,
   "id": "54887cc0-b46b-476e-a294-6365f9d0f67d",
   "metadata": {},
   "outputs": [
    {
     "data": {
      "text/plain": [
       "['Groucho', 'Gummo', 'Chico', 'Harpo', 'Zeppo', 'Karl', 'John', 'foo', 'bar']"
      ]
     },
     "execution_count": 74,
     "metadata": {},
     "output_type": "execute_result"
    }
   ],
   "source": [
    "others2=[\"foo\",\"bar\"]\n",
    "marxes.extend(others2)\n",
    "marxes"
   ]
  },
  {
   "cell_type": "code",
   "execution_count": 75,
   "id": "a2d8a115-646e-49af-af0c-ca4071734e03",
   "metadata": {},
   "outputs": [
    {
     "data": {
      "text/plain": [
       "['Groucho', 'Chico', 'Harpo', ['Karl', 'John']]"
      ]
     },
     "execution_count": 75,
     "metadata": {},
     "output_type": "execute_result"
    }
   ],
   "source": [
    "marxes=[\"Groucho\",\"Chico\",\"Harpo\"]\n",
    "others=[\"Karl\",\"John\"]\n",
    "marxes.append(others)\n",
    "marxes"
   ]
  },
  {
   "cell_type": "code",
   "execution_count": 76,
   "id": "1b627993-15b3-4ebe-b274-1eb8ab7f7fb6",
   "metadata": {},
   "outputs": [
    {
     "data": {
      "text/plain": [
       "[1, 8, 9, 4]"
      ]
     },
     "execution_count": 76,
     "metadata": {},
     "output_type": "execute_result"
    }
   ],
   "source": [
    "numbers=[1,2,3,4]\n",
    "numbers[1:3]=[8,9]\n",
    "numbers"
   ]
  },
  {
   "cell_type": "code",
   "execution_count": 77,
   "id": "7b9e0182-6311-4d3b-8797-c004144fdd3c",
   "metadata": {},
   "outputs": [
    {
     "data": {
      "text/plain": [
       "[1, 7, 8, 9, 4, 5]"
      ]
     },
     "execution_count": 77,
     "metadata": {},
     "output_type": "execute_result"
    }
   ],
   "source": [
    "numbers=[1,2,3,4,5]\n",
    "numbers[1:3]=[7,8,9]\n",
    "numbers"
   ]
  },
  {
   "cell_type": "code",
   "execution_count": 78,
   "id": "292eac91-5e01-495f-aa7e-33d8472dbdf7",
   "metadata": {},
   "outputs": [
    {
     "data": {
      "text/plain": [
       "[1, 4, 5]"
      ]
     },
     "execution_count": 78,
     "metadata": {},
     "output_type": "execute_result"
    }
   ],
   "source": [
    "numbers=[1,2,3,4,5]\n",
    "numbers[1:3]=[]\n",
    "numbers"
   ]
  },
  {
   "cell_type": "code",
   "execution_count": 79,
   "id": "e3b2cb9c-bd5f-4132-a272-08984cd9a34a",
   "metadata": {},
   "outputs": [
    {
     "data": {
      "text/plain": [
       "[1, 'w', 'a', 't', '?', 4, 5]"
      ]
     },
     "execution_count": 79,
     "metadata": {},
     "output_type": "execute_result"
    }
   ],
   "source": [
    "numbers=[1,2,3,4,5]\n",
    "numbers[1:3]=\"wat?\"\n",
    "numbers"
   ]
  },
  {
   "cell_type": "code",
   "execution_count": 80,
   "id": "0340db75-8ce0-47b7-ac1b-4427316f0b88",
   "metadata": {},
   "outputs": [
    {
     "data": {
      "text/plain": [
       "[1, 98, 99, 100, 't', '?', 4, 5]"
      ]
     },
     "execution_count": 80,
     "metadata": {},
     "output_type": "execute_result"
    }
   ],
   "source": [
    "t_n=(98,99,100)\n",
    "numbers[1:3]=t_n\n",
    "numbers"
   ]
  },
  {
   "cell_type": "code",
   "execution_count": 81,
   "id": "b526d8ac-3322-4027-ae45-8b83606db88a",
   "metadata": {},
   "outputs": [
    {
     "data": {
      "text/plain": [
       "[98, 99, 100, 't', '?', 4, 5]"
      ]
     },
     "execution_count": 81,
     "metadata": {},
     "output_type": "execute_result"
    }
   ],
   "source": [
    "del numbers[0]\n",
    "numbers"
   ]
  },
  {
   "cell_type": "code",
   "execution_count": 83,
   "id": "e4ccdc04-b204-4067-89b7-8a8f52e7d5ba",
   "metadata": {},
   "outputs": [
    {
     "data": {
      "text/plain": [
       "[98, 99, 5]"
      ]
     },
     "execution_count": 83,
     "metadata": {},
     "output_type": "execute_result"
    }
   ],
   "source": [
    "del numbers[2:4]\n",
    "numbers"
   ]
  },
  {
   "cell_type": "code",
   "execution_count": 84,
   "id": "6534c5a1-ad49-4c29-b1b1-6a86520fdf67",
   "metadata": {},
   "outputs": [
    {
     "data": {
      "text/plain": [
       "['Chico', 'Harpo']"
      ]
     },
     "execution_count": 84,
     "metadata": {},
     "output_type": "execute_result"
    }
   ],
   "source": [
    "marxes=[\"Groucho\",\"Chico\",\"Harpo\"]\n",
    "marxes.remove(\"Groucho\")\n",
    "marxes"
   ]
  },
  {
   "cell_type": "code",
   "execution_count": 89,
   "id": "56c9473a-9fb3-4b14-8433-3b9790038949",
   "metadata": {},
   "outputs": [
    {
     "name": "stdout",
     "output_type": "stream",
     "text": [
      "['Groucho', 'Chico', 'Harpo'] Zeppo\n"
     ]
    }
   ],
   "source": [
    "# pop() - 항목을 얻은 후 삭제\n",
    "marxes=[\"Groucho\",\"Chico\",\"Harpo\", \"Zeppo\"]\n",
    "pop1=marxes.pop()\n",
    "print(marxes,pop1)"
   ]
  },
  {
   "cell_type": "code",
   "execution_count": 90,
   "id": "83087fe1-e91f-4627-a5e8-1ba4358f1726",
   "metadata": {},
   "outputs": [
    {
     "name": "stdout",
     "output_type": "stream",
     "text": [
      "['Groucho', 'Harpo'] Chico\n"
     ]
    }
   ],
   "source": [
    "pop2=marxes.pop(1)\n",
    "print(marxes,pop2)"
   ]
  },
  {
   "cell_type": "code",
   "execution_count": 91,
   "id": "2af9d9f8-2b68-42a6-96fb-bbe407df0998",
   "metadata": {},
   "outputs": [
    {
     "data": {
      "text/plain": [
       "[45]"
      ]
     },
     "execution_count": 91,
     "metadata": {},
     "output_type": "execute_result"
    }
   ],
   "source": [
    "# 로또\n",
    "# 1~45 6개\n",
    "l_numbers=[1,2,3,4,5,6,45]\n",
    "pop_n=[]\n",
    "pop_n.append(l_numbers.pop())\n",
    "pop_n"
   ]
  },
  {
   "cell_type": "code",
   "execution_count": 92,
   "id": "345c80a0-c7ff-4eed-a205-41ad9032e890",
   "metadata": {},
   "outputs": [
    {
     "data": {
      "text/plain": [
       "[]"
      ]
     },
     "execution_count": 92,
     "metadata": {},
     "output_type": "execute_result"
    }
   ],
   "source": [
    "l_numbers.clear()\n",
    "l_numbers"
   ]
  },
  {
   "cell_type": "code",
   "execution_count": 97,
   "id": "31671af6-7b67-4329-9e1f-c092f120f79c",
   "metadata": {},
   "outputs": [
    {
     "data": {
      "text/plain": [
       "1"
      ]
     },
     "execution_count": 97,
     "metadata": {},
     "output_type": "execute_result"
    }
   ],
   "source": [
    "marxes=[\"Groucho\",\"Chico\",\"Harpo\", \"Zeppo\",\"Chico\"]\n",
    "marxes.index(\"Chico\")"
   ]
  },
  {
   "cell_type": "code",
   "execution_count": 94,
   "id": "26150e75-071a-4469-aa5e-7a0047f793dd",
   "metadata": {},
   "outputs": [
    {
     "data": {
      "text/plain": [
       "True"
      ]
     },
     "execution_count": 94,
     "metadata": {},
     "output_type": "execute_result"
    }
   ],
   "source": [
    "\"Groucho\" in marxes"
   ]
  },
  {
   "cell_type": "code",
   "execution_count": 96,
   "id": "6ef5404f-ea2a-4905-9ed1-b92ab7367463",
   "metadata": {},
   "outputs": [
    {
     "data": {
      "text/plain": [
       "False"
      ]
     },
     "execution_count": 96,
     "metadata": {},
     "output_type": "execute_result"
    }
   ],
   "source": [
    "\"Bob\" in marxes"
   ]
  },
  {
   "cell_type": "code",
   "execution_count": 98,
   "id": "ae3582a0-01cc-4b3f-af04-0ef85ff21b8b",
   "metadata": {},
   "outputs": [
    {
     "data": {
      "text/plain": [
       "2"
      ]
     },
     "execution_count": 98,
     "metadata": {},
     "output_type": "execute_result"
    }
   ],
   "source": [
    "marxes.count(\"Chico\")"
   ]
  },
  {
   "cell_type": "code",
   "execution_count": 100,
   "id": "3bdb6199-f02f-405b-a764-0964fc9c3175",
   "metadata": {},
   "outputs": [
    {
     "data": {
      "text/plain": [
       "'2022-08-31'"
      ]
     },
     "execution_count": 100,
     "metadata": {},
     "output_type": "execute_result"
    }
   ],
   "source": [
    "someday=[\"2022\",\"08\",\"31\"]\n",
    "\"-\".join(someday)"
   ]
  },
  {
   "cell_type": "code",
   "execution_count": 101,
   "id": "5a5bd8d9-0081-47eb-8a24-5c525f2c8877",
   "metadata": {},
   "outputs": [
    {
     "data": {
      "text/plain": [
       "['Chico', 'Chico', 'Groucho', 'Harpo', 'Zeppo']"
      ]
     },
     "execution_count": 101,
     "metadata": {},
     "output_type": "execute_result"
    }
   ],
   "source": [
    "# 정렬 - sort() -문자열-사전편찬순, 오름차순\n",
    "marxes=[\"Groucho\",\"Chico\",\"Harpo\", \"Zeppo\",\"Chico\"]\n",
    "marxes.sort()\n",
    "marxes"
   ]
  },
  {
   "cell_type": "code",
   "execution_count": 102,
   "id": "d2aa49d2-af92-456d-94dc-04ed40819a7e",
   "metadata": {},
   "outputs": [
    {
     "name": "stdout",
     "output_type": "stream",
     "text": [
      "['Chico', 'Chico', 'Groucho', 'Harpo', 'Zeppo'] 1383836657536 1383836787712\n"
     ]
    }
   ],
   "source": [
    "# sorted() - 복사본 반환\n",
    "marxes=[\"Groucho\",\"Chico\",\"Harpo\", \"Zeppo\",\"Chico\"]\n",
    "copy_m=sorted(marxes)\n",
    "print(copy_m, id(copy_m), id(marxes))"
   ]
  },
  {
   "cell_type": "code",
   "execution_count": 103,
   "id": "36e247e5-27a2-467a-af58-c4a4b1b45eee",
   "metadata": {},
   "outputs": [
    {
     "data": {
      "text/plain": [
       "[4.0, 3, 2, 1]"
      ]
     },
     "execution_count": 103,
     "metadata": {},
     "output_type": "execute_result"
    }
   ],
   "source": [
    "numbers=[2,1,4.0,3]\n",
    "numbers.sort(reverse=True)\n",
    "numbers"
   ]
  },
  {
   "cell_type": "code",
   "execution_count": 104,
   "id": "96f5c21c-ec2f-4a1a-91cd-c6dc3564de55",
   "metadata": {},
   "outputs": [
    {
     "data": {
      "text/plain": [
       "4"
      ]
     },
     "execution_count": 104,
     "metadata": {},
     "output_type": "execute_result"
    }
   ],
   "source": [
    "len(numbers)"
   ]
  },
  {
   "cell_type": "code",
   "execution_count": 106,
   "id": "f8f8fb8b-be31-437d-ba73-8754426e7c95",
   "metadata": {},
   "outputs": [
    {
     "data": {
      "text/plain": [
       "['surprise', 2, 3]"
      ]
     },
     "execution_count": 106,
     "metadata": {},
     "output_type": "execute_result"
    }
   ],
   "source": [
    "a=[1,2,3]\n",
    "b=a\n",
    "a[0]=\"surprise\"\n",
    "b"
   ]
  },
  {
   "cell_type": "code",
   "execution_count": 107,
   "id": "1d266550-e883-4635-9e0f-e341dd702d36",
   "metadata": {},
   "outputs": [
    {
     "data": {
      "text/plain": [
       "[1, 2, 3]"
      ]
     },
     "execution_count": 107,
     "metadata": {},
     "output_type": "execute_result"
    }
   ],
   "source": [
    "a=[1,2,3]\n",
    "b=a.copy()\n",
    "a[0]=\"surprise\"\n",
    "b"
   ]
  },
  {
   "cell_type": "code",
   "execution_count": 108,
   "id": "1b78a907-7ff9-4932-9ae9-fb71f083b4da",
   "metadata": {},
   "outputs": [
    {
     "data": {
      "text/plain": [
       "[1, 2, 3]"
      ]
     },
     "execution_count": 108,
     "metadata": {},
     "output_type": "execute_result"
    }
   ],
   "source": [
    "a=[1,2,3]\n",
    "c=list(a)\n",
    "a[0]=\"surprise\"\n",
    "c"
   ]
  },
  {
   "cell_type": "code",
   "execution_count": 109,
   "id": "a34048be-6989-485a-b717-9488734851bd",
   "metadata": {},
   "outputs": [
    {
     "data": {
      "text/plain": [
       "[1, 2, 3]"
      ]
     },
     "execution_count": 109,
     "metadata": {},
     "output_type": "execute_result"
    }
   ],
   "source": [
    "a=[1,2,3]\n",
    "d=a[:]\n",
    "a[0]=\"surprise\"\n",
    "d"
   ]
  },
  {
   "cell_type": "code",
   "execution_count": 110,
   "id": "cf451ce9-64e7-421b-8497-c449df942639",
   "metadata": {},
   "outputs": [
    {
     "data": {
      "text/plain": [
       "[1, 2, ['surprise', 9]]"
      ]
     },
     "execution_count": 110,
     "metadata": {},
     "output_type": "execute_result"
    }
   ],
   "source": [
    "a=[1,2,[8,9]]\n",
    "b=a.copy()\n",
    "a[2][0]=\"surprise\"\n",
    "a"
   ]
  },
  {
   "cell_type": "code",
   "execution_count": 111,
   "id": "0a978207-b261-4dba-968a-c04b1bfff554",
   "metadata": {},
   "outputs": [
    {
     "data": {
      "text/plain": [
       "[1, 2, ['surprise', 9]]"
      ]
     },
     "execution_count": 111,
     "metadata": {},
     "output_type": "execute_result"
    }
   ],
   "source": [
    "b"
   ]
  },
  {
   "cell_type": "code",
   "execution_count": 112,
   "id": "62a8f3ee-ff6a-45c9-82e8-e543177b9275",
   "metadata": {},
   "outputs": [
    {
     "data": {
      "text/plain": [
       "[1, 2, ['surprise', 9]]"
      ]
     },
     "execution_count": 112,
     "metadata": {},
     "output_type": "execute_result"
    }
   ],
   "source": [
    "# 깊은 복사\n",
    "import copy\n",
    "a=[1,2,[8,9]]\n",
    "b=copy.deepcopy(a)\n",
    "a[2][0]=\"surprise\"\n",
    "a"
   ]
  },
  {
   "cell_type": "code",
   "execution_count": 113,
   "id": "f0377277-5ba4-48c6-969e-4c352229da6e",
   "metadata": {},
   "outputs": [
    {
     "data": {
      "text/plain": [
       "[1, 2, [8, 9]]"
      ]
     },
     "execution_count": 113,
     "metadata": {},
     "output_type": "execute_result"
    }
   ],
   "source": [
    "b"
   ]
  },
  {
   "cell_type": "code",
   "execution_count": 114,
   "id": "1844fe51-21ff-4761-9651-415a4ff2ee81",
   "metadata": {},
   "outputs": [
    {
     "name": "stdout",
     "output_type": "stream",
     "text": [
      "1\n",
      "2\n",
      "[8, 9]\n"
     ]
    }
   ],
   "source": [
    "for x in b:\n",
    "    print(x)"
   ]
  },
  {
   "cell_type": "code",
   "execution_count": 117,
   "id": "f604ba0c-dbd9-4cc7-8c84-c4914f62de91",
   "metadata": {},
   "outputs": [
    {
     "name": "stdout",
     "output_type": "stream",
     "text": [
      "Monday eat banana -drink coffee\n",
      "Tuesday eat orange -drink tea\n",
      "Wednsday eat peach -drink beer\n"
     ]
    }
   ],
   "source": [
    "# zip() - 여러 시퀀스 순회하기\n",
    "days=[\"Monday\", \"Tuesday\", \"Wednsday\"]\n",
    "fruits=[\"banana\", \"orange\", \"peach\", \"melon\"]\n",
    "drinks=[\"coffee\", \"tea\", \"beer\"]\n",
    "for day, fruit, drink in zip(days, fruits, drinks):\n",
    "    print(day, \"eat\", fruit, \"-drink\", drink)"
   ]
  },
  {
   "cell_type": "code",
   "execution_count": 118,
   "id": "c1c29649-7157-40fa-b068-83e29477d031",
   "metadata": {},
   "outputs": [
    {
     "data": {
      "text/plain": [
       "[('Monday', 'banana', 'coffee'),\n",
       " ('Tuesday', 'orange', 'tea'),\n",
       " ('Wednsday', 'peach', 'beer')]"
      ]
     },
     "execution_count": 118,
     "metadata": {},
     "output_type": "execute_result"
    }
   ],
   "source": [
    "list(zip(days,fruits,drinks))"
   ]
  },
  {
   "cell_type": "code",
   "execution_count": 122,
   "id": "b6e00a83-4586-4dd5-bb06-d182e60a48cc",
   "metadata": {},
   "outputs": [
    {
     "data": {
      "text/plain": [
       "{'Monday': 'banana', 'Tuesday': 'orange', 'Wednsday': 'peach'}"
      ]
     },
     "execution_count": 122,
     "metadata": {},
     "output_type": "execute_result"
    }
   ],
   "source": [
    "dict(zip(days,fruits))"
   ]
  },
  {
   "cell_type": "code",
   "execution_count": 123,
   "id": "6aedb7ee-4b58-4f2a-b7d1-1bbd267dd6ca",
   "metadata": {},
   "outputs": [
    {
     "data": {
      "text/plain": [
       "{'Monday': ['banana', 'orange', 'peach', 'melon'],\n",
       " 'Tuesday': ['coffee', 'tea', 'beer']}"
      ]
     },
     "execution_count": 123,
     "metadata": {},
     "output_type": "execute_result"
    }
   ],
   "source": [
    "dict(zip(days,(fruits,drinks)))"
   ]
  },
  {
   "cell_type": "code",
   "execution_count": 1,
   "id": "0237fd7b-5d2f-4f6c-aae4-f72acffb2044",
   "metadata": {},
   "outputs": [
    {
     "data": {
      "text/plain": [
       "[1, 2, 3]"
      ]
     },
     "execution_count": 1,
     "metadata": {},
     "output_type": "execute_result"
    }
   ],
   "source": [
    "# 리스트 컴프리헨션 - 리스트 생성\n",
    "number_list=[1,2,3]\n",
    "number_list"
   ]
  },
  {
   "cell_type": "code",
   "execution_count": 2,
   "id": "fbf0c67d-dbbd-422f-9acc-f7e7d08ea5eb",
   "metadata": {},
   "outputs": [
    {
     "data": {
      "text/plain": [
       "[1, 2, 3]"
      ]
     },
     "execution_count": 2,
     "metadata": {},
     "output_type": "execute_result"
    }
   ],
   "source": [
    "number_list=[]\n",
    "number_list.append(1)\n",
    "number_list.append(2)\n",
    "number_list.append(3)\n",
    "number_list"
   ]
  },
  {
   "cell_type": "code",
   "execution_count": 3,
   "id": "4c7687e7-366c-4970-89a0-d3555718478d",
   "metadata": {},
   "outputs": [
    {
     "data": {
      "text/plain": [
       "[0, 1, 2, 3, 4]"
      ]
     },
     "execution_count": 3,
     "metadata": {},
     "output_type": "execute_result"
    }
   ],
   "source": [
    "number_list=[]\n",
    "for number in range(0,5):\n",
    "    number_list.append(number)\n",
    "number_list"
   ]
  },
  {
   "cell_type": "code",
   "execution_count": 4,
   "id": "0d9f1650-a7d2-4ae9-9a95-9c5c615e3fca",
   "metadata": {},
   "outputs": [
    {
     "data": {
      "text/plain": [
       "[0, 1, 2, 3, 4]"
      ]
     },
     "execution_count": 4,
     "metadata": {},
     "output_type": "execute_result"
    }
   ],
   "source": [
    "number_list=list(range(0,5))\n",
    "number_list"
   ]
  },
  {
   "cell_type": "code",
   "execution_count": 7,
   "id": "4a86803d-dec3-4381-b452-f9e3a34e6738",
   "metadata": {},
   "outputs": [
    {
     "data": {
      "text/plain": [
       "[1, 2, 3, 4, 5]"
      ]
     },
     "execution_count": 7,
     "metadata": {},
     "output_type": "execute_result"
    }
   ],
   "source": [
    "# [표현식 for 항목 in 순회가능한 객체 if 조건]\n",
    "number_list=[number for number in range(1,6)]\n",
    "number_list"
   ]
  },
  {
   "cell_type": "code",
   "execution_count": 9,
   "id": "4e6acee1-d6f1-4012-b8c2-a500507333e0",
   "metadata": {},
   "outputs": [
    {
     "data": {
      "text/plain": [
       "[1, 3, 5, 7]"
      ]
     },
     "execution_count": 9,
     "metadata": {},
     "output_type": "execute_result"
    }
   ],
   "source": [
    "number_list=[number for number in range(1,8) if number%2==1]\n",
    "number_list"
   ]
  },
  {
   "cell_type": "code",
   "execution_count": 10,
   "id": "d8ca333b-1ae7-41b6-814f-101976321562",
   "metadata": {},
   "outputs": [
    {
     "data": {
      "text/plain": [
       "[1, 3, 5, 7]"
      ]
     },
     "execution_count": 10,
     "metadata": {},
     "output_type": "execute_result"
    }
   ],
   "source": [
    "a_list=[]\n",
    "for number in range(1,9):\n",
    "    if number%2==1:\n",
    "        a_list.append(number)\n",
    "a_list"
   ]
  },
  {
   "cell_type": "code",
   "execution_count": 12,
   "id": "731463af-89e9-47de-b27d-a8e8e443e024",
   "metadata": {},
   "outputs": [
    {
     "name": "stdout",
     "output_type": "stream",
     "text": [
      "1 1\n",
      "1 2\n",
      "1 3\n",
      "2 1\n",
      "2 2\n",
      "2 3\n",
      "3 1\n",
      "3 2\n",
      "3 3\n",
      "4 1\n",
      "4 2\n",
      "4 3\n"
     ]
    }
   ],
   "source": [
    "rows=range(1,5)\n",
    "cols=range(1,4)\n",
    "for row in rows:\n",
    "    for col in cols:\n",
    "        print(row,col)"
   ]
  },
  {
   "cell_type": "code",
   "execution_count": 14,
   "id": "34aba5de-7ffb-4e31-97f9-7da15ec24ba7",
   "metadata": {},
   "outputs": [
    {
     "data": {
      "text/plain": [
       "[(1, 1), (1, 2), (2, 1), (2, 2), (3, 1), (3, 2)]"
      ]
     },
     "execution_count": 14,
     "metadata": {},
     "output_type": "execute_result"
    }
   ],
   "source": [
    "rows=range(1,4)\n",
    "cols=range(1,3)\n",
    "cells=[(row, col) for row in rows for col in cols]\n",
    "cells"
   ]
  },
  {
   "cell_type": "code",
   "execution_count": 15,
   "id": "f1edc6d9-1a5c-4572-bdb6-0c53853582cc",
   "metadata": {},
   "outputs": [
    {
     "name": "stdout",
     "output_type": "stream",
     "text": [
      "(1, 1)\n",
      "(1, 2)\n",
      "(2, 1)\n",
      "(2, 2)\n",
      "(3, 1)\n",
      "(3, 2)\n"
     ]
    }
   ],
   "source": [
    "rows=range(1,4)\n",
    "cols=range(1,3)\n",
    "cells=[(row, col) for row in rows for col in cols]\n",
    "for cell in cells:\n",
    "    print(cell)"
   ]
  },
  {
   "cell_type": "code",
   "execution_count": 16,
   "id": "be8eece7-2310-41a0-9174-74dccfc98cb8",
   "metadata": {},
   "outputs": [
    {
     "name": "stdout",
     "output_type": "stream",
     "text": [
      "(1, 1)\n",
      "1 1\n",
      "(1, 2)\n",
      "1 2\n",
      "(2, 1)\n",
      "2 1\n",
      "(2, 2)\n",
      "2 2\n",
      "(3, 1)\n",
      "3 1\n",
      "(3, 2)\n",
      "3 2\n"
     ]
    }
   ],
   "source": [
    "rows=range(1,4)\n",
    "cols=range(1,3)\n",
    "cells=[(row, col) for row in rows for col in cols]\n",
    "for cell in cells:\n",
    "    row,col=cell\n",
    "    print(cell)\n",
    "    print(row, col)"
   ]
  },
  {
   "cell_type": "code",
   "execution_count": 17,
   "id": "4adaa953-c8cf-4b76-82eb-531fffc28a63",
   "metadata": {},
   "outputs": [
    {
     "name": "stdout",
     "output_type": "stream",
     "text": [
      "1 1\n",
      "1 2\n",
      "2 1\n",
      "2 2\n",
      "3 1\n",
      "3 2\n"
     ]
    }
   ],
   "source": [
    "for row, col in cells:\n",
    "    print(row,col)"
   ]
  },
  {
   "cell_type": "code",
   "execution_count": null,
   "id": "00d46dae-c575-491c-b107-fd25f46e5892",
   "metadata": {},
   "outputs": [],
   "source": []
  }
 ],
 "metadata": {
  "kernelspec": {
   "display_name": "Python 3 (ipykernel)",
   "language": "python",
   "name": "python3"
  },
  "language_info": {
   "codemirror_mode": {
    "name": "ipython",
    "version": 3
   },
   "file_extension": ".py",
   "mimetype": "text/x-python",
   "name": "python",
   "nbconvert_exporter": "python",
   "pygments_lexer": "ipython3",
   "version": "3.9.12"
  }
 },
 "nbformat": 4,
 "nbformat_minor": 5
}
