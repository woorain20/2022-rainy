{
 "cells": [
  {
   "cell_type": "markdown",
   "id": "53f8c954-9a94-44b0-b267-f97736bc0b39",
   "metadata": {},
   "source": [
    "# chapter12"
   ]
  },
  {
   "cell_type": "markdown",
   "id": "86ae7167-c6c5-457a-9868-6a08b505a7e3",
   "metadata": {},
   "source": [
    "정규표현식"
   ]
  },
  {
   "cell_type": "code",
   "execution_count": 1,
   "id": "f298e7e9-3b55-4392-8977-b36fae078b96",
   "metadata": {},
   "outputs": [
    {
     "data": {
      "text/plain": [
       "<re.Match object; span=(0, 3), match='You'>"
      ]
     },
     "execution_count": 1,
     "metadata": {},
     "output_type": "execute_result"
    }
   ],
   "source": [
    "import re\n",
    "result=re.match(\"You\", \"Young Frankenstein\")\n",
    "result"
   ]
  },
  {
   "cell_type": "code",
   "execution_count": 2,
   "id": "780ad079-fbcc-4f1d-b7f3-aba69ac7a300",
   "metadata": {},
   "outputs": [],
   "source": [
    "# match(찾으려는 패턴, 소스)"
   ]
  },
  {
   "cell_type": "code",
   "execution_count": 3,
   "id": "4fe33e94-0925-4d80-a76c-7613ae636d1f",
   "metadata": {},
   "outputs": [],
   "source": [
    "youpattern=re.compile(\"You\")\n",
    "result=youpattern.match(\"Young Frankenstein\")"
   ]
  },
  {
   "cell_type": "code",
   "execution_count": 4,
   "id": "b2e90f2f-ef0d-480a-9c4d-f5209fea6bf0",
   "metadata": {},
   "outputs": [
    {
     "data": {
      "text/plain": [
       "<re.Match object; span=(0, 3), match='You'>"
      ]
     },
     "execution_count": 4,
     "metadata": {},
     "output_type": "execute_result"
    }
   ],
   "source": [
    "result"
   ]
  },
  {
   "cell_type": "code",
   "execution_count": 7,
   "id": "5d5ac01e-5d01-4e19-867e-387a09158f9b",
   "metadata": {},
   "outputs": [
    {
     "name": "stdout",
     "output_type": "stream",
     "text": [
      "You\n"
     ]
    }
   ],
   "source": [
    "source=\"Young Frankenstein Frankenstein\"\n",
    "m=re.match(\"You\",source)\n",
    "if m:\n",
    "    print(m.group())"
   ]
  },
  {
   "cell_type": "code",
   "execution_count": 8,
   "id": "c4309986-0c79-4e98-8df7-99f4ea3e769d",
   "metadata": {},
   "outputs": [
    {
     "name": "stdout",
     "output_type": "stream",
     "text": [
      "Frank\n"
     ]
    }
   ],
   "source": [
    "m=re.search(\"Frank\",source)\n",
    "if m:\n",
    "    print(m.group())"
   ]
  },
  {
   "cell_type": "code",
   "execution_count": 9,
   "id": "66d78d88-5d04-4a94-8e4f-13e1ad29c8f8",
   "metadata": {},
   "outputs": [
    {
     "data": {
      "text/plain": [
       "['Frank', 'Frank']"
      ]
     },
     "execution_count": 9,
     "metadata": {},
     "output_type": "execute_result"
    }
   ],
   "source": [
    "m=re.findall(\"Frank\",source)\n",
    "m"
   ]
  },
  {
   "cell_type": "code",
   "execution_count": 10,
   "id": "954379d0-5c4d-449d-8930-81a513b82b70",
   "metadata": {},
   "outputs": [
    {
     "data": {
      "text/plain": [
       "['You', 'g Fra', 'ke', 'stei', ' Fra', 'ke', 'stei', '']"
      ]
     },
     "execution_count": 10,
     "metadata": {},
     "output_type": "execute_result"
    }
   ],
   "source": [
    "m=re.split(\"n\",source)\n",
    "m"
   ]
  },
  {
   "cell_type": "code",
   "execution_count": 11,
   "id": "68f404d0-aa34-484f-808a-4963b2978086",
   "metadata": {},
   "outputs": [
    {
     "data": {
      "text/plain": [
       "'You?g Fra?ke?stei? Fra?ke?stei?'"
      ]
     },
     "execution_count": 11,
     "metadata": {},
     "output_type": "execute_result"
    }
   ],
   "source": [
    "m=re.sub(\"n\", \"?\", source)\n",
    "m"
   ]
  },
  {
   "cell_type": "code",
   "execution_count": 12,
   "id": "31d067b2-ceeb-49a3-8332-8b55cc2f1e14",
   "metadata": {},
   "outputs": [
    {
     "data": {
      "text/plain": [
       "'0123456789abcdefghijklmnopqrstuvwxyzABCDEFGHIJKLMNOPQRSTUVWXYZ!\"#$%&\\'()*+,-./:;<=>?@[\\\\]^_`{|}~ \\t\\n\\r\\x0b\\x0c'"
      ]
     },
     "execution_count": 12,
     "metadata": {},
     "output_type": "execute_result"
    }
   ],
   "source": [
    "# <a href=\n",
    "import string\n",
    "string.printable"
   ]
  },
  {
   "cell_type": "code",
   "execution_count": 13,
   "id": "0cac7622-ce03-47a0-b7fd-72a50c350961",
   "metadata": {},
   "outputs": [
    {
     "data": {
      "text/plain": [
       "'0123456789abcdefghijklmnopqrstuvwxyzABCDEFGHIJKLMNOPQRSTUVWXYZ!\"#$%&\\'()*+,-./:;<=>?@[\\\\]^_`{|}~ \\t\\n\\r\\x0b\\x0c'"
      ]
     },
     "execution_count": 13,
     "metadata": {},
     "output_type": "execute_result"
    }
   ],
   "source": [
    "printable=string.printable\n",
    "printable"
   ]
  },
  {
   "cell_type": "code",
   "execution_count": 14,
   "id": "5facaf01-5ccd-46d5-9f77-11e85631fad9",
   "metadata": {},
   "outputs": [
    {
     "data": {
      "text/plain": [
       "['0', '1', '2', '3', '4', '5', '6', '7', '8', '9']"
      ]
     },
     "execution_count": 14,
     "metadata": {},
     "output_type": "execute_result"
    }
   ],
   "source": [
    "re.findall(\"\\d\", printable)"
   ]
  },
  {
   "cell_type": "code",
   "execution_count": 17,
   "id": "e88eac04-24e8-4703-ae3e-9ac0570ba4e1",
   "metadata": {},
   "outputs": [
    {
     "data": {
      "text/plain": [
       "['0',\n",
       " '1',\n",
       " '2',\n",
       " '3',\n",
       " '4',\n",
       " '5',\n",
       " '6',\n",
       " '7',\n",
       " '8',\n",
       " '9',\n",
       " 'a',\n",
       " 'b',\n",
       " 'c',\n",
       " 'd',\n",
       " 'e',\n",
       " 'f',\n",
       " 'g',\n",
       " 'h',\n",
       " 'i',\n",
       " 'j',\n",
       " 'k',\n",
       " 'l',\n",
       " 'm',\n",
       " 'n',\n",
       " 'o',\n",
       " 'p',\n",
       " 'q',\n",
       " 'r',\n",
       " 's',\n",
       " 't',\n",
       " 'u',\n",
       " 'v',\n",
       " 'w',\n",
       " 'x',\n",
       " 'y',\n",
       " 'z',\n",
       " 'A',\n",
       " 'B',\n",
       " 'C',\n",
       " 'D',\n",
       " 'E',\n",
       " 'F',\n",
       " 'G',\n",
       " 'H',\n",
       " 'I',\n",
       " 'J',\n",
       " 'K',\n",
       " 'L',\n",
       " 'M',\n",
       " 'N',\n",
       " 'O',\n",
       " 'P',\n",
       " 'Q',\n",
       " 'R',\n",
       " 'S',\n",
       " 'T',\n",
       " 'U',\n",
       " 'V',\n",
       " 'W',\n",
       " 'X',\n",
       " 'Y',\n",
       " 'Z',\n",
       " '_']"
      ]
     },
     "execution_count": 17,
     "metadata": {},
     "output_type": "execute_result"
    }
   ],
   "source": [
    "re.findall(\"\\w\", printable)"
   ]
  },
  {
   "cell_type": "code",
   "execution_count": 18,
   "id": "6c5fa176-ec56-4213-80b2-54f6a0b09c02",
   "metadata": {},
   "outputs": [
    {
     "data": {
      "text/plain": [
       "['!',\n",
       " '\"',\n",
       " '#',\n",
       " '$',\n",
       " '%',\n",
       " '&',\n",
       " \"'\",\n",
       " '(',\n",
       " ')',\n",
       " '*',\n",
       " '+',\n",
       " ',',\n",
       " '-',\n",
       " '.',\n",
       " '/',\n",
       " ':',\n",
       " ';',\n",
       " '<',\n",
       " '=',\n",
       " '>',\n",
       " '?',\n",
       " '@',\n",
       " '[',\n",
       " '\\\\',\n",
       " ']',\n",
       " '^',\n",
       " '`',\n",
       " '{',\n",
       " '|',\n",
       " '}',\n",
       " '~',\n",
       " ' ',\n",
       " '\\t',\n",
       " '\\n',\n",
       " '\\r',\n",
       " '\\x0b',\n",
       " '\\x0c']"
      ]
     },
     "execution_count": 18,
     "metadata": {},
     "output_type": "execute_result"
    }
   ],
   "source": [
    "re.findall(\"\\W\", printable)"
   ]
  },
  {
   "cell_type": "code",
   "execution_count": 19,
   "id": "aeb6dcde-8b9b-4494-a03a-24ee091345a7",
   "metadata": {},
   "outputs": [
    {
     "data": {
      "text/plain": [
       "[' ', '\\t', '\\n', '\\r', '\\x0b', '\\x0c']"
      ]
     },
     "execution_count": 19,
     "metadata": {},
     "output_type": "execute_result"
    }
   ],
   "source": [
    "re.findall(\"\\s\",printable)"
   ]
  },
  {
   "cell_type": "code",
   "execution_count": 21,
   "id": "5b007f16-3140-4e04-9566-e87d4be06189",
   "metadata": {},
   "outputs": [],
   "source": [
    "# 패턴지정자 - 많이 사용\n",
    "# 사용하기 까다로움\n",
    "# 다른사람이 만든 라이브러리 많이 사용"
   ]
  },
  {
   "cell_type": "code",
   "execution_count": 22,
   "id": "b52e6c4f-d0ec-4db6-9719-4da4acdfbe28",
   "metadata": {},
   "outputs": [],
   "source": [
    "source=\"\"\"I wish I may, I wish I might Have a dish of fish tonight.\"\"\""
   ]
  },
  {
   "cell_type": "code",
   "execution_count": 23,
   "id": "5e12adae-063b-4195-b6f3-3baa1236a1ab",
   "metadata": {},
   "outputs": [
    {
     "data": {
      "text/plain": [
       "['wish', 'wish']"
      ]
     },
     "execution_count": 23,
     "metadata": {},
     "output_type": "execute_result"
    }
   ],
   "source": [
    "re.findall(\"wish\",source)"
   ]
  },
  {
   "cell_type": "code",
   "execution_count": 24,
   "id": "9730e403-3370-4f99-9158-209a48427b79",
   "metadata": {},
   "outputs": [
    {
     "data": {
      "text/plain": [
       "['I', 'I', 'I', 'I']"
      ]
     },
     "execution_count": 24,
     "metadata": {},
     "output_type": "execute_result"
    }
   ],
   "source": [
    "re.findall(\"I\",source)"
   ]
  },
  {
   "cell_type": "code",
   "execution_count": 26,
   "id": "4b6432a9-282a-40e1-b120-ee092da90ebd",
   "metadata": {},
   "outputs": [
    {
     "data": {
      "text/plain": [
       "['i', 'i', 'i', 'i', 'i', 'i']"
      ]
     },
     "execution_count": 26,
     "metadata": {},
     "output_type": "execute_result"
    }
   ],
   "source": [
    "re.findall(\"i\",source)"
   ]
  },
  {
   "cell_type": "code",
   "execution_count": 28,
   "id": "cd4e35a8-6419-4334-9825-797e65f496a3",
   "metadata": {},
   "outputs": [
    {
     "data": {
      "text/plain": [
       "['wish', 'wish', 'fish']"
      ]
     },
     "execution_count": 28,
     "metadata": {},
     "output_type": "execute_result"
    }
   ],
   "source": [
    "re.findall(\"wish|fish\", source)"
   ]
  },
  {
   "cell_type": "code",
   "execution_count": 29,
   "id": "21958505-2a9d-4db9-ace1-c8b3dd84728a",
   "metadata": {},
   "outputs": [
    {
     "data": {
      "text/plain": [
       "[]"
      ]
     },
     "execution_count": 29,
     "metadata": {},
     "output_type": "execute_result"
    }
   ],
   "source": [
    "# wish로 시작하는 단어만 찾고 싶을 경우 - ^을 붙임\n",
    "re.findall(\"^wish\",source)"
   ]
  },
  {
   "cell_type": "code",
   "execution_count": 30,
   "id": "c497a6d2-4e82-4bb3-a919-1966461447dc",
   "metadata": {},
   "outputs": [
    {
     "data": {
      "text/plain": [
       "['I wish']"
      ]
     },
     "execution_count": 30,
     "metadata": {},
     "output_type": "execute_result"
    }
   ],
   "source": [
    "re.findall(\"^I wish\",source)"
   ]
  },
  {
   "cell_type": "code",
   "execution_count": 31,
   "id": "95dbc608-9eb0-45da-a70b-fac0762801ff",
   "metadata": {},
   "outputs": [
    {
     "data": {
      "text/plain": [
       "[]"
      ]
     },
     "execution_count": 31,
     "metadata": {},
     "output_type": "execute_result"
    }
   ],
   "source": [
    "re.findall(\"fish$\",source)"
   ]
  },
  {
   "cell_type": "code",
   "execution_count": 32,
   "id": "942acd78-041d-4768-a668-d588e2516138",
   "metadata": {},
   "outputs": [
    {
     "data": {
      "text/plain": [
       "['tonight.']"
      ]
     },
     "execution_count": 32,
     "metadata": {},
     "output_type": "execute_result"
    }
   ],
   "source": [
    "re.findall(\"tonight.$\",source)"
   ]
  },
  {
   "cell_type": "code",
   "execution_count": 33,
   "id": "e4fbd6cb-f63d-44f5-bea7-911eaf802b0f",
   "metadata": {},
   "outputs": [
    {
     "data": {
      "text/plain": [
       "['tonight.']"
      ]
     },
     "execution_count": 33,
     "metadata": {},
     "output_type": "execute_result"
    }
   ],
   "source": [
    "re.findall(\"tonight\\.$\",source)\n",
    "# 더 정확한 매칭을 위해 \\를 붙임"
   ]
  },
  {
   "cell_type": "code",
   "execution_count": 35,
   "id": "69541355-271a-49a7-bceb-afd633a1e5ed",
   "metadata": {},
   "outputs": [
    {
     "data": {
      "text/plain": [
       "['wish', 'wish', 'fish']"
      ]
     },
     "execution_count": 35,
     "metadata": {},
     "output_type": "execute_result"
    }
   ],
   "source": [
    "re.findall(\"[wf]ish\", source)\n",
    "# w or f로 시작하고 ish로 끝나는 단어 찾기"
   ]
  },
  {
   "cell_type": "code",
   "execution_count": 37,
   "id": "9948bdc0-2543-4ba4-b106-2ee2e0ff98d6",
   "metadata": {},
   "outputs": [
    {
     "data": {
      "text/plain": [
       "['w', 'sh', 'w', 'sh', 'h', 'sh', 'sh', 'h']"
      ]
     },
     "execution_count": 37,
     "metadata": {},
     "output_type": "execute_result"
    }
   ],
   "source": [
    "re.findall(\"[wsh]+\",source)\n",
    "# wsh라는 글의 조합 다 가져오기"
   ]
  },
  {
   "cell_type": "code",
   "execution_count": 38,
   "id": "f75f37a5-7311-4b17-b2a8-3c96e538d1f5",
   "metadata": {},
   "outputs": [
    {
     "data": {
      "text/plain": [
       "['ght ', 'ght.']"
      ]
     },
     "execution_count": 38,
     "metadata": {},
     "output_type": "execute_result"
    }
   ],
   "source": [
    "re.findall(\"ght\\W\",source)"
   ]
  },
  {
   "cell_type": "code",
   "execution_count": 39,
   "id": "2ae80ead-d8ca-4498-ab0a-177927a6533c",
   "metadata": {},
   "outputs": [
    {
     "data": {
      "text/plain": [
       "['I ', 'I ']"
      ]
     },
     "execution_count": 39,
     "metadata": {},
     "output_type": "execute_result"
    }
   ],
   "source": [
    "re.findall(\"I (?=wish)\",source)"
   ]
  },
  {
   "cell_type": "code",
   "execution_count": 40,
   "id": "3ece40c7-622d-42ea-a657-1f3388405896",
   "metadata": {},
   "outputs": [],
   "source": [
    "pages='''<div class=\"green_window\" style=''>\n",
    "<!-- [AU] data-atcmp-element 에 해당하는 attribute를 추가해주세요. -->\n",
    "<input id=\"query\" name=\"query\" type=\"text\" title=\"검색어 입력\" maxlength=\"255\" class=\"input_text\" tabindex=\"1\" accesskey=\"s\" style=\"ime-mode:active;\" autocomplete=\"off\"  placeholder=\"검색어를 입력해 주세요.\" onclick=\"document.getElementById('fbm').value=1;\" value=\"\" data-atcmp-element>\n",
    "</div>\n",
    "<button id=\"search_btn\" type=\"submit\" title=\"검색\" tabindex=\"3\" class=\"btn_submit\" onclick=\"window.nclick(this,'sch.action','','',event);\" style=''>\n",
    "<span class=\"blind\">검색</span>\n",
    "<span class=\"ico_search_submit\"></span>\n",
    "</button>\n",
    "</fieldset>\n",
    "</form>\n",
    "<!-- 한글입력기 -->\n",
    "<a href=\"#\" id=\"ke_kbd_btn\" role=\"button\" class=\"btn_keyboard\" onclick=\"return false;\"><span class=\"blind\">한글 입력기</span><span class=\"ico_keyboard\"></span></a>\n",
    "<div id=\"_nx_kbd\" style=\"display:none;\"></div>\n",
    "<div class=\"autocomplete\">\n",
    "<!-- 자동완성 열린 경우 fold 클래스 추가, 딤드인 경우 dim 추가 -->\n",
    "<a href=\"#\" role=\"button\" id=\"nautocomplete\" tabindex=\"2\" class=\"btn_arw _btn_arw fold\" aria-pressed=\"false\" data-atcmp-element><span class=\"blind\">자동완성 레이어</span><span class=\"ico_arr\"></span></a>\n",
    "</div>\n",
    "<!-- 자동완성레이어 -->\n",
    "<div id=\"autoFrame\" class=\"reatcmp\" style=\"display: none;\">\n",
    "<!-- [AU] data-atcmp-element attribute를 추가해주세요. -->\n",
    "<div class=\"ly_atcmp\" data-atcmp-element>\n",
    "<div class=\"api_atcmp_wrap\">\n",
    "<!-- 최근검색어 -->\n",
    "<!-- [AU] _recent_layer 클래스를 추가해주세요. -->\n",
    "<div class=\"atcmp_fixer _recent_layer\" style=\"display:none;\">\n",
    "<!-- [AU] _recent_header 클래스를 추가해주세요. -->\n",
    "<div class=\"atcmp_header _recent_header\">\n",
    "<strong class=\"tit\">최근검색어</strong>\n",
    "<div class=\"option\">\n",
    "<!-- [AU] _delAll 클래스를 추가해주세요. -->\n",
    "<a role=\"button\" href=\"#\" class=\"item _delAll\" aria-pressed=\"false\">전체삭제</a>\n",
    "</div>\n",
    "</div>\n",
    "<div class=\"atcmp_container\">\n",
    "<!-- [AU] _recent 클래스를 추가해주세요. -->\n",
    "<ul class=\"kwd_lst _recent\">\n",
    "<!-- 최근검색어 템플릿 -->\n",
    "<!-- [AU] _item 클래스를 추가해주세요. -->\n",
    "<!-- [AU] data-template-type=\"history\" data-keyword=\"@in_txt@\" attribute를 추가해주세요. -->\n",
    "<li class=\"item _item\" data-rank=\"@rank@\" data-template-type=\"history\" data-keyword=\"@in_txt@\">\n",
    "<a href=\"#\" class=\"kwd\">\n",
    "<span class=\"fix\"><span class=\"common_ico_kwd\"><i class=\"imsc ico_search\"></i></span><span>@txt@</span></span>\n",
    "</a>\n",
    "<span class=\"etc\">\n",
    "<em class=\"date\">@date@.</em>\n",
    "<!-- [AU] _del 클래스를 추가해주세요. -->\n",
    "<a href=\"#\" role=\"button\" class=\"bt_item _del\" aria-pressed=\"false\"><i class=\"imsc ico_del\">삭제</i></a>\n",
    "</span>\n",
    "</li>\n",
    "</ul>\n",
    "<!-- [D] 검색어 저장 꺼진 경우 atcmp_fixer에 type_off 추가 -->\n",
    "<!-- [AU] _offMsg 클래스를 추가해주세요. -->\n",
    "<div class=\"kwd_info kwd_off _offMsg\" style=\"display: none;\">검색어 저장 기능이 꺼져 있습니다.<br><span class=\"kwd_dsc\">설정이 초기화 된다면 <a href=\"https://help.naver.com/support/alias/search/word/word_29.naver\" class=\"kwd_help\" data-clk=\"sly.help\" target=\"_blank\">도움말</a>을 확인해주세요.</span></div>\n",
    "<!-- [D] 검색어 내역 없는 경우 atcmp_fixer에 type_off 추가 -->\n",
    "<!-- [AU] _recentNone 클래스를 추가해주세요. -->\n",
    "<div class=\"kwd_info kwd_none _recentNone\" style=\"display: none;\">최근 검색어 내역이 없습니다.<br><span class=\"kwd_dsc\">설정이 초기화 된다면 <a href=\"https://help.naver.com/support/alias/search/word/word_29.naver\" class=\"kwd_help\" data-clk=\"sly.help\" target=\"_blank\">도움말</a>을 확인해주세요.</span></div>\n",
    "</div>\n",
    "<div class=\"atcmp_footer\">\n",
    "<span class=\"side_opt_area\">\n",
    "<span class=\"opt_item\"><a href=\"https://help.naver.com/support/service/main.help?serviceNo=605&amp;categoryNo=1991\" data-clk=\"sly.help\" target=\"_blank\">도움말</a></span>\n",
    "</span>\n",
    "<span class=\"rside_opt_area\">\n",
    "<span class=\"opt_item\">\n",
    "<!-- [AU] _keywordOnOff 클래스를 추가해주세요. -->\n",
    "<a href=\"#\" class=\"close _keywordOnOff\">자동저장 끄기</a>\n",
    "</span>\n",
    "</span>\n",
    "</div>\n",
    "</div>'''"
   ]
  },
  {
   "cell_type": "code",
   "execution_count": 42,
   "id": "91d1ddcf-e512-4e78-932c-295b269c999d",
   "metadata": {},
   "outputs": [
    {
     "data": {
      "text/plain": [
       "['#\" id=\"ke_kbd_btn\" role=\"button\" class=\"btn_keyboard\" onclick=\"return false;',\n",
       " '#\" role=\"button\" id=\"nautocomplete\" tabindex=\"2\" class=\"btn_arw _btn_arw fold\" aria-pressed=\"false\" data-atcmp-element><span class=\"blind',\n",
       " '#\" class=\"kwd',\n",
       " '#\" role=\"button\" class=\"bt_item _del\" aria-pressed=\"false',\n",
       " 'https://help.naver.com/support/alias/search/word/word_29.naver\" class=\"kwd_help\" data-clk=\"sly.help\" target=\"_blank',\n",
       " 'https://help.naver.com/support/alias/search/word/word_29.naver\" class=\"kwd_help\" data-clk=\"sly.help\" target=\"_blank',\n",
       " 'https://help.naver.com/support/service/main.help?serviceNo=605&amp;categoryNo=1991\" data-clk=\"sly.help\" target=\"_blank',\n",
       " '#\" class=\"close _keywordOnOff']"
      ]
     },
     "execution_count": 42,
     "metadata": {},
     "output_type": "execute_result"
    }
   ],
   "source": [
    "re.findall('<a href=\"(.*?)\">',pages)"
   ]
  },
  {
   "cell_type": "code",
   "execution_count": 43,
   "id": "03579323-827a-44b7-8147-73d58f4359d2",
   "metadata": {},
   "outputs": [
    {
     "data": {
      "text/plain": [
       "[' wish', ' wish']"
      ]
     },
     "execution_count": 43,
     "metadata": {},
     "output_type": "execute_result"
    }
   ],
   "source": [
    "re.findall(\"(?<=I) wish\", source)"
   ]
  },
  {
   "cell_type": "code",
   "execution_count": 44,
   "id": "5cf3dfa4-40e2-4684-b326-b391e34b73a3",
   "metadata": {},
   "outputs": [],
   "source": [
    "daum='''<html lang=\"ko\"> <head> <meta charset=\"utf-8\" /> <title>Daum</title> <meta http-equiv=\"x-ua-compatible\" content=\"IE=edge\" /> <meta property=\"og:url\" content=\"//www.daum.net/\" /> <meta property=\"og:type\" content=\"website\" /> <meta property=\"og:title\" content=\"Daum\" /> <meta http-equiv=\"Pragma\" content=\"no-cache\" /> <meta http-equiv=\"Expires\" content=\"-1\" /> <meta name=\"referrer\" content=\"origin\" /> <meta property=\"og:image\" content=\"https://i1.daumcdn.net/svc/image/U03/common_icon/5587C4E4012FCD0001\" /> <meta property=\"og:description\" content=\"나의 관심 콘텐츠를 가장 즐겁게 볼 수 있는 Daum\" /> <meta name=\"msapplication-task\" content=\"name=Daum;action-uri=//www.daum.net/;icon-uri=/favicon.ico\" /> <meta name=\"msapplication-task\" content=\"name=미디어다음;action-uri=//news.daum.net/;icon-uri=/media_favicon.ico\" /> <meta name=\"msapplication-task\" content=\"name=메일;action-uri=//mail.daum.net;icon-uri=/mail_favicon.ico\" /> <link href=\"https://t1.daumcdn.net/top/favicon.ico\" rel=\"shortcut icon\" /> <meta name=\"referrer\" content=\"origin\" /> <link rel=\"search\" type=\"application/opensearchdescription+xml\" href=\"https://search.daum.net/OpenSearch.xml\" title=\"다음\" /> <link rel=\"stylesheet\" href=\"https://t1.daumcdn.net/top/tiller-pc/h/production/20220719_131108/common.css\" /> <script src=\"https://t1.daumcdn.net/kas/static/na.min.js\"></script> <script> window.tillerInitData = {\"header\":{\"timestamp\":1662430709242},\"body\":{\"variations\":{},\"tabs\":{\"media\":{\"code\":\"media\",\"name\":\"미디어\",\"renderType\":\"NONE\",\"position\":1,\"criteriaTabCode\":null,\"board\":false,\"morePage\":false,\"page\":\"{\\\"tab\\\":\\\"media\\\",\\\"page\\\":1,\\\"last\\\":true,\\\"token\\\":null,\\\"ts\\\":null}\"},\"katv\":{\"code\":\"katv\",\"name\":\"카카오TV\",\"renderType\":\"NONE\",\"position\":2,\"criteriaTabCode\":null,\"board\":false,\"morePage\":false,\"page\":\"{\\\"tab\\\":\\\"katv\\\",\\\"page\\\":1,\\\"last\\\":true,\\\"token\\\":null,\\\"ts\\\":null}\"},\"social\":{\"code\":\"social\",\"name\":\"소셜\",\"renderType\":\"NONE\",\"position\":3,\"criteriaTabCode\":null,\"board\":false,\"morePage\":false,\"page\":\"{\\\"tab\\\":\\\"social\\\",\\\"page\\\":1,\\\"last\\\":true,\\\"token\\\":null,\\\"ts\\\":null}\"},\"channel\":{\"code\":\"channel\",\"name\":\"채널\",\"renderType\":\"NONE\",\"position\":4,\"criteriaTabCode\":null,\"board\":false,\"morePage\":false,\"page\":\"{\\\"tab\\\":\\\"channel\\\",\\\"page\\\":1,\\\"last\\\":true,\\\"token\\\":null,\\\"ts\\\":null}\"}},\"boxes\":{\"media\":[{\"code\":2372,\"type\":\"PC_MEDIA_NEWS1\",\"items\":{\"op\":{\"tab\":\"news1\",\"title\":\"뉴스\",\"url\":\"https://news.daum.net/\"},\"issue\":{\"title\":\"태풍 '힌남노' 특보\",\"isSpecial\":null,\"url\":\"https://focus.daum.net/ch/focus/hinnamnor\",\"iconType\":\"ISSUE2\",\"status\":\"on\"},\"breakingNewsOp\":{\"minCount\":\"3\",\"status\":\"on\"},\"footLinkLeft\":{\"foot1\":\"{\\\"title\\\":\\\"포토\\\",\\\"url\\\":\\\"https://news.daum.net/photo/\\\",\\\"tiaraTag\\\":\\\"photo\\\"}\",\"foot0\":\"{\\\"title\\\":\\\"연재\\\",\\\"url\\\":\\\"https://news.daum.net/series/\\\",\\\"tiaraTag\\\":\\\"series\\\"}\",\"foot3\":\"{\\\"title\\\":\\\"\\\",\\\"url\\\":\\\"\\\",\\\"tiaraTag\\\":\\\"\\\"}\",\"footer\":\"{\\\"title\\\":\\\"뉴스홈\\\",\\\"url\\\":\\\"https://news.daum.net/\\\"}\",\"foot2\":\"{\\\"title\\\":\\\"팩트체크\\\",\\\"url\\\":\\\"https://focus.daum.net/ch/news/factcheck\\\",\\\"tiaraTag\\\":\\\"factcheck\\\"}\",\"foot4\":\"{\\\"title\\\":\\\"\\\",\\\"url\\\":\\\"\\\",\\\"tiaraTag\\\":\\\"\\\"}\",\"status\":\"on\"},\"footLinkRight\":{\"foot1\":\"{\\\"title\\\":\\\"환율\\\",\\\"url\\\":\\\"https://search.daum.net/search?w=tot&q=환율&DA=TMZ\\\",\\\"tiaraTag\\\":\\\"exchange\\\"}\",\"foot0\":\"{\\\"title\\\":\\\"코스피\\\",\\\"url\\\":\\\"https://search.daum.net/search?w=tot&q=증시&DA=TMZ\\\",\\\"tiaraTag\\\":\\\"stock\\\"}\",\"foot3\":\"{\\\"title\\\":\\\"TV편성\\\",\\\"url\\\":\\\"https://search.daum.net/search?w=tot&q=편성표&DA=TMZ\\\",\\\"tiaraTag\\\":\\\"tv\\\"}\",\"foot2\":\"{\\\"title\\\":\\\"오늘의운세\\\",\\\"url\\\":\\\"https://search.daum.net/search?w=tot&q=운세&DA=TMZ\\\",\\\"tiaraTag\\\":\\\"fortune\\\"}\",\"status\":\"on\"},\"specialLink\":{\"displayType\":\"specialLink\",\"title\":\"오늘의 KBO리그\",\"url\":\"https://sports.daum.net/schedule/kbo\",\"iconType\":\"LIVE\",\"status\":\"off\"}},\"feeds\":{\"pc_media_breaking_news\":\"[{\\\"id\\\":\\\"hamny-20220906110248711\\\",\\\"title\\\":\\\"BA.5 변이 검출률 96%..켄타우로스 34건 늘어\\\",\\\"url\\\":\\\"https://v.daum.net/v/20220906110248711\\\"},{\\\"id\\\":\\\"hamny-20220906110226699\\\",\\\"title\\\":\\\"지난주 감염재생산지수 0.83..재감염률 9.66%로 상승\\\",\\\"url\\\":\\\"https://v.daum.net/v/20220906110226699\\\"},{\\\"id\\\":\\\"hamny-20220906111431365\\\",\\\"title\\\":\\\"기상청 \\\\\\\"오후부터 전국 맑은 날씨..울릉도와 독도는 계속 주의해야\\\\\\\"\\\",\\\"url\\\":\\\"https://v.daum.net/v/20220906111431365\\\"},{\\\"id\\\":\\\"hamny-20220906111747589\\\",\\\"title\\\":\\\"방역당국 \\\\\\\"코로나19-독감 동시유행 가능성 커..대응계획 수립중\\\\\\\"\\\",\\\"url\\\":\\\"https://v.daum.net/v/20220906111747589\\\"},{\\\"id\\\":\\\"hamny-20220906111537451\\\",\\\"title\\\":\\\"당국 \\\\\\\"새 변이 등 큰 변수 없다면 당분간 유행 안정세\\\\\\\"\\\",\\\"url\\\":\\\"https://v.daum.net/v/20220906111537451\\\"},{\\\"id\\\":\\\"hamny-20220906111118183\\\",\\\"title\\\":\\\"정부 \\\\\\\"올해 독감·코로나 동시유행 가능성 커..대응계획 수립중\\\\\\\"\\\",\\\"url\\\":\\\"https://v.daum.net/v/20220906111118183\\\"},{\\\"id\\\":\\\"hamny-20220906110120627\\\",\\\"title\\\":\\\"코로나 주간 재감염률 9.66%..전주 대비 2.02%p 증가\\\",\\\"url\\\":\\\"https://v.daum.net/v/20220906110120627\\\"},{\\\"id\\\":\\\"hamny-20220906111034157\\\",\\\"title\\\":\\\"당국 \\\\\\\"독감 면역수준 낮아..'코로나 동시유행' 가능성\\\\\\\"\\\",\\\"url\\\":\\\"https://v.daum.net/v/20220906111034157\\\"}]\"},\"teslas\":{\"p_news_img_1\":[{\"id\":\"hamny-20220906073308193\",\"title\":\"힌남노 강타..포항·경주 형산강 유역 '홍수경보' 발령\",\"label\":null,\"url\":\"https://v.daum.net/v/20220906073308193\",\"icon\":\"VIDEO\",\"imageUrl\":\"https://t1.daumcdn.net/news/202209/06/nocut/20220906073309549huef.jpg\",\"source\":\"노컷뉴스\",\"position\":0,\"duplicateCodeCount\":8,\"mediaPickDuplicateCount\":0,\"meta\":{\"impressionId\":\"toros_cloud_alpha\",\"contentUniqueKey\":\"hamny-20220906073308193\",\"mediaName\":\"노컷뉴스\",\"torosRanking\":1,\"torosScore\":0.0242824768,\"poolCode\":\"p_news_img\",\"feedId\":11,\"feedName\":\"하모니\",\"clusterId\":null,\"clusterTitle\":\"\",\"quantity\":\"15\",\"displayType\":\"VIDEO\",\"clipLinkId\":\"431758400\",\"serviceCode\":\"media\",\"creatorName\":\"포항CBS 문석준 기자\",\"attribute\":{\"label\":null,\"imageLabel\":null},\"attributes\":{\"videoPlayCount\":null,\"videoPlayTime\":null,\"mediaPickMeta\":null},\"originalServiceKey\":\"20220906073308193\",\"vid\":null,\"action\":{\"data-tiara-action-kind\":\"ClickContent\",\"data-tiara-action-name\":\"media_2372\"},\"layer\":{\"layer1\":\"media\",\"layer2\":\"2372_PC_MEDIA_NEWS1\",\"ordnum\":\"1\"},\"eventMeta\":{\"data-tiara-provider\":\"노컷뉴스\",\"data-tiara-imp_id\":\"toros_cloud_alpha\",\"data-tiara-imp_provider\":\"toros\",\"data-tiara-name\":\"하모니\",\"data-tiara-type\":\"11\",\"data-tiara-provider_id\":\"35\",\"data-tiara-series_id\":\"\",\"data-tiara-author\":\"포항CBS 문석준 기자\",\"data-tiara-series\":\"\",\"data-tiara-category_id\":\"weather\",\"data-tiara-author_id\":\"\",\"data-tiara-content_type\":\"VIDEO\",\"data-tiara-category\":\"날씨\",\"data-tiara-id\":\"hamny-20220906073308193\"},\"customProps\":\"contentId=88946130&displayContentType=VIDEO&poolCode=p_news_img&poolName=P 뉴스 이미지&slotPosition=1&tab=media&uradar=0&verticalServiceName=&bodyTextCount=777&bodyImagesCount=4&contentUniqueKey=hamny-20220906073308193&position=0&serviceCode=media&serviceName=뉴스&originalCreatedAt=2022/09/06 07:33:08&clipLinkId=431758400&channelId=&docId=20220906073308193&abusingTypes=WHITELIST&clusterId=5150091,5122206,5599922,1691375,5608437,5608438&clusterTitle=사회,[승인] 이미지성 기사,[품질검수] 뉴스 필터링,경상북도 경주시,11호 태풍 힌남노,태풍 힌남노 영상뉴스&keywordType=NONE,NONE,NONE,NONE,NONE,NONE&clusterOperationGroup=NEWS,NEWS,INTEREST,NEWS,NEWS,NEWS&clusterTypeId=55,42,42,7,1,1&smr=false&ads=false&singleNews=false&gutter=false&tabVersion=1\",\"torosCloudProps\":{\"customProps\":\"\"},\"feedbackProps\":{}}},{\"id\":\"hamny-20220906102552855\",\"title\":\"방파제서 태풍 생중계하던 유튜버 결국..\",\"label\":null,\"url\":\"https://v.daum.net/v/20220906102552855\",\"icon\":\"TEXT\",\"imageUrl\":\"https://t1.daumcdn.net/news/202209/06/inews24/20220906102553815jgzt.jpg\",\"source\":\"아이뉴스24\",\"position\":0,\"duplicateCodeCount\":7,\"mediaPickDuplicateCount\":6,\"meta\":{\"impressionId\":\"toros_cloud_alpha\",\"contentUniqueKey\":\"hamny-20220906102552855\",\"mediaName\":\"아이뉴스'''"
   ]
  },
  {
   "cell_type": "code",
   "execution_count": 46,
   "id": "a1e1a50f-a2e6-4240-ab9e-15deab8bd3a0",
   "metadata": {},
   "outputs": [
    {
     "data": {
      "text/plain": [
       "['\"name\":', '\"name\":', '\"name\":', '\"name\":']"
      ]
     },
     "execution_count": 46,
     "metadata": {},
     "output_type": "execute_result"
    }
   ],
   "source": [
    "re.findall('\"name\":',daum)"
   ]
  },
  {
   "cell_type": "code",
   "execution_count": null,
   "id": "dfcca6e9-36be-4688-8a3f-068f7d027757",
   "metadata": {},
   "outputs": [],
   "source": []
  }
 ],
 "metadata": {
  "kernelspec": {
   "display_name": "Python 3 (ipykernel)",
   "language": "python",
   "name": "python3"
  },
  "language_info": {
   "codemirror_mode": {
    "name": "ipython",
    "version": 3
   },
   "file_extension": ".py",
   "mimetype": "text/x-python",
   "name": "python",
   "nbconvert_exporter": "python",
   "pygments_lexer": "ipython3",
   "version": "3.9.12"
  }
 },
 "nbformat": 4,
 "nbformat_minor": 5
}
