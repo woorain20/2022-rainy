{
 "cells": [
  {
   "cell_type": "code",
   "execution_count": 1,
   "id": "ce239db3-8872-4271-b684-a6f71887b69c",
   "metadata": {},
   "outputs": [
    {
     "name": "stdout",
     "output_type": "stream",
     "text": [
      "chapter05\n"
     ]
    }
   ],
   "source": [
    "print(\"chapter05\")"
   ]
  },
  {
   "cell_type": "code",
   "execution_count": 2,
   "id": "3e06c36c-8e75-4e46-8162-7539ac4ad902",
   "metadata": {},
   "outputs": [
    {
     "data": {
      "text/plain": [
       "'snap'"
      ]
     },
     "execution_count": 2,
     "metadata": {},
     "output_type": "execute_result"
    }
   ],
   "source": [
    "'snap'"
   ]
  },
  {
   "cell_type": "code",
   "execution_count": 3,
   "id": "09c0e19a-c73c-4986-8216-888c10101b18",
   "metadata": {},
   "outputs": [
    {
     "data": {
      "text/plain": [
       "'crackle'"
      ]
     },
     "execution_count": 3,
     "metadata": {},
     "output_type": "execute_result"
    }
   ],
   "source": [
    "\"crackle\""
   ]
  },
  {
   "cell_type": "code",
   "execution_count": 4,
   "id": "833bc95b-46a5-4283-9a88-577a9976924e",
   "metadata": {},
   "outputs": [
    {
     "data": {
      "text/plain": [
       "\"'nay!' said\""
      ]
     },
     "execution_count": 4,
     "metadata": {},
     "output_type": "execute_result"
    }
   ],
   "source": [
    "\"'nay!' said\""
   ]
  },
  {
   "cell_type": "code",
   "execution_count": 5,
   "id": "15b65957-dd4e-4906-9780-3261980ce928",
   "metadata": {},
   "outputs": [
    {
     "data": {
      "text/plain": [
       "'A \"two by four\" is actually'"
      ]
     },
     "execution_count": 5,
     "metadata": {},
     "output_type": "execute_result"
    }
   ],
   "source": [
    "'A \"two by four\" is actually'"
   ]
  },
  {
   "cell_type": "code",
   "execution_count": 9,
   "id": "2409d8b8-fd71-4237-ad1a-549f311deec5",
   "metadata": {},
   "outputs": [
    {
     "data": {
      "text/plain": [
       "\"There was a Young Lady of Norway,\\nwho causually sat in a doorway;\\nwhen the door squeezed her flat,\\nshe exclaimed, 'what of that?'\\nThis courageous Young Lady of Norway.\""
      ]
     },
     "execution_count": 9,
     "metadata": {},
     "output_type": "execute_result"
    }
   ],
   "source": [
    "poem=\"\"\"There was a Young Lady of Norway,\n",
    "who causually sat in a doorway;\n",
    "when the door squeezed her flat,\n",
    "she exclaimed, 'what of that?'\n",
    "This courageous Young Lady of Norway.\"\"\"\n",
    "poem"
   ]
  },
  {
   "cell_type": "code",
   "execution_count": 10,
   "id": "8c91faff-4d8c-42df-8ac9-e26ae2f54570",
   "metadata": {},
   "outputs": [
    {
     "name": "stdout",
     "output_type": "stream",
     "text": [
      "There was a Young Lady of Norway,\n",
      "who causually sat in a doorway;\n",
      "when the door squeezed her flat,\n",
      "she exclaimed, 'what of that?'\n",
      "This courageous Young Lady of Norway.\n"
     ]
    }
   ],
   "source": [
    "print(poem)"
   ]
  },
  {
   "cell_type": "code",
   "execution_count": 11,
   "id": "f4886dbb-a5ea-493b-bcd3-69e3fbc2aa22",
   "metadata": {},
   "outputs": [
    {
     "data": {
      "text/plain": [
       "'98.6'"
      ]
     },
     "execution_count": 11,
     "metadata": {},
     "output_type": "execute_result"
    }
   ],
   "source": [
    "# str() 데이터 타입을 문자열로 변환\n",
    "str(98.6)"
   ]
  },
  {
   "cell_type": "code",
   "execution_count": 12,
   "id": "1762de2e-28ef-45f8-a58c-2d506507e36b",
   "metadata": {},
   "outputs": [
    {
     "data": {
      "text/plain": [
       "'1000.0'"
      ]
     },
     "execution_count": 12,
     "metadata": {},
     "output_type": "execute_result"
    }
   ],
   "source": [
    "str(1.0e3)"
   ]
  },
  {
   "cell_type": "code",
   "execution_count": 13,
   "id": "33783e17-1004-4c4d-a20e-612f1e1dfbed",
   "metadata": {},
   "outputs": [
    {
     "data": {
      "text/plain": [
       "'True'"
      ]
     },
     "execution_count": 13,
     "metadata": {},
     "output_type": "execute_result"
    }
   ],
   "source": [
    "str(True)"
   ]
  },
  {
   "cell_type": "code",
   "execution_count": 14,
   "id": "de5590b1-4246-4563-83e6-a2077a5c63e5",
   "metadata": {},
   "outputs": [
    {
     "name": "stdout",
     "output_type": "stream",
     "text": [
      "A man, \n",
      " plan\n"
     ]
    }
   ],
   "source": [
    "# 이스케이프 문자\n",
    "# \\n - 줄바꿈\n",
    "palindrome=\"A man, \\n plan\"\n",
    "print(palindrome)"
   ]
  },
  {
   "cell_type": "code",
   "execution_count": 15,
   "id": "378f732f-ccb8-4b4f-b79c-879660d66691",
   "metadata": {},
   "outputs": [
    {
     "name": "stdout",
     "output_type": "stream",
     "text": [
      "\tabc\n"
     ]
    }
   ],
   "source": [
    "# \\t - tab\n",
    "print(\"\\tabc\")"
   ]
  },
  {
   "cell_type": "code",
   "execution_count": 16,
   "id": "3ee314e0-d8df-4576-85ed-c40e794f47ac",
   "metadata": {},
   "outputs": [
    {
     "name": "stdout",
     "output_type": "stream",
     "text": [
      "a\tbc\n"
     ]
    }
   ],
   "source": [
    "print(\"a\\tbc\")"
   ]
  },
  {
   "cell_type": "code",
   "execution_count": 17,
   "id": "9f587c96-500a-4e9a-97f3-1ed47deb129f",
   "metadata": {},
   "outputs": [
    {
     "name": "stdout",
     "output_type": "stream",
     "text": [
      "\"I did nothing\"\n"
     ]
    }
   ],
   "source": [
    "testimony=\"\\\"I did nothing\\\"\"\n",
    "print(testimony)"
   ]
  },
  {
   "cell_type": "code",
   "execution_count": 19,
   "id": "948d40e6-6b30-4386-934c-9c703e7d2bad",
   "metadata": {},
   "outputs": [],
   "source": [
    "# \\\\ - 백슬러시를 문자열로 쓸 경우"
   ]
  },
  {
   "cell_type": "code",
   "execution_count": 21,
   "id": "8e3163ba-b12f-4380-851e-539a6c3c2a45",
   "metadata": {},
   "outputs": [
    {
     "data": {
      "text/plain": [
       "'Release the kraken! No, wait!'"
      ]
     },
     "execution_count": 21,
     "metadata": {},
     "output_type": "execute_result"
    }
   ],
   "source": [
    "\"Release the kraken! \"+\"No, wait!\""
   ]
  },
  {
   "cell_type": "code",
   "execution_count": 22,
   "id": "feb279bc-335d-4189-86e4-378defa59798",
   "metadata": {},
   "outputs": [
    {
     "data": {
      "text/plain": [
       "'My word! A gentleman caller!'"
      ]
     },
     "execution_count": 22,
     "metadata": {},
     "output_type": "execute_result"
    }
   ],
   "source": [
    "\"My word! \"\"A gentleman caller!\""
   ]
  },
  {
   "cell_type": "code",
   "execution_count": 24,
   "id": "fbc17a21-8619-4b57-922c-48e7c35bed69",
   "metadata": {},
   "outputs": [
    {
     "data": {
      "text/plain": [
       "'aeiou'"
      ]
     },
     "execution_count": 24,
     "metadata": {},
     "output_type": "execute_result"
    }
   ],
   "source": [
    "vowels=('a'\"e\"'''i''''o'\"\"\"u\"\"\")\n",
    "vowels"
   ]
  },
  {
   "cell_type": "code",
   "execution_count": 27,
   "id": "24400bba-7695-4301-9821-0d32a3b6da83",
   "metadata": {},
   "outputs": [
    {
     "data": {
      "text/plain": [
       "'DuckDuckGrey Duck!'"
      ]
     },
     "execution_count": 27,
     "metadata": {},
     "output_type": "execute_result"
    }
   ],
   "source": [
    "a=\"Duck\"\n",
    "b=a\n",
    "c=\"Grey Duck!\"\n",
    "# 변수끼리는 + 꼭 사용\n",
    "a+b+c"
   ]
  },
  {
   "cell_type": "code",
   "execution_count": 26,
   "id": "a682f156-081f-4cdf-9c17-0db8e414b23b",
   "metadata": {},
   "outputs": [
    {
     "name": "stdout",
     "output_type": "stream",
     "text": [
      "Duck Duck Grey Duck!\n"
     ]
    }
   ],
   "source": [
    "print(a,b,c)"
   ]
  },
  {
   "cell_type": "code",
   "execution_count": 28,
   "id": "fac19a60-6b8e-468c-a0ef-c941d7067704",
   "metadata": {},
   "outputs": [
    {
     "name": "stdout",
     "output_type": "stream",
     "text": [
      "Na Na Na Na \n",
      "Na Na Na Na \n",
      "Hey Hey Hey \n",
      "Goodbye.\n"
     ]
    }
   ],
   "source": [
    "start=\"Na \"*4+\"\\n\"\n",
    "middle=\"Hey \"*3+\"\\n\"\n",
    "end=\"Goodbye.\"\n",
    "print(start+start+middle+end)"
   ]
  },
  {
   "cell_type": "code",
   "execution_count": 37,
   "id": "4bbf0457-0cce-42f5-8588-7a3f8aea4a2b",
   "metadata": {},
   "outputs": [
    {
     "data": {
      "text/plain": [
       "'a'"
      ]
     },
     "execution_count": 37,
     "metadata": {},
     "output_type": "execute_result"
    }
   ],
   "source": [
    "letters=\"abcdefghijklmnopqrstuvwxyz\"\n",
    "letters[0]"
   ]
  },
  {
   "cell_type": "code",
   "execution_count": 32,
   "id": "78e950c5-a73d-4e11-9849-cfc0c5c60e76",
   "metadata": {},
   "outputs": [
    {
     "data": {
      "text/plain": [
       "'b'"
      ]
     },
     "execution_count": 32,
     "metadata": {},
     "output_type": "execute_result"
    }
   ],
   "source": [
    "letters[1]"
   ]
  },
  {
   "cell_type": "code",
   "execution_count": 33,
   "id": "417705e6-fc41-47aa-8f51-b4d562366932",
   "metadata": {},
   "outputs": [
    {
     "data": {
      "text/plain": [
       "'c'"
      ]
     },
     "execution_count": 33,
     "metadata": {},
     "output_type": "execute_result"
    }
   ],
   "source": [
    "letters[2]"
   ]
  },
  {
   "cell_type": "code",
   "execution_count": 34,
   "id": "4001e679-fd92-4a25-a9e3-b2fb4c8be447",
   "metadata": {},
   "outputs": [
    {
     "data": {
      "text/plain": [
       "'z'"
      ]
     },
     "execution_count": 34,
     "metadata": {},
     "output_type": "execute_result"
    }
   ],
   "source": [
    "letters[-1]"
   ]
  },
  {
   "cell_type": "code",
   "execution_count": 35,
   "id": "da3aeb23-3bfa-44e6-bb57-9eddd41a3def",
   "metadata": {},
   "outputs": [
    {
     "data": {
      "text/plain": [
       "'y'"
      ]
     },
     "execution_count": 35,
     "metadata": {},
     "output_type": "execute_result"
    }
   ],
   "source": [
    "letters[-2]"
   ]
  },
  {
   "cell_type": "code",
   "execution_count": 36,
   "id": "5b8d820a-e93f-4010-85c0-6343dd03cb6b",
   "metadata": {},
   "outputs": [
    {
     "data": {
      "text/plain": [
       "'z'"
      ]
     },
     "execution_count": 36,
     "metadata": {},
     "output_type": "execute_result"
    }
   ],
   "source": [
    "letters[25]"
   ]
  },
  {
   "cell_type": "code",
   "execution_count": 38,
   "id": "ac664aef-e984-4b5c-b1f6-84de23c804db",
   "metadata": {},
   "outputs": [
    {
     "data": {
      "text/plain": [
       "'i'"
      ]
     },
     "execution_count": 38,
     "metadata": {},
     "output_type": "execute_result"
    }
   ],
   "source": [
    "letters[8]"
   ]
  },
  {
   "cell_type": "code",
   "execution_count": 39,
   "id": "b1fdadd0-99ec-4811-ae06-c931ed0af43c",
   "metadata": {},
   "outputs": [],
   "source": [
    "name=\"Henny\"\n",
    "# name[0]=p\n",
    "# 문자열은 변경 불가능 상수형 타입"
   ]
  },
  {
   "cell_type": "code",
   "execution_count": 43,
   "id": "8e252ac8-3dc0-4a45-8058-0cd521d1ced3",
   "metadata": {},
   "outputs": [
    {
     "data": {
      "text/plain": [
       "'Kenny'"
      ]
     },
     "execution_count": 43,
     "metadata": {},
     "output_type": "execute_result"
    }
   ],
   "source": [
    "name=name.replace(\"H\",\"K\")\n",
    "name"
   ]
  },
  {
   "cell_type": "code",
   "execution_count": 54,
   "id": "aa33f588-a61c-433a-9e5d-245a6147a05e",
   "metadata": {},
   "outputs": [],
   "source": [
    "# [a:b:c]\n",
    "# a이상 b미만 c스텝(c만큼 건너뛰어 출력)"
   ]
  },
  {
   "cell_type": "code",
   "execution_count": 45,
   "id": "a7e6f3d6-078c-45fb-8d68-cfd910b9cd85",
   "metadata": {},
   "outputs": [
    {
     "data": {
      "text/plain": [
       "'abcdefghijklmnopqrstuvwxyz'"
      ]
     },
     "execution_count": 45,
     "metadata": {},
     "output_type": "execute_result"
    }
   ],
   "source": [
    "letters[:]"
   ]
  },
  {
   "cell_type": "code",
   "execution_count": 46,
   "id": "c3b81d49-1e9e-45db-a7ee-85b5a6f9510b",
   "metadata": {},
   "outputs": [
    {
     "data": {
      "text/plain": [
       "'uvwxyz'"
      ]
     },
     "execution_count": 46,
     "metadata": {},
     "output_type": "execute_result"
    }
   ],
   "source": [
    "letters[20:]"
   ]
  },
  {
   "cell_type": "code",
   "execution_count": 47,
   "id": "9bebcb43-7d1a-4339-88f3-80dd5152ae97",
   "metadata": {},
   "outputs": [
    {
     "data": {
      "text/plain": [
       "'jklmnop'"
      ]
     },
     "execution_count": 47,
     "metadata": {},
     "output_type": "execute_result"
    }
   ],
   "source": [
    "letters[9:16]"
   ]
  },
  {
   "cell_type": "code",
   "execution_count": 48,
   "id": "05df27cb-76b7-4f6e-94f3-351fc4020439",
   "metadata": {},
   "outputs": [
    {
     "data": {
      "text/plain": [
       "'rstuvw'"
      ]
     },
     "execution_count": 48,
     "metadata": {},
     "output_type": "execute_result"
    }
   ],
   "source": [
    "letters[17:-3]"
   ]
  },
  {
   "cell_type": "code",
   "execution_count": 49,
   "id": "97a5e29a-025d-4e3e-8bdc-ec6847ae1e9b",
   "metadata": {},
   "outputs": [
    {
     "data": {
      "text/plain": [
       "'qrstuvwx'"
      ]
     },
     "execution_count": 49,
     "metadata": {},
     "output_type": "execute_result"
    }
   ],
   "source": [
    "letters[-10:-2]"
   ]
  },
  {
   "cell_type": "code",
   "execution_count": 51,
   "id": "6eda73b7-fde0-48f4-922b-b2f1d891cb00",
   "metadata": {},
   "outputs": [
    {
     "data": {
      "text/plain": [
       "'vwxyz'"
      ]
     },
     "execution_count": 51,
     "metadata": {},
     "output_type": "execute_result"
    }
   ],
   "source": [
    "letters[-5:]"
   ]
  },
  {
   "cell_type": "code",
   "execution_count": 52,
   "id": "a0f34a10-b37a-44d3-83fc-7bbb83c165e3",
   "metadata": {},
   "outputs": [
    {
     "data": {
      "text/plain": [
       "'ahov'"
      ]
     },
     "execution_count": 52,
     "metadata": {},
     "output_type": "execute_result"
    }
   ],
   "source": [
    "letters[::7]"
   ]
  },
  {
   "cell_type": "code",
   "execution_count": 53,
   "id": "37a9cb56-da4f-476f-8cb5-dc829177a90e",
   "metadata": {},
   "outputs": [
    {
     "data": {
      "text/plain": [
       "'afkpuz'"
      ]
     },
     "execution_count": 53,
     "metadata": {},
     "output_type": "execute_result"
    }
   ],
   "source": [
    "letters[::5]"
   ]
  },
  {
   "cell_type": "code",
   "execution_count": 55,
   "id": "da0fcccc-e6be-4633-aa39-dea7d1b40cf9",
   "metadata": {},
   "outputs": [
    {
     "data": {
      "text/plain": [
       "'ehknqt'"
      ]
     },
     "execution_count": 55,
     "metadata": {},
     "output_type": "execute_result"
    }
   ],
   "source": [
    "letters[4:21:3]"
   ]
  },
  {
   "cell_type": "code",
   "execution_count": 56,
   "id": "7635d11b-73e5-48ee-8b82-3eca63ddf64b",
   "metadata": {},
   "outputs": [
    {
     "data": {
      "text/plain": [
       "'zwtqnkheb'"
      ]
     },
     "execution_count": 56,
     "metadata": {},
     "output_type": "execute_result"
    }
   ],
   "source": [
    "letters[::-3]"
   ]
  },
  {
   "cell_type": "code",
   "execution_count": 57,
   "id": "c251e8db-61bd-4a1b-bdcb-e5875fe187b7",
   "metadata": {},
   "outputs": [
    {
     "data": {
      "text/plain": [
       "26"
      ]
     },
     "execution_count": 57,
     "metadata": {},
     "output_type": "execute_result"
    }
   ],
   "source": [
    "len(letters)"
   ]
  },
  {
   "cell_type": "code",
   "execution_count": 60,
   "id": "05791362-ae0f-4ef8-b6eb-0594956f7c71",
   "metadata": {},
   "outputs": [
    {
     "data": {
      "text/plain": [
       "['get gloves', ' get mask', ' give cat']"
      ]
     },
     "execution_count": 60,
     "metadata": {},
     "output_type": "execute_result"
    }
   ],
   "source": [
    "# split() - 구분자를 기준으로 리스트로 나눔\n",
    "# 기본 구분자 - 줄바꿈, 스페이스, 탭\n",
    "tasks=\"get gloves, get mask, give cat\"\n",
    "tasks.split(\",\")"
   ]
  },
  {
   "cell_type": "code",
   "execution_count": 59,
   "id": "7c39a329-a47e-4010-af65-89d975aea96e",
   "metadata": {},
   "outputs": [
    {
     "data": {
      "text/plain": [
       "['get', 'gloves,', 'get', 'mask,', 'give', 'cat']"
      ]
     },
     "execution_count": 59,
     "metadata": {},
     "output_type": "execute_result"
    }
   ],
   "source": [
    "tasks.split()"
   ]
  },
  {
   "cell_type": "code",
   "execution_count": 62,
   "id": "9d970067-f69b-4c42-b94c-0b9c35acb1f4",
   "metadata": {},
   "outputs": [
    {
     "data": {
      "text/plain": [
       "['2022', '08', '30']"
      ]
     },
     "execution_count": 62,
     "metadata": {},
     "output_type": "execute_result"
    }
   ],
   "source": [
    "time=\"2022-08-30\"\n",
    "time.split(\"-\")"
   ]
  },
  {
   "cell_type": "code",
   "execution_count": 65,
   "id": "9c7e98d5-11df-4dbd-8bc8-3090ff5e9fb8",
   "metadata": {},
   "outputs": [
    {
     "data": {
      "text/plain": [
       "'Yeti, Bigfoot, Loch Ness Monster'"
      ]
     },
     "execution_count": 65,
     "metadata": {},
     "output_type": "execute_result"
    }
   ],
   "source": [
    "# join() - 문자열 결합\n",
    "crypto_list=[\"Yeti\", \"Bigfoot\", \"Loch Ness Monster\"]\n",
    "crypto_string=\", \".join(crypto_list)\n",
    "crypto_string"
   ]
  },
  {
   "cell_type": "code",
   "execution_count": 66,
   "id": "b589d3f6-3fc7-4843-86fe-aefdd1e9921c",
   "metadata": {},
   "outputs": [
    {
     "name": "stdout",
     "output_type": "stream",
     "text": [
      "Found and signing book deal:  Yeti, Bigfoot, Loch Ness Monster\n"
     ]
    }
   ],
   "source": [
    "print(\"Found and signing book deal: \", crypto_string)"
   ]
  },
  {
   "cell_type": "code",
   "execution_count": 67,
   "id": "976de766-180c-4dfc-9949-62512f611a47",
   "metadata": {},
   "outputs": [
    {
     "data": {
      "text/plain": [
       "'a marmoset goes into a bar...'"
      ]
     },
     "execution_count": 67,
     "metadata": {},
     "output_type": "execute_result"
    }
   ],
   "source": [
    "# replace() - 문자열 대체하기\n",
    "setup=\"a duck goes into a bar...\"\n",
    "setup.replace(\"duck\",\"marmoset\")"
   ]
  },
  {
   "cell_type": "code",
   "execution_count": 68,
   "id": "40c47d39-1e1b-42be-9c66-89d974d2735c",
   "metadata": {},
   "outputs": [
    {
     "data": {
      "text/plain": [
       "'a famousduck goes into a famousbar...'"
      ]
     },
     "execution_count": 68,
     "metadata": {},
     "output_type": "execute_result"
    }
   ],
   "source": [
    "setup.replace(\"a \",\"a famous\")"
   ]
  },
  {
   "cell_type": "code",
   "execution_count": 69,
   "id": "1307eed5-c01c-4e83-b4ce-654bcbae73cb",
   "metadata": {},
   "outputs": [
    {
     "data": {
      "text/plain": [
       "'a famousduck goes into a bar...'"
      ]
     },
     "execution_count": 69,
     "metadata": {},
     "output_type": "execute_result"
    }
   ],
   "source": [
    "setup.replace(\"a \",\"a famous\", 1)"
   ]
  },
  {
   "cell_type": "code",
   "execution_count": 71,
   "id": "6e97fd71-68ac-4620-8e2d-c6be1269b156",
   "metadata": {},
   "outputs": [
    {
     "data": {
      "text/plain": [
       "'earth'"
      ]
     },
     "execution_count": 71,
     "metadata": {},
     "output_type": "execute_result"
    }
   ],
   "source": [
    "# strip() - 양쪽 여백 또는 공백 제거 - c#의 Trim()\n",
    "world=\" earth \"\n",
    "world.strip()"
   ]
  },
  {
   "cell_type": "code",
   "execution_count": 72,
   "id": "bd955cd6-07cb-460f-bd5a-5182a81ebc8c",
   "metadata": {},
   "outputs": [
    {
     "data": {
      "text/plain": [
       "'earth '"
      ]
     },
     "execution_count": 72,
     "metadata": {},
     "output_type": "execute_result"
    }
   ],
   "source": [
    "world.lstrip()"
   ]
  },
  {
   "cell_type": "code",
   "execution_count": 73,
   "id": "397f443b-ed35-4354-ab73-a2bf6cd3b926",
   "metadata": {},
   "outputs": [
    {
     "data": {
      "text/plain": [
       "' earth'"
      ]
     },
     "execution_count": 73,
     "metadata": {},
     "output_type": "execute_result"
    }
   ],
   "source": [
    "world.rstrip()"
   ]
  },
  {
   "cell_type": "code",
   "execution_count": 75,
   "id": "6678fa18-e260-439d-ab8e-baf06bd20764",
   "metadata": {},
   "outputs": [
    {
     "data": {
      "text/plain": [
       "'What the'"
      ]
     },
     "execution_count": 75,
     "metadata": {},
     "output_type": "execute_result"
    }
   ],
   "source": [
    "blurt=\"What the...!!?\"\n",
    "blurt.strip(\".?!\")"
   ]
  },
  {
   "cell_type": "code",
   "execution_count": 76,
   "id": "4c619e93-ff6c-45a4-949a-f2e2b28d2fbd",
   "metadata": {},
   "outputs": [
    {
     "data": {
      "text/plain": [
       "' \\t\\n\\r\\x0b\\x0c'"
      ]
     },
     "execution_count": 76,
     "metadata": {},
     "output_type": "execute_result"
    }
   ],
   "source": [
    "import string \n",
    "string.whitespace"
   ]
  },
  {
   "cell_type": "code",
   "execution_count": 77,
   "id": "d5c98b0e-e431-4a04-8ca7-bd303094bb5d",
   "metadata": {},
   "outputs": [
    {
     "data": {
      "text/plain": [
       "'!\"#$%&\\'()*+,-./:;<=>?@[\\\\]^_`{|}~'"
      ]
     },
     "execution_count": 77,
     "metadata": {},
     "output_type": "execute_result"
    }
   ],
   "source": [
    "string.punctuation"
   ]
  },
  {
   "cell_type": "code",
   "execution_count": 80,
   "id": "77d35295-8bad-42be-86d3-84d08b3a8d0a",
   "metadata": {},
   "outputs": [
    {
     "data": {
      "text/plain": [
       "'()'"
      ]
     },
     "execution_count": 80,
     "metadata": {},
     "output_type": "execute_result"
    }
   ],
   "source": [
    "string.punctuation[7:9]"
   ]
  },
  {
   "cell_type": "code",
   "execution_count": 81,
   "id": "05b36539-a9e5-4d98-bb07-48d2ca4b9fb1",
   "metadata": {},
   "outputs": [
    {
     "data": {
      "text/plain": [
       "'What the'"
      ]
     },
     "execution_count": 81,
     "metadata": {},
     "output_type": "execute_result"
    }
   ],
   "source": [
    "blurt.strip(string.punctuation)"
   ]
  },
  {
   "cell_type": "code",
   "execution_count": 82,
   "id": "80bc5461-f785-4a65-8786-f90d3c89e58a",
   "metadata": {},
   "outputs": [
    {
     "data": {
      "text/plain": [
       "'p style>What the taranation'"
      ]
     },
     "execution_count": 82,
     "metadata": {},
     "output_type": "execute_result"
    }
   ],
   "source": [
    "prospector=\"<p style>What the taranation ....??!!!\"\n",
    "prospector.strip(string.whitespace+string.punctuation)"
   ]
  },
  {
   "cell_type": "code",
   "execution_count": 83,
   "id": "5be87e4e-6223-4511-bac7-5e97e62fd7e1",
   "metadata": {},
   "outputs": [
    {
     "data": {
      "text/plain": [
       "'There was a Y'"
      ]
     },
     "execution_count": 83,
     "metadata": {},
     "output_type": "execute_result"
    }
   ],
   "source": [
    "poem[:13]"
   ]
  },
  {
   "cell_type": "code",
   "execution_count": 84,
   "id": "8bb6fb12-f83a-4bfa-972b-fc0e15047da2",
   "metadata": {},
   "outputs": [
    {
     "data": {
      "text/plain": [
       "167"
      ]
     },
     "execution_count": 84,
     "metadata": {},
     "output_type": "execute_result"
    }
   ],
   "source": [
    "len(poem)"
   ]
  },
  {
   "cell_type": "code",
   "execution_count": 85,
   "id": "752be51d-488c-4a2e-9140-8a5411cb0a90",
   "metadata": {},
   "outputs": [
    {
     "data": {
      "text/plain": [
       "True"
      ]
     },
     "execution_count": 85,
     "metadata": {},
     "output_type": "execute_result"
    }
   ],
   "source": [
    "poem.startswith(\"There\")"
   ]
  },
  {
   "cell_type": "code",
   "execution_count": 86,
   "id": "be3b4c3a-cadd-4498-9efa-868a5b52ee04",
   "metadata": {},
   "outputs": [
    {
     "data": {
      "text/plain": [
       "False"
      ]
     },
     "execution_count": 86,
     "metadata": {},
     "output_type": "execute_result"
    }
   ],
   "source": [
    "poem.endswith(\"ea\")"
   ]
  },
  {
   "cell_type": "code",
   "execution_count": 90,
   "id": "478da854-fa2e-4936-87ab-7ab95b988527",
   "metadata": {},
   "outputs": [
    {
     "data": {
      "text/plain": [
       "True"
      ]
     },
     "execution_count": 90,
     "metadata": {},
     "output_type": "execute_result"
    }
   ],
   "source": [
    "poem.endswith(\"way.\")"
   ]
  },
  {
   "cell_type": "code",
   "execution_count": 98,
   "id": "a2a1d1f2-384d-486b-8f5a-78e6ed4063fb",
   "metadata": {},
   "outputs": [],
   "source": [
    "# 검색했는데 없을 경우\n",
    "# find() -1\n",
    "# index() 에러"
   ]
  },
  {
   "cell_type": "code",
   "execution_count": 93,
   "id": "2cdfdf79-5b1e-4d24-b6ea-9bf3848f68ec",
   "metadata": {},
   "outputs": [
    {
     "data": {
      "text/plain": [
       "12"
      ]
     },
     "execution_count": 93,
     "metadata": {},
     "output_type": "execute_result"
    }
   ],
   "source": [
    "poem.find(\"Young\")"
   ]
  },
  {
   "cell_type": "code",
   "execution_count": 94,
   "id": "2f4e088b-4af8-4243-a496-e18bea92bfd9",
   "metadata": {},
   "outputs": [
    {
     "data": {
      "text/plain": [
       "12"
      ]
     },
     "execution_count": 94,
     "metadata": {},
     "output_type": "execute_result"
    }
   ],
   "source": [
    "poem.index(\"Young\")"
   ]
  },
  {
   "cell_type": "code",
   "execution_count": 95,
   "id": "e44cb20a-22a2-4aa1-b0a6-0c9269f7971d",
   "metadata": {},
   "outputs": [
    {
     "data": {
      "text/plain": [
       "-1"
      ]
     },
     "execution_count": 95,
     "metadata": {},
     "output_type": "execute_result"
    }
   ],
   "source": [
    "word=\"duck\"\n",
    "poem.find(word)"
   ]
  },
  {
   "cell_type": "code",
   "execution_count": 97,
   "id": "53c3443d-5d79-4048-89e8-24b0f71564b4",
   "metadata": {},
   "outputs": [],
   "source": [
    "# poem.index(word)"
   ]
  },
  {
   "cell_type": "code",
   "execution_count": 99,
   "id": "4d244f2c-8467-4ad3-8720-cde27ae59bf8",
   "metadata": {},
   "outputs": [
    {
     "name": "stdout",
     "output_type": "stream",
     "text": [
      "검색결과 없음\n"
     ]
    }
   ],
   "source": [
    "if poem.find(word)<0:\n",
    "   print(\"검색결과 없음\")"
   ]
  },
  {
   "cell_type": "code",
   "execution_count": 100,
   "id": "639c9dae-208c-49ab-a28f-3ffd795ae771",
   "metadata": {},
   "outputs": [
    {
     "data": {
      "text/plain": [
       "'A duck goes into a bar...'"
      ]
     },
     "execution_count": 100,
     "metadata": {},
     "output_type": "execute_result"
    }
   ],
   "source": [
    "# 대소문자 변경\n",
    "# 첫 번째 단어를 대문자로 capitalize()\n",
    "setup.capitalize()"
   ]
  },
  {
   "cell_type": "code",
   "execution_count": 101,
   "id": "db60a358-70e0-4ce4-854c-f32a2ce6beb5",
   "metadata": {},
   "outputs": [
    {
     "data": {
      "text/plain": [
       "'A Duck Goes Into A Bar...'"
      ]
     },
     "execution_count": 101,
     "metadata": {},
     "output_type": "execute_result"
    }
   ],
   "source": [
    "# 모든 단어의 첫 글자를 대문자로 title()\n",
    "setup.title()"
   ]
  },
  {
   "cell_type": "code",
   "execution_count": 102,
   "id": "734c51fb-ebcd-4229-a746-746b25abf877",
   "metadata": {},
   "outputs": [
    {
     "data": {
      "text/plain": [
       "'A DUCK GOES INTO A BAR...'"
      ]
     },
     "execution_count": 102,
     "metadata": {},
     "output_type": "execute_result"
    }
   ],
   "source": [
    "# 모두 대문자로 upper()\n",
    "setup.upper()"
   ]
  },
  {
   "cell_type": "code",
   "execution_count": 103,
   "id": "a5104696-05aa-4047-be9b-f09ac6e13d42",
   "metadata": {},
   "outputs": [
    {
     "data": {
      "text/plain": [
       "'a duck goes into a bar...'"
      ]
     },
     "execution_count": 103,
     "metadata": {},
     "output_type": "execute_result"
    }
   ],
   "source": [
    "# 모두 소문자로 lower()\n",
    "setup.lower()"
   ]
  },
  {
   "cell_type": "code",
   "execution_count": 104,
   "id": "3b2776bf-7ea0-4e1e-9037-fae7de323ca4",
   "metadata": {},
   "outputs": [
    {
     "data": {
      "text/plain": [
       "'A DUCK GOES INTO A BAR...'"
      ]
     },
     "execution_count": 104,
     "metadata": {},
     "output_type": "execute_result"
    }
   ],
   "source": [
    "# 대문자는 소문자로 소문자는 대문자로 swapcase()\n",
    "setup.swapcase()"
   ]
  },
  {
   "cell_type": "code",
   "execution_count": 105,
   "id": "f4c22e75-1a8b-4984-9dc6-37eea6fd6b36",
   "metadata": {},
   "outputs": [
    {
     "name": "stdout",
     "output_type": "stream",
     "text": [
      "1\n",
      "2\n",
      "3\n",
      "4\n",
      "5\n"
     ]
    }
   ],
   "source": [
    "count=1\n",
    "while count<=5:\n",
    "    print(count)\n",
    "    count+=1"
   ]
  },
  {
   "cell_type": "code",
   "execution_count": null,
   "id": "9baea043-85ba-4a96-944f-b11e2e2146bc",
   "metadata": {},
   "outputs": [],
   "source": []
  }
 ],
 "metadata": {
  "kernelspec": {
   "display_name": "Python 3 (ipykernel)",
   "language": "python",
   "name": "python3"
  },
  "language_info": {
   "codemirror_mode": {
    "name": "ipython",
    "version": 3
   },
   "file_extension": ".py",
   "mimetype": "text/x-python",
   "name": "python",
   "nbconvert_exporter": "python",
   "pygments_lexer": "ipython3",
   "version": "3.9.12"
  }
 },
 "nbformat": 4,
 "nbformat_minor": 5
}
