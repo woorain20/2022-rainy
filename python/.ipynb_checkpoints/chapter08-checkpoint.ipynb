{
 "cells": [
  {
   "cell_type": "code",
   "execution_count": 1,
   "id": "a5cf3a60-3e8d-4d73-a117-a60eb190af86",
   "metadata": {},
   "outputs": [
    {
     "name": "stdout",
     "output_type": "stream",
     "text": [
      "chapter08\n"
     ]
    }
   ],
   "source": [
    "print(\"chapter08\")"
   ]
  },
  {
   "cell_type": "code",
   "execution_count": 2,
   "id": "c97725b6-128a-4fcf-b993-dc2b103390c8",
   "metadata": {},
   "outputs": [],
   "source": [
    "# 딕셔너리(사전) - 딕트라고도 함\n",
    "# 단어 -> 뜻\n",
    "# 키(key) -> 값(value)"
   ]
  },
  {
   "cell_type": "code",
   "execution_count": 3,
   "id": "e1b73a62-3a5a-4084-aa49-b56ba1b37aa4",
   "metadata": {},
   "outputs": [
    {
     "data": {
      "text/plain": [
       "{}"
      ]
     },
     "execution_count": 3,
     "metadata": {},
     "output_type": "execute_result"
    }
   ],
   "source": [
    "empty_dict={}\n",
    "empty_dict"
   ]
  },
  {
   "cell_type": "code",
   "execution_count": 4,
   "id": "0927ceb2-de8f-416f-875d-a0d0847d3467",
   "metadata": {},
   "outputs": [
    {
     "data": {
      "text/plain": [
       "{'day': 'A period of twenty-four',\n",
       " 'positive': 'Mistaken',\n",
       " 'misfortune': 'The kind of fourtun'}"
      ]
     },
     "execution_count": 4,
     "metadata": {},
     "output_type": "execute_result"
    }
   ],
   "source": [
    "bierce={\n",
    "    \"day\":\"A period of twenty-four\",\n",
    "    \"positive\":\"Mistaken\",\n",
    "    \"misfortune\":\"The kind of fourtun\"\n",
    "}\n",
    "bierce"
   ]
  },
  {
   "cell_type": "code",
   "execution_count": 6,
   "id": "236348f2-984d-4a4e-8ff2-1a2d8149e8ef",
   "metadata": {},
   "outputs": [
    {
     "data": {
      "text/plain": [
       "{'first': 'Wile', 'middle': 'E', 'last': 'Coyote'}"
      ]
     },
     "execution_count": 6,
     "metadata": {},
     "output_type": "execute_result"
    }
   ],
   "source": [
    "# 딕트 생성 dict() 함수 사용\n",
    "# key값이 공백과 예약어 사용 불가\n",
    "acme_customer=dict(first=\"Wile\", middle=\"E\", last=\"Coyote\")\n",
    "acme_customer"
   ]
  },
  {
   "cell_type": "code",
   "execution_count": 7,
   "id": "bd80cb81-4e39-4d0c-9852-7523f3d3b8df",
   "metadata": {},
   "outputs": [
    {
     "data": {
      "text/plain": [
       "{'a': 'b', 'c': 'd'}"
      ]
     },
     "execution_count": 7,
     "metadata": {},
     "output_type": "execute_result"
    }
   ],
   "source": [
    "lol=[[\"a\",\"b\"],[\"c\",\"d\"]]\n",
    "dict(lol)"
   ]
  },
  {
   "cell_type": "code",
   "execution_count": 11,
   "id": "955bcf56-9c1b-4bab-9a67-8d8c285efe2f",
   "metadata": {},
   "outputs": [
    {
     "data": {
      "text/plain": [
       "{'a': 'b', 'c': 'd'}"
      ]
     },
     "execution_count": 11,
     "metadata": {},
     "output_type": "execute_result"
    }
   ],
   "source": [
    "# lot=[(n1,n2) for n1 in range(2,10) for n2 in range(1,10)]\n",
    "lot=[(\"a\",\"b\"),(\"c\",\"d\")]\n",
    "dict(lot)"
   ]
  },
  {
   "cell_type": "code",
   "execution_count": 12,
   "id": "5b321fed-e56c-4ba9-89e2-4a804304c215",
   "metadata": {},
   "outputs": [
    {
     "data": {
      "text/plain": [
       "{'Chapman': 'Graham',\n",
       " 'Cleese': 'John',\n",
       " 'Idle': 'Eric',\n",
       " 'Jones': 'Terry',\n",
       " 'palin': 'Michael'}"
      ]
     },
     "execution_count": 12,
     "metadata": {},
     "output_type": "execute_result"
    }
   ],
   "source": [
    "pythons={\n",
    "    \"Chapman\":\"Graham\",\n",
    "    \"Cleese\":\"John\",\n",
    "    \"Idle\":\"Eric\",\n",
    "    \"Jones\":\"Terry\",\n",
    "    \"palin\":\"Michael\",\n",
    "}\n",
    "pythons"
   ]
  },
  {
   "cell_type": "code",
   "execution_count": 13,
   "id": "b03a195a-802e-4606-b95a-935c34d582e4",
   "metadata": {},
   "outputs": [
    {
     "data": {
      "text/plain": [
       "'Graham'"
      ]
     },
     "execution_count": 13,
     "metadata": {},
     "output_type": "execute_result"
    }
   ],
   "source": [
    "pythons[\"Chapman\"]"
   ]
  },
  {
   "cell_type": "code",
   "execution_count": 14,
   "id": "1850c2d5-4c98-41ea-9303-0de0ffffdcb4",
   "metadata": {},
   "outputs": [
    {
     "data": {
      "text/plain": [
       "{'Chapman': 'Graham',\n",
       " 'Cleese': 'John',\n",
       " 'Idle': 'Eric',\n",
       " 'Jones': 'Terry',\n",
       " 'palin': 'Michael',\n",
       " 'Gilliam': 'Gerry'}"
      ]
     },
     "execution_count": 14,
     "metadata": {},
     "output_type": "execute_result"
    }
   ],
   "source": [
    "pythons[\"Gilliam\"]=\"Gerry\"\n",
    "pythons"
   ]
  },
  {
   "cell_type": "code",
   "execution_count": 15,
   "id": "116d40a4-1b3d-4b91-9bcc-8d519b71974d",
   "metadata": {},
   "outputs": [
    {
     "data": {
      "text/plain": [
       "{'Chapman': 'Graham',\n",
       " 'Cleese': 'John',\n",
       " 'Idle': 'Eric',\n",
       " 'Jones': 'Terry',\n",
       " 'palin': 'Michael',\n",
       " 'Gilliam': 'Terry'}"
      ]
     },
     "execution_count": 15,
     "metadata": {},
     "output_type": "execute_result"
    }
   ],
   "source": [
    "pythons[\"Gilliam\"]=\"Terry\"\n",
    "pythons"
   ]
  },
  {
   "cell_type": "code",
   "execution_count": 16,
   "id": "3b38c1e3-bf0c-4d56-9b3a-2e69b1891ed8",
   "metadata": {},
   "outputs": [],
   "source": [
    "# 키값이 없으면 추가되고 있으면 수정이 이뤄짐"
   ]
  },
  {
   "cell_type": "code",
   "execution_count": 17,
   "id": "c8018362-cb0d-495a-a2cc-effdb3176c99",
   "metadata": {},
   "outputs": [
    {
     "data": {
      "text/plain": [
       "'Terry'"
      ]
     },
     "execution_count": 17,
     "metadata": {},
     "output_type": "execute_result"
    }
   ],
   "source": [
    "pythons[\"Gilliam\"]"
   ]
  },
  {
   "cell_type": "code",
   "execution_count": 20,
   "id": "143a0f54-7b0f-489a-a364-8999f6407c75",
   "metadata": {},
   "outputs": [],
   "source": [
    "# pythons[\"Lee\"] 키값 없으면 에러 발생"
   ]
  },
  {
   "cell_type": "code",
   "execution_count": 21,
   "id": "5acbdec7-db45-40a8-9877-7f219a78ce79",
   "metadata": {},
   "outputs": [
    {
     "data": {
      "text/plain": [
       "False"
      ]
     },
     "execution_count": 21,
     "metadata": {},
     "output_type": "execute_result"
    }
   ],
   "source": [
    "\"Groucho\" in pythons"
   ]
  },
  {
   "cell_type": "code",
   "execution_count": 22,
   "id": "cdf294a3-a88f-4365-95f4-71141d086a17",
   "metadata": {},
   "outputs": [
    {
     "data": {
      "text/plain": [
       "False"
      ]
     },
     "execution_count": 22,
     "metadata": {},
     "output_type": "execute_result"
    }
   ],
   "source": [
    "\"Terry\" in pythons"
   ]
  },
  {
   "cell_type": "code",
   "execution_count": 23,
   "id": "09ac5ac1-3c11-4a61-ace0-7baff59feb4d",
   "metadata": {},
   "outputs": [
    {
     "data": {
      "text/plain": [
       "True"
      ]
     },
     "execution_count": 23,
     "metadata": {},
     "output_type": "execute_result"
    }
   ],
   "source": [
    "\"Idle\" in pythons"
   ]
  },
  {
   "cell_type": "code",
   "execution_count": 24,
   "id": "ac2a7f5d-5615-4e21-a414-ccbcbd61ee9b",
   "metadata": {},
   "outputs": [
    {
     "data": {
      "text/plain": [
       "'Terry'"
      ]
     },
     "execution_count": 24,
     "metadata": {},
     "output_type": "execute_result"
    }
   ],
   "source": [
    "pythons.get(\"Gilliam\")"
   ]
  },
  {
   "cell_type": "code",
   "execution_count": 25,
   "id": "031c1bf2-1a8f-49ce-b74d-73f9e4a642c7",
   "metadata": {},
   "outputs": [
    {
     "data": {
      "text/plain": [
       "'Not a python'"
      ]
     },
     "execution_count": 25,
     "metadata": {},
     "output_type": "execute_result"
    }
   ],
   "source": [
    "pythons.get(\"Lee\",\"Not a python\")"
   ]
  },
  {
   "cell_type": "code",
   "execution_count": 26,
   "id": "4d996617-d112-4932-a5f2-0afed7316833",
   "metadata": {},
   "outputs": [],
   "source": [
    "# 뒤에 값을 안 넣어주면 에러는 안 나도 리턴은 안 해줌\n",
    "pythons.get(\"Lee\")"
   ]
  },
  {
   "cell_type": "code",
   "execution_count": 27,
   "id": "3514f5db-6903-40d7-bdac-bd05032755cd",
   "metadata": {},
   "outputs": [
    {
     "data": {
      "text/plain": [
       "dict_keys(['Chapman', 'Cleese', 'Idle', 'Jones', 'palin', 'Gilliam'])"
      ]
     },
     "execution_count": 27,
     "metadata": {},
     "output_type": "execute_result"
    }
   ],
   "source": [
    "# 모든 키 얻기 - keys()\n",
    "pythons.keys()"
   ]
  },
  {
   "cell_type": "code",
   "execution_count": 28,
   "id": "101f2495-bc52-4a80-bf1f-48d1341c3ca9",
   "metadata": {},
   "outputs": [
    {
     "data": {
      "text/plain": [
       "['Chapman', 'Cleese', 'Idle', 'Jones', 'palin', 'Gilliam']"
      ]
     },
     "execution_count": 28,
     "metadata": {},
     "output_type": "execute_result"
    }
   ],
   "source": [
    "list(pythons.keys())"
   ]
  },
  {
   "cell_type": "code",
   "execution_count": 29,
   "id": "d593018a-ac03-417e-a7c8-6a7ba7a17112",
   "metadata": {},
   "outputs": [
    {
     "name": "stdout",
     "output_type": "stream",
     "text": [
      "Chapman\n",
      "Cleese\n",
      "Idle\n",
      "Jones\n",
      "palin\n",
      "Gilliam\n"
     ]
    }
   ],
   "source": [
    "for m in list(pythons.keys()):\n",
    "    print(m)"
   ]
  },
  {
   "cell_type": "code",
   "execution_count": 31,
   "id": "305a380f-b716-4c11-95f3-22b626cf457c",
   "metadata": {},
   "outputs": [
    {
     "data": {
      "text/plain": [
       "['Graham', 'John', 'Eric', 'Terry', 'Michael', 'Terry']"
      ]
     },
     "execution_count": 31,
     "metadata": {},
     "output_type": "execute_result"
    }
   ],
   "source": [
    "list(pythons.values())"
   ]
  },
  {
   "cell_type": "code",
   "execution_count": 33,
   "id": "957314f4-19d7-4554-8c1d-2da93da1f0b0",
   "metadata": {},
   "outputs": [
    {
     "data": {
      "text/plain": [
       "[('Chapman', 'Graham'),\n",
       " ('Cleese', 'John'),\n",
       " ('Idle', 'Eric'),\n",
       " ('Jones', 'Terry'),\n",
       " ('palin', 'Michael'),\n",
       " ('Gilliam', 'Terry')]"
      ]
     },
     "execution_count": 33,
     "metadata": {},
     "output_type": "execute_result"
    }
   ],
   "source": [
    "list(pythons.items())"
   ]
  },
  {
   "cell_type": "code",
   "execution_count": 34,
   "id": "cd357a08-bed8-45ec-8cb7-d5f653d07bef",
   "metadata": {},
   "outputs": [
    {
     "data": {
      "text/plain": [
       "6"
      ]
     },
     "execution_count": 34,
     "metadata": {},
     "output_type": "execute_result"
    }
   ],
   "source": [
    "len(pythons)"
   ]
  },
  {
   "cell_type": "code",
   "execution_count": 38,
   "id": "4ed06173-c2d8-4691-a6c7-b8a2fc2b9c6c",
   "metadata": {},
   "outputs": [
    {
     "data": {
      "text/plain": [
       "{'a': 'agony', 'b': 'bagels', 'c': 'candy'}"
      ]
     },
     "execution_count": 38,
     "metadata": {},
     "output_type": "execute_result"
    }
   ],
   "source": [
    "# ** - 결합하기 - JS-[...arr]과 유사\n",
    "# ** - 얕은 복사\n",
    "first={\"a\":\"agony\", \"b\":\"bliss\"}\n",
    "second={\"b\":\"bagels\", \"c\":\"candy\"}\n",
    "{**first,**second}"
   ]
  },
  {
   "cell_type": "code",
   "execution_count": 39,
   "id": "11beadd2-683d-4589-8f8d-ff0e285686af",
   "metadata": {},
   "outputs": [
    {
     "data": {
      "text/plain": [
       "{'a': 'agony', 'b': 'bagels', 'c': 'candy'}"
      ]
     },
     "execution_count": 39,
     "metadata": {},
     "output_type": "execute_result"
    }
   ],
   "source": [
    "first.update(second)\n",
    "first"
   ]
  },
  {
   "cell_type": "code",
   "execution_count": 40,
   "id": "c6001761-14b2-4fd3-a0c4-18439f8b8499",
   "metadata": {},
   "outputs": [
    {
     "data": {
      "text/plain": [
       "{'b': 'bagels', 'c': 'candy', 'a': 'agony'}"
      ]
     },
     "execution_count": 40,
     "metadata": {},
     "output_type": "execute_result"
    }
   ],
   "source": [
    "second.update(first)\n",
    "second"
   ]
  },
  {
   "cell_type": "code",
   "execution_count": 41,
   "id": "a6f3f381-6d96-47d7-a785-0e58229ce3b1",
   "metadata": {},
   "outputs": [
    {
     "data": {
      "text/plain": [
       "{'a': 'agony', 'b': 'bagels'}"
      ]
     },
     "execution_count": 41,
     "metadata": {},
     "output_type": "execute_result"
    }
   ],
   "source": [
    "del first[\"c\"]\n",
    "first"
   ]
  },
  {
   "cell_type": "code",
   "execution_count": 42,
   "id": "4b97d9e3-20b0-4512-803a-ecfac14b6fa7",
   "metadata": {},
   "outputs": [
    {
     "data": {
      "text/plain": [
       "{'b': 'bagels'}"
      ]
     },
     "execution_count": 42,
     "metadata": {},
     "output_type": "execute_result"
    }
   ],
   "source": [
    "a=first.pop(\"a\")\n",
    "first"
   ]
  },
  {
   "cell_type": "code",
   "execution_count": 43,
   "id": "56619775-6dd5-4f75-a316-4855a3248c29",
   "metadata": {},
   "outputs": [
    {
     "data": {
      "text/plain": [
       "{}"
      ]
     },
     "execution_count": 43,
     "metadata": {},
     "output_type": "execute_result"
    }
   ],
   "source": [
    "first.clear()\n",
    "first"
   ]
  },
  {
   "cell_type": "code",
   "execution_count": 44,
   "id": "2735cc24-8a81-4fac-bba1-64d57c04e279",
   "metadata": {},
   "outputs": [],
   "source": [
    "second_a=second\n",
    "# 리스트와 마찬가지로 가변 형태로 저장 - 메모리에 공간 1개\n",
    "# 메로리 공간에 복제 copy()\n",
    "# 중복된 객체도 복제 deepcopy()"
   ]
  },
  {
   "cell_type": "code",
   "execution_count": 45,
   "id": "c75138e9-aec1-4633-bf67-f94586a89739",
   "metadata": {},
   "outputs": [
    {
     "name": "stdout",
     "output_type": "stream",
     "text": [
      "Chapman\n",
      "Cleese\n",
      "Idle\n",
      "Jones\n",
      "palin\n",
      "Gilliam\n"
     ]
    }
   ],
   "source": [
    "for key in pythons:\n",
    "    print(key)"
   ]
  },
  {
   "cell_type": "code",
   "execution_count": 46,
   "id": "b4f93c6e-630e-455e-b520-685d39a6a1c1",
   "metadata": {},
   "outputs": [
    {
     "name": "stdout",
     "output_type": "stream",
     "text": [
      "Graham\n",
      "John\n",
      "Eric\n",
      "Terry\n",
      "Michael\n",
      "Terry\n"
     ]
    }
   ],
   "source": [
    "for v in pythons.values():\n",
    "    print(v)"
   ]
  },
  {
   "cell_type": "code",
   "execution_count": 47,
   "id": "2f951e75-5063-4b1a-bd17-0b0f6f95b940",
   "metadata": {},
   "outputs": [
    {
     "name": "stdout",
     "output_type": "stream",
     "text": [
      "('Chapman', 'Graham')\n",
      "('Cleese', 'John')\n",
      "('Idle', 'Eric')\n",
      "('Jones', 'Terry')\n",
      "('palin', 'Michael')\n",
      "('Gilliam', 'Terry')\n"
     ]
    }
   ],
   "source": [
    "for item in pythons.items():\n",
    "    print(item)"
   ]
  },
  {
   "cell_type": "code",
   "execution_count": null,
   "id": "181684ae-1fad-4572-88f3-f7bc34ba1e28",
   "metadata": {},
   "outputs": [],
   "source": []
  }
 ],
 "metadata": {
  "kernelspec": {
   "display_name": "Python 3 (ipykernel)",
   "language": "python",
   "name": "python3"
  },
  "language_info": {
   "codemirror_mode": {
    "name": "ipython",
    "version": 3
   },
   "file_extension": ".py",
   "mimetype": "text/x-python",
   "name": "python",
   "nbconvert_exporter": "python",
   "pygments_lexer": "ipython3",
   "version": "3.9.12"
  }
 },
 "nbformat": 4,
 "nbformat_minor": 5
}
