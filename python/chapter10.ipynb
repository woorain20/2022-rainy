{
 "cells": [
  {
   "cell_type": "markdown",
   "id": "ff97422e-14ea-4fed-8a68-82065a1ef870",
   "metadata": {},
   "source": [
    "# chapter10"
   ]
  },
  {
   "cell_type": "code",
   "execution_count": 1,
   "id": "7cf87bab-014a-44d6-bc07-224d195869c3",
   "metadata": {},
   "outputs": [],
   "source": [
    "class Cat():\n",
    "    pass\n",
    "# int[] intArr=new int[10]\n",
    "# 클래스 - 다양한 형태의 자료를 가지는 묶음\n",
    "# json[{2:[]}, {3:3}, {4:\"4\"}, {5:0.1}]\n",
    "# 클래스 - 부품 - 재사용\n",
    "#객체 지향 - 재사용, 확장성\n",
    "# ex)자동차 수리- 타이어 교체, 타이어 +휠(타이어 교체시 휠까지 바꿀 필요가 없어짐)\n",
    "# 스프링 -> 공공기관 -> 전자정부프레임워크 형태로 납품함(대기업 중소기업도 모두 스프링 사용)"
   ]
  },
  {
   "cell_type": "code",
   "execution_count": 2,
   "id": "a4fe47fa-a5a4-4dc0-aa02-c1bca1ad2e17",
   "metadata": {},
   "outputs": [
    {
     "name": "stdout",
     "output_type": "stream",
     "text": [
      "1681501063344 1681501061568\n"
     ]
    }
   ],
   "source": [
    "a_cat=Cat()\n",
    "another_cat=Cat()\n",
    "print(id(a_cat),id(another_cat))"
   ]
  },
  {
   "cell_type": "code",
   "execution_count": 3,
   "id": "ee6d87bd-d3ed-4b30-97eb-9578a1bdac86",
   "metadata": {},
   "outputs": [],
   "source": [
    "a_cat.age=3\n",
    "a_cat.name=\"Mr.Fuzzy\"\n",
    "a_cat.namesis=another_cat"
   ]
  },
  {
   "cell_type": "code",
   "execution_count": 4,
   "id": "a138df04-2b29-4f2f-a183-adb9e721917f",
   "metadata": {},
   "outputs": [
    {
     "data": {
      "text/plain": [
       "3"
      ]
     },
     "execution_count": 4,
     "metadata": {},
     "output_type": "execute_result"
    }
   ],
   "source": [
    "a_cat.age"
   ]
  },
  {
   "cell_type": "code",
   "execution_count": 7,
   "id": "d404c8a3-a74c-42d5-a074-e329a65a9f30",
   "metadata": {},
   "outputs": [
    {
     "data": {
      "text/plain": [
       "'Mr.Biggle'"
      ]
     },
     "execution_count": 7,
     "metadata": {},
     "output_type": "execute_result"
    }
   ],
   "source": [
    "# another_cat.name\n",
    "a_cat.namesis.name=\"Mr.Biggle\"\n",
    "a_cat.namesis.name"
   ]
  },
  {
   "cell_type": "code",
   "execution_count": 6,
   "id": "b7aa582b-4f51-42de-a791-1045ee612bba",
   "metadata": {},
   "outputs": [
    {
     "data": {
      "text/plain": [
       "'Mr.Biggle'"
      ]
     },
     "execution_count": 6,
     "metadata": {},
     "output_type": "execute_result"
    }
   ],
   "source": [
    "another_cat.name"
   ]
  },
  {
   "cell_type": "code",
   "execution_count": 8,
   "id": "87915259-2043-4d03-bc77-bb69a68a099d",
   "metadata": {},
   "outputs": [],
   "source": [
    "class Cat():\n",
    "    def __init__(self, name):\n",
    "        self.name=name\n",
    "        # Java의 생성자 언어와 닮아 있음 self=this"
   ]
  },
  {
   "cell_type": "code",
   "execution_count": 9,
   "id": "d3366ca8-3567-4024-800b-f40fc74c789f",
   "metadata": {},
   "outputs": [],
   "source": [
    "furball=Cat(\"Grumpy\")"
   ]
  },
  {
   "cell_type": "code",
   "execution_count": 12,
   "id": "553aa2ef-fa23-40a4-883b-ce9d2dbdee68",
   "metadata": {},
   "outputs": [],
   "source": [
    "class Car():\n",
    "    def exclaim(self):\n",
    "        print(\"I'm a Car!\")\n",
    "class Yugo(Car):\n",
    "    pass\n",
    "# 상속 class  class명(상속받을 class명)"
   ]
  },
  {
   "cell_type": "code",
   "execution_count": 11,
   "id": "bf7ba8a1-8458-4deb-96a6-46def94da215",
   "metadata": {},
   "outputs": [
    {
     "data": {
      "text/plain": [
       "True"
      ]
     },
     "execution_count": 11,
     "metadata": {},
     "output_type": "execute_result"
    }
   ],
   "source": [
    "issubclass(Yugo, Car)"
   ]
  },
  {
   "cell_type": "code",
   "execution_count": 13,
   "id": "a2acadd2-a6e9-4071-b163-af487049c155",
   "metadata": {},
   "outputs": [],
   "source": [
    "give_me_a_car=Car()\n",
    "give_me_a_yugo=Yugo()"
   ]
  },
  {
   "cell_type": "code",
   "execution_count": 14,
   "id": "9caf5df2-db87-4202-be6d-09ce13e09c28",
   "metadata": {},
   "outputs": [
    {
     "name": "stdout",
     "output_type": "stream",
     "text": [
      "I'm a Car!\n"
     ]
    }
   ],
   "source": [
    "give_me_a_car.exclaim()"
   ]
  },
  {
   "cell_type": "code",
   "execution_count": 15,
   "id": "ccdd9351-15ff-41b8-acfb-c175c0bd5e27",
   "metadata": {},
   "outputs": [
    {
     "name": "stdout",
     "output_type": "stream",
     "text": [
      "I'm a Car!\n"
     ]
    }
   ],
   "source": [
    "give_me_a_yugo.exclaim()"
   ]
  },
  {
   "cell_type": "code",
   "execution_count": 19,
   "id": "e33d02ee-1ec1-4834-88a2-e19ce21e6fe0",
   "metadata": {},
   "outputs": [],
   "source": [
    "class Car():\n",
    "    def exclaim(self):\n",
    "        print(\"I'm a Car!\")\n",
    "class Yugo(Car):\n",
    "    def exclaim(self):\n",
    "        print(\"I'm a Yugo! Much like a Car, but more Yugo-ish\")"
   ]
  },
  {
   "cell_type": "code",
   "execution_count": 20,
   "id": "e1255652-7397-4bc8-8be6-26f0d2d3da30",
   "metadata": {},
   "outputs": [
    {
     "name": "stdout",
     "output_type": "stream",
     "text": [
      "I'm a Car!\n"
     ]
    }
   ],
   "source": [
    "give_me_a_car.exclaim()"
   ]
  },
  {
   "cell_type": "code",
   "execution_count": 21,
   "id": "b4fe1d37-69f8-4241-80eb-bee504c85064",
   "metadata": {},
   "outputs": [
    {
     "name": "stdout",
     "output_type": "stream",
     "text": [
      "I'm a Car!\n"
     ]
    }
   ],
   "source": [
    "give_me_a_yugo.exclaim()"
   ]
  },
  {
   "cell_type": "code",
   "execution_count": 22,
   "id": "f72492a8-724a-4e0b-898a-de0238b3976f",
   "metadata": {},
   "outputs": [],
   "source": [
    "give_me_a_car=Car()"
   ]
  },
  {
   "cell_type": "code",
   "execution_count": 23,
   "id": "f3487610-17f0-470f-b37c-da919608a178",
   "metadata": {},
   "outputs": [],
   "source": [
    "give_me_a_yugo=Yugo()"
   ]
  },
  {
   "cell_type": "code",
   "execution_count": 24,
   "id": "937fb696-6acb-49e6-bff6-7b27cf9264d6",
   "metadata": {},
   "outputs": [
    {
     "name": "stdout",
     "output_type": "stream",
     "text": [
      "I'm a Car!\n"
     ]
    }
   ],
   "source": [
    "give_me_a_car.exclaim()"
   ]
  },
  {
   "cell_type": "code",
   "execution_count": 25,
   "id": "a311cd57-2112-47ea-892b-082a5a50ae12",
   "metadata": {},
   "outputs": [
    {
     "name": "stdout",
     "output_type": "stream",
     "text": [
      "I'm a Yugo! Much like a Car, but more Yugo-ish\n"
     ]
    }
   ],
   "source": [
    "give_me_a_yugo.exclaim()"
   ]
  },
  {
   "cell_type": "code",
   "execution_count": 28,
   "id": "97a88538-5b28-4ad4-b461-b9bfdbf689eb",
   "metadata": {},
   "outputs": [],
   "source": [
    "class Person():\n",
    "    def __init__(self, name):\n",
    "        self.name=name\n",
    "class MDPerson(Person):\n",
    "    def __init__(self, name):\n",
    "        self.name=\"Doctor \"+name"
   ]
  },
  {
   "cell_type": "code",
   "execution_count": 30,
   "id": "e7abb745-92fb-453a-a89c-e587189cfc1b",
   "metadata": {},
   "outputs": [
    {
     "name": "stdout",
     "output_type": "stream",
     "text": [
      "Fudd Doctor Fudd\n"
     ]
    }
   ],
   "source": [
    "person=Person(\"Fudd\")\n",
    "doctor=MDPerson(\"Fudd\")\n",
    "print(person.name, doctor.name)"
   ]
  },
  {
   "cell_type": "code",
   "execution_count": 31,
   "id": "44ffc38d-f3ef-4f73-89ad-ce5297eb06b4",
   "metadata": {},
   "outputs": [],
   "source": [
    "class Car():\n",
    "    def exclaim(self):\n",
    "        print(\"I'm a Car!\")\n",
    "class Yugo(Car):\n",
    "    def exclaim(self):\n",
    "        print(\"I'm a Yugo! Much like a Car, but more Yugo-ish\")\n",
    "    def nee_a_push(self):\n",
    "        print(\"A little help here?\")"
   ]
  },
  {
   "cell_type": "code",
   "execution_count": 32,
   "id": "272d813c-0861-4b93-9c96-14859855ff46",
   "metadata": {},
   "outputs": [
    {
     "name": "stdout",
     "output_type": "stream",
     "text": [
      "A little help here?\n"
     ]
    }
   ],
   "source": [
    "a_yugo=Yugo()\n",
    "a_yugo.nee_a_push()"
   ]
  },
  {
   "cell_type": "code",
   "execution_count": 33,
   "id": "b5727af7-7246-4e02-ae92-f524b5c037d9",
   "metadata": {},
   "outputs": [],
   "source": [
    "class Person():\n",
    "    def __init__(self, name):\n",
    "        self.name=name\n",
    "class EmailPerson(Person):\n",
    "    def __init__(self, name, email):\n",
    "        super().__init__(name)\n",
    "        self.email=email"
   ]
  },
  {
   "cell_type": "code",
   "execution_count": 34,
   "id": "2999cc0b-04ef-489d-bfff-aec165f5a380",
   "metadata": {},
   "outputs": [],
   "source": [
    "bob=EmailPerson(\"Bob Frapples\", \"bob@frapples.com\")"
   ]
  },
  {
   "cell_type": "code",
   "execution_count": 35,
   "id": "413ca42a-7f64-4e9e-8773-cc6462823b20",
   "metadata": {},
   "outputs": [
    {
     "data": {
      "text/plain": [
       "'Bob Frapples'"
      ]
     },
     "execution_count": 35,
     "metadata": {},
     "output_type": "execute_result"
    }
   ],
   "source": [
    "bob.name"
   ]
  },
  {
   "cell_type": "code",
   "execution_count": 36,
   "id": "a3ac154f-e51b-43aa-9cea-61cf2ce8b015",
   "metadata": {},
   "outputs": [
    {
     "data": {
      "text/plain": [
       "'bob@frapples.com'"
      ]
     },
     "execution_count": 36,
     "metadata": {},
     "output_type": "execute_result"
    }
   ],
   "source": [
    "bob.email"
   ]
  },
  {
   "cell_type": "code",
   "execution_count": 37,
   "id": "af95fbc4-4602-4503-ada6-666c4f6e1388",
   "metadata": {},
   "outputs": [],
   "source": [
    "class Animal:\n",
    "    def says(self):\n",
    "        return \"I speak!\"\n",
    "class Horse(Animal):\n",
    "    def says(self):\n",
    "        return \"Neigh!\"\n",
    "class Donkey(Animal):\n",
    "    def says(self):\n",
    "        return \"Hee-haw\"\n",
    "class Mule(Donkey, Horse):\n",
    "    pass\n",
    "class Hinny(Horse, Donkey):\n",
    "    pass"
   ]
  },
  {
   "cell_type": "code",
   "execution_count": 38,
   "id": "6b1a4761-f5c9-4805-8433-4dfe63c66f7d",
   "metadata": {},
   "outputs": [
    {
     "data": {
      "text/plain": [
       "[__main__.Mule, __main__.Donkey, __main__.Horse, __main__.Animal, object]"
      ]
     },
     "execution_count": 38,
     "metadata": {},
     "output_type": "execute_result"
    }
   ],
   "source": [
    "Mule.mro()"
   ]
  },
  {
   "cell_type": "code",
   "execution_count": 39,
   "id": "194a7627-e599-4d1c-a286-f2aa53852168",
   "metadata": {},
   "outputs": [
    {
     "data": {
      "text/plain": [
       "[__main__.Hinny, __main__.Horse, __main__.Donkey, __main__.Animal, object]"
      ]
     },
     "execution_count": 39,
     "metadata": {},
     "output_type": "execute_result"
    }
   ],
   "source": [
    "Hinny.mro()"
   ]
  },
  {
   "cell_type": "code",
   "execution_count": 40,
   "id": "3688671b-dc0e-40e4-8af5-cf152d96f5ff",
   "metadata": {},
   "outputs": [],
   "source": [
    "mule=Mule()\n",
    "hinny=Hinny()"
   ]
  },
  {
   "cell_type": "code",
   "execution_count": 41,
   "id": "2e638313-4362-47ad-9840-05c544781c80",
   "metadata": {},
   "outputs": [
    {
     "data": {
      "text/plain": [
       "'Hee-haw'"
      ]
     },
     "execution_count": 41,
     "metadata": {},
     "output_type": "execute_result"
    }
   ],
   "source": [
    "mule.says()"
   ]
  },
  {
   "cell_type": "code",
   "execution_count": 42,
   "id": "feb173c2-800d-46c9-9f77-f7a24508579a",
   "metadata": {},
   "outputs": [
    {
     "data": {
      "text/plain": [
       "'Neigh!'"
      ]
     },
     "execution_count": 42,
     "metadata": {},
     "output_type": "execute_result"
    }
   ],
   "source": [
    "hinny.says()"
   ]
  },
  {
   "cell_type": "code",
   "execution_count": 43,
   "id": "f9643df3-048b-4bb4-9d58-94d2e7bda23e",
   "metadata": {},
   "outputs": [],
   "source": [
    "# 실행순서 - 자신 - 부모 클래스 순서 - 부모의 부모를 찾음 "
   ]
  },
  {
   "cell_type": "code",
   "execution_count": 44,
   "id": "56808f7c-aa40-4a59-97df-70cf90f3505d",
   "metadata": {},
   "outputs": [
    {
     "name": "stdout",
     "output_type": "stream",
     "text": [
      "I'm a Car!\n"
     ]
    }
   ],
   "source": [
    "class Car():\n",
    "    def exclaim(self):\n",
    "        print(\"I'm a Car!\")\n",
    "a_car=Car()\n",
    "a_car.exclaim()\n",
    "# a_car 객체의 Car 클래스를 찾는다\n",
    "# a_car 객체를 Car 클래스 exclaim() 메소드의 self 매개변수에 전달한다"
   ]
  },
  {
   "cell_type": "code",
   "execution_count": 45,
   "id": "265e580f-41a5-47d8-adb4-8222182a14f8",
   "metadata": {},
   "outputs": [],
   "source": [
    "class Duck():\n",
    "    def __init__(self, input_name):\n",
    "        self.name=input_name"
   ]
  },
  {
   "cell_type": "code",
   "execution_count": 46,
   "id": "adc7ad01-16da-4810-bdce-14a56187cc59",
   "metadata": {},
   "outputs": [
    {
     "data": {
      "text/plain": [
       "'Daffy'"
      ]
     },
     "execution_count": 46,
     "metadata": {},
     "output_type": "execute_result"
    }
   ],
   "source": [
    "fowl=Duck(\"Daffy\")\n",
    "fowl.name"
   ]
  },
  {
   "cell_type": "code",
   "execution_count": 50,
   "id": "2eeec152-7211-41f0-8090-670ab8f9abc8",
   "metadata": {},
   "outputs": [],
   "source": [
    "class Duck():\n",
    "    def __init__(self, input_name):\n",
    "        self.hidden_name=input_name\n",
    "    def get_name(self):\n",
    "        print(\"inside the getter\")\n",
    "        return self.hidden_name\n",
    "    def set_name(self, input_name):\n",
    "        print(\"inside the setter\")\n",
    "        self.hidden_name=input_name"
   ]
  },
  {
   "cell_type": "code",
   "execution_count": 51,
   "id": "e3001c9d-4b8e-4054-827e-bce4d7cfdab7",
   "metadata": {},
   "outputs": [
    {
     "name": "stdout",
     "output_type": "stream",
     "text": [
      "inside the getter\n"
     ]
    },
    {
     "data": {
      "text/plain": [
       "'Daffy'"
      ]
     },
     "execution_count": 51,
     "metadata": {},
     "output_type": "execute_result"
    }
   ],
   "source": [
    "fowl=Duck(\"Daffy\")\n",
    "fowl.get_name()"
   ]
  },
  {
   "cell_type": "code",
   "execution_count": 49,
   "id": "bea8f0f7-9a04-432a-be59-0fa75654a042",
   "metadata": {},
   "outputs": [],
   "source": [
    "# fowl.hidden_name=\"foo\" - 직접 접근"
   ]
  },
  {
   "cell_type": "code",
   "execution_count": 53,
   "id": "5d1eb0f1-1f91-430d-8da5-08af5b6805e2",
   "metadata": {},
   "outputs": [
    {
     "name": "stdout",
     "output_type": "stream",
     "text": [
      "inside the setter\n",
      "inside the getter\n"
     ]
    },
    {
     "data": {
      "text/plain": [
       "'foo'"
      ]
     },
     "execution_count": 53,
     "metadata": {},
     "output_type": "execute_result"
    }
   ],
   "source": [
    "# 객체화\n",
    "fowl.set_name(\"foo\")\n",
    "fowl.get_name()"
   ]
  },
  {
   "cell_type": "code",
   "execution_count": 56,
   "id": "09db8e0e-6df7-4005-ba95-c31b2c2a0ec2",
   "metadata": {},
   "outputs": [],
   "source": [
    "class Duck():\n",
    "    def __init__(self, input_name):\n",
    "        self.hidden_name=input_name\n",
    "    @property\n",
    "    def name(self):\n",
    "        print(\"inside the getter\")\n",
    "        return self.hidden_name\n",
    "    @name.setter\n",
    "    def name(self, input_name):\n",
    "        print(\"inside the setter\")\n",
    "        self.hidden_name=input_name"
   ]
  },
  {
   "cell_type": "code",
   "execution_count": 57,
   "id": "5d9b1bf2-1e74-42cc-acc4-eb97c43e89e2",
   "metadata": {},
   "outputs": [
    {
     "name": "stdout",
     "output_type": "stream",
     "text": [
      "inside the getter\n"
     ]
    },
    {
     "data": {
      "text/plain": [
       "'Daffy'"
      ]
     },
     "execution_count": 57,
     "metadata": {},
     "output_type": "execute_result"
    }
   ],
   "source": [
    "fowl=Duck(\"Daffy\")\n",
    "fowl.name"
   ]
  },
  {
   "cell_type": "code",
   "execution_count": 58,
   "id": "89377b56-0f25-416d-9019-5d0b98d0817a",
   "metadata": {},
   "outputs": [],
   "source": [
    "class Duck():\n",
    "    def __init__(self, input_name):\n",
    "        self.hidden_name=input_name\n",
    "    def get_name(self):\n",
    "        print(\"inside the getter\")\n",
    "        return self.hidden_name\n",
    "    def set_name(self, input_name):\n",
    "        print(\"inside the setter\")\n",
    "        self.hidden_name=input_name\n",
    "    name=property(get_name, set_name)"
   ]
  },
  {
   "cell_type": "code",
   "execution_count": 59,
   "id": "936555c5-75bd-472d-b3b2-4c89bb218efb",
   "metadata": {},
   "outputs": [
    {
     "name": "stdout",
     "output_type": "stream",
     "text": [
      "inside the getter\n"
     ]
    },
    {
     "data": {
      "text/plain": [
       "'Daffy'"
      ]
     },
     "execution_count": 59,
     "metadata": {},
     "output_type": "execute_result"
    }
   ],
   "source": [
    "fowl=Duck(\"Daffy\")\n",
    "fowl.name"
   ]
  },
  {
   "cell_type": "code",
   "execution_count": 60,
   "id": "8da44e7b-eba2-43fd-825b-563587c53686",
   "metadata": {},
   "outputs": [
    {
     "name": "stdout",
     "output_type": "stream",
     "text": [
      "inside the setter\n"
     ]
    }
   ],
   "source": [
    "fowl.name=\"Foo\""
   ]
  },
  {
   "cell_type": "code",
   "execution_count": 61,
   "id": "0bfe63f3-fad5-40df-948b-b5ab363c3e61",
   "metadata": {},
   "outputs": [],
   "source": [
    "class Animal:\n",
    "    def says(self):\n",
    "        return \"I speak!!\"\n",
    "class Horse(Animal):\n",
    "    def says(self):\n",
    "        return \"Neigh!!\"\n",
    "class Donkey(Animal):\n",
    "    def says(self):\n",
    "        return \"Hee-haw!!\"\n",
    "class Duck():\n",
    "    def says(self):\n",
    "        return \"Quake!!\""
   ]
  },
  {
   "cell_type": "code",
   "execution_count": 65,
   "id": "9f95d774-411f-4b83-94f8-608f6c589e7a",
   "metadata": {},
   "outputs": [
    {
     "name": "stdout",
     "output_type": "stream",
     "text": [
      "I speak!!\n",
      "Neigh!!\n",
      "Hee-haw!!\n",
      "Quake!!\n"
     ]
    }
   ],
   "source": [
    "animal=Animal()\n",
    "horse=Horse()\n",
    "donkey=Donkey()\n",
    "duck=Duck()\n",
    "ani_family=[animal, horse, donkey ,duck]\n",
    "for ani in ani_family:\n",
    "    print(ani.says())"
   ]
  },
  {
   "cell_type": "code",
   "execution_count": null,
   "id": "f18e8e6c-906c-43fa-9698-7dbd1d214bf0",
   "metadata": {},
   "outputs": [],
   "source": []
  }
 ],
 "metadata": {
  "kernelspec": {
   "display_name": "Python 3 (ipykernel)",
   "language": "python",
   "name": "python3"
  },
  "language_info": {
   "codemirror_mode": {
    "name": "ipython",
    "version": 3
   },
   "file_extension": ".py",
   "mimetype": "text/x-python",
   "name": "python",
   "nbconvert_exporter": "python",
   "pygments_lexer": "ipython3",
   "version": "3.9.12"
  }
 },
 "nbformat": 4,
 "nbformat_minor": 5
}
